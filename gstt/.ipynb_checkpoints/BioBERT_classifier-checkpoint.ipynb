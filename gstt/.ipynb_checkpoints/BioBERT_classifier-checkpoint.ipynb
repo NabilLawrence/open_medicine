{
 "cells": [
  {
   "cell_type": "markdown",
   "id": "b301c572",
   "metadata": {
    "ExecuteTime": {
     "end_time": "2023-03-09T09:49:41.700186Z",
     "start_time": "2023-03-09T09:49:41.693219Z"
    }
   },
   "source": [
    "---\n",
    "## ODF Classifier with BioBERT  \n",
    "---\n",
    "### Content\n",
    "---\n",
    "\n",
    "- **[Libraries to use](#Libraries_to_use)**\n",
    "\n",
    "- **[Loading the dataset](#Loading_dataset)**\n",
    "\n",
    "- **[Cleaning the dataset and extracting required features](#Cleaning_extracting)**\n",
    "\n",
    "- **[Including reversed findings to the dataset](#Reversed_findings)**\n",
    "\n",
    "- **[Creating a dictionary with train, test, validation datasets](#train_test_validation)**\n",
    "\n",
    "- **[Load tokenizer and model](#tokenizer_model)**\n",
    "\n",
    "- **[Tokenize the datasets](#tokenize)**\n",
    "\n",
    "- **[Formating to torch](#Formating)**\n",
    "\n",
    "- **[Extracting hidden states](#Extracting_hidden_states)**\n",
    "\n",
    "- **[Creating a feature matrix](#feature_matrix)**\n",
    "\n",
    "- **[Visualizing the training set](#Visualizing_training)**\n",
    "\n",
    "- **[Training a classifier](#Training_classifier)**\n",
    "\n",
    " ---"
   ]
  },
  {
   "cell_type": "markdown",
   "id": "bae2c097",
   "metadata": {},
   "source": [
    "---\n",
    "### Libraries to use <a id=\"Libraries_to_use\"> </a>\n",
    "---"
   ]
  },
  {
   "cell_type": "code",
   "execution_count": 1,
   "id": "dfb1b9db",
   "metadata": {
    "ExecuteTime": {
     "end_time": "2023-03-13T09:51:56.491147Z",
     "start_time": "2023-03-13T09:51:56.484458Z"
    }
   },
   "outputs": [
    {
     "ename": "ModuleNotFoundError",
     "evalue": "No module named 'Classifier'",
     "output_type": "error",
     "traceback": [
      "\u001b[0;31m---------------------------------------------------------------------------\u001b[0m",
      "\u001b[0;31mModuleNotFoundError\u001b[0m                       Traceback (most recent call last)",
      "Cell \u001b[0;32mIn[1], line 38\u001b[0m\n\u001b[1;32m     34\u001b[0m \u001b[38;5;28;01mfrom\u001b[39;00m \u001b[38;5;21;01mtransformers\u001b[39;00m \u001b[38;5;28;01mimport\u001b[39;00m AutoTokenizer, AutoModel,AutoModelForSequenceClassification\n\u001b[1;32m     35\u001b[0m \u001b[38;5;66;03m#------------------------------------------------------\u001b[39;00m\n\u001b[1;32m     36\u001b[0m \u001b[38;5;66;03m# Created modules\u001b[39;00m\n\u001b[1;32m     37\u001b[0m \u001b[38;5;66;03m#------------------------------------------------------\u001b[39;00m\n\u001b[0;32m---> 38\u001b[0m \u001b[38;5;28;01mfrom\u001b[39;00m \u001b[38;5;21;01mClassifier\u001b[39;00m \u001b[38;5;28;01mimport\u001b[39;00m data_cleaning  \n\u001b[1;32m     39\u001b[0m \u001b[38;5;28;01mfrom\u001b[39;00m \u001b[38;5;21;01mClassifier\u001b[39;00m \u001b[38;5;28;01mimport\u001b[39;00m including_reversing \n\u001b[1;32m     40\u001b[0m \u001b[38;5;28;01mfrom\u001b[39;00m \u001b[38;5;21;01mClassifier\u001b[39;00m \u001b[38;5;28;01mimport\u001b[39;00m train_test_validation  \n",
      "\u001b[0;31mModuleNotFoundError\u001b[0m: No module named 'Classifier'"
     ]
    }
   ],
   "source": [
    "#------------------------------------------------------\n",
    "# Regular modules\n",
    "#------------------------------------------------------\n",
    "import numpy as np\n",
    "import matplotlib.pyplot as plt\n",
    "import pandas as pd\n",
    "import seaborn as sns\n",
    "import ast\n",
    "import re\n",
    "from sklearn.preprocessing import MinMaxScaler\n",
    "from sklearn.model_selection import train_test_split\n",
    "from sklearn.dummy import DummyClassifier\n",
    "from sklearn.linear_model import LogisticRegression\n",
    "from sklearn.metrics import ConfusionMatrixDisplay, confusion_matrix\n",
    "from sklearn.metrics import accuracy_score\n",
    "from sklearn.metrics import precision_score\n",
    "from sklearn.metrics import recall_score\n",
    "from sklearn.metrics import f1_score\n",
    "from sklearn.metrics import roc_auc_score\n",
    "#------------------------------------------------\n",
    "#------------------------------------------------------\n",
    "# To avoid warnings\n",
    "#------------------------------------------------------\n",
    "import os\n",
    "import warnings \n",
    "warnings.filterwarnings('ignore')\n",
    "os.environ['TF_CPP_MIN_LOG_LEVEL'] = '3'\n",
    "#------------------------------------------------------\n",
    "# Not regular modules\n",
    "#------------------------------------------------------\n",
    "import datasets\n",
    "import torch\n",
    "from umap import UMAP\n",
    "from transformers import AutoTokenizer, AutoModel,AutoModelForSequenceClassification\n",
    "#------------------------------------------------------\n",
    "# Created modules\n",
    "#------------------------------------------------------\n",
    "from Classifier import data_cleaning  \n",
    "from Classifier import including_reversing \n",
    "from Classifier import train_test_validation  "
   ]
  },
  {
   "cell_type": "markdown",
   "id": "9dbcacc5",
   "metadata": {},
   "source": [
    "---\n",
    "### Loading the dataset <a id=\"Loading_dataset\"> </a>\n",
    "---"
   ]
  },
  {
   "cell_type": "code",
   "execution_count": null,
   "id": "0a1d7aa1",
   "metadata": {
    "ExecuteTime": {
     "end_time": "2023-03-13T09:47:27.822306Z",
     "start_time": "2023-03-13T09:47:22.452485Z"
    }
   },
   "outputs": [],
   "source": [
    "real = pd.read_csv(\"../data/UpperGI.csv\")\n",
    "real  =real.rename(columns={\"out\":\"text\"})\n",
    "real = data_cleaning(real)\n",
    "real = real[['findings']]\n",
    "real['label'] = 0\n",
    "real=real.iloc[0:100]"
   ]
  },
  {
   "cell_type": "code",
   "execution_count": null,
   "id": "aaa8492c",
   "metadata": {
    "ExecuteTime": {
     "end_time": "2023-03-13T09:47:27.868999Z",
     "start_time": "2023-03-13T09:47:27.855482Z"
    }
   },
   "outputs": [],
   "source": [
    "real.head()"
   ]
  },
  {
   "cell_type": "code",
   "execution_count": null,
   "id": "d45941ff",
   "metadata": {
    "ExecuteTime": {
     "end_time": "2023-03-13T09:47:27.905126Z",
     "start_time": "2023-03-13T09:47:27.898286Z"
    }
   },
   "outputs": [],
   "source": [
    "def cleaning_generated_data(fake):\n",
    "    fake=fake.rename(columns={\"generated_findings\":\"findings\"})\n",
    "    def regex_findings(string):\n",
    "        line=ast.literal_eval(string)\n",
    "        output =line[0]['generated_text']\n",
    "        hospital_reg = r\"\\.*FINDINGS:.*\"\n",
    "        output = re.findall(hospital_reg, output)[0][10:]\n",
    "        return output\n",
    "    fake[\"findings\"] = fake['findings'].apply(regex_findings)\n",
    "    fake['label'] = 1\n",
    "    return fake"
   ]
  },
  {
   "cell_type": "code",
   "execution_count": 5,
   "id": "1e1d3372",
   "metadata": {
    "ExecuteTime": {
     "end_time": "2023-03-13T09:47:27.938808Z",
     "start_time": "2023-03-13T09:47:27.929409Z"
    }
   },
   "outputs": [],
   "source": [
    "fake = pd.read_csv(\"../data/findings100_3_13.csv\")\n",
    "fake = fake[['findings']]\n",
    "fake['label'] = 1"
   ]
  },
  {
   "cell_type": "code",
   "execution_count": 6,
   "id": "2a413900",
   "metadata": {
    "ExecuteTime": {
     "end_time": "2023-03-13T09:47:27.982686Z",
     "start_time": "2023-03-13T09:47:27.970940Z"
    }
   },
   "outputs": [
    {
     "data": {
      "text/html": [
       "<div>\n",
       "<style scoped>\n",
       "    .dataframe tbody tr th:only-of-type {\n",
       "        vertical-align: middle;\n",
       "    }\n",
       "\n",
       "    .dataframe tbody tr th {\n",
       "        vertical-align: top;\n",
       "    }\n",
       "\n",
       "    .dataframe thead th {\n",
       "        text-align: right;\n",
       "    }\n",
       "</style>\n",
       "<table border=\"1\" class=\"dataframe\">\n",
       "  <thead>\n",
       "    <tr style=\"text-align: right;\">\n",
       "      <th></th>\n",
       "      <th>findings</th>\n",
       "      <th>label</th>\n",
       "    </tr>\n",
       "  </thead>\n",
       "  <tbody>\n",
       "    <tr>\n",
       "      <th>0</th>\n",
       "      <td>Normal gastroscopy to the duodenum.</td>\n",
       "      <td>1</td>\n",
       "    </tr>\n",
       "    <tr>\n",
       "      <th>1</th>\n",
       "      <td>Normal gastroscopy to the duodenum.</td>\n",
       "      <td>1</td>\n",
       "    </tr>\n",
       "    <tr>\n",
       "      <th>2</th>\n",
       "      <td>Normal gastroscopy to the duodenum.</td>\n",
       "      <td>1</td>\n",
       "    </tr>\n",
       "    <tr>\n",
       "      <th>3</th>\n",
       "      <td>The patient has Barrett's oesophagus. No loss...</td>\n",
       "      <td>1</td>\n",
       "    </tr>\n",
       "    <tr>\n",
       "      <th>4</th>\n",
       "      <td>Normal gastroscopy to the duodenum.</td>\n",
       "      <td>1</td>\n",
       "    </tr>\n",
       "    <tr>\n",
       "      <th>...</th>\n",
       "      <td>...</td>\n",
       "      <td>...</td>\n",
       "    </tr>\n",
       "    <tr>\n",
       "      <th>95</th>\n",
       "      <td>The oesophagus appears to have a mildly friab...</td>\n",
       "      <td>1</td>\n",
       "    </tr>\n",
       "    <tr>\n",
       "      <th>96</th>\n",
       "      <td>There is a nodule in the antrum which is beni...</td>\n",
       "      <td>1</td>\n",
       "    </tr>\n",
       "    <tr>\n",
       "      <th>97</th>\n",
       "      <td>The patient has a 9mm nodule in the third par...</td>\n",
       "      <td>1</td>\n",
       "    </tr>\n",
       "    <tr>\n",
       "      <th>98</th>\n",
       "      <td>Large sliding hiatus hernia. inorad for Exam:...</td>\n",
       "      <td>1</td>\n",
       "    </tr>\n",
       "    <tr>\n",
       "      <th>99</th>\n",
       "      <td>There is a stricture in the third part of the...</td>\n",
       "      <td>1</td>\n",
       "    </tr>\n",
       "  </tbody>\n",
       "</table>\n",
       "<p>100 rows × 2 columns</p>\n",
       "</div>"
      ],
      "text/plain": [
       "                                             findings  label\n",
       "0                 Normal gastroscopy to the duodenum.      1\n",
       "1                 Normal gastroscopy to the duodenum.      1\n",
       "2                 Normal gastroscopy to the duodenum.      1\n",
       "3    The patient has Barrett's oesophagus. No loss...      1\n",
       "4                 Normal gastroscopy to the duodenum.      1\n",
       "..                                                ...    ...\n",
       "95   The oesophagus appears to have a mildly friab...      1\n",
       "96   There is a nodule in the antrum which is beni...      1\n",
       "97   The patient has a 9mm nodule in the third par...      1\n",
       "98   Large sliding hiatus hernia. inorad for Exam:...      1\n",
       "99   There is a stricture in the third part of the...      1\n",
       "\n",
       "[100 rows x 2 columns]"
      ]
     },
     "execution_count": 6,
     "metadata": {},
     "output_type": "execute_result"
    }
   ],
   "source": [
    "fake"
   ]
  },
  {
   "cell_type": "markdown",
   "id": "dc763c2e",
   "metadata": {},
   "source": [
    "---\n",
    "### Including reversed findings to the dataset <a id=\"Reversed_findings\"> </a>\n",
    "---"
   ]
  },
  {
   "cell_type": "code",
   "execution_count": 7,
   "id": "58659262",
   "metadata": {
    "ExecuteTime": {
     "end_time": "2023-03-13T09:48:21.647138Z",
     "start_time": "2023-03-13T09:48:21.638790Z"
    }
   },
   "outputs": [],
   "source": [
    "fake_real = pd.concat([fake, real])"
   ]
  },
  {
   "cell_type": "code",
   "execution_count": 8,
   "id": "591e104b",
   "metadata": {
    "ExecuteTime": {
     "end_time": "2023-03-13T09:48:21.793283Z",
     "start_time": "2023-03-13T09:48:21.782567Z"
    }
   },
   "outputs": [
    {
     "data": {
      "text/html": [
       "<div>\n",
       "<style scoped>\n",
       "    .dataframe tbody tr th:only-of-type {\n",
       "        vertical-align: middle;\n",
       "    }\n",
       "\n",
       "    .dataframe tbody tr th {\n",
       "        vertical-align: top;\n",
       "    }\n",
       "\n",
       "    .dataframe thead th {\n",
       "        text-align: right;\n",
       "    }\n",
       "</style>\n",
       "<table border=\"1\" class=\"dataframe\">\n",
       "  <thead>\n",
       "    <tr style=\"text-align: right;\">\n",
       "      <th></th>\n",
       "      <th>findings</th>\n",
       "      <th>label</th>\n",
       "    </tr>\n",
       "  </thead>\n",
       "  <tbody>\n",
       "    <tr>\n",
       "      <th>0</th>\n",
       "      <td>Normal gastroscopy to the duodenum.</td>\n",
       "      <td>1</td>\n",
       "    </tr>\n",
       "    <tr>\n",
       "      <th>1</th>\n",
       "      <td>Normal gastroscopy to the duodenum.</td>\n",
       "      <td>1</td>\n",
       "    </tr>\n",
       "    <tr>\n",
       "      <th>2</th>\n",
       "      <td>Normal gastroscopy to the duodenum.</td>\n",
       "      <td>1</td>\n",
       "    </tr>\n",
       "    <tr>\n",
       "      <th>3</th>\n",
       "      <td>The patient has Barrett's oesophagus. No loss...</td>\n",
       "      <td>1</td>\n",
       "    </tr>\n",
       "    <tr>\n",
       "      <th>4</th>\n",
       "      <td>Normal gastroscopy to the duodenum.</td>\n",
       "      <td>1</td>\n",
       "    </tr>\n",
       "  </tbody>\n",
       "</table>\n",
       "</div>"
      ],
      "text/plain": [
       "                                            findings  label\n",
       "0                Normal gastroscopy to the duodenum.      1\n",
       "1                Normal gastroscopy to the duodenum.      1\n",
       "2                Normal gastroscopy to the duodenum.      1\n",
       "3   The patient has Barrett's oesophagus. No loss...      1\n",
       "4                Normal gastroscopy to the duodenum.      1"
      ]
     },
     "execution_count": 8,
     "metadata": {},
     "output_type": "execute_result"
    }
   ],
   "source": [
    "fake_real.reset_index(drop=True, inplace=True)\n",
    "fake_real.head()"
   ]
  },
  {
   "cell_type": "code",
   "execution_count": 9,
   "id": "ca55595b",
   "metadata": {
    "ExecuteTime": {
     "end_time": "2023-03-13T09:48:22.123880Z",
     "start_time": "2023-03-13T09:48:22.114322Z"
    }
   },
   "outputs": [
    {
     "data": {
      "text/html": [
       "<div>\n",
       "<style scoped>\n",
       "    .dataframe tbody tr th:only-of-type {\n",
       "        vertical-align: middle;\n",
       "    }\n",
       "\n",
       "    .dataframe tbody tr th {\n",
       "        vertical-align: top;\n",
       "    }\n",
       "\n",
       "    .dataframe thead th {\n",
       "        text-align: right;\n",
       "    }\n",
       "</style>\n",
       "<table border=\"1\" class=\"dataframe\">\n",
       "  <thead>\n",
       "    <tr style=\"text-align: right;\">\n",
       "      <th></th>\n",
       "      <th>findings</th>\n",
       "      <th>label</th>\n",
       "    </tr>\n",
       "  </thead>\n",
       "  <tbody>\n",
       "    <tr>\n",
       "      <th>197</th>\n",
       "      <td>Normal gastroscopy to the duodenum.</td>\n",
       "      <td>0</td>\n",
       "    </tr>\n",
       "    <tr>\n",
       "      <th>198</th>\n",
       "      <td>list(\"The stricture will need to be dilatated ...</td>\n",
       "      <td>0</td>\n",
       "    </tr>\n",
       "    <tr>\n",
       "      <th>199</th>\n",
       "      <td>There is a polyp in the antrum which is stalke...</td>\n",
       "      <td>0</td>\n",
       "    </tr>\n",
       "  </tbody>\n",
       "</table>\n",
       "</div>"
      ],
      "text/plain": [
       "                                              findings  label\n",
       "197               Normal gastroscopy to the duodenum.       0\n",
       "198  list(\"The stricture will need to be dilatated ...      0\n",
       "199  There is a polyp in the antrum which is stalke...      0"
      ]
     },
     "execution_count": 9,
     "metadata": {},
     "output_type": "execute_result"
    }
   ],
   "source": [
    "fake_real.tail(3)"
   ]
  },
  {
   "cell_type": "markdown",
   "id": "e7aa9a75",
   "metadata": {},
   "source": [
    "---\n",
    "### Creating a dictionary with train, test, validation datasets <a id=\"train_test_validation\"> </a>\n",
    "---"
   ]
  },
  {
   "cell_type": "code",
   "execution_count": 10,
   "id": "e3b6b50d",
   "metadata": {
    "ExecuteTime": {
     "end_time": "2023-03-13T09:48:23.080924Z",
     "start_time": "2023-03-13T09:48:23.002119Z"
    }
   },
   "outputs": [],
   "source": [
    "Dict_datasets = train_test_validation(fake_real)"
   ]
  },
  {
   "cell_type": "code",
   "execution_count": 11,
   "id": "cb80a340",
   "metadata": {
    "ExecuteTime": {
     "end_time": "2023-03-13T09:48:23.197250Z",
     "start_time": "2023-03-13T09:48:23.190790Z"
    }
   },
   "outputs": [
    {
     "data": {
      "text/plain": [
       "DatasetDict({\n",
       "    train: Dataset({\n",
       "        features: ['findings', 'label'],\n",
       "        num_rows: 98\n",
       "    })\n",
       "    test: Dataset({\n",
       "        features: ['findings', 'label'],\n",
       "        num_rows: 60\n",
       "    })\n",
       "    validation: Dataset({\n",
       "        features: ['findings', 'label'],\n",
       "        num_rows: 42\n",
       "    })\n",
       "})"
      ]
     },
     "execution_count": 11,
     "metadata": {},
     "output_type": "execute_result"
    }
   ],
   "source": [
    "Dict_datasets"
   ]
  },
  {
   "cell_type": "markdown",
   "id": "36208475",
   "metadata": {},
   "source": [
    "---\n",
    "### Load tokenizer and model <a id=\"tokenizer_model\"> </a>\n",
    "---\n",
    "\n",
    "- BioBERT is a pre-trained language model that is designed for biomedical natural language processing (NLP) tasks. It is based on the Google's BERT (Bidirectional Encoder Representations from Transformers) architecture.\n",
    "\n",
    "- BioBERT is pre-trained on a large corpus of biomedical text data, which includes abstracts and full-text articles from PubMed Central and other biomedical databases. \n",
    "\n",
    "---"
   ]
  },
  {
   "cell_type": "code",
   "execution_count": 12,
   "id": "9e22cbbb",
   "metadata": {
    "ExecuteTime": {
     "end_time": "2023-03-13T09:48:24.882914Z",
     "start_time": "2023-03-13T09:48:24.274680Z"
    }
   },
   "outputs": [],
   "source": [
    "tokenizer = AutoTokenizer.from_pretrained(\"dmis-lab/biobert-v1.1\")"
   ]
  },
  {
   "cell_type": "code",
   "execution_count": 13,
   "id": "99541fe2",
   "metadata": {
    "ExecuteTime": {
     "end_time": "2023-03-13T09:48:28.742005Z",
     "start_time": "2023-03-13T09:48:26.597919Z"
    }
   },
   "outputs": [],
   "source": [
    "model = AutoModel.from_pretrained(\"dmis-lab/biobert-v1.1\", num_labels=2)"
   ]
  },
  {
   "cell_type": "markdown",
   "id": "b6b99c4f",
   "metadata": {},
   "source": [
    "---\n",
    "### Tokenize the datasets <a id=\"tokenize\"> </a>\n",
    "---"
   ]
  },
  {
   "cell_type": "code",
   "execution_count": 14,
   "id": "534b946d",
   "metadata": {
    "ExecuteTime": {
     "end_time": "2023-03-13T09:48:30.034201Z",
     "start_time": "2023-03-13T09:48:29.848790Z"
    }
   },
   "outputs": [
    {
     "data": {
      "application/vnd.jupyter.widget-view+json": {
       "model_id": "",
       "version_major": 2,
       "version_minor": 0
      },
      "text/plain": [
       "Map:   0%|          | 0/98 [00:00<?, ? examples/s]"
      ]
     },
     "metadata": {},
     "output_type": "display_data"
    },
    {
     "data": {
      "application/vnd.jupyter.widget-view+json": {
       "model_id": "",
       "version_major": 2,
       "version_minor": 0
      },
      "text/plain": [
       "Map:   0%|          | 0/60 [00:00<?, ? examples/s]"
      ]
     },
     "metadata": {},
     "output_type": "display_data"
    },
    {
     "data": {
      "application/vnd.jupyter.widget-view+json": {
       "model_id": "",
       "version_major": 2,
       "version_minor": 0
      },
      "text/plain": [
       "Map:   0%|          | 0/42 [00:00<?, ? examples/s]"
      ]
     },
     "metadata": {},
     "output_type": "display_data"
    }
   ],
   "source": [
    "#--------------------------------------------------------------------\n",
    "# define function to tokenize the datasets\n",
    "#--------------------------------------------------------------------\n",
    "def tokenize(data):\n",
    "    return tokenizer(data[\"findings\"], padding=True, truncation=True,max_length=100) \n",
    "#--------------------------------------------------------------------\n",
    "# tokenize datasets\n",
    "#--------------------------------------------------------------------\n",
    "Dict_datasets_encoded = Dict_datasets.map(tokenize, batched=True, batch_size=None)"
   ]
  },
  {
   "cell_type": "markdown",
   "id": "52711cda",
   "metadata": {},
   "source": [
    "---\n",
    "### Formating to torch <a id=\"Formating\"> </a>\n",
    "---"
   ]
  },
  {
   "cell_type": "code",
   "execution_count": 15,
   "id": "cc9603df",
   "metadata": {
    "ExecuteTime": {
     "end_time": "2023-03-13T09:48:30.665557Z",
     "start_time": "2023-03-13T09:48:30.656662Z"
    }
   },
   "outputs": [],
   "source": [
    "Dict_datasets_encoded.set_format(\"torch\", columns=[\"input_ids\", \"attention_mask\", \"label\"])"
   ]
  },
  {
   "cell_type": "markdown",
   "id": "8a5e34ae",
   "metadata": {},
   "source": [
    "---\n",
    "### Extracting hidden states <a id=\"Extracting_hidden_states\"> </a>\n",
    "---\n",
    "\n",
    "How will extract the hidden states associated with each finding."
   ]
  },
  {
   "cell_type": "code",
   "execution_count": 16,
   "id": "9bbc89c1",
   "metadata": {
    "ExecuteTime": {
     "end_time": "2023-03-13T09:48:56.799765Z",
     "start_time": "2023-03-13T09:48:31.361269Z"
    }
   },
   "outputs": [
    {
     "data": {
      "application/vnd.jupyter.widget-view+json": {
       "model_id": "",
       "version_major": 2,
       "version_minor": 0
      },
      "text/plain": [
       "Map:   0%|          | 0/98 [00:00<?, ? examples/s]"
      ]
     },
     "metadata": {},
     "output_type": "display_data"
    },
    {
     "data": {
      "application/vnd.jupyter.widget-view+json": {
       "model_id": "",
       "version_major": 2,
       "version_minor": 0
      },
      "text/plain": [
       "Map:   0%|          | 0/60 [00:00<?, ? examples/s]"
      ]
     },
     "metadata": {},
     "output_type": "display_data"
    },
    {
     "data": {
      "application/vnd.jupyter.widget-view+json": {
       "model_id": "",
       "version_major": 2,
       "version_minor": 0
      },
      "text/plain": [
       "Map:   0%|          | 0/42 [00:00<?, ? examples/s]"
      ]
     },
     "metadata": {},
     "output_type": "display_data"
    }
   ],
   "source": [
    "device = torch.device(\"cuda\" if torch.cuda.is_available() else \"cpu\")\n",
    "\n",
    "def extract_hidden_states(batch):\n",
    "    # Place model inputs on the GPU\n",
    "    inputs = {k:v.to(device) for k,v in batch.items() \n",
    "              if k in tokenizer.model_input_names}\n",
    "    # Extract last hidden states\n",
    "    with torch.no_grad():\n",
    "        last_hidden_state = model(**inputs).last_hidden_state\n",
    "    # Return vector for [CLS] token\n",
    "    return {\"hidden_state\": last_hidden_state[:,0].cpu().numpy()}\n",
    "dataset_hidden = Dict_datasets_encoded.map(extract_hidden_states, batched=True)"
   ]
  },
  {
   "cell_type": "markdown",
   "id": "e27c8b47",
   "metadata": {},
   "source": [
    "---\n",
    "### Creating a feature matrix <a id=\"feature_matrix\"> </a>\n",
    "---\n",
    "\n",
    "We will use the hidden states as input features and the labels as targets."
   ]
  },
  {
   "cell_type": "code",
   "execution_count": 17,
   "id": "19fa68ac",
   "metadata": {
    "ExecuteTime": {
     "end_time": "2023-03-13T09:48:56.865234Z",
     "start_time": "2023-03-13T09:48:56.851466Z"
    }
   },
   "outputs": [
    {
     "data": {
      "text/plain": [
       "((98, 768), (42, 768), (60, 768))"
      ]
     },
     "execution_count": 17,
     "metadata": {},
     "output_type": "execute_result"
    }
   ],
   "source": [
    "X_train = np.array(dataset_hidden[\"train\"][\"hidden_state\"])\n",
    "X_valid = np.array(dataset_hidden[\"validation\"][\"hidden_state\"])\n",
    "X_test = np.array(dataset_hidden[\"test\"][\"hidden_state\"])\n",
    "y_train = np.array(dataset_hidden[\"train\"][\"label\"])\n",
    "y_valid = np.array(dataset_hidden[\"validation\"][\"label\"])\n",
    "y_test = np.array(dataset_hidden[\"test\"][\"label\"])\n",
    "X_train.shape, X_valid.shape, X_test.shape"
   ]
  },
  {
   "cell_type": "markdown",
   "id": "d9a14c03",
   "metadata": {},
   "source": [
    "### Store and save the feature matrix list (optional)\n",
    "\n",
    "The feature_matrix_list that can be used in a classifiar is stored a saved. "
   ]
  },
  {
   "cell_type": "code",
   "execution_count": 18,
   "id": "dd779d1b",
   "metadata": {
    "ExecuteTime": {
     "end_time": "2023-03-13T09:49:00.012120Z",
     "start_time": "2023-03-13T09:49:00.003747Z"
    }
   },
   "outputs": [],
   "source": [
    "#feature_matrix_list = [X_train,X_valid,X_test,y_train,y_valid,y_test]"
   ]
  },
  {
   "cell_type": "code",
   "execution_count": 19,
   "id": "eef10a90",
   "metadata": {
    "ExecuteTime": {
     "end_time": "2023-03-13T09:49:00.259089Z",
     "start_time": "2023-03-13T09:49:00.254560Z"
    }
   },
   "outputs": [],
   "source": [
    "#np.save('feature_matrix_list.npy', np.array(feature_matrix_list, dtype=object), allow_pickle=True)"
   ]
  },
  {
   "cell_type": "markdown",
   "id": "a2918f94",
   "metadata": {},
   "source": [
    "### Load the feature list (optional)"
   ]
  },
  {
   "cell_type": "code",
   "execution_count": 20,
   "id": "1a8409f3",
   "metadata": {
    "ExecuteTime": {
     "end_time": "2023-03-13T09:49:00.867236Z",
     "start_time": "2023-03-13T09:49:00.863714Z"
    }
   },
   "outputs": [],
   "source": [
    "#feature_matrix_list_loaded = np.load('feature_matrix_list.npy', allow_pickle=True)\n",
    "#[X_train,X_valid,X_test,y_train,y_valid,y_test]=feature_matrix_list_loaded"
   ]
  },
  {
   "cell_type": "markdown",
   "id": "d89fe66d",
   "metadata": {},
   "source": [
    "---\n",
    "### Visualizing the training set <a id=\"Visualizing_training\"> </a>\n",
    "---"
   ]
  },
  {
   "cell_type": "code",
   "execution_count": 21,
   "id": "6b35e069",
   "metadata": {
    "ExecuteTime": {
     "end_time": "2023-03-13T09:49:08.166448Z",
     "start_time": "2023-03-13T09:49:01.628585Z"
    }
   },
   "outputs": [
    {
     "data": {
      "text/html": [
       "<div>\n",
       "<style scoped>\n",
       "    .dataframe tbody tr th:only-of-type {\n",
       "        vertical-align: middle;\n",
       "    }\n",
       "\n",
       "    .dataframe tbody tr th {\n",
       "        vertical-align: top;\n",
       "    }\n",
       "\n",
       "    .dataframe thead th {\n",
       "        text-align: right;\n",
       "    }\n",
       "</style>\n",
       "<table border=\"1\" class=\"dataframe\">\n",
       "  <thead>\n",
       "    <tr style=\"text-align: right;\">\n",
       "      <th></th>\n",
       "      <th>X</th>\n",
       "      <th>Y</th>\n",
       "      <th>label</th>\n",
       "    </tr>\n",
       "  </thead>\n",
       "  <tbody>\n",
       "    <tr>\n",
       "      <th>0</th>\n",
       "      <td>8.373403</td>\n",
       "      <td>4.737093</td>\n",
       "      <td>0</td>\n",
       "    </tr>\n",
       "    <tr>\n",
       "      <th>1</th>\n",
       "      <td>9.926908</td>\n",
       "      <td>4.834438</td>\n",
       "      <td>0</td>\n",
       "    </tr>\n",
       "    <tr>\n",
       "      <th>2</th>\n",
       "      <td>5.317347</td>\n",
       "      <td>5.871393</td>\n",
       "      <td>0</td>\n",
       "    </tr>\n",
       "    <tr>\n",
       "      <th>3</th>\n",
       "      <td>24.774963</td>\n",
       "      <td>-1.245294</td>\n",
       "      <td>1</td>\n",
       "    </tr>\n",
       "    <tr>\n",
       "      <th>4</th>\n",
       "      <td>5.589103</td>\n",
       "      <td>4.705098</td>\n",
       "      <td>1</td>\n",
       "    </tr>\n",
       "  </tbody>\n",
       "</table>\n",
       "</div>"
      ],
      "text/plain": [
       "           X         Y  label\n",
       "0   8.373403  4.737093      0\n",
       "1   9.926908  4.834438      0\n",
       "2   5.317347  5.871393      0\n",
       "3  24.774963 -1.245294      1\n",
       "4   5.589103  4.705098      1"
      ]
     },
     "execution_count": 21,
     "metadata": {},
     "output_type": "execute_result"
    }
   ],
   "source": [
    "# Scale features to [0,1] range\n",
    "X_scaled = MinMaxScaler().fit_transform(X_train)\n",
    "# Initialize and fit UMAP\n",
    "mapper = UMAP(n_components=2, metric=\"cosine\").fit(X_scaled)\n",
    "# Create a DataFrame of 2D embeddings\n",
    "df_emb = pd.DataFrame(mapper.embedding_, columns=[\"X\", \"Y\"])\n",
    "df_emb[\"label\"] = y_train\n",
    "df_emb.head()"
   ]
  },
  {
   "cell_type": "code",
   "execution_count": 22,
   "id": "6d47165a",
   "metadata": {
    "ExecuteTime": {
     "end_time": "2023-03-13T09:49:08.396744Z",
     "start_time": "2023-03-13T09:49:08.263707Z"
    }
   },
   "outputs": [
    {
     "data": {
      "image/png": "[encoded data removed]",
      "text/plain": [
       "<Figure size 500x300 with 2 Axes>"
      ]
     },
     "metadata": {},
     "output_type": "display_data"
    }
   ],
   "source": [
    "fig, axes = plt.subplots(1, 2, figsize=(5,3))\n",
    "axes = axes.flatten()\n",
    "cmaps = [\"Blues\", \"Oranges\"]\n",
    "labels = ['Generated findings','Original findings']\n",
    "\n",
    "for i, (label, cmap) in enumerate(zip(labels, cmaps)):\n",
    "    df_emb_sub = df_emb.query(f\"label == {i}\")\n",
    "    axes[i].hexbin(df_emb_sub[\"X\"], df_emb_sub[\"Y\"], cmap=cmap,\n",
    "                   gridsize=20, linewidths=(0,))\n",
    "    axes[i].set_title(label)\n",
    "    axes[i].set_xticks([]), axes[i].set_yticks([])\n",
    "\n",
    "plt.tight_layout()\n",
    "plt.show()"
   ]
  },
  {
   "cell_type": "markdown",
   "id": "334e96b8",
   "metadata": {},
   "source": [
    "---\n",
    "### Training a classifier <a id=\"Training_classifier\"> </a>\n",
    "---"
   ]
  },
  {
   "cell_type": "code",
   "execution_count": 23,
   "id": "2613eded",
   "metadata": {
    "ExecuteTime": {
     "end_time": "2023-03-13T09:49:43.336533Z",
     "start_time": "2023-03-13T09:49:43.268423Z"
    }
   },
   "outputs": [
    {
     "data": {
      "text/html": [
       "<style>#sk-container-id-1 {color: black;background-color: white;}#sk-container-id-1 pre{padding: 0;}#sk-container-id-1 div.sk-toggleable {background-color: white;}#sk-container-id-1 label.sk-toggleable__label {cursor: pointer;display: block;width: 100%;margin-bottom: 0;padding: 0.3em;box-sizing: border-box;text-align: center;}#sk-container-id-1 label.sk-toggleable__label-arrow:before {content: \"▸\";float: left;margin-right: 0.25em;color: #696969;}#sk-container-id-1 label.sk-toggleable__label-arrow:hover:before {color: black;}#sk-container-id-1 div.sk-estimator:hover label.sk-toggleable__label-arrow:before {color: black;}#sk-container-id-1 div.sk-toggleable__content {max-height: 0;max-width: 0;overflow: hidden;text-align: left;background-color: #f0f8ff;}#sk-container-id-1 div.sk-toggleable__content pre {margin: 0.2em;color: black;border-radius: 0.25em;background-color: #f0f8ff;}#sk-container-id-1 input.sk-toggleable__control:checked~div.sk-toggleable__content {max-height: 200px;max-width: 100%;overflow: auto;}#sk-container-id-1 input.sk-toggleable__control:checked~label.sk-toggleable__label-arrow:before {content: \"▾\";}#sk-container-id-1 div.sk-estimator input.sk-toggleable__control:checked~label.sk-toggleable__label {background-color: #d4ebff;}#sk-container-id-1 div.sk-label input.sk-toggleable__control:checked~label.sk-toggleable__label {background-color: #d4ebff;}#sk-container-id-1 input.sk-hidden--visually {border: 0;clip: rect(1px 1px 1px 1px);clip: rect(1px, 1px, 1px, 1px);height: 1px;margin: -1px;overflow: hidden;padding: 0;position: absolute;width: 1px;}#sk-container-id-1 div.sk-estimator {font-family: monospace;background-color: #f0f8ff;border: 1px dotted black;border-radius: 0.25em;box-sizing: border-box;margin-bottom: 0.5em;}#sk-container-id-1 div.sk-estimator:hover {background-color: #d4ebff;}#sk-container-id-1 div.sk-parallel-item::after {content: \"\";width: 100%;border-bottom: 1px solid gray;flex-grow: 1;}#sk-container-id-1 div.sk-label:hover label.sk-toggleable__label {background-color: #d4ebff;}#sk-container-id-1 div.sk-serial::before {content: \"\";position: absolute;border-left: 1px solid gray;box-sizing: border-box;top: 0;bottom: 0;left: 50%;z-index: 0;}#sk-container-id-1 div.sk-serial {display: flex;flex-direction: column;align-items: center;background-color: white;padding-right: 0.2em;padding-left: 0.2em;position: relative;}#sk-container-id-1 div.sk-item {position: relative;z-index: 1;}#sk-container-id-1 div.sk-parallel {display: flex;align-items: stretch;justify-content: center;background-color: white;position: relative;}#sk-container-id-1 div.sk-item::before, #sk-container-id-1 div.sk-parallel-item::before {content: \"\";position: absolute;border-left: 1px solid gray;box-sizing: border-box;top: 0;bottom: 0;left: 50%;z-index: -1;}#sk-container-id-1 div.sk-parallel-item {display: flex;flex-direction: column;z-index: 1;position: relative;background-color: white;}#sk-container-id-1 div.sk-parallel-item:first-child::after {align-self: flex-end;width: 50%;}#sk-container-id-1 div.sk-parallel-item:last-child::after {align-self: flex-start;width: 50%;}#sk-container-id-1 div.sk-parallel-item:only-child::after {width: 0;}#sk-container-id-1 div.sk-dashed-wrapped {border: 1px dashed gray;margin: 0 0.4em 0.5em 0.4em;box-sizing: border-box;padding-bottom: 0.4em;background-color: white;}#sk-container-id-1 div.sk-label label {font-family: monospace;font-weight: bold;display: inline-block;line-height: 1.2em;}#sk-container-id-1 div.sk-label-container {text-align: center;}#sk-container-id-1 div.sk-container {/* jupyter's `normalize.less` sets `[hidden] { display: none; }` but bootstrap.min.css set `[hidden] { display: none !important; }` so we also need the `!important` here to be able to override the default hidden behavior on the sphinx rendered scikit-learn.org. See: https://github.com/scikit-learn/scikit-learn/issues/21755 */display: inline-block !important;position: relative;}#sk-container-id-1 div.sk-text-repr-fallback {display: none;}</style><div id=\"sk-container-id-1\" class=\"sk-top-container\"><div class=\"sk-text-repr-fallback\"><pre>LogisticRegression()</pre><b>In a Jupyter environment, please rerun this cell to show the HTML representation or trust the notebook. <br />On GitHub, the HTML representation is unable to render, please try loading this page with nbviewer.org.</b></div><div class=\"sk-container\" hidden><div class=\"sk-item\"><div class=\"sk-estimator sk-toggleable\"><input class=\"sk-toggleable__control sk-hidden--visually\" id=\"sk-estimator-id-1\" type=\"checkbox\" checked><label for=\"sk-estimator-id-1\" class=\"sk-toggleable__label sk-toggleable__label-arrow\">LogisticRegression</label><div class=\"sk-toggleable__content\"><pre>LogisticRegression()</pre></div></div></div></div></div>"
      ],
      "text/plain": [
       "LogisticRegression()"
      ]
     },
     "execution_count": 23,
     "metadata": {},
     "output_type": "execute_result"
    }
   ],
   "source": [
    "lr_clf = LogisticRegression()\n",
    "lr_clf.fit(X_train, y_train)"
   ]
  },
  {
   "cell_type": "markdown",
   "id": "f978c4e2",
   "metadata": {},
   "source": [
    "### Evaluation of the discriminator"
   ]
  },
  {
   "cell_type": "code",
   "execution_count": 24,
   "id": "33bfcff4",
   "metadata": {
    "ExecuteTime": {
     "end_time": "2023-03-13T09:49:44.588414Z",
     "start_time": "2023-03-13T09:49:44.107610Z"
    }
   },
   "outputs": [
    {
     "ename": "NameError",
     "evalue": "name 'accuracy_score' is not defined",
     "output_type": "error",
     "traceback": [
      "\u001b[0;31m---------------------------------------------------------------------------\u001b[0m",
      "\u001b[0;31mNameError\u001b[0m                                 Traceback (most recent call last)",
      "Cell \u001b[0;32mIn[24], line 6\u001b[0m\n\u001b[1;32m      4\u001b[0m dummy_clf\u001b[38;5;241m.\u001b[39mfit(X_train, y_train)\n\u001b[1;32m      5\u001b[0m y_preds \u001b[38;5;241m=\u001b[39m dummy_clf\u001b[38;5;241m.\u001b[39mpredict(X_test)\n\u001b[0;32m----> 6\u001b[0m accuracy \u001b[38;5;241m=\u001b[39m\u001b[43maccuracy_score\u001b[49m(y_test, y_preds)\n\u001b[1;32m      7\u001b[0m accuracy\n",
      "\u001b[0;31mNameError\u001b[0m: name 'accuracy_score' is not defined"
     ]
    }
   ],
   "source": [
    "from sklearn.dummy import DummyClassifier\n",
    "\n",
    "dummy_clf = DummyClassifier(strategy=\"most_frequent\")\n",
    "dummy_clf.fit(X_train, y_train)\n",
    "y_preds = dummy_clf.predict(X_test)\n",
    "accuracy =accuracy_score(y_test, y_preds)\n",
    "accuracy"
   ]
  },
  {
   "cell_type": "code",
   "execution_count": 25,
   "id": "64ee165d",
   "metadata": {
    "ExecuteTime": {
     "end_time": "2023-03-13T09:49:44.742018Z",
     "start_time": "2023-03-13T09:49:44.611807Z"
    }
   },
   "outputs": [
    {
     "data": {
      "image/png": "[encoded data removed]",
      "text/plain": [
       "<Figure size 300x300 with 1 Axes>"
      ]
     },
     "metadata": {},
     "output_type": "display_data"
    }
   ],
   "source": [
    "y_preds = lr_clf.predict(X_test)\n",
    "\n",
    "def plot_confusion_matrix(y_preds, y_true, labels):\n",
    "    cm = confusion_matrix(y_true, y_preds, normalize=\"true\")\n",
    "    fig, ax = plt.subplots(figsize=(3, 3))\n",
    "    disp = ConfusionMatrixDisplay(confusion_matrix=cm, display_labels=labels)\n",
    "    disp.plot(cmap=\"Blues\", values_format=\".2f\", ax=ax, colorbar=False)\n",
    "    plt.title(\"Normalized confusion matrix\")\n",
    "    plt.show()\n",
    "\n",
    "plot_confusion_matrix(y_test,y_preds, [1,0])"
   ]
  },
  {
   "cell_type": "code",
   "execution_count": 36,
   "id": "a7d26bab",
   "metadata": {
    "ExecuteTime": {
     "end_time": "2023-03-13T09:52:05.401849Z",
     "start_time": "2023-03-13T09:52:05.386476Z"
    }
   },
   "outputs": [
    {
     "name": "stdout",
     "output_type": "stream",
     "text": [
      "accuracy: 0.8\n",
      "precision: 0.75\n",
      "recall: 0.9\n",
      "f1: 0.8181818181818182\n"
     ]
    }
   ],
   "source": [
    "accuracy =accuracy_score(y_test, y_preds)\n",
    "precision = precision_score(y_test, y_preds)\n",
    "recall = recall_score(y_test, y_preds)\n",
    "f1 = f1_score(y_test, y_preds)\n",
    "#------------------------------------------------\n",
    "print('accuracy:',accuracy)\n",
    "print('precision:',precision)\n",
    "print('recall:',recall)\n",
    "print('f1:',f1)"
   ]
  },
  {
   "cell_type": "markdown",
   "id": "0bb3d0b7",
   "metadata": {},
   "source": [
    "### Classification of a single text"
   ]
  },
  {
   "cell_type": "code",
   "execution_count": 27,
   "id": "2c0d7f7a",
   "metadata": {
    "ExecuteTime": {
     "end_time": "2023-03-13T09:49:46.032899Z",
     "start_time": "2023-03-13T09:49:46.024840Z"
    }
   },
   "outputs": [],
   "source": [
    "def single_text(lr_clf,custom_sentence,custom_label):\n",
    "    \"\"\"\n",
    "    Input:\n",
    "    \"\"\"\n",
    "    #-----------------------------------------------------\n",
    "    inputs = tokenizer(custom_sentence, return_tensors=\"pt\")\n",
    "    #-----------------------------------------------------\n",
    "    inputs = {k:v.to(device) for k,v in inputs.items()}\n",
    "    with torch.no_grad():\n",
    "            outputs = model(**inputs)\n",
    "    #outputs.last_hidden_state.shape\n",
    "    #-----------------------------------------------------\n",
    "    preds_prob = lr_clf.predict_proba(np.array(outputs.last_hidden_state[:,0].cpu().numpy()))\n",
    "    preds = lr_clf.predict(np.array(outputs.last_hidden_state[:,0].cpu().numpy()))\n",
    "    #-----------------------------------------------------\n",
    "    #preds_df = pd.DataFrame(preds[0])\n",
    "    #-----------------------------------------------------\n",
    "    plt.figure(figsize=(6,2))\n",
    "    plt.bar(labels, 100 * preds_prob[0], color='red')\n",
    "    plt.title(f'\"{custom_sentence[:110]}...\"')\n",
    "    plt.ylabel(\"Class probability (%)\")\n",
    "    plt.show()\n"
   ]
  },
  {
   "cell_type": "markdown",
   "id": "45732cbc",
   "metadata": {},
   "source": [
    "#### Example of false positive"
   ]
  },
  {
   "cell_type": "code",
   "execution_count": 28,
   "id": "540a1ff8",
   "metadata": {
    "ExecuteTime": {
     "end_time": "2023-03-13T09:49:47.161877Z",
     "start_time": "2023-03-13T09:49:46.764309Z"
    }
   },
   "outputs": [
    {
     "name": "stdout",
     "output_type": "stream",
     "text": [
      "#----------------------------------------------------------------------------------------\n",
      "# Text\n",
      "#----------------------------------------------------------------------------------------\n",
      "There is a polyp in the body which is sessile with an abnormal pit pattern. A gastric polyp is seen in the pylorus, with a tubular and elongated shape and a smooth surface.The polyp was removed with minimal thermal injury to surrounding tissue using a cold snare technique..  FOLLOW UP: The patient should be advised to seek medical attention immediately if they experience severe abdominal pain, vomiting, or bloody stools. RECOMMENDATION: The patient should be advised to avoid NSAIDs and aspirin, which can increase the risk of developing more polyps.\n",
      "#----------------------------------------------------------------------------------------\n",
      "# Label\n",
      "#----------------------------------------------------------------------------------------\n",
      "Real medical report\n",
      "#----------------------------------------------------------------------------------------\n"
     ]
    },
    {
     "data": {
      "image/png": "[encoded data removed]",
      "text/plain": [
       "<Figure size 600x200 with 1 Axes>"
      ]
     },
     "metadata": {},
     "output_type": "display_data"
    }
   ],
   "source": [
    "item=3\n",
    "print('#----------------------------------------------------------------------------------------')\n",
    "print('# Text')\n",
    "print('#----------------------------------------------------------------------------------------')\n",
    "custom_label = real['label'].iloc[item]\n",
    "custom_sentence=real['findings'].iloc[item]\n",
    "labels = ['Real medical report','Fake medical report']\n",
    "print(custom_sentence)\n",
    "print('#----------------------------------------------------------------------------------------')\n",
    "print('# Label')\n",
    "print('#----------------------------------------------------------------------------------------')\n",
    "print(labels[custom_label])\n",
    "print('#----------------------------------------------------------------------------------------')\n",
    "single_text(lr_clf,custom_sentence,custom_label)"
   ]
  },
  {
   "cell_type": "markdown",
   "id": "687ddd3b",
   "metadata": {},
   "source": [
    "#### Example of false negative"
   ]
  },
  {
   "cell_type": "code",
   "execution_count": 29,
   "id": "e80089de",
   "metadata": {
    "ExecuteTime": {
     "end_time": "2023-03-13T09:49:47.961440Z",
     "start_time": "2023-03-13T09:49:47.607612Z"
    }
   },
   "outputs": [
    {
     "name": "stdout",
     "output_type": "stream",
     "text": [
      "#----------------------------------------------------------------------------------------\n",
      "# Text\n",
      "#----------------------------------------------------------------------------------------\n",
      " The patient has a polyp in the oesophagus at 32 cm which is sessile.It has an abnormal pit pattern. An oesophageal polyp was detected during endoscopy, located approximately 18 cm from the incisors. The lesion had a nodular surface and measured 1.2 cm in diameter.The base of the polyp was cauterized with an argon plasma coagulator to prevent bleeding.. itdo renz.duodenal stricture\n",
      "#----------------------------------------------------------------------------------------\n",
      "# Label\n",
      "#----------------------------------------------------------------------------------------\n",
      "Fake medical report\n",
      "#----------------------------------------------------------------------------------------\n"
     ]
    },
    {
     "data": {
      "image/png": "[encoded data removed]",
      "text/plain": [
       "<Figure size 600x200 with 1 Axes>"
      ]
     },
     "metadata": {},
     "output_type": "display_data"
    }
   ],
   "source": [
    "item=70\n",
    "print('#----------------------------------------------------------------------------------------')\n",
    "print('# Text')\n",
    "print('#----------------------------------------------------------------------------------------')\n",
    "custom_label = fake['label'].iloc[item]\n",
    "custom_sentence=fake['findings'].iloc[item]\n",
    "labels = ['Real medical report','Fake medical report']\n",
    "print(custom_sentence)\n",
    "print('#----------------------------------------------------------------------------------------')\n",
    "print('# Label')\n",
    "print('#----------------------------------------------------------------------------------------')\n",
    "print(labels[custom_label])\n",
    "print('#----------------------------------------------------------------------------------------')\n",
    "single_text(lr_clf,custom_sentence,custom_label)"
   ]
  },
  {
   "cell_type": "markdown",
   "id": "b6fe3847",
   "metadata": {},
   "source": [
    "### Error analysis"
   ]
  },
  {
   "cell_type": "code",
   "execution_count": 30,
   "id": "07ae2ca0",
   "metadata": {
    "ExecuteTime": {
     "end_time": "2023-03-13T09:49:49.481561Z",
     "start_time": "2023-03-13T09:49:48.086473Z"
    }
   },
   "outputs": [
    {
     "name": "stderr",
     "output_type": "stream",
     "text": [
      "Some weights of BertForSequenceClassification were not initialized from the model checkpoint at dmis-lab/biobert-v1.1 and are newly initialized: ['classifier.bias', 'classifier.weight']\n",
      "You should probably TRAIN this model on a down-stream task to be able to use it for predictions and inference.\n"
     ]
    }
   ],
   "source": [
    "from torch.nn.functional import cross_entropy\n",
    "model = AutoModelForSequenceClassification.from_pretrained(\"dmis-lab/biobert-v1.1\", num_labels=2)\n",
    "def forward_pass_with_label(batch):\n",
    "    # Place all input tensors on the same device as the model\n",
    "    inputs = {k:v.to(device) for k,v in batch.items() \n",
    "              if k in tokenizer.model_input_names}\n",
    "\n",
    "    with torch.no_grad():\n",
    "        output = model(**inputs)\n",
    "        pred_label = torch.argmax(output.logits, axis=-1)\n",
    "        #pred_label = lr_clf.predict(np.array(output.last_hidden_state[:,0].cpu().numpy()))\n",
    "        loss = cross_entropy(output.logits, batch[\"label\"].to(device), \n",
    "                             reduction=\"none\")\n",
    "\n",
    "    # Place outputs on CPU for compatibility with other dataset columns   \n",
    "    return {\"loss\": loss.cpu().numpy(), \n",
    "            \"predicted_label\": pred_label.cpu().numpy()}\n",
    "\n",
    "def label_int2str(row):\n",
    "    return Dict_datasets[\"train\"].features[\"label\"].int2str(row)"
   ]
  },
  {
   "cell_type": "code",
   "execution_count": 31,
   "id": "909bba66",
   "metadata": {
    "ExecuteTime": {
     "end_time": "2023-03-13T09:49:57.644302Z",
     "start_time": "2023-03-13T09:49:49.546731Z"
    }
   },
   "outputs": [
    {
     "data": {
      "application/vnd.jupyter.widget-view+json": {
       "model_id": "",
       "version_major": 2,
       "version_minor": 0
      },
      "text/plain": [
       "Map:   0%|          | 0/60 [00:00<?, ? examples/s]"
      ]
     },
     "metadata": {},
     "output_type": "display_data"
    }
   ],
   "source": [
    "#hide_output\n",
    "# Convert our dataset back to PyTorch tensors\n",
    "Dict_datasets_encoded.set_format(\"torch\", \n",
    "                            columns=[\"input_ids\", \"attention_mask\", \"label\"])\n",
    "# Compute loss values\n",
    "Dict_datasets_encoded[\"test\"] = Dict_datasets_encoded[\"test\"].map(\n",
    "    forward_pass_with_label, batched=True)"
   ]
  },
  {
   "cell_type": "code",
   "execution_count": 37,
   "id": "649fe588",
   "metadata": {
    "ExecuteTime": {
     "end_time": "2023-03-13T09:52:15.996712Z",
     "start_time": "2023-03-13T09:52:15.964975Z"
    }
   },
   "outputs": [
    {
     "data": {
      "text/html": [
       "<div>\n",
       "<style scoped>\n",
       "    .dataframe tbody tr th:only-of-type {\n",
       "        vertical-align: middle;\n",
       "    }\n",
       "\n",
       "    .dataframe tbody tr th {\n",
       "        vertical-align: top;\n",
       "    }\n",
       "\n",
       "    .dataframe thead th {\n",
       "        text-align: right;\n",
       "    }\n",
       "</style>\n",
       "<table border=\"1\" class=\"dataframe\">\n",
       "  <thead>\n",
       "    <tr style=\"text-align: right;\">\n",
       "      <th></th>\n",
       "      <th>findings</th>\n",
       "      <th>label</th>\n",
       "      <th>predicted_label</th>\n",
       "      <th>loss</th>\n",
       "    </tr>\n",
       "  </thead>\n",
       "  <tbody>\n",
       "    <tr>\n",
       "      <th>17</th>\n",
       "      <td>The patient has a stricture in the D1 / D2 an...</td>\n",
       "      <td>1</td>\n",
       "      <td>1</td>\n",
       "      <td>0.598101</td>\n",
       "    </tr>\n",
       "    <tr>\n",
       "      <th>6</th>\n",
       "      <td>The oesophagus appears to have a mildly friab...</td>\n",
       "      <td>1</td>\n",
       "      <td>1</td>\n",
       "      <td>0.616404</td>\n",
       "    </tr>\n",
       "    <tr>\n",
       "      <th>50</th>\n",
       "      <td>Large sliding hiatus hernia. inorad for Exam:...</td>\n",
       "      <td>1</td>\n",
       "      <td>1</td>\n",
       "      <td>0.634913</td>\n",
       "    </tr>\n",
       "    <tr>\n",
       "      <th>22</th>\n",
       "      <td>The man has a polyp in the fundus which is st...</td>\n",
       "      <td>1</td>\n",
       "      <td>1</td>\n",
       "      <td>0.635709</td>\n",
       "    </tr>\n",
       "    <tr>\n",
       "      <th>43</th>\n",
       "      <td>There is a nodule in the GOJ which is sessile...</td>\n",
       "      <td>1</td>\n",
       "      <td>1</td>\n",
       "      <td>0.639354</td>\n",
       "    </tr>\n",
       "    <tr>\n",
       "      <th>1</th>\n",
       "      <td>There is an ulcer in the third part of the du...</td>\n",
       "      <td>1</td>\n",
       "      <td>1</td>\n",
       "      <td>0.640691</td>\n",
       "    </tr>\n",
       "    <tr>\n",
       "      <th>24</th>\n",
       "      <td>There is an ulcer in the oesophagus at 41 cm ...</td>\n",
       "      <td>1</td>\n",
       "      <td>1</td>\n",
       "      <td>0.642186</td>\n",
       "    </tr>\n",
       "    <tr>\n",
       "      <th>12</th>\n",
       "      <td>No cervical inlet patch.. abad abad abregular...</td>\n",
       "      <td>1</td>\n",
       "      <td>1</td>\n",
       "      <td>0.642517</td>\n",
       "    </tr>\n",
       "    <tr>\n",
       "      <th>21</th>\n",
       "      <td>Oesophagus - Small hiatus hernia.. ani also C...</td>\n",
       "      <td>1</td>\n",
       "      <td>1</td>\n",
       "      <td>0.643009</td>\n",
       "    </tr>\n",
       "    <tr>\n",
       "      <th>2</th>\n",
       "      <td>The patient has Barrett's oesophagus. Short s...</td>\n",
       "      <td>1</td>\n",
       "      <td>1</td>\n",
       "      <td>0.646957</td>\n",
       "    </tr>\n",
       "    <tr>\n",
       "      <th>0</th>\n",
       "      <td>There is a polyp in the fundus which is sessi...</td>\n",
       "      <td>1</td>\n",
       "      <td>1</td>\n",
       "      <td>0.650946</td>\n",
       "    </tr>\n",
       "    <tr>\n",
       "      <th>38</th>\n",
       "      <td>There is an ulcer in the antrum which is exud...</td>\n",
       "      <td>1</td>\n",
       "      <td>1</td>\n",
       "      <td>0.653483</td>\n",
       "    </tr>\n",
       "    <tr>\n",
       "      <th>35</th>\n",
       "      <td>The patient has a 9mm nodule in the third par...</td>\n",
       "      <td>1</td>\n",
       "      <td>1</td>\n",
       "      <td>0.656743</td>\n",
       "    </tr>\n",
       "    <tr>\n",
       "      <th>45</th>\n",
       "      <td>The patient has a stricture in the body which...</td>\n",
       "      <td>1</td>\n",
       "      <td>1</td>\n",
       "      <td>0.660566</td>\n",
       "    </tr>\n",
       "    <tr>\n",
       "      <th>53</th>\n",
       "      <td>There is inflammation in the fundus which is ...</td>\n",
       "      <td>1</td>\n",
       "      <td>1</td>\n",
       "      <td>0.660695</td>\n",
       "    </tr>\n",
       "    <tr>\n",
       "      <th>25</th>\n",
       "      <td>There is a nodule in the body which is sessile...</td>\n",
       "      <td>0</td>\n",
       "      <td>0</td>\n",
       "      <td>0.662909</td>\n",
       "    </tr>\n",
       "    <tr>\n",
       "      <th>26</th>\n",
       "      <td>The patient has Barrett's oesophagus. No abno...</td>\n",
       "      <td>1</td>\n",
       "      <td>1</td>\n",
       "      <td>0.664514</td>\n",
       "    </tr>\n",
       "    <tr>\n",
       "      <th>20</th>\n",
       "      <td>There is an ulcer in the second part of the d...</td>\n",
       "      <td>1</td>\n",
       "      <td>1</td>\n",
       "      <td>0.670474</td>\n",
       "    </tr>\n",
       "    <tr>\n",
       "      <th>44</th>\n",
       "      <td>Normal gastroscopy to the duodenum.</td>\n",
       "      <td>1</td>\n",
       "      <td>1</td>\n",
       "      <td>0.671770</td>\n",
       "    </tr>\n",
       "    <tr>\n",
       "      <th>30</th>\n",
       "      <td>Normal gastroscopy to the duodenum.</td>\n",
       "      <td>1</td>\n",
       "      <td>1</td>\n",
       "      <td>0.671770</td>\n",
       "    </tr>\n",
       "    <tr>\n",
       "      <th>23</th>\n",
       "      <td>Normal gastroscopy to the duodenum.</td>\n",
       "      <td>1</td>\n",
       "      <td>1</td>\n",
       "      <td>0.671770</td>\n",
       "    </tr>\n",
       "    <tr>\n",
       "      <th>54</th>\n",
       "      <td>Normal gastroscopy to the duodenum.</td>\n",
       "      <td>1</td>\n",
       "      <td>1</td>\n",
       "      <td>0.671770</td>\n",
       "    </tr>\n",
       "    <tr>\n",
       "      <th>29</th>\n",
       "      <td>Normal gastroscopy to the duodenum.</td>\n",
       "      <td>1</td>\n",
       "      <td>1</td>\n",
       "      <td>0.671770</td>\n",
       "    </tr>\n",
       "    <tr>\n",
       "      <th>19</th>\n",
       "      <td>Normal gastroscopy to the duodenum.</td>\n",
       "      <td>1</td>\n",
       "      <td>1</td>\n",
       "      <td>0.671770</td>\n",
       "    </tr>\n",
       "    <tr>\n",
       "      <th>13</th>\n",
       "      <td>Normal gastroscopy to the duodenum.</td>\n",
       "      <td>1</td>\n",
       "      <td>1</td>\n",
       "      <td>0.671770</td>\n",
       "    </tr>\n",
       "    <tr>\n",
       "      <th>7</th>\n",
       "      <td>Normal gastroscopy to the duodenum.</td>\n",
       "      <td>1</td>\n",
       "      <td>1</td>\n",
       "      <td>0.671770</td>\n",
       "    </tr>\n",
       "    <tr>\n",
       "      <th>27</th>\n",
       "      <td>OESOPHAGUS: small hiatus hernia.. shiatal her...</td>\n",
       "      <td>1</td>\n",
       "      <td>1</td>\n",
       "      <td>0.673973</td>\n",
       "    </tr>\n",
       "    <tr>\n",
       "      <th>11</th>\n",
       "      <td>There is a polyp in the D1 / D2 angle which i...</td>\n",
       "      <td>1</td>\n",
       "      <td>1</td>\n",
       "      <td>0.676581</td>\n",
       "    </tr>\n",
       "    <tr>\n",
       "      <th>39</th>\n",
       "      <td>The patient has a 10mm nodule in the D1/D2 ang...</td>\n",
       "      <td>0</td>\n",
       "      <td>0</td>\n",
       "      <td>0.677697</td>\n",
       "    </tr>\n",
       "    <tr>\n",
       "      <th>8</th>\n",
       "      <td>There is a polyp in the D1 / D2 angle which i...</td>\n",
       "      <td>1</td>\n",
       "      <td>1</td>\n",
       "      <td>0.683533</td>\n",
       "    </tr>\n",
       "    <tr>\n",
       "      <th>49</th>\n",
       "      <td>The patient has Barrett's oesophagus. It is a ...</td>\n",
       "      <td>0</td>\n",
       "      <td>0</td>\n",
       "      <td>0.687579</td>\n",
       "    </tr>\n",
       "    <tr>\n",
       "      <th>52</th>\n",
       "      <td>LA Grade  D oesophagitis severe oesophagitis w...</td>\n",
       "      <td>0</td>\n",
       "      <td>0</td>\n",
       "      <td>0.688833</td>\n",
       "    </tr>\n",
       "    <tr>\n",
       "      <th>15</th>\n",
       "      <td>The patient has a polyp in the D1/D2 angle whi...</td>\n",
       "      <td>0</td>\n",
       "      <td>0</td>\n",
       "      <td>0.689359</td>\n",
       "    </tr>\n",
       "    <tr>\n",
       "      <th>57</th>\n",
       "      <td>Barrett's is present. No loss of aceto-whiteni...</td>\n",
       "      <td>0</td>\n",
       "      <td>0</td>\n",
       "      <td>0.690501</td>\n",
       "    </tr>\n",
       "    <tr>\n",
       "      <th>37</th>\n",
       "      <td>The patient has inflammation in the third par...</td>\n",
       "      <td>1</td>\n",
       "      <td>0</td>\n",
       "      <td>0.696501</td>\n",
       "    </tr>\n",
       "    <tr>\n",
       "      <th>28</th>\n",
       "      <td>There is a polyp in the duodenal bulb which is...</td>\n",
       "      <td>0</td>\n",
       "      <td>1</td>\n",
       "      <td>0.698237</td>\n",
       "    </tr>\n",
       "    <tr>\n",
       "      <th>14</th>\n",
       "      <td>There is a nodule in the GOJ which is stalked....</td>\n",
       "      <td>0</td>\n",
       "      <td>1</td>\n",
       "      <td>0.699140</td>\n",
       "    </tr>\n",
       "    <tr>\n",
       "      <th>42</th>\n",
       "      <td>There is inflammation in the GOJ which is seve...</td>\n",
       "      <td>0</td>\n",
       "      <td>1</td>\n",
       "      <td>0.699879</td>\n",
       "    </tr>\n",
       "    <tr>\n",
       "      <th>4</th>\n",
       "      <td>As an incidental finding she also has a cervic...</td>\n",
       "      <td>0</td>\n",
       "      <td>1</td>\n",
       "      <td>0.700397</td>\n",
       "    </tr>\n",
       "    <tr>\n",
       "      <th>46</th>\n",
       "      <td>LA Grade  A oesophagitis. There are scattered ...</td>\n",
       "      <td>0</td>\n",
       "      <td>1</td>\n",
       "      <td>0.706529</td>\n",
       "    </tr>\n",
       "    <tr>\n",
       "      <th>9</th>\n",
       "      <td>The patient has inflammation in the third part...</td>\n",
       "      <td>0</td>\n",
       "      <td>1</td>\n",
       "      <td>0.708131</td>\n",
       "    </tr>\n",
       "    <tr>\n",
       "      <th>3</th>\n",
       "      <td>LA Grade  D oesophagitis. The oesopahgitis is ...</td>\n",
       "      <td>0</td>\n",
       "      <td>1</td>\n",
       "      <td>0.709864</td>\n",
       "    </tr>\n",
       "    <tr>\n",
       "      <th>41</th>\n",
       "      <td>The patient has a stricture in the D1/D2 angle...</td>\n",
       "      <td>0</td>\n",
       "      <td>1</td>\n",
       "      <td>0.712121</td>\n",
       "    </tr>\n",
       "    <tr>\n",
       "      <th>56</th>\n",
       "      <td>Normal gastroscopy to the duodenum.</td>\n",
       "      <td>0</td>\n",
       "      <td>1</td>\n",
       "      <td>0.714991</td>\n",
       "    </tr>\n",
       "    <tr>\n",
       "      <th>31</th>\n",
       "      <td>Normal gastroscopy to the duodenum.</td>\n",
       "      <td>0</td>\n",
       "      <td>1</td>\n",
       "      <td>0.714991</td>\n",
       "    </tr>\n",
       "    <tr>\n",
       "      <th>48</th>\n",
       "      <td>Normal gastroscopy to the duodenum.</td>\n",
       "      <td>0</td>\n",
       "      <td>1</td>\n",
       "      <td>0.714991</td>\n",
       "    </tr>\n",
       "    <tr>\n",
       "      <th>33</th>\n",
       "      <td>list(\"The stricture will need to be dilatated ...</td>\n",
       "      <td>0</td>\n",
       "      <td>1</td>\n",
       "      <td>0.716325</td>\n",
       "    </tr>\n",
       "    <tr>\n",
       "      <th>5</th>\n",
       "      <td>list(\"The stricture will need to be dilatated ...</td>\n",
       "      <td>0</td>\n",
       "      <td>1</td>\n",
       "      <td>0.716325</td>\n",
       "    </tr>\n",
       "    <tr>\n",
       "      <th>34</th>\n",
       "      <td>The patient has inflammation in the D1/D2 angl...</td>\n",
       "      <td>0</td>\n",
       "      <td>1</td>\n",
       "      <td>0.717967</td>\n",
       "    </tr>\n",
       "    <tr>\n",
       "      <th>51</th>\n",
       "      <td>Normal gastroscopy to the duodenum. NA</td>\n",
       "      <td>0</td>\n",
       "      <td>1</td>\n",
       "      <td>0.718097</td>\n",
       "    </tr>\n",
       "    <tr>\n",
       "      <th>58</th>\n",
       "      <td>There is a polyp in the antrum which is stalke...</td>\n",
       "      <td>0</td>\n",
       "      <td>1</td>\n",
       "      <td>0.721040</td>\n",
       "    </tr>\n",
       "    <tr>\n",
       "      <th>55</th>\n",
       "      <td>There is an ulcer in the third part of the duo...</td>\n",
       "      <td>0</td>\n",
       "      <td>1</td>\n",
       "      <td>0.722002</td>\n",
       "    </tr>\n",
       "    <tr>\n",
       "      <th>59</th>\n",
       "      <td>The patient has a stricture in the antrum whic...</td>\n",
       "      <td>0</td>\n",
       "      <td>1</td>\n",
       "      <td>0.722167</td>\n",
       "    </tr>\n",
       "    <tr>\n",
       "      <th>18</th>\n",
       "      <td>There is a polyp in the body which is stalked ...</td>\n",
       "      <td>0</td>\n",
       "      <td>1</td>\n",
       "      <td>0.723414</td>\n",
       "    </tr>\n",
       "    <tr>\n",
       "      <th>47</th>\n",
       "      <td>The patient has a 8mm nodule in the D1 / D2 a...</td>\n",
       "      <td>1</td>\n",
       "      <td>0</td>\n",
       "      <td>0.728171</td>\n",
       "    </tr>\n",
       "    <tr>\n",
       "      <th>16</th>\n",
       "      <td>The patient has inflammation in the body which...</td>\n",
       "      <td>0</td>\n",
       "      <td>1</td>\n",
       "      <td>0.729559</td>\n",
       "    </tr>\n",
       "    <tr>\n",
       "      <th>40</th>\n",
       "      <td>There is inflammation in the GOJ which is seve...</td>\n",
       "      <td>0</td>\n",
       "      <td>1</td>\n",
       "      <td>0.755283</td>\n",
       "    </tr>\n",
       "    <tr>\n",
       "      <th>10</th>\n",
       "      <td>Inflammatory changes seen in the oesophagus. NA</td>\n",
       "      <td>0</td>\n",
       "      <td>1</td>\n",
       "      <td>0.759278</td>\n",
       "    </tr>\n",
       "    <tr>\n",
       "      <th>36</th>\n",
       "      <td>The patient has an ulcer in the D1/D2 angle wh...</td>\n",
       "      <td>0</td>\n",
       "      <td>1</td>\n",
       "      <td>0.759731</td>\n",
       "    </tr>\n",
       "    <tr>\n",
       "      <th>32</th>\n",
       "      <td>The patient has inflammation in the third part...</td>\n",
       "      <td>0</td>\n",
       "      <td>1</td>\n",
       "      <td>0.760268</td>\n",
       "    </tr>\n",
       "  </tbody>\n",
       "</table>\n",
       "</div>"
      ],
      "text/plain": [
       "                                             findings  label  predicted_label  \\\n",
       "17   The patient has a stricture in the D1 / D2 an...      1                1   \n",
       "6    The oesophagus appears to have a mildly friab...      1                1   \n",
       "50   Large sliding hiatus hernia. inorad for Exam:...      1                1   \n",
       "22   The man has a polyp in the fundus which is st...      1                1   \n",
       "43   There is a nodule in the GOJ which is sessile...      1                1   \n",
       "1    There is an ulcer in the third part of the du...      1                1   \n",
       "24   There is an ulcer in the oesophagus at 41 cm ...      1                1   \n",
       "12   No cervical inlet patch.. abad abad abregular...      1                1   \n",
       "21   Oesophagus - Small hiatus hernia.. ani also C...      1                1   \n",
       "2    The patient has Barrett's oesophagus. Short s...      1                1   \n",
       "0    There is a polyp in the fundus which is sessi...      1                1   \n",
       "38   There is an ulcer in the antrum which is exud...      1                1   \n",
       "35   The patient has a 9mm nodule in the third par...      1                1   \n",
       "45   The patient has a stricture in the body which...      1                1   \n",
       "53   There is inflammation in the fundus which is ...      1                1   \n",
       "25  There is a nodule in the body which is sessile...      0                0   \n",
       "26   The patient has Barrett's oesophagus. No abno...      1                1   \n",
       "20   There is an ulcer in the second part of the d...      1                1   \n",
       "44                Normal gastroscopy to the duodenum.      1                1   \n",
       "30                Normal gastroscopy to the duodenum.      1                1   \n",
       "23                Normal gastroscopy to the duodenum.      1                1   \n",
       "54                Normal gastroscopy to the duodenum.      1                1   \n",
       "29                Normal gastroscopy to the duodenum.      1                1   \n",
       "19                Normal gastroscopy to the duodenum.      1                1   \n",
       "13                Normal gastroscopy to the duodenum.      1                1   \n",
       "7                 Normal gastroscopy to the duodenum.      1                1   \n",
       "27   OESOPHAGUS: small hiatus hernia.. shiatal her...      1                1   \n",
       "11   There is a polyp in the D1 / D2 angle which i...      1                1   \n",
       "39  The patient has a 10mm nodule in the D1/D2 ang...      0                0   \n",
       "8    There is a polyp in the D1 / D2 angle which i...      1                1   \n",
       "49  The patient has Barrett's oesophagus. It is a ...      0                0   \n",
       "52  LA Grade  D oesophagitis severe oesophagitis w...      0                0   \n",
       "15  The patient has a polyp in the D1/D2 angle whi...      0                0   \n",
       "57  Barrett's is present. No loss of aceto-whiteni...      0                0   \n",
       "37   The patient has inflammation in the third par...      1                0   \n",
       "28  There is a polyp in the duodenal bulb which is...      0                1   \n",
       "14  There is a nodule in the GOJ which is stalked....      0                1   \n",
       "42  There is inflammation in the GOJ which is seve...      0                1   \n",
       "4   As an incidental finding she also has a cervic...      0                1   \n",
       "46  LA Grade  A oesophagitis. There are scattered ...      0                1   \n",
       "9   The patient has inflammation in the third part...      0                1   \n",
       "3   LA Grade  D oesophagitis. The oesopahgitis is ...      0                1   \n",
       "41  The patient has a stricture in the D1/D2 angle...      0                1   \n",
       "56               Normal gastroscopy to the duodenum.       0                1   \n",
       "31               Normal gastroscopy to the duodenum.       0                1   \n",
       "48               Normal gastroscopy to the duodenum.       0                1   \n",
       "33  list(\"The stricture will need to be dilatated ...      0                1   \n",
       "5   list(\"The stricture will need to be dilatated ...      0                1   \n",
       "34  The patient has inflammation in the D1/D2 angl...      0                1   \n",
       "51             Normal gastroscopy to the duodenum. NA      0                1   \n",
       "58  There is a polyp in the antrum which is stalke...      0                1   \n",
       "55  There is an ulcer in the third part of the duo...      0                1   \n",
       "59  The patient has a stricture in the antrum whic...      0                1   \n",
       "18  There is a polyp in the body which is stalked ...      0                1   \n",
       "47   The patient has a 8mm nodule in the D1 / D2 a...      1                0   \n",
       "16  The patient has inflammation in the body which...      0                1   \n",
       "40  There is inflammation in the GOJ which is seve...      0                1   \n",
       "10    Inflammatory changes seen in the oesophagus. NA      0                1   \n",
       "36  The patient has an ulcer in the D1/D2 angle wh...      0                1   \n",
       "32  The patient has inflammation in the third part...      0                1   \n",
       "\n",
       "        loss  \n",
       "17  0.598101  \n",
       "6   0.616404  \n",
       "50  0.634913  \n",
       "22  0.635709  \n",
       "43  0.639354  \n",
       "1   0.640691  \n",
       "24  0.642186  \n",
       "12  0.642517  \n",
       "21  0.643009  \n",
       "2   0.646957  \n",
       "0   0.650946  \n",
       "38  0.653483  \n",
       "35  0.656743  \n",
       "45  0.660566  \n",
       "53  0.660695  \n",
       "25  0.662909  \n",
       "26  0.664514  \n",
       "20  0.670474  \n",
       "44  0.671770  \n",
       "30  0.671770  \n",
       "23  0.671770  \n",
       "54  0.671770  \n",
       "29  0.671770  \n",
       "19  0.671770  \n",
       "13  0.671770  \n",
       "7   0.671770  \n",
       "27  0.673973  \n",
       "11  0.676581  \n",
       "39  0.677697  \n",
       "8   0.683533  \n",
       "49  0.687579  \n",
       "52  0.688833  \n",
       "15  0.689359  \n",
       "57  0.690501  \n",
       "37  0.696501  \n",
       "28  0.698237  \n",
       "14  0.699140  \n",
       "42  0.699879  \n",
       "4   0.700397  \n",
       "46  0.706529  \n",
       "9   0.708131  \n",
       "3   0.709864  \n",
       "41  0.712121  \n",
       "56  0.714991  \n",
       "31  0.714991  \n",
       "48  0.714991  \n",
       "33  0.716325  \n",
       "5   0.716325  \n",
       "34  0.717967  \n",
       "51  0.718097  \n",
       "58  0.721040  \n",
       "55  0.722002  \n",
       "59  0.722167  \n",
       "18  0.723414  \n",
       "47  0.728171  \n",
       "16  0.729559  \n",
       "40  0.755283  \n",
       "10  0.759278  \n",
       "36  0.759731  \n",
       "32  0.760268  "
      ]
     },
     "execution_count": 37,
     "metadata": {},
     "output_type": "execute_result"
    }
   ],
   "source": [
    "Dict_datasets_encoded.set_format(\"pandas\")\n",
    "cols = [\"findings\", \"label\", \"predicted_label\", \"loss\"]\n",
    "df_test = Dict_datasets_encoded[\"test\"][:][cols]\n",
    "df_test\n",
    "df_test.sort_values(\"loss\", ascending=True)#.head(10)"
   ]
  },
  {
   "cell_type": "markdown",
   "id": "99f893a6",
   "metadata": {},
   "source": [
    "### Similarity"
   ]
  },
  {
   "cell_type": "code",
   "execution_count": null,
   "id": "43d96022",
   "metadata": {},
   "outputs": [],
   "source": []
  },
  {
   "cell_type": "code",
   "execution_count": null,
   "id": "6d8ee5a2",
   "metadata": {},
   "outputs": [],
   "source": []
  },
  {
   "cell_type": "markdown",
   "id": "42b13efe",
   "metadata": {},
   "source": [
    "High loss means that identify a class (1: real, 2: false) easily."
   ]
  },
  {
   "cell_type": "markdown",
   "id": "4b04cec8",
   "metadata": {},
   "source": [
    "## Conclusions\n",
    "\n",
    "- The classifier took the real and generated reports and was able to classify them with an accuracy of around 60% \n",
    "\n",
    " "
   ]
  }
 ],
 "metadata": {
  "kernelspec": {
   "display_name": "Python 3 (ipykernel)",
   "language": "python",
   "name": "python3"
  },
  "language_info": {
   "codemirror_mode": {
    "name": "ipython",
    "version": 3
   },
   "file_extension": ".py",
   "mimetype": "text/x-python",
   "name": "python",
   "nbconvert_exporter": "python",
   "pygments_lexer": "ipython3",
   "version": "3.10.6"
  },
  "toc": {
   "base_numbering": 1,
   "nav_menu": {},
   "number_sections": true,
   "sideBar": true,
   "skip_h1_title": false,
   "title_cell": "Table of Contents",
   "title_sidebar": "Contents",
   "toc_cell": false,
   "toc_position": {},
   "toc_section_display": true,
   "toc_window_display": false
  },
  "varInspector": {
   "cols": {
    "lenName": 16,
    "lenType": 16,
    "lenVar": 40
   },
   "kernels_config": {
    "python": {
     "delete_cmd_postfix": "",
     "delete_cmd_prefix": "del ",
     "library": "var_list.py",
     "varRefreshCmd": "print(var_dic_list())"
    },
    "r": {
     "delete_cmd_postfix": ") ",
     "delete_cmd_prefix": "rm(",
     "library": "var_list.r",
     "varRefreshCmd": "cat(var_dic_list()) "
    }
   },
   "types_to_exclude": [
    "module",
    "function",
    "builtin_function_or_method",
    "instance",
    "_Feature"
   ],
   "window_display": false
  }
 },
 "nbformat": 4,
 "nbformat_minor": 5
}
