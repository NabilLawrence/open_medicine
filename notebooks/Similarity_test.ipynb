{
 "cells": [
  {
   "cell_type": "markdown",
   "id": "8a24e588",
   "metadata": {},
   "source": [
    "# Load libraries"
   ]
  },
  {
   "cell_type": "code",
   "execution_count": 7,
   "id": "1da42d14",
   "metadata": {},
   "outputs": [],
   "source": [
    "#------------------------------------------------------\n",
    "# Regular modules\n",
    "#------------------------------------------------------\n",
    "import numpy as np\n",
    "import matplotlib.pyplot as plt\n",
    "import pandas as pd\n",
    "import seaborn as sns\n",
    "import random\n",
    "import re\n",
    "#------------------------------------------------------\n",
    "# To avoid warnings\n",
    "#------------------------------------------------------\n",
    "import os\n",
    "import warnings \n",
    "warnings.filterwarnings('ignore')\n",
    "os.environ['TF_CPP_MIN_LOG_LEVEL'] = '3'\n",
    "#------------------------------------------------------\n",
    "# Not regular modules\n",
    "#------------------------------------------------------\n",
    "import torch\n",
    "#from torch import datasets\n",
    "import umap\n",
    "import spacy\n",
    "from transformers import pipeline, set_seed\n",
    "from transformers import AutoTokenizer, AutoModelForCausalLM\n"
   ]
  },
  {
   "cell_type": "markdown",
   "id": "271934c7",
   "metadata": {},
   "source": [
    "# Load dataset"
   ]
  },
  {
   "cell_type": "code",
   "execution_count": 8,
   "id": "22d2c42c",
   "metadata": {},
   "outputs": [],
   "source": [
    "df = pd.read_csv('../data/df_xy.csv', index_col=False)"
   ]
  },
  {
   "cell_type": "code",
   "execution_count": 10,
   "id": "1df648db",
   "metadata": {},
   "outputs": [],
   "source": [
    "df['prompts'] =  df.text.map(lambda x: x.split(\"FINDINGS:\")[0])\n",
    "df['findings'] =  df.text.map(lambda x: x.split(\"FINDINGS:\")[1])\n"
   ]
  },
  {
   "cell_type": "code",
   "execution_count": 39,
   "id": "05995652",
   "metadata": {},
   "outputs": [],
   "source": [
    "df['extent_of_exam'] = df.prompts.map(lambda x: x.split(\"INDICATIONS FOR PROCEDURE:\")[1].split('Extent of Exam:')[1])\n",
    "df['indications'] = df.prompts.map(lambda x: x.split(\"INDICATIONS FOR PROCEDURE:\")[0].split('Extent of Exam:')[0])"
   ]
  },
  {
   "cell_type": "code",
   "execution_count": null,
   "id": "4d27e443",
   "metadata": {},
   "outputs": [],
   "source": [
    "df."
   ]
  },
  {
   "cell_type": "markdown",
   "id": "6963fb3b",
   "metadata": {},
   "source": [
    "# Test fine-tuned model loading on hugging face"
   ]
  },
  {
   "cell_type": "code",
   "execution_count": 12,
   "id": "954d9db5",
   "metadata": {},
   "outputs": [],
   "source": [
    "\n",
    "\n",
    "tokenizer = AutoTokenizer.from_pretrained(\"microsoft/biogpt\")\n",
    "\n",
    "model = AutoModelForCausalLM.from_pretrained(\"tombrooks248/EndoGPT\")"
   ]
  },
  {
   "cell_type": "code",
   "execution_count": 63,
   "id": "5893b1f0",
   "metadata": {},
   "outputs": [],
   "source": [
    "generator = pipeline('text-generation', model=model, tokenizer=tokenizer, \n",
    "                     min_length = 30,\n",
    "                     max_length = 120, \n",
    "                     temperature = 1.0,\n",
    "                     num_return_sequences = 1,\n",
    "                     do_sample=True,\n",
    "                     top_k = \n",
    "                    )"
   ]
  },
  {
   "cell_type": "code",
   "execution_count": 64,
   "id": "61cc9f81",
   "metadata": {},
   "outputs": [],
   "source": [
    "output = generator('INDICATIONS FOR PROCEDURE: Ongoing reflux symptoms.Extent of Exam: D1 FINDINGS: ' )"
   ]
  },
  {
   "cell_type": "code",
   "execution_count": 65,
   "id": "333f8a3c",
   "metadata": {},
   "outputs": [
    {
     "name": "stdout",
     "output_type": "stream",
     "text": [
      "Sample 0: INDICATIONS FOR PROCEDURE: Ongoing reflux symptoms.Extent of Exam: D1 FINDINGS:  There is a polyp in the GOJ which is stalked with a normal pit pattern. A nodular lesion with surrounding erythema and nodularity of the overlying mucosa is observed in the mid-esophagus, suggestive of a malignant esophageal neoplasm.The polyp was removed with minimal thermal injury to surrounding tissue using a cold snare technique.. NA\n",
      "\n"
     ]
    }
   ],
   "source": [
    "for i, sample in enumerate(output):\n",
    "    print(f\"Sample {i}: {sample['generated_text']}\\n\")"
   ]
  },
  {
   "cell_type": "code",
   "execution_count": 16,
   "id": "8d4a0672",
   "metadata": {
    "scrolled": true
   },
   "outputs": [
    {
     "data": {
      "text/plain": [
       "'INDICATIONS FOR PROCEDURE: Ongoing reflux symptoms.Extent of Exam: D1 FINDINGS:  The patient has a stricture in the antrum which is stiffScope not held by stricture. The gastric stricture appears to be caused by mucosal changes, despite the initial impression of extrinsic compression.During biopsy, it was noted that the lesion had a friable surface and bled easily..'"
      ]
     },
     "execution_count": 16,
     "metadata": {},
     "output_type": "execute_result"
    }
   ],
   "source": [
    "output[0]['generated_text']"
   ]
  },
  {
   "cell_type": "code",
   "execution_count": 44,
   "id": "d5014b1f",
   "metadata": {},
   "outputs": [
    {
     "data": {
      "text/plain": [
       "Index(['Unnamed: 0', 'text', 'prompts', 'findings', 'Indexes',\n",
       "       'extent_of_exam', 'indications'],\n",
       "      dtype='object')"
      ]
     },
     "execution_count": 44,
     "metadata": {},
     "output_type": "execute_result"
    }
   ],
   "source": [
    "df.columns"
   ]
  },
  {
   "cell_type": "markdown",
   "id": "fddbf684",
   "metadata": {},
   "source": [
    "---\n",
    "## Similarity Metrics\n",
    "---"
   ]
  },
  {
   "cell_type": "markdown",
   "id": "e77039ba",
   "metadata": {},
   "source": [
    "### we will take 2 approaches:\n",
    "- intuitive approach based on plagiarism approaches\n",
    "- numerical metric based on word-embedding based similarities"
   ]
  },
  {
   "cell_type": "markdown",
   "id": "24718e15",
   "metadata": {},
   "source": [
    "### Identify repeated sentences"
   ]
  },
  {
   "cell_type": "code",
   "execution_count": 17,
   "id": "b543bb5f",
   "metadata": {},
   "outputs": [],
   "source": [
    "def calculate_appearance(string):\n",
    "    data_df = df\n",
    "    data_df[\"Indexes\"]= df[\"text\"].str.find(string)\n",
    "    return len(data_df[data_df[\"Indexes\"] > 0])\n",
    "    \n",
    "def clause_appearance(string):\n",
    "    total_appearances = []\n",
    "    split_string = string.replace(\",\",\".\").split(\".\")\n",
    "    for string in split_string:\n",
    "        total_appearances.append(calculate_appearance(string))\n",
    "        \n",
    "    return total_appearances\n",
    "\n"
   ]
  },
  {
   "cell_type": "code",
   "execution_count": 19,
   "id": "702307f6",
   "metadata": {},
   "outputs": [
    {
     "data": {
      "text/html": [
       "<div>\n",
       "<style scoped>\n",
       "    .dataframe tbody tr th:only-of-type {\n",
       "        vertical-align: middle;\n",
       "    }\n",
       "\n",
       "    .dataframe tbody tr th {\n",
       "        vertical-align: top;\n",
       "    }\n",
       "\n",
       "    .dataframe thead th {\n",
       "        text-align: right;\n",
       "    }\n",
       "</style>\n",
       "<table border=\"1\" class=\"dataframe\">\n",
       "  <thead>\n",
       "    <tr style=\"text-align: right;\">\n",
       "      <th></th>\n",
       "      <th>Unnamed: 0</th>\n",
       "      <th>text</th>\n",
       "      <th>prompts</th>\n",
       "      <th>findings</th>\n",
       "    </tr>\n",
       "  </thead>\n",
       "  <tbody>\n",
       "    <tr>\n",
       "      <th>5106</th>\n",
       "      <td>5106</td>\n",
       "      <td>Dr. Morley Dr. Burns  FG2  INDICATIONS FOR PR...</td>\n",
       "      <td>Dr. Morley Dr. Burns  FG2  INDICATIONS FOR PR...</td>\n",
       "      <td>The endoscopic findings reveal an ultra-short...</td>\n",
       "    </tr>\n",
       "    <tr>\n",
       "      <th>21464</th>\n",
       "      <td>21464</td>\n",
       "      <td>Dr. Daugherty Dr. Nguyen  FG6  INDICATIONS FO...</td>\n",
       "      <td>Dr. Daugherty Dr. Nguyen  FG6  INDICATIONS FO...</td>\n",
       "      <td>There is a nodule in the body which is benign...</td>\n",
       "    </tr>\n",
       "    <tr>\n",
       "      <th>6055</th>\n",
       "      <td>6055</td>\n",
       "      <td>Dr. Spencer Dr. Hall  FG4  INDICATIONS FOR PR...</td>\n",
       "      <td>Dr. Spencer Dr. Hall  FG4  INDICATIONS FOR PR...</td>\n",
       "      <td>The patient has inflammation in the fundus wh...</td>\n",
       "    </tr>\n",
       "    <tr>\n",
       "      <th>32155</th>\n",
       "      <td>32156</td>\n",
       "      <td>Dr. Zumdome Dr. Nguyen  FG6  INDICATIONS FOR ...</td>\n",
       "      <td>Dr. Zumdome Dr. Nguyen  FG6  INDICATIONS FOR ...</td>\n",
       "      <td>Normal gastroscopy to the duodenum.</td>\n",
       "    </tr>\n",
       "    <tr>\n",
       "      <th>41900</th>\n",
       "      <td>41902</td>\n",
       "      <td>Dr. Le Dr. Ortiz  FG3  INDICATIONS FOR PROCED...</td>\n",
       "      <td>Dr. Le Dr. Ortiz  FG3  INDICATIONS FOR PROCED...</td>\n",
       "      <td>Normal gastroscopy to the duodenum.</td>\n",
       "    </tr>\n",
       "  </tbody>\n",
       "</table>\n",
       "</div>"
      ],
      "text/plain": [
       "       Unnamed: 0                                               text  \\\n",
       "5106         5106   Dr. Morley Dr. Burns  FG2  INDICATIONS FOR PR...   \n",
       "21464       21464   Dr. Daugherty Dr. Nguyen  FG6  INDICATIONS FO...   \n",
       "6055         6055   Dr. Spencer Dr. Hall  FG4  INDICATIONS FOR PR...   \n",
       "32155       32156   Dr. Zumdome Dr. Nguyen  FG6  INDICATIONS FOR ...   \n",
       "41900       41902   Dr. Le Dr. Ortiz  FG3  INDICATIONS FOR PROCED...   \n",
       "\n",
       "                                                 prompts  \\\n",
       "5106    Dr. Morley Dr. Burns  FG2  INDICATIONS FOR PR...   \n",
       "21464   Dr. Daugherty Dr. Nguyen  FG6  INDICATIONS FO...   \n",
       "6055    Dr. Spencer Dr. Hall  FG4  INDICATIONS FOR PR...   \n",
       "32155   Dr. Zumdome Dr. Nguyen  FG6  INDICATIONS FOR ...   \n",
       "41900   Dr. Le Dr. Ortiz  FG3  INDICATIONS FOR PROCED...   \n",
       "\n",
       "                                                findings  \n",
       "5106    The endoscopic findings reveal an ultra-short...  \n",
       "21464   There is a nodule in the body which is benign...  \n",
       "6055    The patient has inflammation in the fundus wh...  \n",
       "32155               Normal gastroscopy to the duodenum.   \n",
       "41900               Normal gastroscopy to the duodenum.   "
      ]
     },
     "execution_count": 19,
     "metadata": {},
     "output_type": "execute_result"
    }
   ],
   "source": [
    "df_sample = df.sample(n=5)"
   ]
  },
  {
   "cell_type": "code",
   "execution_count": 20,
   "id": "b0c3193c",
   "metadata": {},
   "outputs": [],
   "source": [
    "df_sample['gen_findings'] = df_sample.prompts.map(generator)"
   ]
  },
  {
   "cell_type": "code",
   "execution_count": 22,
   "id": "be8d373e",
   "metadata": {},
   "outputs": [],
   "source": [
    "df_sample['gen_findings'] = df_sample.gen_findings.map(lambda x: x[0]['generated_text'].split(\"FINDINGS:\")[1])"
   ]
  },
  {
   "cell_type": "code",
   "execution_count": 23,
   "id": "1130715e",
   "metadata": {},
   "outputs": [],
   "source": [
    "df_sample[\"in_corpus?\"] = df_sample.gen_findings.map(calculate_appearance)\n",
    "df_sample[\"clause_in_corpus?\"] = df_sample.gen_findings.map(clause_appearance)"
   ]
  },
  {
   "cell_type": "markdown",
   "id": "3b3d2d45",
   "metadata": {},
   "source": [
    "### Similarity based on text embedding using Spacy"
   ]
  },
  {
   "cell_type": "code",
   "execution_count": 25,
   "id": "a243dc92",
   "metadata": {},
   "outputs": [],
   "source": [
    "nlp = spacy.load('en_core_web_sm') # Load pre-trained word embedding model\n",
    "\n",
    "def cosine_similarity(text1, text2):\n",
    "    doc1 = nlp(text1)\n",
    "    doc2 = nlp(text2)\n",
    "    return doc1.similarity(doc2) # Compute cosine similarity between two documents\n",
    "\n"
   ]
  },
  {
   "cell_type": "code",
   "execution_count": 26,
   "id": "5f375024",
   "metadata": {},
   "outputs": [],
   "source": [
    "def test_similarity(text, real_findings=df_sample.findings):\n",
    "    similarity = [cosine_similarity(text, real) for real in real_findings]\n",
    "    return max(similarity)"
   ]
  },
  {
   "cell_type": "code",
   "execution_count": 27,
   "id": "ed3ea90f",
   "metadata": {},
   "outputs": [],
   "source": [
    "df_sample['similarity'] = df_sample.gen_findings.apply(test_similarity)"
   ]
  },
  {
   "cell_type": "code",
   "execution_count": 31,
   "id": "5c955e70",
   "metadata": {},
   "outputs": [
    {
     "data": {
      "text/html": [
       "<div>\n",
       "<style scoped>\n",
       "    .dataframe tbody tr th:only-of-type {\n",
       "        vertical-align: middle;\n",
       "    }\n",
       "\n",
       "    .dataframe tbody tr th {\n",
       "        vertical-align: top;\n",
       "    }\n",
       "\n",
       "    .dataframe thead th {\n",
       "        text-align: right;\n",
       "    }\n",
       "</style>\n",
       "<table border=\"1\" class=\"dataframe\">\n",
       "  <thead>\n",
       "    <tr style=\"text-align: right;\">\n",
       "      <th></th>\n",
       "      <th>Unnamed: 0</th>\n",
       "      <th>text</th>\n",
       "      <th>prompts</th>\n",
       "      <th>findings</th>\n",
       "      <th>gen_findings</th>\n",
       "      <th>in_corpus?</th>\n",
       "      <th>clause_in_corpus?</th>\n",
       "      <th>similarity</th>\n",
       "    </tr>\n",
       "  </thead>\n",
       "  <tbody>\n",
       "    <tr>\n",
       "      <th>5106</th>\n",
       "      <td>5106</td>\n",
       "      <td>Dr. Morley Dr. Burns  FG2  INDICATIONS FOR PR...</td>\n",
       "      <td>Dr. Morley Dr. Burns  FG2  INDICATIONS FOR PR...</td>\n",
       "      <td>The endoscopic findings reveal an ultra-short...</td>\n",
       "      <td>There is a nodule in the body which is sessil...</td>\n",
       "      <td>0</td>\n",
       "      <td>[97, 113, 384, 20, 20, 0, 0]</td>\n",
       "      <td>0.900487</td>\n",
       "    </tr>\n",
       "    <tr>\n",
       "      <th>21464</th>\n",
       "      <td>21464</td>\n",
       "      <td>Dr. Daugherty Dr. Nguyen  FG6  INDICATIONS FO...</td>\n",
       "      <td>Dr. Daugherty Dr. Nguyen  FG6  INDICATIONS FO...</td>\n",
       "      <td>There is a nodule in the body which is benign...</td>\n",
       "      <td>There is a nodule in the second part of the d...</td>\n",
       "      <td>99</td>\n",
       "      <td>[99, 0]</td>\n",
       "      <td>0.712294</td>\n",
       "    </tr>\n",
       "    <tr>\n",
       "      <th>6055</th>\n",
       "      <td>6055</td>\n",
       "      <td>Dr. Spencer Dr. Hall  FG4  INDICATIONS FOR PR...</td>\n",
       "      <td>Dr. Spencer Dr. Hall  FG4  INDICATIONS FOR PR...</td>\n",
       "      <td>The patient has inflammation in the fundus wh...</td>\n",
       "      <td>The patient has a polyp in the body which is ...</td>\n",
       "      <td>0</td>\n",
       "      <td>[29, 56, 56, 349, 0, 0]</td>\n",
       "      <td>0.825763</td>\n",
       "    </tr>\n",
       "    <tr>\n",
       "      <th>32155</th>\n",
       "      <td>32156</td>\n",
       "      <td>Dr. Zumdome Dr. Nguyen  FG6  INDICATIONS FOR ...</td>\n",
       "      <td>Dr. Zumdome Dr. Nguyen  FG6  INDICATIONS FOR ...</td>\n",
       "      <td>Normal gastroscopy to the duodenum.</td>\n",
       "      <td>The patient has a stricture in the duodenal b...</td>\n",
       "      <td>0</td>\n",
       "      <td>[1, 0, 85, 85, 2597, 1292, 0, 12834]</td>\n",
       "      <td>0.853395</td>\n",
       "    </tr>\n",
       "    <tr>\n",
       "      <th>41900</th>\n",
       "      <td>41902</td>\n",
       "      <td>Dr. Le Dr. Ortiz  FG3  INDICATIONS FOR PROCED...</td>\n",
       "      <td>Dr. Le Dr. Ortiz  FG3  INDICATIONS FOR PROCED...</td>\n",
       "      <td>Normal gastroscopy to the duodenum.</td>\n",
       "      <td>There is a nodule in the stomach which is ben...</td>\n",
       "      <td>0</td>\n",
       "      <td>[83, 113, 384, 10, 0, 0, 0]</td>\n",
       "      <td>0.926916</td>\n",
       "    </tr>\n",
       "  </tbody>\n",
       "</table>\n",
       "</div>"
      ],
      "text/plain": [
       "       Unnamed: 0                                               text  \\\n",
       "5106         5106   Dr. Morley Dr. Burns  FG2  INDICATIONS FOR PR...   \n",
       "21464       21464   Dr. Daugherty Dr. Nguyen  FG6  INDICATIONS FO...   \n",
       "6055         6055   Dr. Spencer Dr. Hall  FG4  INDICATIONS FOR PR...   \n",
       "32155       32156   Dr. Zumdome Dr. Nguyen  FG6  INDICATIONS FOR ...   \n",
       "41900       41902   Dr. Le Dr. Ortiz  FG3  INDICATIONS FOR PROCED...   \n",
       "\n",
       "                                                 prompts  \\\n",
       "5106    Dr. Morley Dr. Burns  FG2  INDICATIONS FOR PR...   \n",
       "21464   Dr. Daugherty Dr. Nguyen  FG6  INDICATIONS FO...   \n",
       "6055    Dr. Spencer Dr. Hall  FG4  INDICATIONS FOR PR...   \n",
       "32155   Dr. Zumdome Dr. Nguyen  FG6  INDICATIONS FOR ...   \n",
       "41900   Dr. Le Dr. Ortiz  FG3  INDICATIONS FOR PROCED...   \n",
       "\n",
       "                                                findings  \\\n",
       "5106    The endoscopic findings reveal an ultra-short...   \n",
       "21464   There is a nodule in the body which is benign...   \n",
       "6055    The patient has inflammation in the fundus wh...   \n",
       "32155               Normal gastroscopy to the duodenum.    \n",
       "41900               Normal gastroscopy to the duodenum.    \n",
       "\n",
       "                                            gen_findings  in_corpus?  \\\n",
       "5106    There is a nodule in the body which is sessil...           0   \n",
       "21464   There is a nodule in the second part of the d...          99   \n",
       "6055    The patient has a polyp in the body which is ...           0   \n",
       "32155   The patient has a stricture in the duodenal b...           0   \n",
       "41900   There is a nodule in the stomach which is ben...           0   \n",
       "\n",
       "                          clause_in_corpus?  similarity  \n",
       "5106           [97, 113, 384, 20, 20, 0, 0]    0.900487  \n",
       "21464                               [99, 0]    0.712294  \n",
       "6055                [29, 56, 56, 349, 0, 0]    0.825763  \n",
       "32155  [1, 0, 85, 85, 2597, 1292, 0, 12834]    0.853395  \n",
       "41900           [83, 113, 384, 10, 0, 0, 0]    0.926916  "
      ]
     },
     "execution_count": 31,
     "metadata": {},
     "output_type": "execute_result"
    }
   ],
   "source": [
    "df_sample.prompts[]"
   ]
  },
  {
   "cell_type": "code",
   "execution_count": 45,
   "id": "4c30890a",
   "metadata": {},
   "outputs": [
    {
     "data": {
      "text/plain": [
       "' Dr. Daugherty Dr. Nguyen  FG6  INDICATIONS FOR PROCEDURE: Abdominal Pain Small Bowel Biopsy Positive coeliac serology Extent of Exam:  Stomach body  '"
      ]
     },
     "execution_count": 45,
     "metadata": {},
     "output_type": "execute_result"
    }
   ],
   "source": [
    "df_sample.prompts.iloc[1]"
   ]
  },
  {
   "cell_type": "code",
   "execution_count": 47,
   "id": "1b4c7d43",
   "metadata": {
    "scrolled": true
   },
   "outputs": [],
   "source": [
    "\n",
    "\n",
    "sample_output = df_sample.drop(columns = ['Unnamed: 0','text','clause_in_corpus?', 'prompts'])"
   ]
  },
  {
   "cell_type": "code",
   "execution_count": 48,
   "id": "8e1ccb3f",
   "metadata": {},
   "outputs": [
    {
     "data": {
      "text/html": [
       "<div>\n",
       "<style scoped>\n",
       "    .dataframe tbody tr th:only-of-type {\n",
       "        vertical-align: middle;\n",
       "    }\n",
       "\n",
       "    .dataframe tbody tr th {\n",
       "        vertical-align: top;\n",
       "    }\n",
       "\n",
       "    .dataframe thead th {\n",
       "        text-align: right;\n",
       "    }\n",
       "</style>\n",
       "<table border=\"1\" class=\"dataframe\">\n",
       "  <thead>\n",
       "    <tr style=\"text-align: right;\">\n",
       "      <th></th>\n",
       "      <th>findings</th>\n",
       "      <th>gen_findings</th>\n",
       "      <th>in_corpus?</th>\n",
       "      <th>similarity</th>\n",
       "    </tr>\n",
       "  </thead>\n",
       "  <tbody>\n",
       "    <tr>\n",
       "      <th>5106</th>\n",
       "      <td>The endoscopic findings reveal an ultra-short...</td>\n",
       "      <td>There is a nodule in the body which is sessil...</td>\n",
       "      <td>0</td>\n",
       "      <td>0.900487</td>\n",
       "    </tr>\n",
       "    <tr>\n",
       "      <th>21464</th>\n",
       "      <td>There is a nodule in the body which is benign...</td>\n",
       "      <td>There is a nodule in the second part of the d...</td>\n",
       "      <td>99</td>\n",
       "      <td>0.712294</td>\n",
       "    </tr>\n",
       "    <tr>\n",
       "      <th>6055</th>\n",
       "      <td>The patient has inflammation in the fundus wh...</td>\n",
       "      <td>The patient has a polyp in the body which is ...</td>\n",
       "      <td>0</td>\n",
       "      <td>0.825763</td>\n",
       "    </tr>\n",
       "    <tr>\n",
       "      <th>32155</th>\n",
       "      <td>Normal gastroscopy to the duodenum.</td>\n",
       "      <td>The patient has a stricture in the duodenal b...</td>\n",
       "      <td>0</td>\n",
       "      <td>0.853395</td>\n",
       "    </tr>\n",
       "    <tr>\n",
       "      <th>41900</th>\n",
       "      <td>Normal gastroscopy to the duodenum.</td>\n",
       "      <td>There is a nodule in the stomach which is ben...</td>\n",
       "      <td>0</td>\n",
       "      <td>0.926916</td>\n",
       "    </tr>\n",
       "  </tbody>\n",
       "</table>\n",
       "</div>"
      ],
      "text/plain": [
       "                                                findings  \\\n",
       "5106    The endoscopic findings reveal an ultra-short...   \n",
       "21464   There is a nodule in the body which is benign...   \n",
       "6055    The patient has inflammation in the fundus wh...   \n",
       "32155               Normal gastroscopy to the duodenum.    \n",
       "41900               Normal gastroscopy to the duodenum.    \n",
       "\n",
       "                                            gen_findings  in_corpus?  \\\n",
       "5106    There is a nodule in the body which is sessil...           0   \n",
       "21464   There is a nodule in the second part of the d...          99   \n",
       "6055    The patient has a polyp in the body which is ...           0   \n",
       "32155   The patient has a stricture in the duodenal b...           0   \n",
       "41900   There is a nodule in the stomach which is ben...           0   \n",
       "\n",
       "       similarity  \n",
       "5106     0.900487  \n",
       "21464    0.712294  \n",
       "6055     0.825763  \n",
       "32155    0.853395  \n",
       "41900    0.926916  "
      ]
     },
     "execution_count": 48,
     "metadata": {},
     "output_type": "execute_result"
    }
   ],
   "source": [
    "sample_output"
   ]
  },
  {
   "cell_type": "code",
   "execution_count": null,
   "id": "252ac4c3",
   "metadata": {},
   "outputs": [],
   "source": []
  }
 ],
 "metadata": {
  "kernelspec": {
   "display_name": "Python 3 (ipykernel)",
   "language": "python",
   "name": "python3"
  },
  "language_info": {
   "codemirror_mode": {
    "name": "ipython",
    "version": 3
   },
   "file_extension": ".py",
   "mimetype": "text/x-python",
   "name": "python",
   "nbconvert_exporter": "python",
   "pygments_lexer": "ipython3",
   "version": "3.10.6"
  },
  "toc": {
   "base_numbering": 1,
   "nav_menu": {},
   "number_sections": true,
   "sideBar": true,
   "skip_h1_title": false,
   "title_cell": "Table of Contents",
   "title_sidebar": "Contents",
   "toc_cell": false,
   "toc_position": {},
   "toc_section_display": true,
   "toc_window_display": false
  }
 },
 "nbformat": 4,
 "nbformat_minor": 5
}
