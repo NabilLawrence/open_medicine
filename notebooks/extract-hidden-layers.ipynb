{
 "cells": [
  {
   "cell_type": "code",
   "execution_count": 10,
   "id": "0041d73d",
   "metadata": {},
   "outputs": [],
   "source": [
    "import numpy as np\n",
    "import matplotlib.pyplot as plt\n",
    "import pandas as pd\n",
    "import seaborn as sns\n",
    "import warnings \n",
    "import datasets\n",
    "import torch\n",
    "import os\n",
    "import re\n",
    "warnings.filterwarnings('ignore')\n",
    "os.environ['TF_CPP_MIN_LOG_LEVEL'] = '3'\n",
    "from Classifier import data_cleaning # created method to clean and extract data\n",
    "from sklearn.model_selection import train_test_split"
   ]
  },
  {
   "cell_type": "code",
   "execution_count": 2,
   "id": "85a2a89b",
   "metadata": {},
   "outputs": [],
   "source": [
    "# from transformers import AutoTokenizer, BioGptModel\n",
    "from transformers import BioGptTokenizer, BioGptModel\n",
    "# tokenizer = AutoTokenizer.from_pretrained(\"microsoft/biogpt\")\n",
    "tokenizer = BioGptTokenizer.from_pretrained(\"microsoft/biogpt\")"
   ]
  },
  {
   "cell_type": "code",
   "execution_count": 3,
   "id": "c95ceab6",
   "metadata": {},
   "outputs": [
    {
     "name": "stderr",
     "output_type": "stream",
     "text": [
      "Some weights of the model checkpoint at microsoft/biogpt were not used when initializing BioGptModel: ['output_projection.weight']\n",
      "- This IS expected if you are initializing BioGptModel from the checkpoint of a model trained on another task or with another architecture (e.g. initializing a BertForSequenceClassification model from a BertForPreTraining model).\n",
      "- This IS NOT expected if you are initializing BioGptModel from the checkpoint of a model that you expect to be exactly identical (initializing a BertForSequenceClassification model from a BertForSequenceClassification model).\n"
     ]
    }
   ],
   "source": [
    "model = BioGptModel.from_pretrained(\"microsoft/biogpt\")"
   ]
  },
  {
   "cell_type": "code",
   "execution_count": 4,
   "id": "76e5c77e",
   "metadata": {},
   "outputs": [
    {
     "data": {
      "text/plain": [
       "0      The patient has Barrett's oesophagus. It is a ...\n",
       "1      There is a polyp in the antrum which is sessil...\n",
       "2      The patient has inflammation in the second par...\n",
       "3                   Normal gastroscopy to the duodenum. \n",
       "4      There is an ulcer in the second part of the du...\n",
       "                             ...                        \n",
       "995    The patient has a polyp in the second part of ...\n",
       "996    There is a nodule in the second part of the du...\n",
       "997    The patient has a 8mm nodule in the GOJ which ...\n",
       "998               Normal gastroscopy to the duodenum. NA\n",
       "999    list(\"The stricture will need to be dilatated ...\n",
       "Name: findings, Length: 1000, dtype: object"
      ]
     },
     "execution_count": 4,
     "metadata": {},
     "output_type": "execute_result"
    }
   ],
   "source": [
    "#-----------------------------------------------------\n",
    "# Loading dataset\n",
    "#-----------------------------------------------------\n",
    "OGD_FakeSet = pd.read_csv(\"../data/OGD_FakeSet.csv\")\n",
    "#-----------------------------------------------------\n",
    "# Cleaning dataset\n",
    "#-----------------------------------------------------\n",
    "df = data_cleaning(OGD_FakeSet)\n",
    "#-----------------------------------------------------\n",
    "# Vectorizing text in findings features\n",
    "#-----------------------------------------------------\n",
    "df['findings']"
   ]
  },
  {
   "cell_type": "code",
   "execution_count": 5,
   "id": "62a75f2d",
   "metadata": {},
   "outputs": [
    {
     "data": {
      "text/plain": [
       "(1000,)"
      ]
     },
     "execution_count": 5,
     "metadata": {},
     "output_type": "execute_result"
    }
   ],
   "source": [
    "findings = df['findings']\n",
    "findings.shape"
   ]
  },
  {
   "cell_type": "code",
   "execution_count": 6,
   "id": "26f73d13",
   "metadata": {},
   "outputs": [
    {
     "data": {
      "text/plain": [
       "\".htworg pylop fo ksir eht esaercni dna hcamots eht ni htworgrevo lairetcab fo ksir eht esaercni nac siht sa ,ragus hcum oot gnimusnoc diova ot desivda eb dluohs tneitap ehT  .trofmocsid ro niap sa hcus ,eludon eht htiw detaicossa smotpmys yna eganam ot noitacidem debircserp eb yam tneitap ehT :PU WOLLOF .spylop erom gnipoleved fo ksir eht ecuder ot noitacidem debircserp eb yam tneitap ehT  .nalp tnemtaert dednemmocer eht ot gnirehda fo ecnatropmi eht dna sisongaid eht fo demrofni eb dluohs tneitap ehT :NOITADNEMMOCER AN ..ypocsodne ecnallievrus erutuf ni dia ot oottat a htiw dekram saw pylop ehT.ecnaraeppa ralunarg a htiw ,suotamede dna demalfni si seludon eht gnidnuorrus asocum ehT .nrettap tip lamronba na htiw deklats si hcihw munedoud eht fo trap driht eht ni pylop a si erehT .ylno tnemges trohS .nees osla saw  gninetihw-oteca fo ssol oN .tnemges gnol a si tI .sugahposeo s'tterraB sah tneitap ehT\""
      ]
     },
     "execution_count": 6,
     "metadata": {},
     "output_type": "execute_result"
    }
   ],
   "source": [
    "def reverse(row):\n",
    "    row = row[::-1]\n",
    "    return row\n",
    "\n",
    "findings_reverse = findings.apply(reverse)\n",
    "\n",
    "findings_reverse[0]"
   ]
  },
  {
   "cell_type": "code",
   "execution_count": 7,
   "id": "3ce84980",
   "metadata": {},
   "outputs": [
    {
     "data": {
      "text/plain": [
       "(2000,)"
      ]
     },
     "execution_count": 7,
     "metadata": {},
     "output_type": "execute_result"
    }
   ],
   "source": [
    "sentences = pd.concat([findings, findings_reverse]) \n",
    "sentences.shape"
   ]
  },
  {
   "cell_type": "code",
   "execution_count": 8,
   "id": "e7485a16",
   "metadata": {},
   "outputs": [
    {
     "data": {
      "text/plain": [
       "pandas.core.frame.DataFrame"
      ]
     },
     "execution_count": 8,
     "metadata": {},
     "output_type": "execute_result"
    }
   ],
   "source": [
    "sentences = sentences.to_frame()\n",
    "type(sentences)"
   ]
  },
  {
   "cell_type": "code",
   "execution_count": 9,
   "id": "74c7c1f0",
   "metadata": {},
   "outputs": [
    {
     "data": {
      "text/html": [
       "<div>\n",
       "<style scoped>\n",
       "    .dataframe tbody tr th:only-of-type {\n",
       "        vertical-align: middle;\n",
       "    }\n",
       "\n",
       "    .dataframe tbody tr th {\n",
       "        vertical-align: top;\n",
       "    }\n",
       "\n",
       "    .dataframe thead th {\n",
       "        text-align: right;\n",
       "    }\n",
       "</style>\n",
       "<table border=\"1\" class=\"dataframe\">\n",
       "  <thead>\n",
       "    <tr style=\"text-align: right;\">\n",
       "      <th></th>\n",
       "      <th>findings</th>\n",
       "      <th>label</th>\n",
       "    </tr>\n",
       "  </thead>\n",
       "  <tbody>\n",
       "    <tr>\n",
       "      <th>999</th>\n",
       "      <td>list(\"The stricture will need to be dilatated ...</td>\n",
       "      <td>1</td>\n",
       "    </tr>\n",
       "    <tr>\n",
       "      <th>1000</th>\n",
       "      <td>.htworg pylop fo ksir eht esaercni dna hcamots...</td>\n",
       "      <td>0</td>\n",
       "    </tr>\n",
       "  </tbody>\n",
       "</table>\n",
       "</div>"
      ],
      "text/plain": [
       "                                               findings  label\n",
       "999   list(\"The stricture will need to be dilatated ...      1\n",
       "1000  .htworg pylop fo ksir eht esaercni dna hcamots...      0"
      ]
     },
     "execution_count": 9,
     "metadata": {},
     "output_type": "execute_result"
    }
   ],
   "source": [
    "sentences['label'] = 0\n",
    "sentences.reset_index(drop=True, inplace=True) \n",
    "for index in range(0,1000):\n",
    "    sentences.at[index,'label']=1\n",
    "sentences.loc[999:1000]"
   ]
  },
  {
   "cell_type": "code",
   "execution_count": 11,
   "id": "df7576a8",
   "metadata": {},
   "outputs": [
    {
     "data": {
      "text/plain": [
       "(1400, 2)"
      ]
     },
     "execution_count": 11,
     "metadata": {},
     "output_type": "execute_result"
    }
   ],
   "source": [
    "train, test = train_test_split(sentences,test_size=0.3,random_state=1)\n",
    "train.reset_index(drop=True)\n",
    "train.shape"
   ]
  },
  {
   "cell_type": "code",
   "execution_count": 12,
   "id": "83ccbd2b",
   "metadata": {},
   "outputs": [
    {
     "data": {
      "text/plain": [
       "(600, 2)"
      ]
     },
     "execution_count": 12,
     "metadata": {},
     "output_type": "execute_result"
    }
   ],
   "source": [
    "test.reset_index(drop=True)\n",
    "test.shape"
   ]
  },
  {
   "cell_type": "code",
   "execution_count": 13,
   "id": "1e1edb01",
   "metadata": {},
   "outputs": [
    {
     "data": {
      "text/plain": [
       "Dataset({\n",
       "    features: ['findings', 'label', '__index_level_0__'],\n",
       "    num_rows: 1400\n",
       "})"
      ]
     },
     "execution_count": 13,
     "metadata": {},
     "output_type": "execute_result"
    }
   ],
   "source": [
    "train_dataset = datasets.Dataset.from_pandas(train)\n",
    "test_dataset = datasets.Dataset.from_pandas(test)\n",
    "train_dataset"
   ]
  },
  {
   "cell_type": "code",
   "execution_count": 14,
   "id": "cedafff6",
   "metadata": {},
   "outputs": [
    {
     "data": {
      "text/plain": [
       "Dataset({\n",
       "    features: ['findings', 'label'],\n",
       "    num_rows: 600\n",
       "})"
      ]
     },
     "execution_count": 14,
     "metadata": {},
     "output_type": "execute_result"
    }
   ],
   "source": [
    "test_dataset = test_dataset.remove_columns([\"__index_level_0__\"])\n",
    "test_dataset"
   ]
  },
  {
   "cell_type": "code",
   "execution_count": 15,
   "id": "a9811af9",
   "metadata": {},
   "outputs": [
    {
     "data": {
      "text/plain": [
       "DatasetDict({\n",
       "    train: Dataset({\n",
       "        features: ['findings', 'label', '__index_level_0__'],\n",
       "        num_rows: 1400\n",
       "    })\n",
       "    test: Dataset({\n",
       "        features: ['findings', 'label'],\n",
       "        num_rows: 600\n",
       "    })\n",
       "})"
      ]
     },
     "execution_count": 15,
     "metadata": {},
     "output_type": "execute_result"
    }
   ],
   "source": [
    "Dict = datasets.DatasetDict({\"train\":train_dataset,\"test\":test_dataset})\n",
    "Dict"
   ]
  },
  {
   "cell_type": "code",
   "execution_count": 16,
   "id": "476c95cc",
   "metadata": {},
   "outputs": [
    {
     "data": {
      "text/plain": [
       "tensor([[[-0.1223,  0.0990, -0.9851,  ..., -0.8175,  0.1483, -0.5747],\n",
       "         [-1.0426, -1.1295,  0.0735,  ..., -2.7267,  0.5722,  0.0941],\n",
       "         [-2.5400, -1.2967,  0.7207,  ..., -2.8811,  3.1484, -1.2877],\n",
       "         ...,\n",
       "         [ 0.4616, -1.1923,  1.6625,  ..., -1.1666, -1.2519,  0.3580],\n",
       "         [ 1.2963, -0.4984,  1.7329,  ..., -1.6832,  1.4270,  0.6104],\n",
       "         [ 0.3591, -1.6327,  2.6605,  ..., -0.2729,  1.7900, -0.1149]]],\n",
       "       grad_fn=<NativeLayerNormBackward0>)"
      ]
     },
     "execution_count": 16,
     "metadata": {},
     "output_type": "execute_result"
    }
   ],
   "source": [
    "out = model(**tokenizer(Dict['train'][0]['findings'], padding = True, truncation = True, return_tensors=\"pt\"))\n",
    "out.last_hidden_state"
   ]
  },
  {
   "cell_type": "code",
   "execution_count": null,
   "id": "8b64279d",
   "metadata": {},
   "outputs": [],
   "source": []
  }
 ],
 "metadata": {
  "kernelspec": {
   "display_name": "Python 3 (ipykernel)",
   "language": "python",
   "name": "python3"
  },
  "language_info": {
   "codemirror_mode": {
    "name": "ipython",
    "version": 3
   },
   "file_extension": ".py",
   "mimetype": "text/x-python",
   "name": "python",
   "nbconvert_exporter": "python",
   "pygments_lexer": "ipython3",
   "version": "3.10.6"
  },
  "toc": {
   "base_numbering": 1,
   "nav_menu": {},
   "number_sections": true,
   "sideBar": true,
   "skip_h1_title": false,
   "title_cell": "Table of Contents",
   "title_sidebar": "Contents",
   "toc_cell": false,
   "toc_position": {},
   "toc_section_display": true,
   "toc_window_display": false
  }
 },
 "nbformat": 4,
 "nbformat_minor": 5
}
