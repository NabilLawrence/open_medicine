{
 "cells": [
  {
   "cell_type": "markdown",
   "id": "b301c572",
   "metadata": {
    "ExecuteTime": {
     "end_time": "2023-03-09T09:49:41.700186Z",
     "start_time": "2023-03-09T09:49:41.693219Z"
    }
   },
   "source": [
    "---\n",
    "## ODF Classifier with BioBERT  \n",
    "---\n",
    "### Content\n",
    "---\n",
    "\n",
    "- **[Libraries to use](#Libraries_to_use)**\n",
    "\n",
    "- **[Loading the dataset](#Loading_dataset)**\n",
    "\n",
    "- **[Cleaning the dataset and extracting required features](#Cleaning_extracting)**\n",
    "\n",
    "- **[Including reversed findings to the dataset](#Reversed_findings)**\n",
    "\n",
    "- **[Creating a dictionary with train, test, validation datasets](#train_test_validation)**\n",
    "\n",
    "- **[Load tokenizer and model](#tokenizer_model)**\n",
    "\n",
    "- **[Tokenize the datasets](#tokenize)**\n",
    "\n",
    "- **[Formating to torch](#Formating)**\n",
    "\n",
    "- **[Extracting hidden states](#Extracting_hidden_states)**\n",
    "\n",
    "- **[Creating a feature matrix](#feature_matrix)**\n",
    "\n",
    "- **[Visualizing the training set](#Visualizing_training)**\n",
    "\n",
    "- **[Training a classifier](#Training_classifier)**\n",
    "\n",
    " ---"
   ]
  },
  {
   "cell_type": "markdown",
   "id": "bae2c097",
   "metadata": {},
   "source": [
    "---\n",
    "### Libraries to use <a id=\"Libraries_to_use\"> </a>\n",
    "---"
   ]
  },
  {
   "cell_type": "code",
   "execution_count": 1,
   "id": "dfb1b9db",
   "metadata": {
    "ExecuteTime": {
     "end_time": "2023-03-10T00:20:50.326215Z",
     "start_time": "2023-03-10T00:20:36.964460Z"
    }
   },
   "outputs": [],
   "source": [
    "#------------------------------------------------------\n",
    "# Regular modules\n",
    "#------------------------------------------------------\n",
    "import numpy as np\n",
    "import matplotlib.pyplot as plt\n",
    "import pandas as pd\n",
    "import seaborn as sns\n",
    "import re\n",
    "from sklearn.preprocessing import MinMaxScaler\n",
    "from sklearn.model_selection import train_test_split\n",
    "from sklearn.dummy import DummyClassifier\n",
    "from sklearn.linear_model import LogisticRegression\n",
    "from sklearn.metrics import ConfusionMatrixDisplay, confusion_matrix\n",
    "#------------------------------------------------------\n",
    "# To avoid warnings\n",
    "#------------------------------------------------------\n",
    "import os\n",
    "import warnings \n",
    "warnings.filterwarnings('ignore')\n",
    "os.environ['TF_CPP_MIN_LOG_LEVEL'] = '3'\n",
    "#------------------------------------------------------\n",
    "# Not regular modules\n",
    "#------------------------------------------------------\n",
    "import datasets\n",
    "import torch\n",
    "from umap import UMAP\n",
    "from transformers import AutoTokenizer, AutoModel\n",
    "#------------------------------------------------------\n",
    "# Created modules\n",
    "#------------------------------------------------------\n",
    "from Classifier import data_cleaning  \n",
    "from Classifier import including_reversing \n",
    "from Classifier import train_test_validation  "
   ]
  },
  {
   "cell_type": "markdown",
   "id": "9dbcacc5",
   "metadata": {},
   "source": [
    "---\n",
    "### Loading the dataset <a id=\"Loading_dataset\"> </a>\n",
    "---"
   ]
  },
  {
   "cell_type": "code",
   "execution_count": 2,
   "id": "0a1d7aa1",
   "metadata": {
    "ExecuteTime": {
     "end_time": "2023-03-10T00:20:50.814348Z",
     "start_time": "2023-03-10T00:20:50.329256Z"
    }
   },
   "outputs": [],
   "source": [
    "fake = pd.read_csv(\"../data/fake.csv\")"
   ]
  },
  {
   "cell_type": "code",
   "execution_count": 3,
   "id": "c951db87",
   "metadata": {
    "ExecuteTime": {
     "end_time": "2023-03-10T00:20:50.836766Z",
     "start_time": "2023-03-10T00:20:50.818307Z"
    }
   },
   "outputs": [],
   "source": [
    "fake=fake.rename(columns={\"out\":\"text\"})"
   ]
  },
  {
   "cell_type": "code",
   "execution_count": 4,
   "id": "d3f319f4",
   "metadata": {
    "ExecuteTime": {
     "end_time": "2023-03-10T00:20:50.866178Z",
     "start_time": "2023-03-10T00:20:50.846393Z"
    },
    "scrolled": true
   },
   "outputs": [
    {
     "data": {
      "text/html": [
       "<div>\n",
       "<style scoped>\n",
       "    .dataframe tbody tr th:only-of-type {\n",
       "        vertical-align: middle;\n",
       "    }\n",
       "\n",
       "    .dataframe tbody tr th {\n",
       "        vertical-align: top;\n",
       "    }\n",
       "\n",
       "    .dataframe thead th {\n",
       "        text-align: right;\n",
       "    }\n",
       "</style>\n",
       "<table border=\"1\" class=\"dataframe\">\n",
       "  <thead>\n",
       "    <tr style=\"text-align: right;\">\n",
       "      <th></th>\n",
       "      <th>Unnamed: 0</th>\n",
       "      <th>text</th>\n",
       "      <th>NA</th>\n",
       "    </tr>\n",
       "  </thead>\n",
       "  <tbody>\n",
       "    <tr>\n",
       "      <th>0</th>\n",
       "      <td>out1</td>\n",
       "      <td>Hospital Number: R1265623 , Hospital: Random N...</td>\n",
       "      <td>\\nNA</td>\n",
       "    </tr>\n",
       "    <tr>\n",
       "      <th>1</th>\n",
       "      <td>out2</td>\n",
       "      <td>Hospital Number: K2515095 , Hospital: Random N...</td>\n",
       "      <td>Nature of specimen:x9 stomach biopsy specimens...</td>\n",
       "    </tr>\n",
       "    <tr>\n",
       "      <th>2</th>\n",
       "      <td>out3</td>\n",
       "      <td>Hospital Number: L7746099 , Hospital: Random N...</td>\n",
       "      <td>\\ncharacter(0)</td>\n",
       "    </tr>\n",
       "    <tr>\n",
       "      <th>3</th>\n",
       "      <td>out4</td>\n",
       "      <td>Hospital Number: J4131371 , Hospital: Random N...</td>\n",
       "      <td></td>\n",
       "    </tr>\n",
       "    <tr>\n",
       "      <th>4</th>\n",
       "      <td>out5</td>\n",
       "      <td>Hospital Number: S4637507 , Hospital: Random N...</td>\n",
       "      <td>Nature of specimen:x6 fundus biopsy specimens ...</td>\n",
       "    </tr>\n",
       "  </tbody>\n",
       "</table>\n",
       "</div>"
      ],
      "text/plain": [
       "  Unnamed: 0                                               text  \\\n",
       "0       out1  Hospital Number: R1265623 , Hospital: Random N...   \n",
       "1       out2  Hospital Number: K2515095 , Hospital: Random N...   \n",
       "2       out3  Hospital Number: L7746099 , Hospital: Random N...   \n",
       "3       out4  Hospital Number: J4131371 , Hospital: Random N...   \n",
       "4       out5  Hospital Number: S4637507 , Hospital: Random N...   \n",
       "\n",
       "                                                  NA  \n",
       "0                                               \\nNA  \n",
       "1  Nature of specimen:x9 stomach biopsy specimens...  \n",
       "2                                     \\ncharacter(0)  \n",
       "3                                                     \n",
       "4  Nature of specimen:x6 fundus biopsy specimens ...  "
      ]
     },
     "execution_count": 4,
     "metadata": {},
     "output_type": "execute_result"
    }
   ],
   "source": [
    "fake.head()"
   ]
  },
  {
   "cell_type": "markdown",
   "id": "1e4e12f2",
   "metadata": {},
   "source": [
    "---\n",
    "### Cleaning the dataset and extracting required features <a id=\"Cleaning_extracting\"> </a>\n",
    "---"
   ]
  },
  {
   "cell_type": "code",
   "execution_count": 5,
   "id": "00108c57",
   "metadata": {
    "ExecuteTime": {
     "end_time": "2023-03-10T00:20:56.090186Z",
     "start_time": "2023-03-10T00:20:50.869316Z"
    }
   },
   "outputs": [],
   "source": [
    "fakedf = data_cleaning(fake)"
   ]
  },
  {
   "cell_type": "code",
   "execution_count": 6,
   "id": "1e13d921",
   "metadata": {
    "ExecuteTime": {
     "end_time": "2023-03-10T00:20:56.099993Z",
     "start_time": "2023-03-10T00:20:56.092716Z"
    }
   },
   "outputs": [
    {
     "data": {
      "text/plain": [
       "(50000, 3)"
      ]
     },
     "execution_count": 6,
     "metadata": {},
     "output_type": "execute_result"
    }
   ],
   "source": [
    "fakedf.shape"
   ]
  },
  {
   "cell_type": "markdown",
   "id": "dc763c2e",
   "metadata": {},
   "source": [
    "---\n",
    "### Including reversed findings to the dataset <a id=\"Reversed_findings\"> </a>\n",
    "---"
   ]
  },
  {
   "cell_type": "code",
   "execution_count": 7,
   "id": "cc06764f",
   "metadata": {
    "ExecuteTime": {
     "end_time": "2023-03-10T00:21:01.860148Z",
     "start_time": "2023-03-10T00:20:56.104725Z"
    }
   },
   "outputs": [],
   "source": [
    "#-----------------------------------------------------\n",
    "real = pd.read_csv('../data/real.csv') \n",
    "real=real.rename(columns={\"out\":\"text\"})\n",
    "realdf = data_cleaning(real)\n",
    "realfindings = realdf[['findings']]\n",
    "realfindings['label'] = 1\n",
    "# # #-----------------------------------------------------\n",
    "fakefindings = fakedf[['findings']]\n",
    "fakefindings['label'] = 0\n",
    "sentences = pd.concat([fakefindings, realfindings])\n",
    "# #-----------------------------------------------------"
   ]
  },
  {
   "cell_type": "code",
   "execution_count": 8,
   "id": "591e104b",
   "metadata": {
    "ExecuteTime": {
     "end_time": "2023-03-10T00:21:01.883674Z",
     "start_time": "2023-03-10T00:21:01.863586Z"
    }
   },
   "outputs": [
    {
     "data": {
      "text/html": [
       "<div>\n",
       "<style scoped>\n",
       "    .dataframe tbody tr th:only-of-type {\n",
       "        vertical-align: middle;\n",
       "    }\n",
       "\n",
       "    .dataframe tbody tr th {\n",
       "        vertical-align: top;\n",
       "    }\n",
       "\n",
       "    .dataframe thead th {\n",
       "        text-align: right;\n",
       "    }\n",
       "</style>\n",
       "<table border=\"1\" class=\"dataframe\">\n",
       "  <thead>\n",
       "    <tr style=\"text-align: right;\">\n",
       "      <th></th>\n",
       "      <th>findings</th>\n",
       "      <th>label</th>\n",
       "    </tr>\n",
       "  </thead>\n",
       "  <tbody>\n",
       "    <tr>\n",
       "      <th>0</th>\n",
       "      <td>Columnar lined oesophagus is present. The segm...</td>\n",
       "      <td>0</td>\n",
       "    </tr>\n",
       "    <tr>\n",
       "      <th>1</th>\n",
       "      <td>There is an ulcer in the stomach which is supe...</td>\n",
       "      <td>0</td>\n",
       "    </tr>\n",
       "    <tr>\n",
       "      <th>2</th>\n",
       "      <td>LA Grade  D oesophagitis. The oesopahgitis is ...</td>\n",
       "      <td>0</td>\n",
       "    </tr>\n",
       "    <tr>\n",
       "      <th>3</th>\n",
       "      <td>There is a polyp in the body which is sessile ...</td>\n",
       "      <td>0</td>\n",
       "    </tr>\n",
       "    <tr>\n",
       "      <th>4</th>\n",
       "      <td>There is a stricture in the fundus which is Oe...</td>\n",
       "      <td>0</td>\n",
       "    </tr>\n",
       "    <tr>\n",
       "      <th>...</th>\n",
       "      <td>...</td>\n",
       "      <td>...</td>\n",
       "    </tr>\n",
       "    <tr>\n",
       "      <th>49995</th>\n",
       "      <td>There is a polyp in the oesophagus at 22 cm wh...</td>\n",
       "      <td>1</td>\n",
       "    </tr>\n",
       "    <tr>\n",
       "      <th>49996</th>\n",
       "      <td>There is a nodule in the oesophagus at 39 cm w...</td>\n",
       "      <td>1</td>\n",
       "    </tr>\n",
       "    <tr>\n",
       "      <th>49997</th>\n",
       "      <td>Normal gastroscopy to the duodenum.</td>\n",
       "      <td>1</td>\n",
       "    </tr>\n",
       "    <tr>\n",
       "      <th>49998</th>\n",
       "      <td>Normal gastroscopy to the duodenum.</td>\n",
       "      <td>1</td>\n",
       "    </tr>\n",
       "    <tr>\n",
       "      <th>49999</th>\n",
       "      <td>There is a nodule in the body which is stalked...</td>\n",
       "      <td>1</td>\n",
       "    </tr>\n",
       "  </tbody>\n",
       "</table>\n",
       "<p>100000 rows × 2 columns</p>\n",
       "</div>"
      ],
      "text/plain": [
       "                                                findings  label\n",
       "0      Columnar lined oesophagus is present. The segm...      0\n",
       "1      There is an ulcer in the stomach which is supe...      0\n",
       "2      LA Grade  D oesophagitis. The oesopahgitis is ...      0\n",
       "3      There is a polyp in the body which is sessile ...      0\n",
       "4      There is a stricture in the fundus which is Oe...      0\n",
       "...                                                  ...    ...\n",
       "49995  There is a polyp in the oesophagus at 22 cm wh...      1\n",
       "49996  There is a nodule in the oesophagus at 39 cm w...      1\n",
       "49997               Normal gastroscopy to the duodenum.       1\n",
       "49998               Normal gastroscopy to the duodenum.       1\n",
       "49999  There is a nodule in the body which is stalked...      1\n",
       "\n",
       "[100000 rows x 2 columns]"
      ]
     },
     "execution_count": 8,
     "metadata": {},
     "output_type": "execute_result"
    }
   ],
   "source": [
    "sentences"
   ]
  },
  {
   "cell_type": "code",
   "execution_count": 9,
   "id": "ca55595b",
   "metadata": {
    "ExecuteTime": {
     "end_time": "2023-03-10T00:21:05.242257Z",
     "start_time": "2023-03-10T00:21:05.238283Z"
    }
   },
   "outputs": [],
   "source": [
    "# sentences.tail(3)"
   ]
  },
  {
   "cell_type": "markdown",
   "id": "e7aa9a75",
   "metadata": {},
   "source": [
    "---\n",
    "### Creating a dictionary with train, test, validation datasets <a id=\"train_test_validation\"> </a>\n",
    "---"
   ]
  },
  {
   "cell_type": "code",
   "execution_count": 10,
   "id": "e3b6b50d",
   "metadata": {
    "ExecuteTime": {
     "end_time": "2023-03-10T00:21:05.731475Z",
     "start_time": "2023-03-10T00:21:05.598014Z"
    }
   },
   "outputs": [],
   "source": [
    "Dict_datasets = train_test_validation(sentences)"
   ]
  },
  {
   "cell_type": "code",
   "execution_count": 11,
   "id": "cb80a340",
   "metadata": {
    "ExecuteTime": {
     "end_time": "2023-03-10T00:21:05.800404Z",
     "start_time": "2023-03-10T00:21:05.794743Z"
    }
   },
   "outputs": [
    {
     "data": {
      "text/plain": [
       "DatasetDict({\n",
       "    train: Dataset({\n",
       "        features: ['findings', 'label'],\n",
       "        num_rows: 49000\n",
       "    })\n",
       "    test: Dataset({\n",
       "        features: ['findings', 'label'],\n",
       "        num_rows: 30000\n",
       "    })\n",
       "    validation: Dataset({\n",
       "        features: ['findings', 'label'],\n",
       "        num_rows: 21000\n",
       "    })\n",
       "})"
      ]
     },
     "execution_count": 11,
     "metadata": {},
     "output_type": "execute_result"
    }
   ],
   "source": [
    "Dict_datasets"
   ]
  },
  {
   "cell_type": "markdown",
   "id": "36208475",
   "metadata": {},
   "source": [
    "---\n",
    "### Load tokenizer and model <a id=\"tokenizer_model\"> </a>\n",
    "---\n",
    "\n",
    "- BioBERT is a pre-trained language model that is designed for biomedical natural language processing (NLP) tasks. It is based on the Google's BERT (Bidirectional Encoder Representations from Transformers) architecture.\n",
    "\n",
    "- BioBERT is pre-trained on a large corpus of biomedical text data, which includes abstracts and full-text articles from PubMed Central and other biomedical databases. \n",
    "\n",
    "---"
   ]
  },
  {
   "cell_type": "code",
   "execution_count": 12,
   "id": "9e22cbbb",
   "metadata": {
    "ExecuteTime": {
     "end_time": "2023-03-10T00:21:07.057625Z",
     "start_time": "2023-03-10T00:21:06.368243Z"
    }
   },
   "outputs": [],
   "source": [
    "tokenizer = AutoTokenizer.from_pretrained(\"dmis-lab/biobert-v1.1\")"
   ]
  },
  {
   "cell_type": "code",
   "execution_count": 13,
   "id": "99541fe2",
   "metadata": {
    "ExecuteTime": {
     "end_time": "2023-03-10T00:21:09.132083Z",
     "start_time": "2023-03-10T00:21:07.101578Z"
    }
   },
   "outputs": [],
   "source": [
    "model = AutoModel.from_pretrained(\"dmis-lab/biobert-v1.1\", num_labels=2)"
   ]
  },
  {
   "cell_type": "markdown",
   "id": "b6b99c4f",
   "metadata": {},
   "source": [
    "---\n",
    "### Tokenize the datasets <a id=\"tokenize\"> </a>\n",
    "---"
   ]
  },
  {
   "cell_type": "code",
   "execution_count": 14,
   "id": "534b946d",
   "metadata": {
    "ExecuteTime": {
     "end_time": "2023-03-10T00:21:20.959213Z",
     "start_time": "2023-03-10T00:21:09.832484Z"
    }
   },
   "outputs": [
    {
     "data": {
      "application/vnd.jupyter.widget-view+json": {
       "model_id": "",
       "version_major": 2,
       "version_minor": 0
      },
      "text/plain": [
       "Map:   0%|          | 0/49000 [00:00<?, ? examples/s]"
      ]
     },
     "metadata": {},
     "output_type": "display_data"
    },
    {
     "data": {
      "application/vnd.jupyter.widget-view+json": {
       "model_id": "",
       "version_major": 2,
       "version_minor": 0
      },
      "text/plain": [
       "Map:   0%|          | 0/30000 [00:00<?, ? examples/s]"
      ]
     },
     "metadata": {},
     "output_type": "display_data"
    },
    {
     "data": {
      "application/vnd.jupyter.widget-view+json": {
       "model_id": "",
       "version_major": 2,
       "version_minor": 0
      },
      "text/plain": [
       "Map:   0%|          | 0/21000 [00:00<?, ? examples/s]"
      ]
     },
     "metadata": {},
     "output_type": "display_data"
    }
   ],
   "source": [
    "#--------------------------------------------------------------------\n",
    "# define function to tokenize the datasets\n",
    "#--------------------------------------------------------------------\n",
    "def tokenize(data):\n",
    "    return tokenizer(data[\"findings\"], padding=True, truncation=True,max_length=5) \n",
    "#--------------------------------------------------------------------\n",
    "# tokenize datasets\n",
    "#--------------------------------------------------------------------\n",
    "Dict_datasets_encoded = Dict_datasets.map(tokenize, batched=True, batch_size=None)"
   ]
  },
  {
   "cell_type": "markdown",
   "id": "52711cda",
   "metadata": {},
   "source": [
    "---\n",
    "### Formating to torch <a id=\"Formating\"> </a>\n",
    "---"
   ]
  },
  {
   "cell_type": "code",
   "execution_count": 15,
   "id": "cc9603df",
   "metadata": {
    "ExecuteTime": {
     "end_time": "2023-03-10T00:21:22.088982Z",
     "start_time": "2023-03-10T00:21:22.080477Z"
    }
   },
   "outputs": [],
   "source": [
    "Dict_datasets_encoded.set_format(\"torch\", columns=[\"input_ids\", \"attention_mask\", \"label\"])"
   ]
  },
  {
   "cell_type": "markdown",
   "id": "8a5e34ae",
   "metadata": {},
   "source": [
    "---\n",
    "### Extracting hidden states <a id=\"Extracting_hidden_states\"> </a>\n",
    "---\n",
    "\n",
    "How will extract the hidden states associated with each finding."
   ]
  },
  {
   "cell_type": "code",
   "execution_count": 16,
   "id": "9bbc89c1",
   "metadata": {
    "ExecuteTime": {
     "end_time": "2023-03-10T00:31:36.695640Z",
     "start_time": "2023-03-10T00:21:23.748531Z"
    }
   },
   "outputs": [
    {
     "data": {
      "application/vnd.jupyter.widget-view+json": {
       "model_id": "",
       "version_major": 2,
       "version_minor": 0
      },
      "text/plain": [
       "Map:   0%|          | 0/49000 [00:00<?, ? examples/s]"
      ]
     },
     "metadata": {},
     "output_type": "display_data"
    },
    {
     "data": {
      "application/vnd.jupyter.widget-view+json": {
       "model_id": "",
       "version_major": 2,
       "version_minor": 0
      },
      "text/plain": [
       "Map:   0%|          | 0/30000 [00:00<?, ? examples/s]"
      ]
     },
     "metadata": {},
     "output_type": "display_data"
    },
    {
     "data": {
      "application/vnd.jupyter.widget-view+json": {
       "model_id": "",
       "version_major": 2,
       "version_minor": 0
      },
      "text/plain": [
       "Map:   0%|          | 0/21000 [00:00<?, ? examples/s]"
      ]
     },
     "metadata": {},
     "output_type": "display_data"
    }
   ],
   "source": [
    "device = torch.device(\"cuda\" if torch.cuda.is_available() else \"cpu\")\n",
    "\n",
    "def extract_hidden_states(batch):\n",
    "    # Place model inputs on the GPU\n",
    "    inputs = {k:v.to(device) for k,v in batch.items() \n",
    "              if k in tokenizer.model_input_names}\n",
    "    # Extract last hidden states\n",
    "    with torch.no_grad():\n",
    "        last_hidden_state = model(**inputs).last_hidden_state\n",
    "    # Return vector for [CLS] token\n",
    "    return {\"hidden_state\": last_hidden_state[:,0].cpu().numpy()}\n",
    "dataset_hidden = Dict_datasets_encoded.map(extract_hidden_states, batched=True)"
   ]
  },
  {
   "cell_type": "markdown",
   "id": "e27c8b47",
   "metadata": {},
   "source": [
    "---\n",
    "### Creating a feature matrix <a id=\"feature_matrix\"> </a>\n",
    "---\n",
    "\n",
    "We will use the hidden states as input features and the labels as targets."
   ]
  },
  {
   "cell_type": "code",
   "execution_count": 17,
   "id": "19fa68ac",
   "metadata": {
    "ExecuteTime": {
     "end_time": "2023-03-10T00:31:37.241260Z",
     "start_time": "2023-03-10T00:31:36.768993Z"
    }
   },
   "outputs": [
    {
     "data": {
      "text/plain": [
       "((49000, 768), (21000, 768), (30000, 768))"
      ]
     },
     "execution_count": 17,
     "metadata": {},
     "output_type": "execute_result"
    }
   ],
   "source": [
    "X_train = np.array(dataset_hidden[\"train\"][\"hidden_state\"])\n",
    "X_valid = np.array(dataset_hidden[\"validation\"][\"hidden_state\"])\n",
    "X_test = np.array(dataset_hidden[\"test\"][\"hidden_state\"])\n",
    "y_train = np.array(dataset_hidden[\"train\"][\"label\"])\n",
    "y_valid = np.array(dataset_hidden[\"validation\"][\"label\"])\n",
    "y_test = np.array(dataset_hidden[\"test\"][\"label\"])\n",
    "X_train.shape, X_valid.shape, X_test.shape"
   ]
  },
  {
   "cell_type": "code",
   "execution_count": 18,
   "id": "dd779d1b",
   "metadata": {
    "ExecuteTime": {
     "end_time": "2023-03-10T00:31:37.309751Z",
     "start_time": "2023-03-10T00:31:37.305514Z"
    }
   },
   "outputs": [],
   "source": [
    "feature_matrix_list = [X_train,X_valid,X_test,y_train,y_valid,y_test]"
   ]
  },
  {
   "cell_type": "code",
   "execution_count": 22,
   "id": "eef10a90",
   "metadata": {
    "ExecuteTime": {
     "end_time": "2023-03-10T00:32:44.895005Z",
     "start_time": "2023-03-10T00:32:44.602806Z"
    }
   },
   "outputs": [],
   "source": [
    "np.save('feature_matrix_list.npy', np.array(feature_matrix_list, dtype=object), allow_pickle=True)"
   ]
  },
  {
   "cell_type": "code",
   "execution_count": 23,
   "id": "bdc4d20c",
   "metadata": {
    "ExecuteTime": {
     "end_time": "2023-03-10T00:32:46.611288Z",
     "start_time": "2023-03-10T00:32:46.489458Z"
    }
   },
   "outputs": [],
   "source": [
    "feature_matrix_list_loaded = np.load('feature_matrix_list.npy', allow_pickle=True)\n",
    "[X_train,X_valid,X_test,y_train,y_valid,y_test]=feature_matrix_list_loaded"
   ]
  },
  {
   "cell_type": "markdown",
   "id": "d89fe66d",
   "metadata": {},
   "source": [
    "---\n",
    "### Visualizing the training set <a id=\"Visualizing_training\"> </a>\n",
    "---"
   ]
  },
  {
   "cell_type": "code",
   "execution_count": 25,
   "id": "6b35e069",
   "metadata": {
    "ExecuteTime": {
     "end_time": "2023-03-10T00:34:10.553215Z",
     "start_time": "2023-03-10T00:33:28.534818Z"
    }
   },
   "outputs": [
    {
     "data": {
      "text/html": [
       "<div>\n",
       "<style scoped>\n",
       "    .dataframe tbody tr th:only-of-type {\n",
       "        vertical-align: middle;\n",
       "    }\n",
       "\n",
       "    .dataframe tbody tr th {\n",
       "        vertical-align: top;\n",
       "    }\n",
       "\n",
       "    .dataframe thead th {\n",
       "        text-align: right;\n",
       "    }\n",
       "</style>\n",
       "<table border=\"1\" class=\"dataframe\">\n",
       "  <thead>\n",
       "    <tr style=\"text-align: right;\">\n",
       "      <th></th>\n",
       "      <th>X</th>\n",
       "      <th>Y</th>\n",
       "      <th>label</th>\n",
       "    </tr>\n",
       "  </thead>\n",
       "  <tbody>\n",
       "    <tr>\n",
       "      <th>0</th>\n",
       "      <td>-8.972424</td>\n",
       "      <td>-3.131329</td>\n",
       "      <td>0</td>\n",
       "    </tr>\n",
       "    <tr>\n",
       "      <th>1</th>\n",
       "      <td>12.706798</td>\n",
       "      <td>10.200163</td>\n",
       "      <td>0</td>\n",
       "    </tr>\n",
       "    <tr>\n",
       "      <th>2</th>\n",
       "      <td>4.185902</td>\n",
       "      <td>-12.609386</td>\n",
       "      <td>1</td>\n",
       "    </tr>\n",
       "    <tr>\n",
       "      <th>3</th>\n",
       "      <td>4.834349</td>\n",
       "      <td>-0.968778</td>\n",
       "      <td>1</td>\n",
       "    </tr>\n",
       "    <tr>\n",
       "      <th>4</th>\n",
       "      <td>17.052862</td>\n",
       "      <td>1.450678</td>\n",
       "      <td>1</td>\n",
       "    </tr>\n",
       "  </tbody>\n",
       "</table>\n",
       "</div>"
      ],
      "text/plain": [
       "           X          Y  label\n",
       "0  -8.972424  -3.131329      0\n",
       "1  12.706798  10.200163      0\n",
       "2   4.185902 -12.609386      1\n",
       "3   4.834349  -0.968778      1\n",
       "4  17.052862   1.450678      1"
      ]
     },
     "execution_count": 25,
     "metadata": {},
     "output_type": "execute_result"
    }
   ],
   "source": [
    "# Scale features to [0,1] range\n",
    "X_scaled = MinMaxScaler().fit_transform(X_train)\n",
    "# Initialize and fit UMAP\n",
    "mapper = UMAP(n_components=2, metric=\"cosine\").fit(X_scaled)\n",
    "# Create a DataFrame of 2D embeddings\n",
    "df_emb = pd.DataFrame(mapper.embedding_, columns=[\"X\", \"Y\"])\n",
    "df_emb[\"label\"] = y_train\n",
    "df_emb.head()"
   ]
  },
  {
   "cell_type": "code",
   "execution_count": 26,
   "id": "6d47165a",
   "metadata": {
    "ExecuteTime": {
     "end_time": "2023-03-10T00:34:13.145560Z",
     "start_time": "2023-03-10T00:34:12.969867Z"
    }
   },
   "outputs": [
    {
     "data": {
      "image/png": "[encoded data removed]",
      "text/plain": [
       "<Figure size 400x400 with 2 Axes>"
      ]
     },
     "metadata": {},
     "output_type": "display_data"
    }
   ],
   "source": [
    "fig, axes = plt.subplots(1, 2, figsize=(4,4))\n",
    "axes = axes.flatten()\n",
    "cmaps = [\"Blues\", \"Oranges\"]\n",
    "labels = ['fake','real']\n",
    "\n",
    "for i, (label, cmap) in enumerate(zip(labels, cmaps)):\n",
    "    df_emb_sub = df_emb.query(f\"label == {i}\")\n",
    "    axes[i].hexbin(df_emb_sub[\"X\"], df_emb_sub[\"Y\"], cmap=cmap,\n",
    "                   gridsize=20, linewidths=(0,))\n",
    "    axes[i].set_title(label)\n",
    "    axes[i].set_xticks([]), axes[i].set_yticks([])\n",
    "\n",
    "plt.tight_layout()\n",
    "plt.show()"
   ]
  },
  {
   "cell_type": "markdown",
   "id": "334e96b8",
   "metadata": {},
   "source": [
    "---\n",
    "### Training a classifier <a id=\"Training_classifier\"> </a>\n",
    "---"
   ]
  },
  {
   "cell_type": "code",
   "execution_count": 27,
   "id": "2613eded",
   "metadata": {
    "ExecuteTime": {
     "end_time": "2023-03-10T00:34:19.886640Z",
     "start_time": "2023-03-10T00:34:14.402844Z"
    }
   },
   "outputs": [
    {
     "data": {
      "text/plain": [
       "0.49857142857142855"
      ]
     },
     "execution_count": 27,
     "metadata": {},
     "output_type": "execute_result"
    }
   ],
   "source": [
    "lr_clf = LogisticRegression(max_iter=100)\n",
    "lr_clf.fit(X_train, y_train)\n",
    "lr_clf.score(X_valid, y_valid)"
   ]
  },
  {
   "cell_type": "code",
   "execution_count": 28,
   "id": "64ee165d",
   "metadata": {
    "ExecuteTime": {
     "end_time": "2023-03-10T00:34:20.373014Z",
     "start_time": "2023-03-10T00:34:20.094735Z"
    }
   },
   "outputs": [
    {
     "data": {
      "image/png": "[encoded data removed]",
      "text/plain": [
       "<Figure size 300x300 with 1 Axes>"
      ]
     },
     "metadata": {},
     "output_type": "display_data"
    }
   ],
   "source": [
    "y_preds = lr_clf.predict(X_test)\n",
    "\n",
    "def plot_confusion_matrix(y_preds, y_true, labels):\n",
    "    cm = confusion_matrix(y_true, y_preds, normalize=\"true\")\n",
    "    fig, ax = plt.subplots(figsize=(3, 3))\n",
    "    disp = ConfusionMatrixDisplay(confusion_matrix=cm, display_labels=labels)\n",
    "    disp.plot(cmap=\"Blues\", values_format=\".2f\", ax=ax, colorbar=False)\n",
    "    plt.title(\"Normalized confusion matrix\")\n",
    "    plt.show()\n",
    "\n",
    "plot_confusion_matrix(y_preds, y_test, [1,0])"
   ]
  }
 ],
 "metadata": {
  "kernelspec": {
   "display_name": "Python 3 (ipykernel)",
   "language": "python",
   "name": "python3"
  },
  "language_info": {
   "codemirror_mode": {
    "name": "ipython",
    "version": 3
   },
   "file_extension": ".py",
   "mimetype": "text/x-python",
   "name": "python",
   "nbconvert_exporter": "python",
   "pygments_lexer": "ipython3",
   "version": "3.10.6"
  },
  "toc": {
   "base_numbering": 1,
   "nav_menu": {},
   "number_sections": true,
   "sideBar": true,
   "skip_h1_title": false,
   "title_cell": "Table of Contents",
   "title_sidebar": "Contents",
   "toc_cell": false,
   "toc_position": {},
   "toc_section_display": true,
   "toc_window_display": false
  },
  "varInspector": {
   "cols": {
    "lenName": 16,
    "lenType": 16,
    "lenVar": 40
   },
   "kernels_config": {
    "python": {
     "delete_cmd_postfix": "",
     "delete_cmd_prefix": "del ",
     "library": "var_list.py",
     "varRefreshCmd": "print(var_dic_list())"
    },
    "r": {
     "delete_cmd_postfix": ") ",
     "delete_cmd_prefix": "rm(",
     "library": "var_list.r",
     "varRefreshCmd": "cat(var_dic_list()) "
    }
   },
   "types_to_exclude": [
    "module",
    "function",
    "builtin_function_or_method",
    "instance",
    "_Feature"
   ],
   "window_display": false
  }
 },
 "nbformat": 4,
 "nbformat_minor": 5
}
