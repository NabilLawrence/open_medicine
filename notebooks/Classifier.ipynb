{
 "cells": [
  {
   "cell_type": "code",
   "execution_count": 1,
   "metadata": {},
   "outputs": [
    {
     "data": {
      "text/plain": [
       "0      The patient has Barrett's oesophagus. It is a ...\n",
       "1      There is a polyp in the antrum which is sessil...\n",
       "2      The patient has inflammation in the second par...\n",
       "3                   Normal gastroscopy to the duodenum. \n",
       "4      There is an ulcer in the second part of the du...\n",
       "                             ...                        \n",
       "995    The patient has a polyp in the second part of ...\n",
       "996    There is a nodule in the second part of the du...\n",
       "997    The patient has a 8mm nodule in the GOJ which ...\n",
       "998               Normal gastroscopy to the duodenum. NA\n",
       "999    list(\"The stricture will need to be dilatated ...\n",
       "Name: findings, Length: 1000, dtype: object"
      ]
     },
     "execution_count": 1,
     "metadata": {},
     "output_type": "execute_result"
    }
   ],
   "source": [
    "#-----------------------------------------------------\n",
    "import numpy as np\n",
    "import pandas as pd\n",
    "import re\n",
    "from Classifier import data_cleaning # created method to clean and extract data\n",
    "#-----------------------------------------------------\n",
    "# Loading dataset\n",
    "#-----------------------------------------------------\n",
    "OGD_FakeSet = pd.read_csv(\"../data/OGD_FakeSet.csv\")\n",
    "#-----------------------------------------------------\n",
    "# Cleaning dataset\n",
    "#-----------------------------------------------------\n",
    "df = data_cleaning(OGD_FakeSet)\n",
    "#-----------------------------------------------------\n",
    "# Vectorizing text in findings features\n",
    "#-----------------------------------------------------\n",
    "df['findings']\n",
    "#-----------------------------------------------------"
   ]
  },
  {
   "cell_type": "code",
   "execution_count": null,
   "metadata": {},
   "outputs": [],
   "source": []
  }
 ],
 "metadata": {
  "kernelspec": {
   "display_name": "Python 3",
   "language": "python",
   "name": "python3"
  },
  "language_info": {
   "codemirror_mode": {
    "name": "ipython",
    "version": 3
   },
   "file_extension": ".py",
   "mimetype": "text/x-python",
   "name": "python",
   "nbconvert_exporter": "python",
   "pygments_lexer": "ipython3",
   "version": "3.10.6"
  },
  "orig_nbformat": 4
 },
 "nbformat": 4,
 "nbformat_minor": 2
}
