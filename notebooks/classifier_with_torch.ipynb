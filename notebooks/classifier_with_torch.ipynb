{
 "cells": [
  {
   "cell_type": "code",
   "execution_count": 1,
   "id": "1566ac60",
   "metadata": {
    "ExecuteTime": {
     "end_time": "2023-03-08T10:17:29.156194Z",
     "start_time": "2023-03-08T10:17:29.149471Z"
    }
   },
   "outputs": [],
   "source": [
    "import numpy as np\n",
    "import matplotlib.pyplot as plt\n",
    "import pandas as pd\n",
    "import seaborn as sns\n",
    "import warnings \n",
    "import datasets\n",
    "warnings.filterwarnings('ignore')\n",
    "import os\n",
    "os.environ['TF_CPP_MIN_LOG_LEVEL'] = '3'\n",
    "import re\n",
    "from Classifier import data_cleaning # created method to clean and extract data"
   ]
  },
  {
   "cell_type": "code",
   "execution_count": 2,
   "id": "37b4c9b2",
   "metadata": {
    "ExecuteTime": {
     "end_time": "2023-03-08T10:17:30.419832Z",
     "start_time": "2023-03-08T10:17:29.644307Z"
    }
   },
   "outputs": [],
   "source": [
    "import torch"
   ]
  },
  {
   "cell_type": "code",
   "execution_count": 3,
   "id": "b6146e3e",
   "metadata": {
    "ExecuteTime": {
     "end_time": "2023-03-08T10:17:31.954643Z",
     "start_time": "2023-03-08T10:17:30.476558Z"
    }
   },
   "outputs": [],
   "source": [
    "# from transformers import AutoTokenizer, BioGptModel\n",
    "from transformers import BioGptTokenizer, BioGptModel"
   ]
  },
  {
   "cell_type": "code",
   "execution_count": 4,
   "id": "c6162568",
   "metadata": {
    "ExecuteTime": {
     "end_time": "2023-03-08T10:17:33.351420Z",
     "start_time": "2023-03-08T10:17:32.022497Z"
    }
   },
   "outputs": [],
   "source": [
    "# tokenizer = AutoTokenizer.from_pretrained(\"microsoft/biogpt\")\n",
    "tokenizer = BioGptTokenizer.from_pretrained(\"microsoft/biogpt\")"
   ]
  },
  {
   "cell_type": "code",
   "execution_count": 5,
   "id": "287398a5",
   "metadata": {
    "ExecuteTime": {
     "end_time": "2023-03-08T10:17:37.196919Z",
     "start_time": "2023-03-08T10:17:33.413872Z"
    }
   },
   "outputs": [
    {
     "name": "stderr",
     "output_type": "stream",
     "text": [
      "Some weights of the model checkpoint at microsoft/biogpt were not used when initializing BioGptModel: ['output_projection.weight']\n",
      "- This IS expected if you are initializing BioGptModel from the checkpoint of a model trained on another task or with another architecture (e.g. initializing a BertForSequenceClassification model from a BertForPreTraining model).\n",
      "- This IS NOT expected if you are initializing BioGptModel from the checkpoint of a model that you expect to be exactly identical (initializing a BertForSequenceClassification model from a BertForSequenceClassification model).\n"
     ]
    }
   ],
   "source": [
    "model = BioGptModel.from_pretrained(\"microsoft/biogpt\")"
   ]
  },
  {
   "cell_type": "code",
   "execution_count": 6,
   "id": "409b482a",
   "metadata": {
    "ExecuteTime": {
     "end_time": "2023-03-08T10:17:37.402591Z",
     "start_time": "2023-03-08T10:17:37.261125Z"
    }
   },
   "outputs": [
    {
     "data": {
      "text/plain": [
       "0      The patient has Barrett's oesophagus. It is a ...\n",
       "1      There is a polyp in the antrum which is sessil...\n",
       "2      The patient has inflammation in the second par...\n",
       "3                   Normal gastroscopy to the duodenum. \n",
       "4      There is an ulcer in the second part of the du...\n",
       "                             ...                        \n",
       "995    The patient has a polyp in the second part of ...\n",
       "996    There is a nodule in the second part of the du...\n",
       "997    The patient has a 8mm nodule in the GOJ which ...\n",
       "998               Normal gastroscopy to the duodenum. NA\n",
       "999    list(\"The stricture will need to be dilatated ...\n",
       "Name: findings, Length: 1000, dtype: object"
      ]
     },
     "execution_count": 6,
     "metadata": {},
     "output_type": "execute_result"
    }
   ],
   "source": [
    "#-----------------------------------------------------\n",
    "# Loading dataset\n",
    "#-----------------------------------------------------\n",
    "OGD_FakeSet = pd.read_csv(\"../data/OGD_FakeSet.csv\")\n",
    "#-----------------------------------------------------\n",
    "# Cleaning dataset\n",
    "#-----------------------------------------------------\n",
    "df = data_cleaning(OGD_FakeSet)\n",
    "#-----------------------------------------------------\n",
    "# Vectorizing text in findings features\n",
    "#-----------------------------------------------------\n",
    "df['findings']"
   ]
  },
  {
   "cell_type": "code",
   "execution_count": 7,
   "id": "6ca3f392",
   "metadata": {
    "ExecuteTime": {
     "end_time": "2023-03-08T10:17:37.578662Z",
     "start_time": "2023-03-08T10:17:37.574870Z"
    }
   },
   "outputs": [],
   "source": [
    "findings = df['findings']"
   ]
  },
  {
   "cell_type": "code",
   "execution_count": 8,
   "id": "48573d6b",
   "metadata": {
    "ExecuteTime": {
     "end_time": "2023-03-08T10:17:38.032641Z",
     "start_time": "2023-03-08T10:17:38.023359Z"
    }
   },
   "outputs": [
    {
     "data": {
      "text/plain": [
       "(1000,)"
      ]
     },
     "execution_count": 8,
     "metadata": {},
     "output_type": "execute_result"
    }
   ],
   "source": [
    "findings.shape"
   ]
  },
  {
   "cell_type": "code",
   "execution_count": 9,
   "id": "579c4474",
   "metadata": {
    "ExecuteTime": {
     "end_time": "2023-03-08T10:17:38.796968Z",
     "start_time": "2023-03-08T10:17:38.789678Z"
    }
   },
   "outputs": [
    {
     "data": {
      "text/plain": [
       "pandas.core.series.Series"
      ]
     },
     "execution_count": 9,
     "metadata": {},
     "output_type": "execute_result"
    }
   ],
   "source": [
    "type(findings)"
   ]
  },
  {
   "cell_type": "code",
   "execution_count": 10,
   "id": "ca925730",
   "metadata": {
    "ExecuteTime": {
     "end_time": "2023-03-08T10:17:40.545514Z",
     "start_time": "2023-03-08T10:17:40.539956Z"
    }
   },
   "outputs": [],
   "source": [
    "def reverse(row):\n",
    "    row = row[::-1]\n",
    "    return row\n",
    "\n",
    "findings_reverse = findings.apply(reverse)"
   ]
  },
  {
   "cell_type": "code",
   "execution_count": 11,
   "id": "4153a8e0",
   "metadata": {
    "ExecuteTime": {
     "end_time": "2023-03-08T10:17:41.642208Z",
     "start_time": "2023-03-08T10:17:41.635286Z"
    }
   },
   "outputs": [
    {
     "data": {
      "text/plain": [
       "\".htworg pylop fo ksir eht esaercni dna hcamots eht ni htworgrevo lairetcab fo ksir eht esaercni nac siht sa ,ragus hcum oot gnimusnoc diova ot desivda eb dluohs tneitap ehT  .trofmocsid ro niap sa hcus ,eludon eht htiw detaicossa smotpmys yna eganam ot noitacidem debircserp eb yam tneitap ehT :PU WOLLOF .spylop erom gnipoleved fo ksir eht ecuder ot noitacidem debircserp eb yam tneitap ehT  .nalp tnemtaert dednemmocer eht ot gnirehda fo ecnatropmi eht dna sisongaid eht fo demrofni eb dluohs tneitap ehT :NOITADNEMMOCER AN ..ypocsodne ecnallievrus erutuf ni dia ot oottat a htiw dekram saw pylop ehT.ecnaraeppa ralunarg a htiw ,suotamede dna demalfni si seludon eht gnidnuorrus asocum ehT .nrettap tip lamronba na htiw deklats si hcihw munedoud eht fo trap driht eht ni pylop a si erehT .ylno tnemges trohS .nees osla saw  gninetihw-oteca fo ssol oN .tnemges gnol a si tI .sugahposeo s'tterraB sah tneitap ehT\""
      ]
     },
     "execution_count": 11,
     "metadata": {},
     "output_type": "execute_result"
    }
   ],
   "source": [
    "findings_reverse[0]"
   ]
  },
  {
   "cell_type": "code",
   "execution_count": 12,
   "id": "1e9793a0",
   "metadata": {
    "ExecuteTime": {
     "end_time": "2023-03-08T10:17:47.474121Z",
     "start_time": "2023-03-08T10:17:47.467139Z"
    }
   },
   "outputs": [],
   "source": [
    "sentences = pd.concat([findings, findings_reverse]) "
   ]
  },
  {
   "cell_type": "code",
   "execution_count": 13,
   "id": "c2f2c2ff",
   "metadata": {
    "ExecuteTime": {
     "end_time": "2023-03-08T10:17:49.422926Z",
     "start_time": "2023-03-08T10:17:49.416034Z"
    }
   },
   "outputs": [
    {
     "data": {
      "text/plain": [
       "(2000,)"
      ]
     },
     "execution_count": 13,
     "metadata": {},
     "output_type": "execute_result"
    }
   ],
   "source": [
    "sentences.shape"
   ]
  },
  {
   "cell_type": "code",
   "execution_count": 14,
   "id": "35a8f504",
   "metadata": {
    "ExecuteTime": {
     "end_time": "2023-03-08T10:17:50.240358Z",
     "start_time": "2023-03-08T10:17:50.234541Z"
    }
   },
   "outputs": [
    {
     "data": {
      "text/plain": [
       "0    The patient has Barrett's oesophagus. It is a ...\n",
       "1    There is a polyp in the antrum which is sessil...\n",
       "2    The patient has inflammation in the second par...\n",
       "3                 Normal gastroscopy to the duodenum. \n",
       "4    There is an ulcer in the second part of the du...\n",
       "Name: findings, dtype: object"
      ]
     },
     "execution_count": 14,
     "metadata": {},
     "output_type": "execute_result"
    }
   ],
   "source": [
    "sentences.head()"
   ]
  },
  {
   "cell_type": "code",
   "execution_count": 15,
   "id": "8a6fcf49",
   "metadata": {
    "ExecuteTime": {
     "end_time": "2023-03-08T10:17:51.034417Z",
     "start_time": "2023-03-08T10:17:51.028914Z"
    }
   },
   "outputs": [],
   "source": [
    "sentences = sentences.to_frame()"
   ]
  },
  {
   "cell_type": "code",
   "execution_count": 16,
   "id": "e87cae17",
   "metadata": {
    "ExecuteTime": {
     "end_time": "2023-03-08T10:17:51.850781Z",
     "start_time": "2023-03-08T10:17:51.843160Z"
    }
   },
   "outputs": [
    {
     "data": {
      "text/plain": [
       "pandas.core.frame.DataFrame"
      ]
     },
     "execution_count": 16,
     "metadata": {},
     "output_type": "execute_result"
    }
   ],
   "source": [
    "type(sentences)"
   ]
  },
  {
   "cell_type": "code",
   "execution_count": 17,
   "id": "4750ead3",
   "metadata": {
    "ExecuteTime": {
     "end_time": "2023-03-08T10:17:52.695528Z",
     "start_time": "2023-03-08T10:17:52.684734Z"
    }
   },
   "outputs": [
    {
     "data": {
      "text/html": [
       "<div>\n",
       "<style scoped>\n",
       "    .dataframe tbody tr th:only-of-type {\n",
       "        vertical-align: middle;\n",
       "    }\n",
       "\n",
       "    .dataframe tbody tr th {\n",
       "        vertical-align: top;\n",
       "    }\n",
       "\n",
       "    .dataframe thead th {\n",
       "        text-align: right;\n",
       "    }\n",
       "</style>\n",
       "<table border=\"1\" class=\"dataframe\">\n",
       "  <thead>\n",
       "    <tr style=\"text-align: right;\">\n",
       "      <th></th>\n",
       "      <th>findings</th>\n",
       "    </tr>\n",
       "  </thead>\n",
       "  <tbody>\n",
       "    <tr>\n",
       "      <th>0</th>\n",
       "      <td>The patient has Barrett's oesophagus. It is a ...</td>\n",
       "    </tr>\n",
       "    <tr>\n",
       "      <th>1</th>\n",
       "      <td>There is a polyp in the antrum which is sessil...</td>\n",
       "    </tr>\n",
       "    <tr>\n",
       "      <th>2</th>\n",
       "      <td>The patient has inflammation in the second par...</td>\n",
       "    </tr>\n",
       "    <tr>\n",
       "      <th>3</th>\n",
       "      <td>Normal gastroscopy to the duodenum.</td>\n",
       "    </tr>\n",
       "    <tr>\n",
       "      <th>4</th>\n",
       "      <td>There is an ulcer in the second part of the du...</td>\n",
       "    </tr>\n",
       "  </tbody>\n",
       "</table>\n",
       "</div>"
      ],
      "text/plain": [
       "                                            findings\n",
       "0  The patient has Barrett's oesophagus. It is a ...\n",
       "1  There is a polyp in the antrum which is sessil...\n",
       "2  The patient has inflammation in the second par...\n",
       "3               Normal gastroscopy to the duodenum. \n",
       "4  There is an ulcer in the second part of the du..."
      ]
     },
     "execution_count": 17,
     "metadata": {},
     "output_type": "execute_result"
    }
   ],
   "source": [
    "sentences.head()"
   ]
  },
  {
   "cell_type": "code",
   "execution_count": 18,
   "id": "519c2c8a",
   "metadata": {
    "ExecuteTime": {
     "end_time": "2023-03-08T10:17:53.489741Z",
     "start_time": "2023-03-08T10:17:53.480897Z"
    }
   },
   "outputs": [],
   "source": [
    "sentences['label'] = 0"
   ]
  },
  {
   "cell_type": "code",
   "execution_count": 19,
   "id": "e741f373",
   "metadata": {
    "ExecuteTime": {
     "end_time": "2023-03-08T10:17:54.294329Z",
     "start_time": "2023-03-08T10:17:54.285492Z"
    }
   },
   "outputs": [
    {
     "data": {
      "text/html": [
       "<div>\n",
       "<style scoped>\n",
       "    .dataframe tbody tr th:only-of-type {\n",
       "        vertical-align: middle;\n",
       "    }\n",
       "\n",
       "    .dataframe tbody tr th {\n",
       "        vertical-align: top;\n",
       "    }\n",
       "\n",
       "    .dataframe thead th {\n",
       "        text-align: right;\n",
       "    }\n",
       "</style>\n",
       "<table border=\"1\" class=\"dataframe\">\n",
       "  <thead>\n",
       "    <tr style=\"text-align: right;\">\n",
       "      <th></th>\n",
       "      <th>findings</th>\n",
       "      <th>label</th>\n",
       "    </tr>\n",
       "  </thead>\n",
       "  <tbody>\n",
       "    <tr>\n",
       "      <th>0</th>\n",
       "      <td>The patient has Barrett's oesophagus. It is a ...</td>\n",
       "      <td>0</td>\n",
       "    </tr>\n",
       "    <tr>\n",
       "      <th>1</th>\n",
       "      <td>There is a polyp in the antrum which is sessil...</td>\n",
       "      <td>0</td>\n",
       "    </tr>\n",
       "    <tr>\n",
       "      <th>2</th>\n",
       "      <td>The patient has inflammation in the second par...</td>\n",
       "      <td>0</td>\n",
       "    </tr>\n",
       "    <tr>\n",
       "      <th>3</th>\n",
       "      <td>Normal gastroscopy to the duodenum.</td>\n",
       "      <td>0</td>\n",
       "    </tr>\n",
       "    <tr>\n",
       "      <th>4</th>\n",
       "      <td>There is an ulcer in the second part of the du...</td>\n",
       "      <td>0</td>\n",
       "    </tr>\n",
       "  </tbody>\n",
       "</table>\n",
       "</div>"
      ],
      "text/plain": [
       "                                            findings  label\n",
       "0  The patient has Barrett's oesophagus. It is a ...      0\n",
       "1  There is a polyp in the antrum which is sessil...      0\n",
       "2  The patient has inflammation in the second par...      0\n",
       "3               Normal gastroscopy to the duodenum.       0\n",
       "4  There is an ulcer in the second part of the du...      0"
      ]
     },
     "execution_count": 19,
     "metadata": {},
     "output_type": "execute_result"
    }
   ],
   "source": [
    "sentences.head()"
   ]
  },
  {
   "cell_type": "code",
   "execution_count": 20,
   "id": "3b80a87f",
   "metadata": {
    "ExecuteTime": {
     "end_time": "2023-03-08T10:17:55.108849Z",
     "start_time": "2023-03-08T10:17:55.104596Z"
    }
   },
   "outputs": [],
   "source": [
    "sentences.reset_index(drop=True, inplace=True) "
   ]
  },
  {
   "cell_type": "code",
   "execution_count": 21,
   "id": "3fa630ed",
   "metadata": {
    "ExecuteTime": {
     "end_time": "2023-03-08T10:17:55.903914Z",
     "start_time": "2023-03-08T10:17:55.895491Z"
    }
   },
   "outputs": [
    {
     "data": {
      "text/html": [
       "<div>\n",
       "<style scoped>\n",
       "    .dataframe tbody tr th:only-of-type {\n",
       "        vertical-align: middle;\n",
       "    }\n",
       "\n",
       "    .dataframe tbody tr th {\n",
       "        vertical-align: top;\n",
       "    }\n",
       "\n",
       "    .dataframe thead th {\n",
       "        text-align: right;\n",
       "    }\n",
       "</style>\n",
       "<table border=\"1\" class=\"dataframe\">\n",
       "  <thead>\n",
       "    <tr style=\"text-align: right;\">\n",
       "      <th></th>\n",
       "      <th>findings</th>\n",
       "      <th>label</th>\n",
       "    </tr>\n",
       "  </thead>\n",
       "  <tbody>\n",
       "    <tr>\n",
       "      <th>1995</th>\n",
       "      <td>.sag fo noitcudorp eht gnisaercni yb spylop er...</td>\n",
       "      <td>0</td>\n",
       "    </tr>\n",
       "    <tr>\n",
       "      <th>1996</th>\n",
       "      <td>.eludon eht evomer ot yregrus sa hcus ,tnemtae...</td>\n",
       "      <td>0</td>\n",
       "    </tr>\n",
       "    <tr>\n",
       "      <th>1997</th>\n",
       "      <td>.tnemtaert dna noitaulave rehtruf rof tsigoloc...</td>\n",
       "      <td>0</td>\n",
       "    </tr>\n",
       "    <tr>\n",
       "      <th>1998</th>\n",
       "      <td>AN .munedoud eht ot ypocsortsag lamroN</td>\n",
       "      <td>0</td>\n",
       "    </tr>\n",
       "    <tr>\n",
       "      <th>1999</th>\n",
       "      <td>\\r ,\"noollab ERC a htiw mm 5 ot detalid\" ,\"noo...</td>\n",
       "      <td>0</td>\n",
       "    </tr>\n",
       "  </tbody>\n",
       "</table>\n",
       "</div>"
      ],
      "text/plain": [
       "                                               findings  label\n",
       "1995  .sag fo noitcudorp eht gnisaercni yb spylop er...      0\n",
       "1996  .eludon eht evomer ot yregrus sa hcus ,tnemtae...      0\n",
       "1997  .tnemtaert dna noitaulave rehtruf rof tsigoloc...      0\n",
       "1998             AN .munedoud eht ot ypocsortsag lamroN      0\n",
       "1999  \\r ,\"noollab ERC a htiw mm 5 ot detalid\" ,\"noo...      0"
      ]
     },
     "execution_count": 21,
     "metadata": {},
     "output_type": "execute_result"
    }
   ],
   "source": [
    "sentences.tail()"
   ]
  },
  {
   "cell_type": "code",
   "execution_count": 22,
   "id": "efa3c669",
   "metadata": {
    "ExecuteTime": {
     "end_time": "2023-03-08T10:17:56.760352Z",
     "start_time": "2023-03-08T10:17:56.740403Z"
    }
   },
   "outputs": [],
   "source": [
    "for index in range(0,1000):\n",
    "    sentences.at[index,'label']=1"
   ]
  },
  {
   "cell_type": "code",
   "execution_count": 23,
   "id": "f4cf9249",
   "metadata": {
    "ExecuteTime": {
     "end_time": "2023-03-08T10:17:57.500059Z",
     "start_time": "2023-03-08T10:17:57.491661Z"
    }
   },
   "outputs": [
    {
     "data": {
      "text/html": [
       "<div>\n",
       "<style scoped>\n",
       "    .dataframe tbody tr th:only-of-type {\n",
       "        vertical-align: middle;\n",
       "    }\n",
       "\n",
       "    .dataframe tbody tr th {\n",
       "        vertical-align: top;\n",
       "    }\n",
       "\n",
       "    .dataframe thead th {\n",
       "        text-align: right;\n",
       "    }\n",
       "</style>\n",
       "<table border=\"1\" class=\"dataframe\">\n",
       "  <thead>\n",
       "    <tr style=\"text-align: right;\">\n",
       "      <th></th>\n",
       "      <th>findings</th>\n",
       "      <th>label</th>\n",
       "    </tr>\n",
       "  </thead>\n",
       "  <tbody>\n",
       "    <tr>\n",
       "      <th>0</th>\n",
       "      <td>The patient has Barrett's oesophagus. It is a ...</td>\n",
       "      <td>1</td>\n",
       "    </tr>\n",
       "    <tr>\n",
       "      <th>1</th>\n",
       "      <td>There is a polyp in the antrum which is sessil...</td>\n",
       "      <td>1</td>\n",
       "    </tr>\n",
       "    <tr>\n",
       "      <th>2</th>\n",
       "      <td>The patient has inflammation in the second par...</td>\n",
       "      <td>1</td>\n",
       "    </tr>\n",
       "    <tr>\n",
       "      <th>3</th>\n",
       "      <td>Normal gastroscopy to the duodenum.</td>\n",
       "      <td>1</td>\n",
       "    </tr>\n",
       "    <tr>\n",
       "      <th>4</th>\n",
       "      <td>There is an ulcer in the second part of the du...</td>\n",
       "      <td>1</td>\n",
       "    </tr>\n",
       "  </tbody>\n",
       "</table>\n",
       "</div>"
      ],
      "text/plain": [
       "                                            findings  label\n",
       "0  The patient has Barrett's oesophagus. It is a ...      1\n",
       "1  There is a polyp in the antrum which is sessil...      1\n",
       "2  The patient has inflammation in the second par...      1\n",
       "3               Normal gastroscopy to the duodenum.       1\n",
       "4  There is an ulcer in the second part of the du...      1"
      ]
     },
     "execution_count": 23,
     "metadata": {},
     "output_type": "execute_result"
    }
   ],
   "source": [
    "sentences.head()"
   ]
  },
  {
   "cell_type": "code",
   "execution_count": 24,
   "id": "73606827",
   "metadata": {
    "ExecuteTime": {
     "end_time": "2023-03-08T10:17:58.307688Z",
     "start_time": "2023-03-08T10:17:58.299035Z"
    }
   },
   "outputs": [
    {
     "data": {
      "text/html": [
       "<div>\n",
       "<style scoped>\n",
       "    .dataframe tbody tr th:only-of-type {\n",
       "        vertical-align: middle;\n",
       "    }\n",
       "\n",
       "    .dataframe tbody tr th {\n",
       "        vertical-align: top;\n",
       "    }\n",
       "\n",
       "    .dataframe thead th {\n",
       "        text-align: right;\n",
       "    }\n",
       "</style>\n",
       "<table border=\"1\" class=\"dataframe\">\n",
       "  <thead>\n",
       "    <tr style=\"text-align: right;\">\n",
       "      <th></th>\n",
       "      <th>findings</th>\n",
       "      <th>label</th>\n",
       "    </tr>\n",
       "  </thead>\n",
       "  <tbody>\n",
       "    <tr>\n",
       "      <th>999</th>\n",
       "      <td>list(\"The stricture will need to be dilatated ...</td>\n",
       "      <td>1</td>\n",
       "    </tr>\n",
       "    <tr>\n",
       "      <th>1000</th>\n",
       "      <td>.htworg pylop fo ksir eht esaercni dna hcamots...</td>\n",
       "      <td>0</td>\n",
       "    </tr>\n",
       "  </tbody>\n",
       "</table>\n",
       "</div>"
      ],
      "text/plain": [
       "                                               findings  label\n",
       "999   list(\"The stricture will need to be dilatated ...      1\n",
       "1000  .htworg pylop fo ksir eht esaercni dna hcamots...      0"
      ]
     },
     "execution_count": 24,
     "metadata": {},
     "output_type": "execute_result"
    }
   ],
   "source": [
    "sentences.loc[999:1000]"
   ]
  },
  {
   "cell_type": "code",
   "execution_count": 25,
   "id": "55514c5f",
   "metadata": {
    "ExecuteTime": {
     "end_time": "2023-03-08T10:17:59.912912Z",
     "start_time": "2023-03-08T10:17:59.855996Z"
    }
   },
   "outputs": [],
   "source": [
    "from sklearn.model_selection import train_test_split\n",
    "train, test = train_test_split(sentences,test_size=0.3,random_state=1)"
   ]
  },
  {
   "cell_type": "code",
   "execution_count": 26,
   "id": "e8b800ae",
   "metadata": {
    "ExecuteTime": {
     "end_time": "2023-03-08T10:18:00.699018Z",
     "start_time": "2023-03-08T10:18:00.687077Z"
    }
   },
   "outputs": [
    {
     "data": {
      "text/plain": [
       "(1400, 2)"
      ]
     },
     "execution_count": 26,
     "metadata": {},
     "output_type": "execute_result"
    }
   ],
   "source": [
    "train.reset_index(drop=True)\n",
    "train.shape"
   ]
  },
  {
   "cell_type": "code",
   "execution_count": 27,
   "id": "f2f8fa2a",
   "metadata": {},
   "outputs": [
    {
     "data": {
      "text/plain": [
       "(600, 2)"
      ]
     },
     "execution_count": 27,
     "metadata": {},
     "output_type": "execute_result"
    }
   ],
   "source": [
    "test.reset_index(drop=True)\n",
    "test.shape"
   ]
  },
  {
   "cell_type": "code",
   "execution_count": 28,
   "id": "459b26f8",
   "metadata": {
    "ExecuteTime": {
     "end_time": "2023-03-08T10:18:19.458608Z",
     "start_time": "2023-03-08T10:18:19.442915Z"
    }
   },
   "outputs": [],
   "source": [
    "train_dataset = datasets.Dataset.from_pandas(train)\n",
    "test_dataset = datasets.Dataset.from_pandas(test)"
   ]
  },
  {
   "cell_type": "code",
   "execution_count": 29,
   "id": "e0576826",
   "metadata": {
    "ExecuteTime": {
     "end_time": "2023-03-08T10:18:20.419978Z",
     "start_time": "2023-03-08T10:18:20.414924Z"
    }
   },
   "outputs": [
    {
     "data": {
      "text/plain": [
       "Dataset({\n",
       "    features: ['findings', 'label', '__index_level_0__'],\n",
       "    num_rows: 1400\n",
       "})"
      ]
     },
     "execution_count": 29,
     "metadata": {},
     "output_type": "execute_result"
    }
   ],
   "source": [
    "train_dataset"
   ]
  },
  {
   "cell_type": "code",
   "execution_count": 30,
   "id": "5c3f4c40",
   "metadata": {},
   "outputs": [
    {
     "data": {
      "text/plain": [
       "Dataset({\n",
       "    features: ['findings', 'label'],\n",
       "    num_rows: 1400\n",
       "})"
      ]
     },
     "execution_count": 30,
     "metadata": {},
     "output_type": "execute_result"
    }
   ],
   "source": [
    "train_dataset = train_dataset.remove_columns([\"__index_level_0__\"])\n",
    "train_dataset"
   ]
  },
  {
   "cell_type": "code",
   "execution_count": 31,
   "id": "20e62c0f",
   "metadata": {
    "ExecuteTime": {
     "end_time": "2023-03-08T10:18:21.419996Z",
     "start_time": "2023-03-08T10:18:21.414203Z"
    }
   },
   "outputs": [
    {
     "data": {
      "text/plain": [
       "Dataset({\n",
       "    features: ['findings', 'label'],\n",
       "    num_rows: 600\n",
       "})"
      ]
     },
     "execution_count": 31,
     "metadata": {},
     "output_type": "execute_result"
    }
   ],
   "source": [
    "test_dataset = test_dataset.remove_columns([\"__index_level_0__\"])\n",
    "test_dataset"
   ]
  },
  {
   "cell_type": "code",
   "execution_count": 32,
   "id": "7ebb614d",
   "metadata": {
    "ExecuteTime": {
     "end_time": "2023-03-08T10:18:22.377406Z",
     "start_time": "2023-03-08T10:18:22.372069Z"
    }
   },
   "outputs": [],
   "source": [
    "Dict = datasets.DatasetDict({\"train\":train_dataset,\"test\":test_dataset})"
   ]
  },
  {
   "cell_type": "code",
   "execution_count": 33,
   "id": "0d5fe650",
   "metadata": {
    "ExecuteTime": {
     "end_time": "2023-03-08T10:18:23.340567Z",
     "start_time": "2023-03-08T10:18:23.333851Z"
    }
   },
   "outputs": [
    {
     "data": {
      "text/plain": [
       "DatasetDict({\n",
       "    train: Dataset({\n",
       "        features: ['findings', 'label'],\n",
       "        num_rows: 1400\n",
       "    })\n",
       "    test: Dataset({\n",
       "        features: ['findings', 'label'],\n",
       "        num_rows: 600\n",
       "    })\n",
       "})"
      ]
     },
     "execution_count": 33,
     "metadata": {},
     "output_type": "execute_result"
    }
   ],
   "source": [
    "Dict"
   ]
  },
  {
   "cell_type": "code",
   "execution_count": 34,
   "id": "bc479717",
   "metadata": {
    "ExecuteTime": {
     "end_time": "2023-03-08T10:18:24.316497Z",
     "start_time": "2023-03-08T10:18:24.309501Z"
    }
   },
   "outputs": [
    {
     "data": {
      "text/plain": [
       "datasets.dataset_dict.DatasetDict"
      ]
     },
     "execution_count": 34,
     "metadata": {},
     "output_type": "execute_result"
    }
   ],
   "source": [
    "type(Dict)"
   ]
  },
  {
   "cell_type": "code",
   "execution_count": 83,
   "id": "98f9d7e7",
   "metadata": {},
   "outputs": [
    {
     "name": "stdout",
     "output_type": "stream",
     "text": [
      "Input tensor shape: torch.Size([1, 182])\n"
     ]
    }
   ],
   "source": [
    "text = findings[0]\n",
    "inp = tokenizer(text, return_tensors=\"pt\")\n",
    "print(f\"Input tensor shape: {inp['input_ids'].size()}\")"
   ]
  },
  {
   "cell_type": "code",
   "execution_count": 89,
   "id": "c40ab653",
   "metadata": {},
   "outputs": [
    {
     "data": {
      "text/plain": [
       "' ..ecnacifingis suoibud fo hctap telni lacivrec a si erehT'"
      ]
     },
     "execution_count": 89,
     "metadata": {},
     "output_type": "execute_result"
    }
   ],
   "source": [
    "Dict['train'][0]['findings']"
   ]
  },
  {
   "cell_type": "code",
   "execution_count": 93,
   "id": "4739d24b",
   "metadata": {},
   "outputs": [],
   "source": [
    "out = model(**tokenizer(Dict['train'][1]['findings'], padding = True, truncation = True, return_tensors=\"pt\"))"
   ]
  },
  {
   "cell_type": "code",
   "execution_count": 94,
   "id": "7cfb7f3a",
   "metadata": {},
   "outputs": [
    {
     "data": {
      "text/plain": [
       "tensor([[[-0.1223,  0.0990, -0.9851,  ..., -0.8175,  0.1483, -0.5747],\n",
       "         [ 0.1783,  0.0219, -0.3594,  ..., -0.2498,  0.2242,  0.7763],\n",
       "         [ 1.0239,  0.1950, -1.0766,  ..., -2.7160, -0.2078,  0.5325],\n",
       "         ...,\n",
       "         [ 0.2696,  0.8153,  0.2468,  ...,  1.7727,  0.5821, -0.1390],\n",
       "         [ 0.9711,  1.7036,  0.7942,  ..., -1.0668,  0.5000,  1.0490],\n",
       "         [-0.2661,  0.1247, -0.5845,  ..., -0.2103,  0.2842, -0.2851]]],\n",
       "       grad_fn=<NativeLayerNormBackward0>)"
      ]
     },
     "execution_count": 94,
     "metadata": {},
     "output_type": "execute_result"
    }
   ],
   "source": [
    "out.last_hidden_state"
   ]
  },
  {
   "cell_type": "code",
   "execution_count": 67,
   "id": "6e527f81",
   "metadata": {
    "scrolled": true
   },
   "outputs": [
    {
     "data": {
      "text/plain": [
       "{'input_ids': tensor([[    2,    18,   125,    57, 15676,   121, 18456,     4,   212,    21,\n",
       "            14,   281,  2112,     4,   668,   435,     5, 11136,    13,     9,\n",
       "         21366,  8268,    17,    72,   724,     4,  5603,  2112,   129,     4,\n",
       "           271,    21,    14, 15032,    10,     6,  1202,   672,     5,     6,\n",
       "          9691,    46,    21, 19947,  7031,    15,    32,  1447, 22054,   673,\n",
       "             4,    18,  2626,  3476,     6,  4463,    21, 12803,     8, 26797,\n",
       "             7,    15,    14,  7623, 13369,  6126,  6626, 10158,    18, 15032,\n",
       "            17,  1663,    15,    14, 22667,  4495,    13,  3482,    10,   894,\n",
       "          2876,  5423, 34150,  3272,  2630, 17081, 27061,  8382, 10395,    20,\n",
       "            18,   125,   282,    33,  5099,     5,     6,   227,     8,     6,\n",
       "           923,     5, 25809,    13,     6,  1728,    53,  4529,     4,    18,\n",
       "           125,    63,    33,  4272,  1817,    13,   897,     6,   105,     5,\n",
       "          1096,    77,  7965,     4, 22136,  5783,  1470, 18521,    20,    18,\n",
       "           125,    63,    33,  4272,  1817,    13,  6327,   420,   367,    73,\n",
       "            15,     6,  8874,     7,   147,    27,   353,    30,  8297,     4,\n",
       "            18,   125,   282,    33, 17028,    13,  3350,  7118,  4495,  1100,\n",
       "          4265,     7,    27,    35,    71,   165,     6,   105,     5,   945,\n",
       "         19235,    10,     6,  3897,     8,   165,     6,   105,     5, 15032,\n",
       "           179,     4]]), 'attention_mask': tensor([[1, 1, 1, 1, 1, 1, 1, 1, 1, 1, 1, 1, 1, 1, 1, 1, 1, 1, 1, 1, 1, 1, 1, 1,\n",
       "         1, 1, 1, 1, 1, 1, 1, 1, 1, 1, 1, 1, 1, 1, 1, 1, 1, 1, 1, 1, 1, 1, 1, 1,\n",
       "         1, 1, 1, 1, 1, 1, 1, 1, 1, 1, 1, 1, 1, 1, 1, 1, 1, 1, 1, 1, 1, 1, 1, 1,\n",
       "         1, 1, 1, 1, 1, 1, 1, 1, 1, 1, 1, 1, 1, 1, 1, 1, 1, 1, 1, 1, 1, 1, 1, 1,\n",
       "         1, 1, 1, 1, 1, 1, 1, 1, 1, 1, 1, 1, 1, 1, 1, 1, 1, 1, 1, 1, 1, 1, 1, 1,\n",
       "         1, 1, 1, 1, 1, 1, 1, 1, 1, 1, 1, 1, 1, 1, 1, 1, 1, 1, 1, 1, 1, 1, 1, 1,\n",
       "         1, 1, 1, 1, 1, 1, 1, 1, 1, 1, 1, 1, 1, 1, 1, 1, 1, 1, 1, 1, 1, 1, 1, 1,\n",
       "         1, 1, 1, 1, 1, 1, 1, 1, 1, 1, 1, 1, 1, 1]])}"
      ]
     },
     "execution_count": 67,
     "metadata": {},
     "output_type": "execute_result"
    }
   ],
   "source": [
    "inp"
   ]
  },
  {
   "cell_type": "code",
   "execution_count": 36,
   "id": "8fa7398b",
   "metadata": {},
   "outputs": [],
   "source": [
    "output = model(**inp)"
   ]
  },
  {
   "cell_type": "code",
   "execution_count": 37,
   "id": "a92273e8",
   "metadata": {},
   "outputs": [
    {
     "data": {
      "text/plain": [
       "tensor([[[-0.1223,  0.0990, -0.9851,  ..., -0.8175,  0.1483, -0.5747],\n",
       "         [ 0.1783,  0.0219, -0.3594,  ..., -0.2498,  0.2242,  0.7763],\n",
       "         [ 1.0239,  0.1950, -1.0766,  ..., -2.7160, -0.2078,  0.5325],\n",
       "         ...,\n",
       "         [-1.7015, -0.2715,  1.2106,  ..., -1.4069,  3.0727, -1.0163],\n",
       "         [ 0.7524,  0.1573,  1.7277,  ..., -2.8870,  1.4384, -1.5730],\n",
       "         [-0.3130,  0.0777, -0.5479,  ..., -0.2827,  0.3639, -0.2331]]],\n",
       "       grad_fn=<NativeLayerNormBackward0>)"
      ]
     },
     "execution_count": 37,
     "metadata": {},
     "output_type": "execute_result"
    }
   ],
   "source": [
    "output.last_hidden_state"
   ]
  },
  {
   "cell_type": "code",
   "execution_count": 80,
   "id": "05e774ff",
   "metadata": {
    "ExecuteTime": {
     "end_time": "2023-03-08T10:18:25.275139Z",
     "start_time": "2023-03-08T10:18:25.271028Z"
    }
   },
   "outputs": [],
   "source": [
    "def tokenize(var):\n",
    "    return tokenizer(var[\"findings\"], padding = True, truncation = True, return_tensors=\"pt\")"
   ]
  },
  {
   "cell_type": "code",
   "execution_count": 81,
   "id": "8dfcd98f",
   "metadata": {
    "ExecuteTime": {
     "end_time": "2023-03-08T10:18:29.695616Z",
     "start_time": "2023-03-08T10:18:26.244585Z"
    }
   },
   "outputs": [
    {
     "data": {
      "application/vnd.jupyter.widget-view+json": {
       "model_id": "",
       "version_major": 2,
       "version_minor": 0
      },
      "text/plain": [
       "Map:   0%|          | 0/1400 [00:00<?, ? examples/s]"
      ]
     },
     "metadata": {},
     "output_type": "display_data"
    },
    {
     "data": {
      "application/vnd.jupyter.widget-view+json": {
       "model_id": "",
       "version_major": 2,
       "version_minor": 0
      },
      "text/plain": [
       "Map:   0%|          | 0/600 [00:00<?, ? examples/s]"
      ]
     },
     "metadata": {},
     "output_type": "display_data"
    }
   ],
   "source": [
    "# sentences_encoded = Dict.map(tokenize, batched=True, batch_size=None)\n",
    "sentences_encoded = Dict.map(tokenize)"
   ]
  },
  {
   "cell_type": "code",
   "execution_count": 82,
   "id": "110f37ed",
   "metadata": {
    "scrolled": true
   },
   "outputs": [
    {
     "data": {
      "text/plain": [
       "{'findings': ' ..ecnacifingis suoibud fo hctap telni lacivrec a si erehT',\n",
       " 'label': 0,\n",
       " 'input_ids': [[2,\n",
       "   34150,\n",
       "   1792,\n",
       "   30399,\n",
       "   3947,\n",
       "   3469,\n",
       "   21,\n",
       "   4249,\n",
       "   581,\n",
       "   38289,\n",
       "   636,\n",
       "   29096,\n",
       "   696,\n",
       "   704,\n",
       "   16689,\n",
       "   6664,\n",
       "   26934,\n",
       "   8199,\n",
       "   6517,\n",
       "   407,\n",
       "   457,\n",
       "   14,\n",
       "   13949,\n",
       "   7375,\n",
       "   696,\n",
       "   157]],\n",
       " 'attention_mask': [[1,\n",
       "   1,\n",
       "   1,\n",
       "   1,\n",
       "   1,\n",
       "   1,\n",
       "   1,\n",
       "   1,\n",
       "   1,\n",
       "   1,\n",
       "   1,\n",
       "   1,\n",
       "   1,\n",
       "   1,\n",
       "   1,\n",
       "   1,\n",
       "   1,\n",
       "   1,\n",
       "   1,\n",
       "   1,\n",
       "   1,\n",
       "   1,\n",
       "   1,\n",
       "   1,\n",
       "   1,\n",
       "   1]]}"
      ]
     },
     "execution_count": 82,
     "metadata": {},
     "output_type": "execute_result"
    }
   ],
   "source": [
    "sentences_encoded['train'][0]"
   ]
  },
  {
   "cell_type": "code",
   "execution_count": 74,
   "id": "94605ccd",
   "metadata": {},
   "outputs": [],
   "source": [
    "device = torch.device(\"cuda\" if torch.cuda.is_available() else \"cpu\")"
   ]
  },
  {
   "cell_type": "code",
   "execution_count": 75,
   "id": "16abfb8f",
   "metadata": {},
   "outputs": [
    {
     "ename": "AttributeError",
     "evalue": "'list' object has no attribute 'to'",
     "output_type": "error",
     "traceback": [
      "\u001b[0;31m---------------------------------------------------------------------------\u001b[0m",
      "\u001b[0;31mAttributeError\u001b[0m                            Traceback (most recent call last)",
      "Cell \u001b[0;32mIn[75], line 1\u001b[0m\n\u001b[0;32m----> 1\u001b[0m inp \u001b[38;5;241m=\u001b[39m {k:v\u001b[38;5;241m.\u001b[39mto(device) \u001b[38;5;28;01mfor\u001b[39;00m k,v \u001b[38;5;129;01min\u001b[39;00m sentences_encoded[\u001b[38;5;124m'\u001b[39m\u001b[38;5;124mtrain\u001b[39m\u001b[38;5;124m'\u001b[39m][\u001b[38;5;241m0\u001b[39m]\u001b[38;5;241m.\u001b[39mitems() \u001b[38;5;28;01mif\u001b[39;00m k \u001b[38;5;129;01min\u001b[39;00m tokenizer\u001b[38;5;241m.\u001b[39mmodel_input_names}\n",
      "Cell \u001b[0;32mIn[75], line 1\u001b[0m, in \u001b[0;36m<dictcomp>\u001b[0;34m(.0)\u001b[0m\n\u001b[0;32m----> 1\u001b[0m inp \u001b[38;5;241m=\u001b[39m {k:\u001b[43mv\u001b[49m\u001b[38;5;241;43m.\u001b[39;49m\u001b[43mto\u001b[49m(device) \u001b[38;5;28;01mfor\u001b[39;00m k,v \u001b[38;5;129;01min\u001b[39;00m sentences_encoded[\u001b[38;5;124m'\u001b[39m\u001b[38;5;124mtrain\u001b[39m\u001b[38;5;124m'\u001b[39m][\u001b[38;5;241m0\u001b[39m]\u001b[38;5;241m.\u001b[39mitems() \u001b[38;5;28;01mif\u001b[39;00m k \u001b[38;5;129;01min\u001b[39;00m tokenizer\u001b[38;5;241m.\u001b[39mmodel_input_names}\n",
      "\u001b[0;31mAttributeError\u001b[0m: 'list' object has no attribute 'to'"
     ]
    }
   ],
   "source": [
    "inp = {k:v.to(device) for k,v in sentences_encoded['train'][0].items() if k in tokenizer.model_input_names}"
   ]
  },
  {
   "cell_type": "code",
   "execution_count": 72,
   "id": "7842befe",
   "metadata": {},
   "outputs": [
    {
     "data": {
      "text/plain": [
       "[[1,\n",
       "  1,\n",
       "  1,\n",
       "  1,\n",
       "  1,\n",
       "  1,\n",
       "  1,\n",
       "  1,\n",
       "  1,\n",
       "  1,\n",
       "  1,\n",
       "  1,\n",
       "  1,\n",
       "  1,\n",
       "  1,\n",
       "  1,\n",
       "  1,\n",
       "  1,\n",
       "  1,\n",
       "  1,\n",
       "  1,\n",
       "  1,\n",
       "  1,\n",
       "  1,\n",
       "  1,\n",
       "  1]]"
      ]
     },
     "execution_count": 72,
     "metadata": {},
     "output_type": "execute_result"
    }
   ],
   "source": [
    "inp['attention_mask']"
   ]
  },
  {
   "cell_type": "code",
   "execution_count": 73,
   "id": "7408fa5f",
   "metadata": {},
   "outputs": [
    {
     "ename": "AttributeError",
     "evalue": "'list' object has no attribute 'size'",
     "output_type": "error",
     "traceback": [
      "\u001b[0;31m---------------------------------------------------------------------------\u001b[0m",
      "\u001b[0;31mAttributeError\u001b[0m                            Traceback (most recent call last)",
      "Cell \u001b[0;32mIn[73], line 1\u001b[0m\n\u001b[0;32m----> 1\u001b[0m \u001b[43mmodel\u001b[49m\u001b[43m(\u001b[49m\u001b[38;5;241;43m*\u001b[39;49m\u001b[38;5;241;43m*\u001b[39;49m\u001b[38;5;28;43minput\u001b[39;49m\u001b[43m)\u001b[49m\n",
      "File \u001b[0;32m~/.pyenv/versions/3.10.6/envs/open_medicine/lib/python3.10/site-packages/torch/nn/modules/module.py:1130\u001b[0m, in \u001b[0;36mModule._call_impl\u001b[0;34m(self, *input, **kwargs)\u001b[0m\n\u001b[1;32m   1126\u001b[0m \u001b[38;5;66;03m# If we don't have any hooks, we want to skip the rest of the logic in\u001b[39;00m\n\u001b[1;32m   1127\u001b[0m \u001b[38;5;66;03m# this function, and just call forward.\u001b[39;00m\n\u001b[1;32m   1128\u001b[0m \u001b[38;5;28;01mif\u001b[39;00m \u001b[38;5;129;01mnot\u001b[39;00m (\u001b[38;5;28mself\u001b[39m\u001b[38;5;241m.\u001b[39m_backward_hooks \u001b[38;5;129;01mor\u001b[39;00m \u001b[38;5;28mself\u001b[39m\u001b[38;5;241m.\u001b[39m_forward_hooks \u001b[38;5;129;01mor\u001b[39;00m \u001b[38;5;28mself\u001b[39m\u001b[38;5;241m.\u001b[39m_forward_pre_hooks \u001b[38;5;129;01mor\u001b[39;00m _global_backward_hooks\n\u001b[1;32m   1129\u001b[0m         \u001b[38;5;129;01mor\u001b[39;00m _global_forward_hooks \u001b[38;5;129;01mor\u001b[39;00m _global_forward_pre_hooks):\n\u001b[0;32m-> 1130\u001b[0m     \u001b[38;5;28;01mreturn\u001b[39;00m \u001b[43mforward_call\u001b[49m\u001b[43m(\u001b[49m\u001b[38;5;241;43m*\u001b[39;49m\u001b[38;5;28;43minput\u001b[39;49m\u001b[43m,\u001b[49m\u001b[43m \u001b[49m\u001b[38;5;241;43m*\u001b[39;49m\u001b[38;5;241;43m*\u001b[39;49m\u001b[43mkwargs\u001b[49m\u001b[43m)\u001b[49m\n\u001b[1;32m   1131\u001b[0m \u001b[38;5;66;03m# Do not call functions when jit is used\u001b[39;00m\n\u001b[1;32m   1132\u001b[0m full_backward_hooks, non_full_backward_hooks \u001b[38;5;241m=\u001b[39m [], []\n",
      "File \u001b[0;32m~/.pyenv/versions/3.10.6/envs/open_medicine/lib/python3.10/site-packages/transformers/models/biogpt/modeling_biogpt.py:517\u001b[0m, in \u001b[0;36mBioGptModel.forward\u001b[0;34m(self, input_ids, attention_mask, head_mask, inputs_embeds, past_key_values, use_cache, output_attentions, output_hidden_states, return_dict)\u001b[0m\n\u001b[1;32m    515\u001b[0m \u001b[38;5;28;01melif\u001b[39;00m input_ids \u001b[38;5;129;01mis\u001b[39;00m \u001b[38;5;129;01mnot\u001b[39;00m \u001b[38;5;28;01mNone\u001b[39;00m:\n\u001b[1;32m    516\u001b[0m     \u001b[38;5;28minput\u001b[39m \u001b[38;5;241m=\u001b[39m input_ids\n\u001b[0;32m--> 517\u001b[0m     input_shape \u001b[38;5;241m=\u001b[39m \u001b[38;5;28;43minput\u001b[39;49m\u001b[38;5;241;43m.\u001b[39;49m\u001b[43msize\u001b[49m()\n\u001b[1;32m    518\u001b[0m \u001b[38;5;28;01melif\u001b[39;00m inputs_embeds \u001b[38;5;129;01mis\u001b[39;00m \u001b[38;5;129;01mnot\u001b[39;00m \u001b[38;5;28;01mNone\u001b[39;00m:\n\u001b[1;32m    519\u001b[0m     input_shape \u001b[38;5;241m=\u001b[39m inputs_embeds\u001b[38;5;241m.\u001b[39msize()[:\u001b[38;5;241m-\u001b[39m\u001b[38;5;241m1\u001b[39m]\n",
      "\u001b[0;31mAttributeError\u001b[0m: 'list' object has no attribute 'size'"
     ]
    }
   ],
   "source": [
    "model(**input)"
   ]
  },
  {
   "cell_type": "code",
   "execution_count": 58,
   "id": "2d124186",
   "metadata": {},
   "outputs": [
    {
     "ename": "TypeError",
     "evalue": "BioGptModel.forward() got an unexpected keyword argument 'label'",
     "output_type": "error",
     "traceback": [
      "\u001b[0;31m---------------------------------------------------------------------------\u001b[0m",
      "\u001b[0;31mTypeError\u001b[0m                                 Traceback (most recent call last)",
      "Cell \u001b[0;32mIn[58], line 1\u001b[0m\n\u001b[0;32m----> 1\u001b[0m \u001b[43mmodel\u001b[49m\u001b[43m(\u001b[49m\u001b[38;5;241;43m*\u001b[39;49m\u001b[38;5;241;43m*\u001b[39;49m\u001b[43msentences_encoded\u001b[49m\u001b[43m[\u001b[49m\u001b[38;5;124;43m'\u001b[39;49m\u001b[38;5;124;43mtrain\u001b[39;49m\u001b[38;5;124;43m'\u001b[39;49m\u001b[43m]\u001b[49m\u001b[43m[\u001b[49m\u001b[38;5;241;43m0\u001b[39;49m\u001b[43m]\u001b[49m\u001b[43m)\u001b[49m\n",
      "File \u001b[0;32m~/.pyenv/versions/3.10.6/envs/open_medicine/lib/python3.10/site-packages/torch/nn/modules/module.py:1130\u001b[0m, in \u001b[0;36mModule._call_impl\u001b[0;34m(self, *input, **kwargs)\u001b[0m\n\u001b[1;32m   1126\u001b[0m \u001b[38;5;66;03m# If we don't have any hooks, we want to skip the rest of the logic in\u001b[39;00m\n\u001b[1;32m   1127\u001b[0m \u001b[38;5;66;03m# this function, and just call forward.\u001b[39;00m\n\u001b[1;32m   1128\u001b[0m \u001b[38;5;28;01mif\u001b[39;00m \u001b[38;5;129;01mnot\u001b[39;00m (\u001b[38;5;28mself\u001b[39m\u001b[38;5;241m.\u001b[39m_backward_hooks \u001b[38;5;129;01mor\u001b[39;00m \u001b[38;5;28mself\u001b[39m\u001b[38;5;241m.\u001b[39m_forward_hooks \u001b[38;5;129;01mor\u001b[39;00m \u001b[38;5;28mself\u001b[39m\u001b[38;5;241m.\u001b[39m_forward_pre_hooks \u001b[38;5;129;01mor\u001b[39;00m _global_backward_hooks\n\u001b[1;32m   1129\u001b[0m         \u001b[38;5;129;01mor\u001b[39;00m _global_forward_hooks \u001b[38;5;129;01mor\u001b[39;00m _global_forward_pre_hooks):\n\u001b[0;32m-> 1130\u001b[0m     \u001b[38;5;28;01mreturn\u001b[39;00m \u001b[43mforward_call\u001b[49m\u001b[43m(\u001b[49m\u001b[38;5;241;43m*\u001b[39;49m\u001b[38;5;28;43minput\u001b[39;49m\u001b[43m,\u001b[49m\u001b[43m \u001b[49m\u001b[38;5;241;43m*\u001b[39;49m\u001b[38;5;241;43m*\u001b[39;49m\u001b[43mkwargs\u001b[49m\u001b[43m)\u001b[49m\n\u001b[1;32m   1131\u001b[0m \u001b[38;5;66;03m# Do not call functions when jit is used\u001b[39;00m\n\u001b[1;32m   1132\u001b[0m full_backward_hooks, non_full_backward_hooks \u001b[38;5;241m=\u001b[39m [], []\n",
      "\u001b[0;31mTypeError\u001b[0m: BioGptModel.forward() got an unexpected keyword argument 'label'"
     ]
    }
   ],
   "source": [
    "model(**sentences_encoded['train'][0])"
   ]
  },
  {
   "cell_type": "code",
   "execution_count": 40,
   "id": "369cb444",
   "metadata": {},
   "outputs": [],
   "source": [
    "# outputs = model(**sentences_encoded)"
   ]
  },
  {
   "cell_type": "code",
   "execution_count": 41,
   "id": "cb182748",
   "metadata": {
    "ExecuteTime": {
     "end_time": "2023-03-08T10:18:30.658964Z",
     "start_time": "2023-03-08T10:18:30.653152Z"
    }
   },
   "outputs": [],
   "source": [
    "# sentences_encoded"
   ]
  },
  {
   "cell_type": "code",
   "execution_count": 42,
   "id": "489ef457",
   "metadata": {
    "ExecuteTime": {
     "end_time": "2023-03-08T10:22:03.243874Z",
     "start_time": "2023-03-08T10:22:03.236688Z"
    }
   },
   "outputs": [],
   "source": [
    "sentences_encoded.set_format(\"torch\",columns=[\"input_ids\", \"attention_mask\", \"label\"])"
   ]
  },
  {
   "cell_type": "code",
   "execution_count": 43,
   "id": "1292f18e",
   "metadata": {},
   "outputs": [],
   "source": [
    "# def extract_hidden_states(batch):\n",
    "#     last_hidden_state = model(**batch).last_hidden_state\n",
    "# # #     with torch.no_grad():\n",
    "        "
   ]
  },
  {
   "cell_type": "code",
   "execution_count": 44,
   "id": "6a14b794",
   "metadata": {},
   "outputs": [],
   "source": [
    "device = torch.device(\"cuda\" if torch.cuda.is_available() else \"cpu\")\n",
    "def extract_hidden_states(batch):\n",
    "    inputs = {k:v.to(device) for k,v in batch.items() if k in tokenizer.model_input_names}\n",
    "    # Place model inputs on the GPU\n",
    "    # Extract last hidden states\n",
    "    with torch.no_grad():\n",
    "        last_hidden_state = model(**inputs).last_hidden_state   \n",
    "    # Return vector for [CLS] token\n",
    "    return {\"hidden_state\": last_hidden_state[:,0].cpu().numpy()}"
   ]
  },
  {
   "cell_type": "code",
   "execution_count": 45,
   "id": "841db949",
   "metadata": {},
   "outputs": [],
   "source": [
    "# sentences_hidden = sentences_encoded.map(extract_hidden_states)"
   ]
  },
  {
   "cell_type": "code",
   "execution_count": 46,
   "id": "25fbca23",
   "metadata": {},
   "outputs": [],
   "source": [
    "# Why format tensors? Probably to package many tensors\n",
    "# Let's format one tensor and input into model and extract hidden state"
   ]
  },
  {
   "cell_type": "code",
   "execution_count": 47,
   "id": "a7d7bf74",
   "metadata": {},
   "outputs": [],
   "source": [
    "# To pull last hiidden state, we needed the bare BioGptModel"
   ]
  },
  {
   "cell_type": "code",
   "execution_count": 48,
   "id": "a509e6db",
   "metadata": {},
   "outputs": [],
   "source": [
    "# last_hidden_state = model(**sentences_encoded).last_hidden_state"
   ]
  },
  {
   "cell_type": "code",
   "execution_count": 49,
   "id": "81b80411",
   "metadata": {},
   "outputs": [],
   "source": [
    "# last_hidden_state.shape"
   ]
  },
  {
   "cell_type": "code",
   "execution_count": 50,
   "id": "a941ad16",
   "metadata": {},
   "outputs": [],
   "source": [
    "# def extract_hidden_states(batch):\n",
    "# with torch.no_grad():\n",
    "#     last_hidden_state = model(**inputs).last_hidden_state"
   ]
  },
  {
   "cell_type": "code",
   "execution_count": 51,
   "id": "a679aeb0",
   "metadata": {},
   "outputs": [],
   "source": [
    "# device = torch.device(\"cuda\" if torch.cuda.is_available() else \"cpu\")\n",
    "# def extract_hidden_states(batch):\n",
    "#     inputs = {k:v.to(device) for k,v in batch.items() if k in tokenizer.model_input_names}\n",
    "#     # Place model inputs on the GPU\n",
    "#     # Extract last hidden states\n",
    "#     with torch.no_grad():\n",
    "#         last_hidden_state = model(**inputs).last_hidden_state   \n",
    "#     # Return vector for [CLS] token\n",
    "#     return {\"hidden_state\": last_hidden_state[:,0].cpu().numpy()}"
   ]
  },
  {
   "cell_type": "code",
   "execution_count": 52,
   "id": "ccb805f4",
   "metadata": {
    "ExecuteTime": {
     "start_time": "2023-03-08T10:22:03.901Z"
    }
   },
   "outputs": [],
   "source": [
    "# unpack how to extract one hidden state, line by line\n",
    "# sentences_hidden = sentences_encoded.map(extract_hidden_states, batched=True)"
   ]
  },
  {
   "cell_type": "code",
   "execution_count": 53,
   "id": "586a2a92",
   "metadata": {},
   "outputs": [],
   "source": [
    "# inputs = tokenizer(text, return_tensors=\"pt\")\n",
    "# print(f\"Input tensor shape: {inputs['input_ids'].size()}\")"
   ]
  }
 ],
 "metadata": {
  "kernelspec": {
   "display_name": "Python 3 (ipykernel)",
   "language": "python",
   "name": "python3"
  },
  "language_info": {
   "codemirror_mode": {
    "name": "ipython",
    "version": 3
   },
   "file_extension": ".py",
   "mimetype": "text/x-python",
   "name": "python",
   "nbconvert_exporter": "python",
   "pygments_lexer": "ipython3",
   "version": "3.10.6"
  },
  "toc": {
   "base_numbering": 1,
   "nav_menu": {},
   "number_sections": true,
   "sideBar": true,
   "skip_h1_title": false,
   "title_cell": "Table of Contents",
   "title_sidebar": "Contents",
   "toc_cell": false,
   "toc_position": {},
   "toc_section_display": true,
   "toc_window_display": false
  },
  "varInspector": {
   "cols": {
    "lenName": 16,
    "lenType": 16,
    "lenVar": 40
   },
   "kernels_config": {
    "python": {
     "delete_cmd_postfix": "",
     "delete_cmd_prefix": "del ",
     "library": "var_list.py",
     "varRefreshCmd": "print(var_dic_list())"
    },
    "r": {
     "delete_cmd_postfix": ") ",
     "delete_cmd_prefix": "rm(",
     "library": "var_list.r",
     "varRefreshCmd": "cat(var_dic_list()) "
    }
   },
   "types_to_exclude": [
    "module",
    "function",
    "builtin_function_or_method",
    "instance",
    "_Feature"
   ],
   "window_display": false
  }
 },
 "nbformat": 4,
 "nbformat_minor": 5
}
