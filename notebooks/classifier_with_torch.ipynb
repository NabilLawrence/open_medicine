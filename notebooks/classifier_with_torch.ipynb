{
 "cells": [
  {
   "cell_type": "code",
   "execution_count": 1,
   "id": "1566ac60",
   "metadata": {},
   "outputs": [],
   "source": [
    "import numpy as np\n",
    "import pandas as pd\n",
    "import re\n",
    "from Classifier import data_cleaning # created method to clean and extract data"
   ]
  },
  {
   "cell_type": "code",
   "execution_count": 2,
   "id": "37b4c9b2",
   "metadata": {},
   "outputs": [],
   "source": [
    "import torch"
   ]
  },
  {
   "cell_type": "code",
   "execution_count": 3,
   "id": "b6146e3e",
   "metadata": {},
   "outputs": [
    {
     "name": "stderr",
     "output_type": "stream",
     "text": [
      "2023-03-07 17:06:03.484975: I tensorflow/core/platform/cpu_feature_guard.cc:193] This TensorFlow binary is optimized with oneAPI Deep Neural Network Library (oneDNN) to use the following CPU instructions in performance-critical operations:  AVX2 AVX_VNNI FMA\n",
      "To enable them in other operations, rebuild TensorFlow with the appropriate compiler flags.\n",
      "2023-03-07 17:06:03.932892: I tensorflow/core/util/util.cc:169] oneDNN custom operations are on. You may see slightly different numerical results due to floating-point round-off errors from different computation orders. To turn them off, set the environment variable `TF_ENABLE_ONEDNN_OPTS=0`.\n",
      "2023-03-07 17:06:04.023474: W tensorflow/stream_executor/platform/default/dso_loader.cc:64] Could not load dynamic library 'libcudart.so.11.0'; dlerror: libcudart.so.11.0: cannot open shared object file: No such file or directory\n",
      "2023-03-07 17:06:04.023492: I tensorflow/stream_executor/cuda/cudart_stub.cc:29] Ignore above cudart dlerror if you do not have a GPU set up on your machine.\n",
      "2023-03-07 17:06:04.120057: E tensorflow/stream_executor/cuda/cuda_blas.cc:2981] Unable to register cuBLAS factory: Attempting to register factory for plugin cuBLAS when one has already been registered\n",
      "2023-03-07 17:06:05.490078: W tensorflow/stream_executor/platform/default/dso_loader.cc:64] Could not load dynamic library 'libnvinfer.so.7'; dlerror: libnvinfer.so.7: cannot open shared object file: No such file or directory\n",
      "2023-03-07 17:06:05.490170: W tensorflow/stream_executor/platform/default/dso_loader.cc:64] Could not load dynamic library 'libnvinfer_plugin.so.7'; dlerror: libnvinfer_plugin.so.7: cannot open shared object file: No such file or directory\n",
      "2023-03-07 17:06:05.490176: W tensorflow/compiler/tf2tensorrt/utils/py_utils.cc:38] TF-TRT Warning: Cannot dlopen some TensorRT libraries. If you would like to use Nvidia GPU with TensorRT, please make sure the missing libraries mentioned above are installed properly.\n"
     ]
    }
   ],
   "source": [
    "from transformers import AutoTokenizer, AutoModelForCausalLM"
   ]
  },
  {
   "cell_type": "code",
   "execution_count": 4,
   "id": "c6162568",
   "metadata": {},
   "outputs": [],
   "source": [
    "tokenizer = AutoTokenizer.from_pretrained(\"microsoft/biogpt\")"
   ]
  },
  {
   "cell_type": "code",
   "execution_count": 5,
   "id": "287398a5",
   "metadata": {},
   "outputs": [],
   "source": [
    "model = AutoModelForCausalLM.from_pretrained(\"microsoft/biogpt\")"
   ]
  },
  {
   "cell_type": "code",
   "execution_count": 6,
   "id": "409b482a",
   "metadata": {},
   "outputs": [
    {
     "data": {
      "text/plain": [
       "0      The patient has Barrett's oesophagus. It is a ...\n",
       "1      There is a polyp in the antrum which is sessil...\n",
       "2      The patient has inflammation in the second par...\n",
       "3                   Normal gastroscopy to the duodenum. \n",
       "4      There is an ulcer in the second part of the du...\n",
       "                             ...                        \n",
       "995    The patient has a polyp in the second part of ...\n",
       "996    There is a nodule in the second part of the du...\n",
       "997    The patient has a 8mm nodule in the GOJ which ...\n",
       "998               Normal gastroscopy to the duodenum. NA\n",
       "999    list(\"The stricture will need to be dilatated ...\n",
       "Name: findings, Length: 1000, dtype: object"
      ]
     },
     "execution_count": 6,
     "metadata": {},
     "output_type": "execute_result"
    }
   ],
   "source": [
    "#-----------------------------------------------------\n",
    "# Loading dataset\n",
    "#-----------------------------------------------------\n",
    "OGD_FakeSet = pd.read_csv(\"../data/OGD_FakeSet.csv\")\n",
    "#-----------------------------------------------------\n",
    "# Cleaning dataset\n",
    "#-----------------------------------------------------\n",
    "df = data_cleaning(OGD_FakeSet)\n",
    "#-----------------------------------------------------\n",
    "# Vectorizing text in findings features\n",
    "#-----------------------------------------------------\n",
    "df['findings']"
   ]
  },
  {
   "cell_type": "code",
   "execution_count": 7,
   "id": "6ca3f392",
   "metadata": {},
   "outputs": [],
   "source": [
    "findings = df['findings']"
   ]
  },
  {
   "cell_type": "code",
   "execution_count": 8,
   "id": "48573d6b",
   "metadata": {},
   "outputs": [
    {
     "data": {
      "text/plain": [
       "(1000,)"
      ]
     },
     "execution_count": 8,
     "metadata": {},
     "output_type": "execute_result"
    }
   ],
   "source": [
    "findings.shape"
   ]
  },
  {
   "cell_type": "code",
   "execution_count": 9,
   "id": "579c4474",
   "metadata": {},
   "outputs": [
    {
     "data": {
      "text/plain": [
       "pandas.core.series.Series"
      ]
     },
     "execution_count": 9,
     "metadata": {},
     "output_type": "execute_result"
    }
   ],
   "source": [
    "type(findings)"
   ]
  },
  {
   "cell_type": "code",
   "execution_count": 10,
   "id": "cc95f61f",
   "metadata": {},
   "outputs": [
    {
     "data": {
      "text/plain": [
       "\".htworg pylop fo ksir eht esaercni dna hcamots eht ni htworgrevo lairetcab fo ksir eht esaercni nac siht sa ,ragus hcum oot gnimusnoc diova ot desivda eb dluohs tneitap ehT  .trofmocsid ro niap sa hcus ,eludon eht htiw detaicossa smotpmys yna eganam ot noitacidem debircserp eb yam tneitap ehT :PU WOLLOF .spylop erom gnipoleved fo ksir eht ecuder ot noitacidem debircserp eb yam tneitap ehT  .nalp tnemtaert dednemmocer eht ot gnirehda fo ecnatropmi eht dna sisongaid eht fo demrofni eb dluohs tneitap ehT :NOITADNEMMOCER AN ..ypocsodne ecnallievrus erutuf ni dia ot oottat a htiw dekram saw pylop ehT.ecnaraeppa ralunarg a htiw ,suotamede dna demalfni si seludon eht gnidnuorrus asocum ehT .nrettap tip lamronba na htiw deklats si hcihw munedoud eht fo trap driht eht ni pylop a si erehT .ylno tnemges trohS .nees osla saw  gninetihw-oteca fo ssol oN .tnemges gnol a si tI .sugahposeo s'tterraB sah tneitap ehT\""
      ]
     },
     "execution_count": 10,
     "metadata": {},
     "output_type": "execute_result"
    }
   ],
   "source": [
    "findings[0][::-1]"
   ]
  },
  {
   "cell_type": "code",
   "execution_count": 11,
   "id": "ca925730",
   "metadata": {},
   "outputs": [],
   "source": [
    "def reverse(row):\n",
    "    row = row[::-1]\n",
    "    return row\n",
    "\n",
    "findings_reverse = findings.apply(reverse)"
   ]
  },
  {
   "cell_type": "code",
   "execution_count": 12,
   "id": "4153a8e0",
   "metadata": {},
   "outputs": [
    {
     "data": {
      "text/plain": [
       "\".htworg pylop fo ksir eht esaercni dna hcamots eht ni htworgrevo lairetcab fo ksir eht esaercni nac siht sa ,ragus hcum oot gnimusnoc diova ot desivda eb dluohs tneitap ehT  .trofmocsid ro niap sa hcus ,eludon eht htiw detaicossa smotpmys yna eganam ot noitacidem debircserp eb yam tneitap ehT :PU WOLLOF .spylop erom gnipoleved fo ksir eht ecuder ot noitacidem debircserp eb yam tneitap ehT  .nalp tnemtaert dednemmocer eht ot gnirehda fo ecnatropmi eht dna sisongaid eht fo demrofni eb dluohs tneitap ehT :NOITADNEMMOCER AN ..ypocsodne ecnallievrus erutuf ni dia ot oottat a htiw dekram saw pylop ehT.ecnaraeppa ralunarg a htiw ,suotamede dna demalfni si seludon eht gnidnuorrus asocum ehT .nrettap tip lamronba na htiw deklats si hcihw munedoud eht fo trap driht eht ni pylop a si erehT .ylno tnemges trohS .nees osla saw  gninetihw-oteca fo ssol oN .tnemges gnol a si tI .sugahposeo s'tterraB sah tneitap ehT\""
      ]
     },
     "execution_count": 12,
     "metadata": {},
     "output_type": "execute_result"
    }
   ],
   "source": [
    "findings_reverse[0]"
   ]
  },
  {
   "cell_type": "code",
   "execution_count": 13,
   "id": "c05fa5a5",
   "metadata": {},
   "outputs": [],
   "source": [
    "inputs = tokenizer(findings_reverse[0], return_tensors=\"pt\")"
   ]
  },
  {
   "cell_type": "code",
   "execution_count": 21,
   "id": "67e529dd",
   "metadata": {},
   "outputs": [
    {
     "data": {
      "text/plain": [
       "\"The patient has Barrett's oesophagus. It is a long segment. No loss of aceto-whitening  was also seen. Short segment only. There is a polyp in the third part of the duodenum which is stalked with an abnormal pit pattern. The mucosa surrounding the nodules is inflamed and edematous, with a granular appearance.The polyp was marked with a tattoo to aid in future surveillance endoscopy.. NA RECOMMENDATION: The patient should be informed of the diagnosis and the importance of adhering to the recommended treatment plan.  The patient may be prescribed medication to reduce the risk of developing more polyps. FOLLOW UP: The patient may be prescribed medication to manage any symptoms associated with the nodule, such as pain or discomfort.  The patient should be advised to avoid consuming too much sugar, as this can increase the risk of bacterial overgrowth in the stomach and increase the risk of polyp growth.\""
      ]
     },
     "execution_count": 21,
     "metadata": {},
     "output_type": "execute_result"
    }
   ],
   "source": [
    "findings[0]"
   ]
  },
  {
   "cell_type": "code",
   "execution_count": 14,
   "id": "8aee6f6c",
   "metadata": {},
   "outputs": [],
   "source": [
    "inputs2 = tokenizer(findings[0], return_tensors=\"pt\")"
   ]
  },
  {
   "cell_type": "code",
   "execution_count": 15,
   "id": "2cae0faa",
   "metadata": {},
   "outputs": [
    {
     "data": {
      "text/plain": [
       "torch.Size([1, 424])"
      ]
     },
     "execution_count": 15,
     "metadata": {},
     "output_type": "execute_result"
    }
   ],
   "source": [
    "inputs['input_ids'].shape"
   ]
  },
  {
   "cell_type": "code",
   "execution_count": 23,
   "id": "47883320",
   "metadata": {},
   "outputs": [
    {
     "data": {
      "text/plain": [
       "{'input_ids': tensor([[    2,    18,   125,    57, 15676,   121, 18456,     4,   212,    21,\n",
       "            14,   281,  2112,     4,   668,   435,     5, 11136,    13,     9,\n",
       "         21366,  8268,    17,    72,   724,     4,  5603,  2112,   129,     4,\n",
       "           271,    21,    14, 15032,    10,     6,  1202,   672,     5,     6,\n",
       "          9691,    46,    21, 19947,  7031,    15,    32,  1447, 22054,   673,\n",
       "             4,    18,  2626,  3476,     6,  4463,    21, 12803,     8, 26797,\n",
       "             7,    15,    14,  7623, 13369,  6126,  6626, 10158,    18, 15032,\n",
       "            17,  1663,    15,    14, 22667,  4495,    13,  3482,    10,   894,\n",
       "          2876,  5423, 34150,  3272,  2630, 17081, 27061,  8382, 10395,    20,\n",
       "            18,   125,   282,    33,  5099,     5,     6,   227,     8,     6,\n",
       "           923,     5, 25809,    13,     6,  1728,    53,  4529,     4,    18,\n",
       "           125,    63,    33,  4272,  1817,    13,   897,     6,   105,     5,\n",
       "          1096,    77,  7965,     4, 22136,  5783,  1470, 18521,    20,    18,\n",
       "           125,    63,    33,  4272,  1817,    13,  6327,   420,   367,    73,\n",
       "            15,     6,  8874,     7,   147,    27,   353,    30,  8297,     4,\n",
       "            18,   125,   282,    33, 17028,    13,  3350,  7118,  4495,  1100,\n",
       "          4265,     7,    27,    35,    71,   165,     6,   105,     5,   945,\n",
       "         19235,    10,     6,  3897,     8,   165,     6,   105,     5, 15032,\n",
       "           179,     4]]), 'attention_mask': tensor([[1, 1, 1, 1, 1, 1, 1, 1, 1, 1, 1, 1, 1, 1, 1, 1, 1, 1, 1, 1, 1, 1, 1, 1,\n",
       "         1, 1, 1, 1, 1, 1, 1, 1, 1, 1, 1, 1, 1, 1, 1, 1, 1, 1, 1, 1, 1, 1, 1, 1,\n",
       "         1, 1, 1, 1, 1, 1, 1, 1, 1, 1, 1, 1, 1, 1, 1, 1, 1, 1, 1, 1, 1, 1, 1, 1,\n",
       "         1, 1, 1, 1, 1, 1, 1, 1, 1, 1, 1, 1, 1, 1, 1, 1, 1, 1, 1, 1, 1, 1, 1, 1,\n",
       "         1, 1, 1, 1, 1, 1, 1, 1, 1, 1, 1, 1, 1, 1, 1, 1, 1, 1, 1, 1, 1, 1, 1, 1,\n",
       "         1, 1, 1, 1, 1, 1, 1, 1, 1, 1, 1, 1, 1, 1, 1, 1, 1, 1, 1, 1, 1, 1, 1, 1,\n",
       "         1, 1, 1, 1, 1, 1, 1, 1, 1, 1, 1, 1, 1, 1, 1, 1, 1, 1, 1, 1, 1, 1, 1, 1,\n",
       "         1, 1, 1, 1, 1, 1, 1, 1, 1, 1, 1, 1, 1, 1]])}"
      ]
     },
     "execution_count": 23,
     "metadata": {},
     "output_type": "execute_result"
    }
   ],
   "source": [
    "inputs2"
   ]
  },
  {
   "cell_type": "code",
   "execution_count": 16,
   "id": "16634461",
   "metadata": {},
   "outputs": [],
   "source": [
    "outputs = model(**inputs)"
   ]
  },
  {
   "cell_type": "code",
   "execution_count": 46,
   "id": "1e9793a0",
   "metadata": {},
   "outputs": [],
   "source": [
    "sentences = pd.concat([findings, findings_reverse]) "
   ]
  },
  {
   "cell_type": "code",
   "execution_count": 47,
   "id": "c2f2c2ff",
   "metadata": {},
   "outputs": [
    {
     "data": {
      "text/plain": [
       "(2000,)"
      ]
     },
     "execution_count": 47,
     "metadata": {},
     "output_type": "execute_result"
    }
   ],
   "source": [
    "sentences.shape"
   ]
  },
  {
   "cell_type": "code",
   "execution_count": 48,
   "id": "35a8f504",
   "metadata": {},
   "outputs": [
    {
     "data": {
      "text/plain": [
       "0    The patient has Barrett's oesophagus. It is a ...\n",
       "1    There is a polyp in the antrum which is sessil...\n",
       "2    The patient has inflammation in the second par...\n",
       "3                 Normal gastroscopy to the duodenum. \n",
       "4    There is an ulcer in the second part of the du...\n",
       "Name: findings, dtype: object"
      ]
     },
     "execution_count": 48,
     "metadata": {},
     "output_type": "execute_result"
    }
   ],
   "source": [
    "sentences.head()"
   ]
  },
  {
   "cell_type": "code",
   "execution_count": 50,
   "id": "8a6fcf49",
   "metadata": {},
   "outputs": [],
   "source": [
    "sentences = sentences.to_frame()"
   ]
  },
  {
   "cell_type": "code",
   "execution_count": 51,
   "id": "e87cae17",
   "metadata": {},
   "outputs": [
    {
     "data": {
      "text/plain": [
       "pandas.core.frame.DataFrame"
      ]
     },
     "execution_count": 51,
     "metadata": {},
     "output_type": "execute_result"
    }
   ],
   "source": [
    "type(sentences)"
   ]
  },
  {
   "cell_type": "code",
   "execution_count": 52,
   "id": "4750ead3",
   "metadata": {},
   "outputs": [
    {
     "data": {
      "text/html": [
       "<div>\n",
       "<style scoped>\n",
       "    .dataframe tbody tr th:only-of-type {\n",
       "        vertical-align: middle;\n",
       "    }\n",
       "\n",
       "    .dataframe tbody tr th {\n",
       "        vertical-align: top;\n",
       "    }\n",
       "\n",
       "    .dataframe thead th {\n",
       "        text-align: right;\n",
       "    }\n",
       "</style>\n",
       "<table border=\"1\" class=\"dataframe\">\n",
       "  <thead>\n",
       "    <tr style=\"text-align: right;\">\n",
       "      <th></th>\n",
       "      <th>findings</th>\n",
       "    </tr>\n",
       "  </thead>\n",
       "  <tbody>\n",
       "    <tr>\n",
       "      <th>0</th>\n",
       "      <td>The patient has Barrett's oesophagus. It is a ...</td>\n",
       "    </tr>\n",
       "    <tr>\n",
       "      <th>1</th>\n",
       "      <td>There is a polyp in the antrum which is sessil...</td>\n",
       "    </tr>\n",
       "    <tr>\n",
       "      <th>2</th>\n",
       "      <td>The patient has inflammation in the second par...</td>\n",
       "    </tr>\n",
       "    <tr>\n",
       "      <th>3</th>\n",
       "      <td>Normal gastroscopy to the duodenum.</td>\n",
       "    </tr>\n",
       "    <tr>\n",
       "      <th>4</th>\n",
       "      <td>There is an ulcer in the second part of the du...</td>\n",
       "    </tr>\n",
       "  </tbody>\n",
       "</table>\n",
       "</div>"
      ],
      "text/plain": [
       "                                            findings\n",
       "0  The patient has Barrett's oesophagus. It is a ...\n",
       "1  There is a polyp in the antrum which is sessil...\n",
       "2  The patient has inflammation in the second par...\n",
       "3               Normal gastroscopy to the duodenum. \n",
       "4  There is an ulcer in the second part of the du..."
      ]
     },
     "execution_count": 52,
     "metadata": {},
     "output_type": "execute_result"
    }
   ],
   "source": [
    "sentences.head()"
   ]
  },
  {
   "cell_type": "code",
   "execution_count": 53,
   "id": "519c2c8a",
   "metadata": {},
   "outputs": [],
   "source": [
    "sentences['label'] = 0"
   ]
  },
  {
   "cell_type": "code",
   "execution_count": 54,
   "id": "e741f373",
   "metadata": {},
   "outputs": [
    {
     "data": {
      "text/html": [
       "<div>\n",
       "<style scoped>\n",
       "    .dataframe tbody tr th:only-of-type {\n",
       "        vertical-align: middle;\n",
       "    }\n",
       "\n",
       "    .dataframe tbody tr th {\n",
       "        vertical-align: top;\n",
       "    }\n",
       "\n",
       "    .dataframe thead th {\n",
       "        text-align: right;\n",
       "    }\n",
       "</style>\n",
       "<table border=\"1\" class=\"dataframe\">\n",
       "  <thead>\n",
       "    <tr style=\"text-align: right;\">\n",
       "      <th></th>\n",
       "      <th>findings</th>\n",
       "      <th>label</th>\n",
       "    </tr>\n",
       "  </thead>\n",
       "  <tbody>\n",
       "    <tr>\n",
       "      <th>0</th>\n",
       "      <td>The patient has Barrett's oesophagus. It is a ...</td>\n",
       "      <td>0</td>\n",
       "    </tr>\n",
       "    <tr>\n",
       "      <th>1</th>\n",
       "      <td>There is a polyp in the antrum which is sessil...</td>\n",
       "      <td>0</td>\n",
       "    </tr>\n",
       "    <tr>\n",
       "      <th>2</th>\n",
       "      <td>The patient has inflammation in the second par...</td>\n",
       "      <td>0</td>\n",
       "    </tr>\n",
       "    <tr>\n",
       "      <th>3</th>\n",
       "      <td>Normal gastroscopy to the duodenum.</td>\n",
       "      <td>0</td>\n",
       "    </tr>\n",
       "    <tr>\n",
       "      <th>4</th>\n",
       "      <td>There is an ulcer in the second part of the du...</td>\n",
       "      <td>0</td>\n",
       "    </tr>\n",
       "  </tbody>\n",
       "</table>\n",
       "</div>"
      ],
      "text/plain": [
       "                                            findings  label\n",
       "0  The patient has Barrett's oesophagus. It is a ...      0\n",
       "1  There is a polyp in the antrum which is sessil...      0\n",
       "2  The patient has inflammation in the second par...      0\n",
       "3               Normal gastroscopy to the duodenum.       0\n",
       "4  There is an ulcer in the second part of the du...      0"
      ]
     },
     "execution_count": 54,
     "metadata": {},
     "output_type": "execute_result"
    }
   ],
   "source": [
    "sentences.head()"
   ]
  },
  {
   "cell_type": "code",
   "execution_count": 55,
   "id": "3b80a87f",
   "metadata": {},
   "outputs": [],
   "source": [
    "sentences.reset_index(drop=True, inplace=True) "
   ]
  },
  {
   "cell_type": "code",
   "execution_count": 56,
   "id": "3fa630ed",
   "metadata": {},
   "outputs": [
    {
     "data": {
      "text/html": [
       "<div>\n",
       "<style scoped>\n",
       "    .dataframe tbody tr th:only-of-type {\n",
       "        vertical-align: middle;\n",
       "    }\n",
       "\n",
       "    .dataframe tbody tr th {\n",
       "        vertical-align: top;\n",
       "    }\n",
       "\n",
       "    .dataframe thead th {\n",
       "        text-align: right;\n",
       "    }\n",
       "</style>\n",
       "<table border=\"1\" class=\"dataframe\">\n",
       "  <thead>\n",
       "    <tr style=\"text-align: right;\">\n",
       "      <th></th>\n",
       "      <th>findings</th>\n",
       "      <th>label</th>\n",
       "    </tr>\n",
       "  </thead>\n",
       "  <tbody>\n",
       "    <tr>\n",
       "      <th>1995</th>\n",
       "      <td>.sag fo noitcudorp eht gnisaercni yb spylop er...</td>\n",
       "      <td>0</td>\n",
       "    </tr>\n",
       "    <tr>\n",
       "      <th>1996</th>\n",
       "      <td>.eludon eht evomer ot yregrus sa hcus ,tnemtae...</td>\n",
       "      <td>0</td>\n",
       "    </tr>\n",
       "    <tr>\n",
       "      <th>1997</th>\n",
       "      <td>.tnemtaert dna noitaulave rehtruf rof tsigoloc...</td>\n",
       "      <td>0</td>\n",
       "    </tr>\n",
       "    <tr>\n",
       "      <th>1998</th>\n",
       "      <td>AN .munedoud eht ot ypocsortsag lamroN</td>\n",
       "      <td>0</td>\n",
       "    </tr>\n",
       "    <tr>\n",
       "      <th>1999</th>\n",
       "      <td>\\r ,\"noollab ERC a htiw mm 5 ot detalid\" ,\"noo...</td>\n",
       "      <td>0</td>\n",
       "    </tr>\n",
       "  </tbody>\n",
       "</table>\n",
       "</div>"
      ],
      "text/plain": [
       "                                               findings  label\n",
       "1995  .sag fo noitcudorp eht gnisaercni yb spylop er...      0\n",
       "1996  .eludon eht evomer ot yregrus sa hcus ,tnemtae...      0\n",
       "1997  .tnemtaert dna noitaulave rehtruf rof tsigoloc...      0\n",
       "1998             AN .munedoud eht ot ypocsortsag lamroN      0\n",
       "1999  \\r ,\"noollab ERC a htiw mm 5 ot detalid\" ,\"noo...      0"
      ]
     },
     "execution_count": 56,
     "metadata": {},
     "output_type": "execute_result"
    }
   ],
   "source": [
    "sentences.tail()"
   ]
  },
  {
   "cell_type": "code",
   "execution_count": 57,
   "id": "efa3c669",
   "metadata": {},
   "outputs": [],
   "source": [
    "for index in range(0,1000):\n",
    "    sentences.at[index,'label']=1"
   ]
  },
  {
   "cell_type": "code",
   "execution_count": 58,
   "id": "f4cf9249",
   "metadata": {},
   "outputs": [
    {
     "data": {
      "text/html": [
       "<div>\n",
       "<style scoped>\n",
       "    .dataframe tbody tr th:only-of-type {\n",
       "        vertical-align: middle;\n",
       "    }\n",
       "\n",
       "    .dataframe tbody tr th {\n",
       "        vertical-align: top;\n",
       "    }\n",
       "\n",
       "    .dataframe thead th {\n",
       "        text-align: right;\n",
       "    }\n",
       "</style>\n",
       "<table border=\"1\" class=\"dataframe\">\n",
       "  <thead>\n",
       "    <tr style=\"text-align: right;\">\n",
       "      <th></th>\n",
       "      <th>findings</th>\n",
       "      <th>label</th>\n",
       "    </tr>\n",
       "  </thead>\n",
       "  <tbody>\n",
       "    <tr>\n",
       "      <th>0</th>\n",
       "      <td>The patient has Barrett's oesophagus. It is a ...</td>\n",
       "      <td>1</td>\n",
       "    </tr>\n",
       "    <tr>\n",
       "      <th>1</th>\n",
       "      <td>There is a polyp in the antrum which is sessil...</td>\n",
       "      <td>1</td>\n",
       "    </tr>\n",
       "    <tr>\n",
       "      <th>2</th>\n",
       "      <td>The patient has inflammation in the second par...</td>\n",
       "      <td>1</td>\n",
       "    </tr>\n",
       "    <tr>\n",
       "      <th>3</th>\n",
       "      <td>Normal gastroscopy to the duodenum.</td>\n",
       "      <td>1</td>\n",
       "    </tr>\n",
       "    <tr>\n",
       "      <th>4</th>\n",
       "      <td>There is an ulcer in the second part of the du...</td>\n",
       "      <td>1</td>\n",
       "    </tr>\n",
       "  </tbody>\n",
       "</table>\n",
       "</div>"
      ],
      "text/plain": [
       "                                            findings  label\n",
       "0  The patient has Barrett's oesophagus. It is a ...      1\n",
       "1  There is a polyp in the antrum which is sessil...      1\n",
       "2  The patient has inflammation in the second par...      1\n",
       "3               Normal gastroscopy to the duodenum.       1\n",
       "4  There is an ulcer in the second part of the du...      1"
      ]
     },
     "execution_count": 58,
     "metadata": {},
     "output_type": "execute_result"
    }
   ],
   "source": [
    "sentences.head()"
   ]
  },
  {
   "cell_type": "code",
   "execution_count": 62,
   "id": "73606827",
   "metadata": {},
   "outputs": [
    {
     "data": {
      "text/html": [
       "<div>\n",
       "<style scoped>\n",
       "    .dataframe tbody tr th:only-of-type {\n",
       "        vertical-align: middle;\n",
       "    }\n",
       "\n",
       "    .dataframe tbody tr th {\n",
       "        vertical-align: top;\n",
       "    }\n",
       "\n",
       "    .dataframe thead th {\n",
       "        text-align: right;\n",
       "    }\n",
       "</style>\n",
       "<table border=\"1\" class=\"dataframe\">\n",
       "  <thead>\n",
       "    <tr style=\"text-align: right;\">\n",
       "      <th></th>\n",
       "      <th>findings</th>\n",
       "      <th>label</th>\n",
       "    </tr>\n",
       "  </thead>\n",
       "  <tbody>\n",
       "    <tr>\n",
       "      <th>999</th>\n",
       "      <td>list(\"The stricture will need to be dilatated ...</td>\n",
       "      <td>1</td>\n",
       "    </tr>\n",
       "    <tr>\n",
       "      <th>1000</th>\n",
       "      <td>.htworg pylop fo ksir eht esaercni dna hcamots...</td>\n",
       "      <td>0</td>\n",
       "    </tr>\n",
       "  </tbody>\n",
       "</table>\n",
       "</div>"
      ],
      "text/plain": [
       "                                               findings  label\n",
       "999   list(\"The stricture will need to be dilatated ...      1\n",
       "1000  .htworg pylop fo ksir eht esaercni dna hcamots...      0"
      ]
     },
     "execution_count": 62,
     "metadata": {},
     "output_type": "execute_result"
    }
   ],
   "source": [
    "sentences.loc[999:1000]"
   ]
  },
  {
   "cell_type": "code",
   "execution_count": 63,
   "id": "162a42b8",
   "metadata": {},
   "outputs": [],
   "source": [
    "def tokenize(batch):\n",
    "    return tokenizer(batch[\"findings\"], padding = True, truncation = True)"
   ]
  },
  {
   "cell_type": "code",
   "execution_count": 69,
   "id": "88e0325f",
   "metadata": {},
   "outputs": [
    {
     "data": {
      "text/plain": [
       "\"The patient has Barrett's oesophagus. It is a long segment. No loss of aceto-whitening  was also seen. Short segment only. There is a polyp in the third part of the duodenum which is stalked with an abnormal pit pattern. The mucosa surrounding the nodules is inflamed and edematous, with a granular appearance.The polyp was marked with a tattoo to aid in future surveillance endoscopy.. NA RECOMMENDATION: The patient should be informed of the diagnosis and the importance of adhering to the recommended treatment plan.  The patient may be prescribed medication to reduce the risk of developing more polyps. FOLLOW UP: The patient may be prescribed medication to manage any symptoms associated with the nodule, such as pain or discomfort.  The patient should be advised to avoid consuming too much sugar, as this can increase the risk of bacterial overgrowth in the stomach and increase the risk of polyp growth.\""
      ]
     },
     "execution_count": 69,
     "metadata": {},
     "output_type": "execute_result"
    }
   ],
   "source": [
    "sentences[\"findings\"][0]"
   ]
  },
  {
   "cell_type": "code",
   "execution_count": 67,
   "id": "dc363827",
   "metadata": {},
   "outputs": [
    {
     "ename": "TypeError",
     "evalue": "string indices must be integers",
     "output_type": "error",
     "traceback": [
      "\u001b[0;31m---------------------------------------------------------------------------\u001b[0m",
      "\u001b[0;31mTypeError\u001b[0m                                 Traceback (most recent call last)",
      "Cell \u001b[0;32mIn[67], line 1\u001b[0m\n\u001b[0;32m----> 1\u001b[0m \u001b[43mtokenize\u001b[49m\u001b[43m(\u001b[49m\u001b[43msentences\u001b[49m\u001b[43m[\u001b[49m\u001b[38;5;124;43m\"\u001b[39;49m\u001b[38;5;124;43mfindings\u001b[39;49m\u001b[38;5;124;43m\"\u001b[39;49m\u001b[43m]\u001b[49m\u001b[43m[\u001b[49m\u001b[38;5;241;43m0\u001b[39;49m\u001b[43m]\u001b[49m\u001b[43m)\u001b[49m\n",
      "Cell \u001b[0;32mIn[63], line 2\u001b[0m, in \u001b[0;36mtokenize\u001b[0;34m(batch)\u001b[0m\n\u001b[1;32m      1\u001b[0m \u001b[38;5;28;01mdef\u001b[39;00m \u001b[38;5;21mtokenize\u001b[39m(batch):\n\u001b[0;32m----> 2\u001b[0m     \u001b[38;5;28;01mreturn\u001b[39;00m tokenizer(\u001b[43mbatch\u001b[49m\u001b[43m[\u001b[49m\u001b[38;5;124;43m\"\u001b[39;49m\u001b[38;5;124;43mfindings\u001b[39;49m\u001b[38;5;124;43m\"\u001b[39;49m\u001b[43m]\u001b[49m, padding \u001b[38;5;241m=\u001b[39m \u001b[38;5;28;01mTrue\u001b[39;00m, truncation \u001b[38;5;241m=\u001b[39m \u001b[38;5;28;01mTrue\u001b[39;00m)\n",
      "\u001b[0;31mTypeError\u001b[0m: string indices must be integers"
     ]
    }
   ],
   "source": [
    "tokenize(sentences[\"findings\"][0])"
   ]
  },
  {
   "cell_type": "code",
   "execution_count": 70,
   "id": "7ebb614d",
   "metadata": {},
   "outputs": [
    {
     "ename": "ModuleNotFoundError",
     "evalue": "No module named 'datasets'",
     "output_type": "error",
     "traceback": [
      "\u001b[0;31m---------------------------------------------------------------------------\u001b[0m",
      "\u001b[0;31mModuleNotFoundError\u001b[0m                       Traceback (most recent call last)",
      "Cell \u001b[0;32mIn[70], line 1\u001b[0m\n\u001b[0;32m----> 1\u001b[0m \u001b[38;5;28;01mimport\u001b[39;00m \u001b[38;5;21;01mdatasets\u001b[39;00m\n\u001b[1;32m      3\u001b[0m Dict \u001b[38;5;241m=\u001b[39m datasets\u001b[38;5;241m.\u001b[39mDatasetDict({\u001b[38;5;124m\"\u001b[39m\u001b[38;5;124mtrain\u001b[39m\u001b[38;5;124m\"\u001b[39m:sentences})\n",
      "\u001b[0;31mModuleNotFoundError\u001b[0m: No module named 'datasets'"
     ]
    }
   ],
   "source": [
    "import datasets\n",
    "\n",
    "Dict = datasets.DatasetDict({\"train\":sentences})"
   ]
  },
  {
   "cell_type": "code",
   "execution_count": null,
   "id": "80e4cb51",
   "metadata": {},
   "outputs": [],
   "source": [
    "dict =  "
   ]
  }
 ],
 "metadata": {
  "kernelspec": {
   "display_name": "Python 3 (ipykernel)",
   "language": "python",
   "name": "python3"
  },
  "language_info": {
   "codemirror_mode": {
    "name": "ipython",
    "version": 3
   },
   "file_extension": ".py",
   "mimetype": "text/x-python",
   "name": "python",
   "nbconvert_exporter": "python",
   "pygments_lexer": "ipython3",
   "version": "3.10.6"
  },
  "toc": {
   "base_numbering": 1,
   "nav_menu": {},
   "number_sections": true,
   "sideBar": true,
   "skip_h1_title": false,
   "title_cell": "Table of Contents",
   "title_sidebar": "Contents",
   "toc_cell": false,
   "toc_position": {},
   "toc_section_display": true,
   "toc_window_display": false
  }
 },
 "nbformat": 4,
 "nbformat_minor": 5
}
