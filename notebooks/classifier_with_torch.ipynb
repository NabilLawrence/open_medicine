{
 "cells": [
  {
   "cell_type": "code",
   "execution_count": 2,
   "id": "1566ac60",
   "metadata": {
    "ExecuteTime": {
     "end_time": "2023-03-08T10:17:29.156194Z",
     "start_time": "2023-03-08T10:17:29.149471Z"
    }
   },
   "outputs": [],
   "source": [
    "import numpy as np\n",
    "import matplotlib.pyplot as plt\n",
    "import pandas as pd\n",
    "import seaborn as sns\n",
    "import warnings \n",
    "warnings.filterwarnings('ignore')\n",
    "import os\n",
    "os.environ['TF_CPP_MIN_LOG_LEVEL'] = '3'\n",
    "import re\n",
    "from Classifier import data_cleaning # created method to clean and extract data"
   ]
  },
  {
   "cell_type": "code",
   "execution_count": 3,
   "id": "37b4c9b2",
   "metadata": {
    "ExecuteTime": {
     "end_time": "2023-03-08T10:17:30.419832Z",
     "start_time": "2023-03-08T10:17:29.644307Z"
    }
   },
   "outputs": [],
   "source": [
    "import torch"
   ]
  },
  {
   "cell_type": "code",
   "execution_count": 4,
   "id": "b6146e3e",
   "metadata": {
    "ExecuteTime": {
     "end_time": "2023-03-08T10:17:31.954643Z",
     "start_time": "2023-03-08T10:17:30.476558Z"
    }
   },
   "outputs": [],
   "source": [
    "from transformers import AutoTokenizer, AutoModelForCausalLM"
   ]
  },
  {
   "cell_type": "code",
   "execution_count": 5,
   "id": "c6162568",
   "metadata": {
    "ExecuteTime": {
     "end_time": "2023-03-08T10:17:33.351420Z",
     "start_time": "2023-03-08T10:17:32.022497Z"
    }
   },
   "outputs": [],
   "source": [
    "tokenizer = AutoTokenizer.from_pretrained(\"microsoft/biogpt\")"
   ]
  },
  {
   "cell_type": "code",
   "execution_count": 6,
   "id": "287398a5",
   "metadata": {
    "ExecuteTime": {
     "end_time": "2023-03-08T10:17:37.196919Z",
     "start_time": "2023-03-08T10:17:33.413872Z"
    }
   },
   "outputs": [],
   "source": [
    "model = AutoModelForCausalLM.from_pretrained(\"microsoft/biogpt\")"
   ]
  },
  {
   "cell_type": "code",
   "execution_count": 7,
   "id": "409b482a",
   "metadata": {
    "ExecuteTime": {
     "end_time": "2023-03-08T10:17:37.402591Z",
     "start_time": "2023-03-08T10:17:37.261125Z"
    }
   },
   "outputs": [
    {
     "data": {
      "text/plain": [
       "0      The patient has Barrett's oesophagus. It is a ...\n",
       "1      There is a polyp in the antrum which is sessil...\n",
       "2      The patient has inflammation in the second par...\n",
       "3                   Normal gastroscopy to the duodenum. \n",
       "4      There is an ulcer in the second part of the du...\n",
       "                             ...                        \n",
       "995    The patient has a polyp in the second part of ...\n",
       "996    There is a nodule in the second part of the du...\n",
       "997    The patient has a 8mm nodule in the GOJ which ...\n",
       "998               Normal gastroscopy to the duodenum. NA\n",
       "999    list(\"The stricture will need to be dilatated ...\n",
       "Name: findings, Length: 1000, dtype: object"
      ]
     },
     "execution_count": 7,
     "metadata": {},
     "output_type": "execute_result"
    }
   ],
   "source": [
    "#-----------------------------------------------------\n",
    "# Loading dataset\n",
    "#-----------------------------------------------------\n",
    "OGD_FakeSet = pd.read_csv(\"../data/OGD_FakeSet.csv\")\n",
    "#-----------------------------------------------------\n",
    "# Cleaning dataset\n",
    "#-----------------------------------------------------\n",
    "df = data_cleaning(OGD_FakeSet)\n",
    "#-----------------------------------------------------\n",
    "# Vectorizing text in findings features\n",
    "#-----------------------------------------------------\n",
    "df['findings']"
   ]
  },
  {
   "cell_type": "code",
   "execution_count": 8,
   "id": "6ca3f392",
   "metadata": {
    "ExecuteTime": {
     "end_time": "2023-03-08T10:17:37.578662Z",
     "start_time": "2023-03-08T10:17:37.574870Z"
    }
   },
   "outputs": [],
   "source": [
    "findings = df['findings']"
   ]
  },
  {
   "cell_type": "code",
   "execution_count": 9,
   "id": "48573d6b",
   "metadata": {
    "ExecuteTime": {
     "end_time": "2023-03-08T10:17:38.032641Z",
     "start_time": "2023-03-08T10:17:38.023359Z"
    }
   },
   "outputs": [
    {
     "data": {
      "text/plain": [
       "(1000,)"
      ]
     },
     "execution_count": 9,
     "metadata": {},
     "output_type": "execute_result"
    }
   ],
   "source": [
    "findings.shape"
   ]
  },
  {
   "cell_type": "code",
   "execution_count": 10,
   "id": "579c4474",
   "metadata": {
    "ExecuteTime": {
     "end_time": "2023-03-08T10:17:38.796968Z",
     "start_time": "2023-03-08T10:17:38.789678Z"
    }
   },
   "outputs": [
    {
     "data": {
      "text/plain": [
       "pandas.core.series.Series"
      ]
     },
     "execution_count": 10,
     "metadata": {},
     "output_type": "execute_result"
    }
   ],
   "source": [
    "type(findings)"
   ]
  },
  {
   "cell_type": "code",
   "execution_count": 11,
   "id": "cc95f61f",
   "metadata": {
    "ExecuteTime": {
     "end_time": "2023-03-08T10:17:39.404220Z",
     "start_time": "2023-03-08T10:17:39.397494Z"
    }
   },
   "outputs": [
    {
     "data": {
      "text/plain": [
       "\".htworg pylop fo ksir eht esaercni dna hcamots eht ni htworgrevo lairetcab fo ksir eht esaercni nac siht sa ,ragus hcum oot gnimusnoc diova ot desivda eb dluohs tneitap ehT  .trofmocsid ro niap sa hcus ,eludon eht htiw detaicossa smotpmys yna eganam ot noitacidem debircserp eb yam tneitap ehT :PU WOLLOF .spylop erom gnipoleved fo ksir eht ecuder ot noitacidem debircserp eb yam tneitap ehT  .nalp tnemtaert dednemmocer eht ot gnirehda fo ecnatropmi eht dna sisongaid eht fo demrofni eb dluohs tneitap ehT :NOITADNEMMOCER AN ..ypocsodne ecnallievrus erutuf ni dia ot oottat a htiw dekram saw pylop ehT.ecnaraeppa ralunarg a htiw ,suotamede dna demalfni si seludon eht gnidnuorrus asocum ehT .nrettap tip lamronba na htiw deklats si hcihw munedoud eht fo trap driht eht ni pylop a si erehT .ylno tnemges trohS .nees osla saw  gninetihw-oteca fo ssol oN .tnemges gnol a si tI .sugahposeo s'tterraB sah tneitap ehT\""
      ]
     },
     "execution_count": 11,
     "metadata": {},
     "output_type": "execute_result"
    }
   ],
   "source": [
    "findings[0][::-1]"
   ]
  },
  {
   "cell_type": "code",
   "execution_count": 12,
   "id": "ca925730",
   "metadata": {
    "ExecuteTime": {
     "end_time": "2023-03-08T10:17:40.545514Z",
     "start_time": "2023-03-08T10:17:40.539956Z"
    }
   },
   "outputs": [],
   "source": [
    "def reverse(row):\n",
    "    row = row[::-1]\n",
    "    return row\n",
    "\n",
    "findings_reverse = findings.apply(reverse)"
   ]
  },
  {
   "cell_type": "code",
   "execution_count": 13,
   "id": "4153a8e0",
   "metadata": {
    "ExecuteTime": {
     "end_time": "2023-03-08T10:17:41.642208Z",
     "start_time": "2023-03-08T10:17:41.635286Z"
    }
   },
   "outputs": [
    {
     "data": {
      "text/plain": [
       "\".htworg pylop fo ksir eht esaercni dna hcamots eht ni htworgrevo lairetcab fo ksir eht esaercni nac siht sa ,ragus hcum oot gnimusnoc diova ot desivda eb dluohs tneitap ehT  .trofmocsid ro niap sa hcus ,eludon eht htiw detaicossa smotpmys yna eganam ot noitacidem debircserp eb yam tneitap ehT :PU WOLLOF .spylop erom gnipoleved fo ksir eht ecuder ot noitacidem debircserp eb yam tneitap ehT  .nalp tnemtaert dednemmocer eht ot gnirehda fo ecnatropmi eht dna sisongaid eht fo demrofni eb dluohs tneitap ehT :NOITADNEMMOCER AN ..ypocsodne ecnallievrus erutuf ni dia ot oottat a htiw dekram saw pylop ehT.ecnaraeppa ralunarg a htiw ,suotamede dna demalfni si seludon eht gnidnuorrus asocum ehT .nrettap tip lamronba na htiw deklats si hcihw munedoud eht fo trap driht eht ni pylop a si erehT .ylno tnemges trohS .nees osla saw  gninetihw-oteca fo ssol oN .tnemges gnol a si tI .sugahposeo s'tterraB sah tneitap ehT\""
      ]
     },
     "execution_count": 13,
     "metadata": {},
     "output_type": "execute_result"
    }
   ],
   "source": [
    "findings_reverse[0]"
   ]
  },
  {
   "cell_type": "code",
   "execution_count": 14,
   "id": "c05fa5a5",
   "metadata": {
    "ExecuteTime": {
     "end_time": "2023-03-08T10:17:42.385978Z",
     "start_time": "2023-03-08T10:17:42.128236Z"
    }
   },
   "outputs": [],
   "source": [
    "inputs = tokenizer(findings_reverse[0], return_tensors=\"pt\")"
   ]
  },
  {
   "cell_type": "code",
   "execution_count": 15,
   "id": "67e529dd",
   "metadata": {
    "ExecuteTime": {
     "end_time": "2023-03-08T10:17:42.597802Z",
     "start_time": "2023-03-08T10:17:42.591000Z"
    }
   },
   "outputs": [
    {
     "data": {
      "text/plain": [
       "\"The patient has Barrett's oesophagus. It is a long segment. No loss of aceto-whitening  was also seen. Short segment only. There is a polyp in the third part of the duodenum which is stalked with an abnormal pit pattern. The mucosa surrounding the nodules is inflamed and edematous, with a granular appearance.The polyp was marked with a tattoo to aid in future surveillance endoscopy.. NA RECOMMENDATION: The patient should be informed of the diagnosis and the importance of adhering to the recommended treatment plan.  The patient may be prescribed medication to reduce the risk of developing more polyps. FOLLOW UP: The patient may be prescribed medication to manage any symptoms associated with the nodule, such as pain or discomfort.  The patient should be advised to avoid consuming too much sugar, as this can increase the risk of bacterial overgrowth in the stomach and increase the risk of polyp growth.\""
      ]
     },
     "execution_count": 15,
     "metadata": {},
     "output_type": "execute_result"
    }
   ],
   "source": [
    "findings[0]"
   ]
  },
  {
   "cell_type": "code",
   "execution_count": 16,
   "id": "8aee6f6c",
   "metadata": {
    "ExecuteTime": {
     "end_time": "2023-03-08T10:17:43.061989Z",
     "start_time": "2023-03-08T10:17:43.051860Z"
    }
   },
   "outputs": [],
   "source": [
    "inputs2 = tokenizer(findings[0], return_tensors=\"pt\")"
   ]
  },
  {
   "cell_type": "code",
   "execution_count": 17,
   "id": "2cae0faa",
   "metadata": {
    "ExecuteTime": {
     "end_time": "2023-03-08T10:17:43.452953Z",
     "start_time": "2023-03-08T10:17:43.446298Z"
    }
   },
   "outputs": [
    {
     "data": {
      "text/plain": [
       "torch.Size([1, 424])"
      ]
     },
     "execution_count": 17,
     "metadata": {},
     "output_type": "execute_result"
    }
   ],
   "source": [
    "inputs['input_ids'].shape"
   ]
  },
  {
   "cell_type": "code",
   "execution_count": 18,
   "id": "47883320",
   "metadata": {
    "ExecuteTime": {
     "end_time": "2023-03-08T10:17:43.861786Z",
     "start_time": "2023-03-08T10:17:43.852675Z"
    }
   },
   "outputs": [
    {
     "data": {
      "text/plain": [
       "{'input_ids': tensor([[    2,    18,   125,    57, 15676,   121, 18456,     4,   212,    21,\n",
       "            14,   281,  2112,     4,   668,   435,     5, 11136,    13,     9,\n",
       "         21366,  8268,    17,    72,   724,     4,  5603,  2112,   129,     4,\n",
       "           271,    21,    14, 15032,    10,     6,  1202,   672,     5,     6,\n",
       "          9691,    46,    21, 19947,  7031,    15,    32,  1447, 22054,   673,\n",
       "             4,    18,  2626,  3476,     6,  4463,    21, 12803,     8, 26797,\n",
       "             7,    15,    14,  7623, 13369,  6126,  6626, 10158,    18, 15032,\n",
       "            17,  1663,    15,    14, 22667,  4495,    13,  3482,    10,   894,\n",
       "          2876,  5423, 34150,  3272,  2630, 17081, 27061,  8382, 10395,    20,\n",
       "            18,   125,   282,    33,  5099,     5,     6,   227,     8,     6,\n",
       "           923,     5, 25809,    13,     6,  1728,    53,  4529,     4,    18,\n",
       "           125,    63,    33,  4272,  1817,    13,   897,     6,   105,     5,\n",
       "          1096,    77,  7965,     4, 22136,  5783,  1470, 18521,    20,    18,\n",
       "           125,    63,    33,  4272,  1817,    13,  6327,   420,   367,    73,\n",
       "            15,     6,  8874,     7,   147,    27,   353,    30,  8297,     4,\n",
       "            18,   125,   282,    33, 17028,    13,  3350,  7118,  4495,  1100,\n",
       "          4265,     7,    27,    35,    71,   165,     6,   105,     5,   945,\n",
       "         19235,    10,     6,  3897,     8,   165,     6,   105,     5, 15032,\n",
       "           179,     4]]), 'attention_mask': tensor([[1, 1, 1, 1, 1, 1, 1, 1, 1, 1, 1, 1, 1, 1, 1, 1, 1, 1, 1, 1, 1, 1, 1, 1,\n",
       "         1, 1, 1, 1, 1, 1, 1, 1, 1, 1, 1, 1, 1, 1, 1, 1, 1, 1, 1, 1, 1, 1, 1, 1,\n",
       "         1, 1, 1, 1, 1, 1, 1, 1, 1, 1, 1, 1, 1, 1, 1, 1, 1, 1, 1, 1, 1, 1, 1, 1,\n",
       "         1, 1, 1, 1, 1, 1, 1, 1, 1, 1, 1, 1, 1, 1, 1, 1, 1, 1, 1, 1, 1, 1, 1, 1,\n",
       "         1, 1, 1, 1, 1, 1, 1, 1, 1, 1, 1, 1, 1, 1, 1, 1, 1, 1, 1, 1, 1, 1, 1, 1,\n",
       "         1, 1, 1, 1, 1, 1, 1, 1, 1, 1, 1, 1, 1, 1, 1, 1, 1, 1, 1, 1, 1, 1, 1, 1,\n",
       "         1, 1, 1, 1, 1, 1, 1, 1, 1, 1, 1, 1, 1, 1, 1, 1, 1, 1, 1, 1, 1, 1, 1, 1,\n",
       "         1, 1, 1, 1, 1, 1, 1, 1, 1, 1, 1, 1, 1, 1]])}"
      ]
     },
     "execution_count": 18,
     "metadata": {},
     "output_type": "execute_result"
    }
   ],
   "source": [
    "inputs2"
   ]
  },
  {
   "cell_type": "code",
   "execution_count": 19,
   "id": "16634461",
   "metadata": {
    "ExecuteTime": {
     "end_time": "2023-03-08T10:17:46.675314Z",
     "start_time": "2023-03-08T10:17:44.166723Z"
    }
   },
   "outputs": [],
   "source": [
    "outputs = model(**inputs)"
   ]
  },
  {
   "cell_type": "code",
   "execution_count": 20,
   "id": "1e9793a0",
   "metadata": {
    "ExecuteTime": {
     "end_time": "2023-03-08T10:17:47.474121Z",
     "start_time": "2023-03-08T10:17:47.467139Z"
    }
   },
   "outputs": [],
   "source": [
    "sentences = pd.concat([findings, findings_reverse]) "
   ]
  },
  {
   "cell_type": "code",
   "execution_count": 21,
   "id": "c2f2c2ff",
   "metadata": {
    "ExecuteTime": {
     "end_time": "2023-03-08T10:17:49.422926Z",
     "start_time": "2023-03-08T10:17:49.416034Z"
    }
   },
   "outputs": [
    {
     "data": {
      "text/plain": [
       "(2000,)"
      ]
     },
     "execution_count": 21,
     "metadata": {},
     "output_type": "execute_result"
    }
   ],
   "source": [
    "sentences.shape"
   ]
  },
  {
   "cell_type": "code",
   "execution_count": 22,
   "id": "35a8f504",
   "metadata": {
    "ExecuteTime": {
     "end_time": "2023-03-08T10:17:50.240358Z",
     "start_time": "2023-03-08T10:17:50.234541Z"
    }
   },
   "outputs": [
    {
     "data": {
      "text/plain": [
       "0    The patient has Barrett's oesophagus. It is a ...\n",
       "1    There is a polyp in the antrum which is sessil...\n",
       "2    The patient has inflammation in the second par...\n",
       "3                 Normal gastroscopy to the duodenum. \n",
       "4    There is an ulcer in the second part of the du...\n",
       "Name: findings, dtype: object"
      ]
     },
     "execution_count": 22,
     "metadata": {},
     "output_type": "execute_result"
    }
   ],
   "source": [
    "sentences.head()"
   ]
  },
  {
   "cell_type": "code",
   "execution_count": 23,
   "id": "8a6fcf49",
   "metadata": {
    "ExecuteTime": {
     "end_time": "2023-03-08T10:17:51.034417Z",
     "start_time": "2023-03-08T10:17:51.028914Z"
    }
   },
   "outputs": [],
   "source": [
    "sentences = sentences.to_frame()"
   ]
  },
  {
   "cell_type": "code",
   "execution_count": 24,
   "id": "e87cae17",
   "metadata": {
    "ExecuteTime": {
     "end_time": "2023-03-08T10:17:51.850781Z",
     "start_time": "2023-03-08T10:17:51.843160Z"
    }
   },
   "outputs": [
    {
     "data": {
      "text/plain": [
       "pandas.core.frame.DataFrame"
      ]
     },
     "execution_count": 24,
     "metadata": {},
     "output_type": "execute_result"
    }
   ],
   "source": [
    "type(sentences)"
   ]
  },
  {
   "cell_type": "code",
   "execution_count": 25,
   "id": "4750ead3",
   "metadata": {
    "ExecuteTime": {
     "end_time": "2023-03-08T10:17:52.695528Z",
     "start_time": "2023-03-08T10:17:52.684734Z"
    }
   },
   "outputs": [
    {
     "data": {
      "text/html": [
       "<div>\n",
       "<style scoped>\n",
       "    .dataframe tbody tr th:only-of-type {\n",
       "        vertical-align: middle;\n",
       "    }\n",
       "\n",
       "    .dataframe tbody tr th {\n",
       "        vertical-align: top;\n",
       "    }\n",
       "\n",
       "    .dataframe thead th {\n",
       "        text-align: right;\n",
       "    }\n",
       "</style>\n",
       "<table border=\"1\" class=\"dataframe\">\n",
       "  <thead>\n",
       "    <tr style=\"text-align: right;\">\n",
       "      <th></th>\n",
       "      <th>findings</th>\n",
       "    </tr>\n",
       "  </thead>\n",
       "  <tbody>\n",
       "    <tr>\n",
       "      <th>0</th>\n",
       "      <td>The patient has Barrett's oesophagus. It is a ...</td>\n",
       "    </tr>\n",
       "    <tr>\n",
       "      <th>1</th>\n",
       "      <td>There is a polyp in the antrum which is sessil...</td>\n",
       "    </tr>\n",
       "    <tr>\n",
       "      <th>2</th>\n",
       "      <td>The patient has inflammation in the second par...</td>\n",
       "    </tr>\n",
       "    <tr>\n",
       "      <th>3</th>\n",
       "      <td>Normal gastroscopy to the duodenum.</td>\n",
       "    </tr>\n",
       "    <tr>\n",
       "      <th>4</th>\n",
       "      <td>There is an ulcer in the second part of the du...</td>\n",
       "    </tr>\n",
       "  </tbody>\n",
       "</table>\n",
       "</div>"
      ],
      "text/plain": [
       "                                            findings\n",
       "0  The patient has Barrett's oesophagus. It is a ...\n",
       "1  There is a polyp in the antrum which is sessil...\n",
       "2  The patient has inflammation in the second par...\n",
       "3               Normal gastroscopy to the duodenum. \n",
       "4  There is an ulcer in the second part of the du..."
      ]
     },
     "execution_count": 25,
     "metadata": {},
     "output_type": "execute_result"
    }
   ],
   "source": [
    "sentences.head()"
   ]
  },
  {
   "cell_type": "code",
   "execution_count": 26,
   "id": "519c2c8a",
   "metadata": {
    "ExecuteTime": {
     "end_time": "2023-03-08T10:17:53.489741Z",
     "start_time": "2023-03-08T10:17:53.480897Z"
    }
   },
   "outputs": [],
   "source": [
    "sentences['label'] = 0"
   ]
  },
  {
   "cell_type": "code",
   "execution_count": 27,
   "id": "e741f373",
   "metadata": {
    "ExecuteTime": {
     "end_time": "2023-03-08T10:17:54.294329Z",
     "start_time": "2023-03-08T10:17:54.285492Z"
    }
   },
   "outputs": [
    {
     "data": {
      "text/html": [
       "<div>\n",
       "<style scoped>\n",
       "    .dataframe tbody tr th:only-of-type {\n",
       "        vertical-align: middle;\n",
       "    }\n",
       "\n",
       "    .dataframe tbody tr th {\n",
       "        vertical-align: top;\n",
       "    }\n",
       "\n",
       "    .dataframe thead th {\n",
       "        text-align: right;\n",
       "    }\n",
       "</style>\n",
       "<table border=\"1\" class=\"dataframe\">\n",
       "  <thead>\n",
       "    <tr style=\"text-align: right;\">\n",
       "      <th></th>\n",
       "      <th>findings</th>\n",
       "      <th>label</th>\n",
       "    </tr>\n",
       "  </thead>\n",
       "  <tbody>\n",
       "    <tr>\n",
       "      <th>0</th>\n",
       "      <td>The patient has Barrett's oesophagus. It is a ...</td>\n",
       "      <td>0</td>\n",
       "    </tr>\n",
       "    <tr>\n",
       "      <th>1</th>\n",
       "      <td>There is a polyp in the antrum which is sessil...</td>\n",
       "      <td>0</td>\n",
       "    </tr>\n",
       "    <tr>\n",
       "      <th>2</th>\n",
       "      <td>The patient has inflammation in the second par...</td>\n",
       "      <td>0</td>\n",
       "    </tr>\n",
       "    <tr>\n",
       "      <th>3</th>\n",
       "      <td>Normal gastroscopy to the duodenum.</td>\n",
       "      <td>0</td>\n",
       "    </tr>\n",
       "    <tr>\n",
       "      <th>4</th>\n",
       "      <td>There is an ulcer in the second part of the du...</td>\n",
       "      <td>0</td>\n",
       "    </tr>\n",
       "  </tbody>\n",
       "</table>\n",
       "</div>"
      ],
      "text/plain": [
       "                                            findings  label\n",
       "0  The patient has Barrett's oesophagus. It is a ...      0\n",
       "1  There is a polyp in the antrum which is sessil...      0\n",
       "2  The patient has inflammation in the second par...      0\n",
       "3               Normal gastroscopy to the duodenum.       0\n",
       "4  There is an ulcer in the second part of the du...      0"
      ]
     },
     "execution_count": 27,
     "metadata": {},
     "output_type": "execute_result"
    }
   ],
   "source": [
    "sentences.head()"
   ]
  },
  {
   "cell_type": "code",
   "execution_count": 28,
   "id": "3b80a87f",
   "metadata": {
    "ExecuteTime": {
     "end_time": "2023-03-08T10:17:55.108849Z",
     "start_time": "2023-03-08T10:17:55.104596Z"
    }
   },
   "outputs": [],
   "source": [
    "sentences.reset_index(drop=True, inplace=True) "
   ]
  },
  {
   "cell_type": "code",
   "execution_count": 29,
   "id": "3fa630ed",
   "metadata": {
    "ExecuteTime": {
     "end_time": "2023-03-08T10:17:55.903914Z",
     "start_time": "2023-03-08T10:17:55.895491Z"
    }
   },
   "outputs": [
    {
     "data": {
      "text/html": [
       "<div>\n",
       "<style scoped>\n",
       "    .dataframe tbody tr th:only-of-type {\n",
       "        vertical-align: middle;\n",
       "    }\n",
       "\n",
       "    .dataframe tbody tr th {\n",
       "        vertical-align: top;\n",
       "    }\n",
       "\n",
       "    .dataframe thead th {\n",
       "        text-align: right;\n",
       "    }\n",
       "</style>\n",
       "<table border=\"1\" class=\"dataframe\">\n",
       "  <thead>\n",
       "    <tr style=\"text-align: right;\">\n",
       "      <th></th>\n",
       "      <th>findings</th>\n",
       "      <th>label</th>\n",
       "    </tr>\n",
       "  </thead>\n",
       "  <tbody>\n",
       "    <tr>\n",
       "      <th>1995</th>\n",
       "      <td>.sag fo noitcudorp eht gnisaercni yb spylop er...</td>\n",
       "      <td>0</td>\n",
       "    </tr>\n",
       "    <tr>\n",
       "      <th>1996</th>\n",
       "      <td>.eludon eht evomer ot yregrus sa hcus ,tnemtae...</td>\n",
       "      <td>0</td>\n",
       "    </tr>\n",
       "    <tr>\n",
       "      <th>1997</th>\n",
       "      <td>.tnemtaert dna noitaulave rehtruf rof tsigoloc...</td>\n",
       "      <td>0</td>\n",
       "    </tr>\n",
       "    <tr>\n",
       "      <th>1998</th>\n",
       "      <td>AN .munedoud eht ot ypocsortsag lamroN</td>\n",
       "      <td>0</td>\n",
       "    </tr>\n",
       "    <tr>\n",
       "      <th>1999</th>\n",
       "      <td>\\r ,\"noollab ERC a htiw mm 5 ot detalid\" ,\"noo...</td>\n",
       "      <td>0</td>\n",
       "    </tr>\n",
       "  </tbody>\n",
       "</table>\n",
       "</div>"
      ],
      "text/plain": [
       "                                               findings  label\n",
       "1995  .sag fo noitcudorp eht gnisaercni yb spylop er...      0\n",
       "1996  .eludon eht evomer ot yregrus sa hcus ,tnemtae...      0\n",
       "1997  .tnemtaert dna noitaulave rehtruf rof tsigoloc...      0\n",
       "1998             AN .munedoud eht ot ypocsortsag lamroN      0\n",
       "1999  \\r ,\"noollab ERC a htiw mm 5 ot detalid\" ,\"noo...      0"
      ]
     },
     "execution_count": 29,
     "metadata": {},
     "output_type": "execute_result"
    }
   ],
   "source": [
    "sentences.tail()"
   ]
  },
  {
   "cell_type": "code",
   "execution_count": 30,
   "id": "efa3c669",
   "metadata": {
    "ExecuteTime": {
     "end_time": "2023-03-08T10:17:56.760352Z",
     "start_time": "2023-03-08T10:17:56.740403Z"
    }
   },
   "outputs": [],
   "source": [
    "for index in range(0,1000):\n",
    "    sentences.at[index,'label']=1"
   ]
  },
  {
   "cell_type": "code",
   "execution_count": 31,
   "id": "f4cf9249",
   "metadata": {
    "ExecuteTime": {
     "end_time": "2023-03-08T10:17:57.500059Z",
     "start_time": "2023-03-08T10:17:57.491661Z"
    }
   },
   "outputs": [
    {
     "data": {
      "text/html": [
       "<div>\n",
       "<style scoped>\n",
       "    .dataframe tbody tr th:only-of-type {\n",
       "        vertical-align: middle;\n",
       "    }\n",
       "\n",
       "    .dataframe tbody tr th {\n",
       "        vertical-align: top;\n",
       "    }\n",
       "\n",
       "    .dataframe thead th {\n",
       "        text-align: right;\n",
       "    }\n",
       "</style>\n",
       "<table border=\"1\" class=\"dataframe\">\n",
       "  <thead>\n",
       "    <tr style=\"text-align: right;\">\n",
       "      <th></th>\n",
       "      <th>findings</th>\n",
       "      <th>label</th>\n",
       "    </tr>\n",
       "  </thead>\n",
       "  <tbody>\n",
       "    <tr>\n",
       "      <th>0</th>\n",
       "      <td>The patient has Barrett's oesophagus. It is a ...</td>\n",
       "      <td>1</td>\n",
       "    </tr>\n",
       "    <tr>\n",
       "      <th>1</th>\n",
       "      <td>There is a polyp in the antrum which is sessil...</td>\n",
       "      <td>1</td>\n",
       "    </tr>\n",
       "    <tr>\n",
       "      <th>2</th>\n",
       "      <td>The patient has inflammation in the second par...</td>\n",
       "      <td>1</td>\n",
       "    </tr>\n",
       "    <tr>\n",
       "      <th>3</th>\n",
       "      <td>Normal gastroscopy to the duodenum.</td>\n",
       "      <td>1</td>\n",
       "    </tr>\n",
       "    <tr>\n",
       "      <th>4</th>\n",
       "      <td>There is an ulcer in the second part of the du...</td>\n",
       "      <td>1</td>\n",
       "    </tr>\n",
       "  </tbody>\n",
       "</table>\n",
       "</div>"
      ],
      "text/plain": [
       "                                            findings  label\n",
       "0  The patient has Barrett's oesophagus. It is a ...      1\n",
       "1  There is a polyp in the antrum which is sessil...      1\n",
       "2  The patient has inflammation in the second par...      1\n",
       "3               Normal gastroscopy to the duodenum.       1\n",
       "4  There is an ulcer in the second part of the du...      1"
      ]
     },
     "execution_count": 31,
     "metadata": {},
     "output_type": "execute_result"
    }
   ],
   "source": [
    "sentences.head()"
   ]
  },
  {
   "cell_type": "code",
   "execution_count": 32,
   "id": "73606827",
   "metadata": {
    "ExecuteTime": {
     "end_time": "2023-03-08T10:17:58.307688Z",
     "start_time": "2023-03-08T10:17:58.299035Z"
    }
   },
   "outputs": [
    {
     "data": {
      "text/html": [
       "<div>\n",
       "<style scoped>\n",
       "    .dataframe tbody tr th:only-of-type {\n",
       "        vertical-align: middle;\n",
       "    }\n",
       "\n",
       "    .dataframe tbody tr th {\n",
       "        vertical-align: top;\n",
       "    }\n",
       "\n",
       "    .dataframe thead th {\n",
       "        text-align: right;\n",
       "    }\n",
       "</style>\n",
       "<table border=\"1\" class=\"dataframe\">\n",
       "  <thead>\n",
       "    <tr style=\"text-align: right;\">\n",
       "      <th></th>\n",
       "      <th>findings</th>\n",
       "      <th>label</th>\n",
       "    </tr>\n",
       "  </thead>\n",
       "  <tbody>\n",
       "    <tr>\n",
       "      <th>999</th>\n",
       "      <td>list(\"The stricture will need to be dilatated ...</td>\n",
       "      <td>1</td>\n",
       "    </tr>\n",
       "    <tr>\n",
       "      <th>1000</th>\n",
       "      <td>.htworg pylop fo ksir eht esaercni dna hcamots...</td>\n",
       "      <td>0</td>\n",
       "    </tr>\n",
       "  </tbody>\n",
       "</table>\n",
       "</div>"
      ],
      "text/plain": [
       "                                               findings  label\n",
       "999   list(\"The stricture will need to be dilatated ...      1\n",
       "1000  .htworg pylop fo ksir eht esaercni dna hcamots...      0"
      ]
     },
     "execution_count": 32,
     "metadata": {},
     "output_type": "execute_result"
    }
   ],
   "source": [
    "sentences.loc[999:1000]"
   ]
  },
  {
   "cell_type": "code",
   "execution_count": 33,
   "id": "88e0325f",
   "metadata": {
    "ExecuteTime": {
     "end_time": "2023-03-08T10:17:59.081236Z",
     "start_time": "2023-03-08T10:17:59.075710Z"
    }
   },
   "outputs": [
    {
     "data": {
      "text/plain": [
       "\"The patient has Barrett's oesophagus. It is a long segment. No loss of aceto-whitening  was also seen. Short segment only. There is a polyp in the third part of the duodenum which is stalked with an abnormal pit pattern. The mucosa surrounding the nodules is inflamed and edematous, with a granular appearance.The polyp was marked with a tattoo to aid in future surveillance endoscopy.. NA RECOMMENDATION: The patient should be informed of the diagnosis and the importance of adhering to the recommended treatment plan.  The patient may be prescribed medication to reduce the risk of developing more polyps. FOLLOW UP: The patient may be prescribed medication to manage any symptoms associated with the nodule, such as pain or discomfort.  The patient should be advised to avoid consuming too much sugar, as this can increase the risk of bacterial overgrowth in the stomach and increase the risk of polyp growth.\""
      ]
     },
     "execution_count": 33,
     "metadata": {},
     "output_type": "execute_result"
    }
   ],
   "source": [
    "sentences[\"findings\"][0]"
   ]
  },
  {
   "cell_type": "code",
   "execution_count": 34,
   "id": "55514c5f",
   "metadata": {
    "ExecuteTime": {
     "end_time": "2023-03-08T10:17:59.912912Z",
     "start_time": "2023-03-08T10:17:59.855996Z"
    }
   },
   "outputs": [],
   "source": [
    "from sklearn.model_selection import train_test_split\n",
    "train, test = train_test_split(sentences,test_size=0.3,random_state=1)"
   ]
  },
  {
   "cell_type": "code",
   "execution_count": 35,
   "id": "e8b800ae",
   "metadata": {
    "ExecuteTime": {
     "end_time": "2023-03-08T10:18:00.699018Z",
     "start_time": "2023-03-08T10:18:00.687077Z"
    }
   },
   "outputs": [
    {
     "data": {
      "text/html": [
       "<div>\n",
       "<style scoped>\n",
       "    .dataframe tbody tr th:only-of-type {\n",
       "        vertical-align: middle;\n",
       "    }\n",
       "\n",
       "    .dataframe tbody tr th {\n",
       "        vertical-align: top;\n",
       "    }\n",
       "\n",
       "    .dataframe thead th {\n",
       "        text-align: right;\n",
       "    }\n",
       "</style>\n",
       "<table border=\"1\" class=\"dataframe\">\n",
       "  <thead>\n",
       "    <tr style=\"text-align: right;\">\n",
       "      <th></th>\n",
       "      <th>findings</th>\n",
       "      <th>label</th>\n",
       "    </tr>\n",
       "  </thead>\n",
       "  <tbody>\n",
       "    <tr>\n",
       "      <th>1194</th>\n",
       "      <td>..ecnacifingis suoibud fo hctap telni lacivre...</td>\n",
       "      <td>0</td>\n",
       "    </tr>\n",
       "    <tr>\n",
       "      <th>45</th>\n",
       "      <td>The patient has inflammation in the body which...</td>\n",
       "      <td>1</td>\n",
       "    </tr>\n",
       "    <tr>\n",
       "      <th>1477</th>\n",
       "      <td>.spylop erom gnipoleved fo ksir eht ecuder ot ...</td>\n",
       "      <td>0</td>\n",
       "    </tr>\n",
       "    <tr>\n",
       "      <th>1293</th>\n",
       "      <td>.reclu eht fo gnilaeh eht yaled dna dica hcamo...</td>\n",
       "      <td>0</td>\n",
       "    </tr>\n",
       "    <tr>\n",
       "      <th>1736</th>\n",
       "      <td>.munedoud eht ot ypocsortsag lamroN</td>\n",
       "      <td>0</td>\n",
       "    </tr>\n",
       "    <tr>\n",
       "      <th>...</th>\n",
       "      <td>...</td>\n",
       "      <td>...</td>\n",
       "    </tr>\n",
       "    <tr>\n",
       "      <th>1791</th>\n",
       "      <td>.spylop erom gnipoleved fo ksir eht esaercni n...</td>\n",
       "      <td>0</td>\n",
       "    </tr>\n",
       "    <tr>\n",
       "      <th>1096</th>\n",
       "      <td>.yletaidemmi redivorp erachtlaeh rieht tcatnoc...</td>\n",
       "      <td>0</td>\n",
       "    </tr>\n",
       "    <tr>\n",
       "      <th>1932</th>\n",
       "      <td>.htworg pylop fo ksir eht esaercni dna hcamots...</td>\n",
       "      <td>0</td>\n",
       "    </tr>\n",
       "    <tr>\n",
       "      <th>235</th>\n",
       "      <td>Lax cardia with small hiatus hernia.</td>\n",
       "      <td>1</td>\n",
       "    </tr>\n",
       "    <tr>\n",
       "      <th>1061</th>\n",
       "      <td>.htworg pylop fo ksir eht esaercni dna dica hc...</td>\n",
       "      <td>0</td>\n",
       "    </tr>\n",
       "  </tbody>\n",
       "</table>\n",
       "<p>1400 rows × 2 columns</p>\n",
       "</div>"
      ],
      "text/plain": [
       "                                               findings  label\n",
       "1194   ..ecnacifingis suoibud fo hctap telni lacivre...      0\n",
       "45    The patient has inflammation in the body which...      1\n",
       "1477  .spylop erom gnipoleved fo ksir eht ecuder ot ...      0\n",
       "1293  .reclu eht fo gnilaeh eht yaled dna dica hcamo...      0\n",
       "1736                .munedoud eht ot ypocsortsag lamroN      0\n",
       "...                                                 ...    ...\n",
       "1791  .spylop erom gnipoleved fo ksir eht esaercni n...      0\n",
       "1096  .yletaidemmi redivorp erachtlaeh rieht tcatnoc...      0\n",
       "1932  .htworg pylop fo ksir eht esaercni dna hcamots...      0\n",
       "235               Lax cardia with small hiatus hernia.       1\n",
       "1061  .htworg pylop fo ksir eht esaercni dna dica hc...      0\n",
       "\n",
       "[1400 rows x 2 columns]"
      ]
     },
     "execution_count": 35,
     "metadata": {},
     "output_type": "execute_result"
    }
   ],
   "source": [
    "train"
   ]
  },
  {
   "cell_type": "code",
   "execution_count": 38,
   "id": "459b26f8",
   "metadata": {
    "ExecuteTime": {
     "end_time": "2023-03-08T10:18:19.458608Z",
     "start_time": "2023-03-08T10:18:19.442915Z"
    }
   },
   "outputs": [],
   "source": [
    "import datasets\n",
    "train_dataset = datasets.Dataset.from_pandas(train)\n",
    "test_dataset = datasets.Dataset.from_pandas(test)"
   ]
  },
  {
   "cell_type": "code",
   "execution_count": 39,
   "id": "e0576826",
   "metadata": {
    "ExecuteTime": {
     "end_time": "2023-03-08T10:18:20.419978Z",
     "start_time": "2023-03-08T10:18:20.414924Z"
    }
   },
   "outputs": [
    {
     "data": {
      "text/plain": [
       "Dataset({\n",
       "    features: ['findings', 'label', '__index_level_0__'],\n",
       "    num_rows: 1400\n",
       "})"
      ]
     },
     "execution_count": 39,
     "metadata": {},
     "output_type": "execute_result"
    }
   ],
   "source": [
    "train_dataset"
   ]
  },
  {
   "cell_type": "code",
   "execution_count": 40,
   "id": "20e62c0f",
   "metadata": {
    "ExecuteTime": {
     "end_time": "2023-03-08T10:18:21.419996Z",
     "start_time": "2023-03-08T10:18:21.414203Z"
    }
   },
   "outputs": [
    {
     "data": {
      "text/plain": [
       "Dataset({\n",
       "    features: ['findings', 'label', '__index_level_0__'],\n",
       "    num_rows: 600\n",
       "})"
      ]
     },
     "execution_count": 40,
     "metadata": {},
     "output_type": "execute_result"
    }
   ],
   "source": [
    "test_dataset"
   ]
  },
  {
   "cell_type": "code",
   "execution_count": 41,
   "id": "7ebb614d",
   "metadata": {
    "ExecuteTime": {
     "end_time": "2023-03-08T10:18:22.377406Z",
     "start_time": "2023-03-08T10:18:22.372069Z"
    }
   },
   "outputs": [],
   "source": [
    "import datasets\n",
    "\n",
    "Dict = datasets.DatasetDict({\"train\":train_dataset,\"test\":test_dataset})"
   ]
  },
  {
   "cell_type": "code",
   "execution_count": 42,
   "id": "0d5fe650",
   "metadata": {
    "ExecuteTime": {
     "end_time": "2023-03-08T10:18:23.340567Z",
     "start_time": "2023-03-08T10:18:23.333851Z"
    }
   },
   "outputs": [
    {
     "data": {
      "text/plain": [
       "DatasetDict({\n",
       "    train: Dataset({\n",
       "        features: ['findings', 'label', '__index_level_0__'],\n",
       "        num_rows: 1400\n",
       "    })\n",
       "    test: Dataset({\n",
       "        features: ['findings', 'label', '__index_level_0__'],\n",
       "        num_rows: 600\n",
       "    })\n",
       "})"
      ]
     },
     "execution_count": 42,
     "metadata": {},
     "output_type": "execute_result"
    }
   ],
   "source": [
    "Dict"
   ]
  },
  {
   "cell_type": "code",
   "execution_count": 43,
   "id": "bc479717",
   "metadata": {
    "ExecuteTime": {
     "end_time": "2023-03-08T10:18:24.316497Z",
     "start_time": "2023-03-08T10:18:24.309501Z"
    }
   },
   "outputs": [
    {
     "data": {
      "text/plain": [
       "datasets.dataset_dict.DatasetDict"
      ]
     },
     "execution_count": 43,
     "metadata": {},
     "output_type": "execute_result"
    }
   ],
   "source": [
    "type(Dict)"
   ]
  },
  {
   "cell_type": "code",
   "execution_count": 44,
   "id": "05e774ff",
   "metadata": {
    "ExecuteTime": {
     "end_time": "2023-03-08T10:18:25.275139Z",
     "start_time": "2023-03-08T10:18:25.271028Z"
    }
   },
   "outputs": [],
   "source": [
    "def tokenize(batch):\n",
    "    return tokenizer(batch[\"findings\"], padding = True, truncation = True)"
   ]
  },
  {
   "cell_type": "code",
   "execution_count": 45,
   "id": "8dfcd98f",
   "metadata": {
    "ExecuteTime": {
     "end_time": "2023-03-08T10:18:29.695616Z",
     "start_time": "2023-03-08T10:18:26.244585Z"
    }
   },
   "outputs": [
    {
     "data": {
      "application/vnd.jupyter.widget-view+json": {
       "model_id": "",
       "version_major": 2,
       "version_minor": 0
      },
      "text/plain": [
       "Map:   0%|          | 0/1400 [00:00<?, ? examples/s]"
      ]
     },
     "metadata": {},
     "output_type": "display_data"
    },
    {
     "data": {
      "application/vnd.jupyter.widget-view+json": {
       "model_id": "",
       "version_major": 2,
       "version_minor": 0
      },
      "text/plain": [
       "Map:   0%|          | 0/600 [00:00<?, ? examples/s]"
      ]
     },
     "metadata": {},
     "output_type": "display_data"
    }
   ],
   "source": [
    "sentences_encoded = Dict.map(tokenize, batched=True, batch_size=None)"
   ]
  },
  {
   "cell_type": "code",
   "execution_count": 46,
   "id": "cb182748",
   "metadata": {
    "ExecuteTime": {
     "end_time": "2023-03-08T10:18:30.658964Z",
     "start_time": "2023-03-08T10:18:30.653152Z"
    }
   },
   "outputs": [
    {
     "data": {
      "text/plain": [
       "DatasetDict({\n",
       "    train: Dataset({\n",
       "        features: ['findings', 'label', '__index_level_0__', 'input_ids', 'attention_mask'],\n",
       "        num_rows: 1400\n",
       "    })\n",
       "    test: Dataset({\n",
       "        features: ['findings', 'label', '__index_level_0__', 'input_ids', 'attention_mask'],\n",
       "        num_rows: 600\n",
       "    })\n",
       "})"
      ]
     },
     "execution_count": 46,
     "metadata": {},
     "output_type": "execute_result"
    }
   ],
   "source": [
    "sentences_encoded"
   ]
  },
  {
   "cell_type": "code",
   "execution_count": 52,
   "id": "0f87062c",
   "metadata": {
    "ExecuteTime": {
     "end_time": "2023-03-08T10:22:02.137396Z",
     "start_time": "2023-03-08T10:22:02.130710Z"
    }
   },
   "outputs": [],
   "source": [
    "device = torch.device(\"cuda\" if torch.cuda.is_available() else \"cpu\")\n",
    "def extract_hidden_states(batch):\n",
    "    inputs = {k:v.to(device) for k,v in batch.items() if k in tokenizer.model_input_names}\n",
    "    # Place model inputs on the GPU\n",
    "    # Extract last hidden states\n",
    "    with torch.no_grad():\n",
    "        last_hidden_state = model(**inputs).last_hidden_state   \n",
    "    # Return vector for [CLS] token\n",
    "    return {\"hidden_state\": last_hidden_state[:,0].cpu().numpy()}          \n",
    "    "
   ]
  },
  {
   "cell_type": "code",
   "execution_count": 53,
   "id": "489ef457",
   "metadata": {
    "ExecuteTime": {
     "end_time": "2023-03-08T10:22:03.243874Z",
     "start_time": "2023-03-08T10:22:03.236688Z"
    }
   },
   "outputs": [],
   "source": [
    "sentences_encoded.set_format(\"torch\",columns=[\"input_ids\", \"attention_mask\", \"label\"])"
   ]
  },
  {
   "cell_type": "code",
   "execution_count": 54,
   "id": "560270b8",
   "metadata": {
    "ExecuteTime": {
     "end_time": "2023-03-08T10:22:04.424506Z",
     "start_time": "2023-03-08T10:22:04.418442Z"
    }
   },
   "outputs": [
    {
     "data": {
      "text/plain": [
       "datasets.dataset_dict.DatasetDict"
      ]
     },
     "execution_count": 54,
     "metadata": {},
     "output_type": "execute_result"
    }
   ],
   "source": [
    "type(sentences_encoded)"
   ]
  },
  {
   "cell_type": "code",
   "execution_count": null,
   "id": "ccb805f4",
   "metadata": {
    "ExecuteTime": {
     "start_time": "2023-03-08T10:22:03.901Z"
    }
   },
   "outputs": [
    {
     "data": {
      "application/vnd.jupyter.widget-view+json": {
       "model_id": "0ed9c75ebd814662bb196f10b7b84a8d",
       "version_major": 2,
       "version_minor": 0
      },
      "text/plain": [
       "Map:   0%|          | 0/1400 [00:00<?, ? examples/s]"
      ]
     },
     "metadata": {},
     "output_type": "display_data"
    }
   ],
   "source": [
    "sentences_hidden = sentences_encoded.map(extract_hidden_states, batched=True)"
   ]
  },
  {
   "cell_type": "code",
   "execution_count": null,
   "id": "530657c6",
   "metadata": {},
   "outputs": [],
   "source": []
  }
 ],
 "metadata": {
  "kernelspec": {
   "display_name": "Python 3 (ipykernel)",
   "language": "python",
   "name": "python3"
  },
  "language_info": {
   "codemirror_mode": {
    "name": "ipython",
    "version": 3
   },
   "file_extension": ".py",
   "mimetype": "text/x-python",
   "name": "python",
   "nbconvert_exporter": "python",
   "pygments_lexer": "ipython3",
   "version": "3.10.6"
  },
  "toc": {
   "base_numbering": 1,
   "nav_menu": {},
   "number_sections": true,
   "sideBar": true,
   "skip_h1_title": false,
   "title_cell": "Table of Contents",
   "title_sidebar": "Contents",
   "toc_cell": false,
   "toc_position": {},
   "toc_section_display": true,
   "toc_window_display": false
  },
  "varInspector": {
   "cols": {
    "lenName": 16,
    "lenType": 16,
    "lenVar": 40
   },
   "kernels_config": {
    "python": {
     "delete_cmd_postfix": "",
     "delete_cmd_prefix": "del ",
     "library": "var_list.py",
     "varRefreshCmd": "print(var_dic_list())"
    },
    "r": {
     "delete_cmd_postfix": ") ",
     "delete_cmd_prefix": "rm(",
     "library": "var_list.r",
     "varRefreshCmd": "cat(var_dic_list()) "
    }
   },
   "types_to_exclude": [
    "module",
    "function",
    "builtin_function_or_method",
    "instance",
    "_Feature"
   ],
   "window_display": false
  }
 },
 "nbformat": 4,
 "nbformat_minor": 5
}
