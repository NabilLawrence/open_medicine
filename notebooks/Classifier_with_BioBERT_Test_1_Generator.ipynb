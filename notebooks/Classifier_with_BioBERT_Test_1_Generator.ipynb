{
 "cells": [
  {
   "cell_type": "markdown",
   "id": "b301c572",
   "metadata": {
    "ExecuteTime": {
     "end_time": "2023-03-09T09:49:41.700186Z",
     "start_time": "2023-03-09T09:49:41.693219Z"
    }
   },
   "source": [
    "---\n",
    "## ODF Classifier with BioBERT  \n",
    "---\n",
    "### Content\n",
    "---\n",
    "\n",
    "- **[Libraries to use](#Libraries_to_use)**\n",
    "\n",
    "- **[Loading the dataset](#Loading_dataset)**\n",
    "\n",
    "- **[Cleaning the dataset and extracting required features](#Cleaning_extracting)**\n",
    "\n",
    "- **[Including reversed findings to the dataset](#Reversed_findings)**\n",
    "\n",
    "- **[Creating a dictionary with train, test, validation datasets](#train_test_validation)**\n",
    "\n",
    "- **[Load tokenizer and model](#tokenizer_model)**\n",
    "\n",
    "- **[Tokenize the datasets](#tokenize)**\n",
    "\n",
    "- **[Formating to torch](#Formating)**\n",
    "\n",
    "- **[Extracting hidden states](#Extracting_hidden_states)**\n",
    "\n",
    "- **[Creating a feature matrix](#feature_matrix)**\n",
    "\n",
    "- **[Visualizing the training set](#Visualizing_training)**\n",
    "\n",
    "- **[Training a classifier](#Training_classifier)**\n",
    "\n",
    " ---"
   ]
  },
  {
   "cell_type": "markdown",
   "id": "bae2c097",
   "metadata": {},
   "source": [
    "---\n",
    "### Libraries to use <a id=\"Libraries_to_use\"> </a>\n",
    "---"
   ]
  },
  {
   "cell_type": "code",
   "execution_count": 1,
   "id": "dfb1b9db",
   "metadata": {
    "ExecuteTime": {
     "end_time": "2023-03-10T13:22:04.580252Z",
     "start_time": "2023-03-10T13:21:57.113745Z"
    }
   },
   "outputs": [],
   "source": [
    "#------------------------------------------------------\n",
    "# Regular modules\n",
    "#------------------------------------------------------\n",
    "import numpy as np\n",
    "import matplotlib.pyplot as plt\n",
    "import pandas as pd\n",
    "import seaborn as sns\n",
    "import ast\n",
    "import re\n",
    "from sklearn.preprocessing import MinMaxScaler\n",
    "from sklearn.model_selection import train_test_split\n",
    "from sklearn.dummy import DummyClassifier\n",
    "from sklearn.linear_model import LogisticRegression\n",
    "from sklearn.metrics import ConfusionMatrixDisplay, confusion_matrix\n",
    "#------------------------------------------------------\n",
    "# To avoid warnings\n",
    "#------------------------------------------------------\n",
    "import os\n",
    "import warnings \n",
    "warnings.filterwarnings('ignore')\n",
    "os.environ['TF_CPP_MIN_LOG_LEVEL'] = '3'\n",
    "#------------------------------------------------------\n",
    "# Not regular modules\n",
    "#------------------------------------------------------\n",
    "import datasets\n",
    "import torch\n",
    "from umap import UMAP\n",
    "from transformers import AutoTokenizer, AutoModel\n",
    "#------------------------------------------------------\n",
    "# Created modules\n",
    "#------------------------------------------------------\n",
    "from Classifier import data_cleaning  \n",
    "from Classifier import including_reversing \n",
    "from Classifier import train_test_validation  "
   ]
  },
  {
   "cell_type": "markdown",
   "id": "9dbcacc5",
   "metadata": {},
   "source": [
    "---\n",
    "### Loading the dataset <a id=\"Loading_dataset\"> </a>\n",
    "---"
   ]
  },
  {
   "cell_type": "code",
   "execution_count": 2,
   "id": "0a1d7aa1",
   "metadata": {
    "ExecuteTime": {
     "end_time": "2023-03-10T13:22:12.709997Z",
     "start_time": "2023-03-10T13:22:07.247544Z"
    }
   },
   "outputs": [],
   "source": [
    "real = pd.read_csv(\"../data/UpperGI.csv\")\n",
    "real  =real.rename(columns={\"out\":\"text\"})\n",
    "real = data_cleaning(real)\n",
    "real = real[['findings']]\n",
    "real['label'] = 0\n",
    "real=real.iloc[0:50]"
   ]
  },
  {
   "cell_type": "code",
   "execution_count": 3,
   "id": "b48c0a4d",
   "metadata": {
    "ExecuteTime": {
     "end_time": "2023-03-10T13:22:14.301768Z",
     "start_time": "2023-03-10T13:22:14.284097Z"
    }
   },
   "outputs": [
    {
     "data": {
      "text/html": [
       "<div>\n",
       "<style scoped>\n",
       "    .dataframe tbody tr th:only-of-type {\n",
       "        vertical-align: middle;\n",
       "    }\n",
       "\n",
       "    .dataframe tbody tr th {\n",
       "        vertical-align: top;\n",
       "    }\n",
       "\n",
       "    .dataframe thead th {\n",
       "        text-align: right;\n",
       "    }\n",
       "</style>\n",
       "<table border=\"1\" class=\"dataframe\">\n",
       "  <thead>\n",
       "    <tr style=\"text-align: right;\">\n",
       "      <th></th>\n",
       "      <th>findings</th>\n",
       "      <th>label</th>\n",
       "    </tr>\n",
       "  </thead>\n",
       "  <tbody>\n",
       "    <tr>\n",
       "      <th>0</th>\n",
       "      <td>Columnar lined oesophagus is present. The segm...</td>\n",
       "      <td>0</td>\n",
       "    </tr>\n",
       "    <tr>\n",
       "      <th>1</th>\n",
       "      <td>There is an ulcer in the stomach which is supe...</td>\n",
       "      <td>0</td>\n",
       "    </tr>\n",
       "    <tr>\n",
       "      <th>2</th>\n",
       "      <td>LA Grade  D oesophagitis. The oesopahgitis is ...</td>\n",
       "      <td>0</td>\n",
       "    </tr>\n",
       "    <tr>\n",
       "      <th>3</th>\n",
       "      <td>There is a polyp in the body which is sessile ...</td>\n",
       "      <td>0</td>\n",
       "    </tr>\n",
       "    <tr>\n",
       "      <th>4</th>\n",
       "      <td>There is a stricture in the fundus which is Oe...</td>\n",
       "      <td>0</td>\n",
       "    </tr>\n",
       "  </tbody>\n",
       "</table>\n",
       "</div>"
      ],
      "text/plain": [
       "                                            findings  label\n",
       "0  Columnar lined oesophagus is present. The segm...      0\n",
       "1  There is an ulcer in the stomach which is supe...      0\n",
       "2  LA Grade  D oesophagitis. The oesopahgitis is ...      0\n",
       "3  There is a polyp in the body which is sessile ...      0\n",
       "4  There is a stricture in the fundus which is Oe...      0"
      ]
     },
     "execution_count": 3,
     "metadata": {},
     "output_type": "execute_result"
    }
   ],
   "source": [
    "real.head()"
   ]
  },
  {
   "cell_type": "code",
   "execution_count": 4,
   "id": "01d90780",
   "metadata": {
    "ExecuteTime": {
     "end_time": "2023-03-10T13:22:14.772898Z",
     "start_time": "2023-03-10T13:22:14.758453Z"
    }
   },
   "outputs": [],
   "source": [
    "fake = pd.read_csv(\"../data/findings50.csv\")\n",
    "fake=fake.rename(columns={\"finding\":\"findings\"})\n",
    "def regex_findings(string):\n",
    "    line=ast.literal_eval(string)\n",
    "    output =line[0]['generated_text']\n",
    "    hospital_reg = r\"\\.*FINDINGS:.*\"\n",
    "    output = re.findall(hospital_reg, output)[0][10:]\n",
    "    return output\n",
    "\n",
    "fake[\"findings\"] = fake['findings'].apply(regex_findings)\n",
    "fake['label'] = 1"
   ]
  },
  {
   "cell_type": "code",
   "execution_count": 31,
   "id": "d3f319f4",
   "metadata": {
    "ExecuteTime": {
     "end_time": "2023-03-10T14:00:33.459202Z",
     "start_time": "2023-03-10T14:00:33.446961Z"
    },
    "scrolled": true
   },
   "outputs": [
    {
     "data": {
      "text/html": [
       "<div>\n",
       "<style scoped>\n",
       "    .dataframe tbody tr th:only-of-type {\n",
       "        vertical-align: middle;\n",
       "    }\n",
       "\n",
       "    .dataframe tbody tr th {\n",
       "        vertical-align: top;\n",
       "    }\n",
       "\n",
       "    .dataframe thead th {\n",
       "        text-align: right;\n",
       "    }\n",
       "</style>\n",
       "<table border=\"1\" class=\"dataframe\">\n",
       "  <thead>\n",
       "    <tr style=\"text-align: right;\">\n",
       "      <th></th>\n",
       "      <th>findings</th>\n",
       "      <th>label</th>\n",
       "    </tr>\n",
       "  </thead>\n",
       "  <tbody>\n",
       "    <tr>\n",
       "      <th>0</th>\n",
       "      <td>Normal gastroscopy to the duodenum. INPROCEDUR...</td>\n",
       "      <td>1</td>\n",
       "    </tr>\n",
       "    <tr>\n",
       "      <th>1</th>\n",
       "      <td>There is a nodule in the GOJ which is stalked....</td>\n",
       "      <td>1</td>\n",
       "    </tr>\n",
       "    <tr>\n",
       "      <th>2</th>\n",
       "      <td>There is a nodule in the third part of the duo...</td>\n",
       "      <td>1</td>\n",
       "    </tr>\n",
       "    <tr>\n",
       "      <th>3</th>\n",
       "      <td>Normal gastroscopy to the duodenum. INPROCEDUR...</td>\n",
       "      <td>1</td>\n",
       "    </tr>\n",
       "    <tr>\n",
       "      <th>4</th>\n",
       "      <td>There is a nodule in the GOJ which is stalked....</td>\n",
       "      <td>1</td>\n",
       "    </tr>\n",
       "  </tbody>\n",
       "</table>\n",
       "</div>"
      ],
      "text/plain": [
       "                                            findings  label\n",
       "0  Normal gastroscopy to the duodenum. INPROCEDUR...      1\n",
       "1  There is a nodule in the GOJ which is stalked....      1\n",
       "2  There is a nodule in the third part of the duo...      1\n",
       "3  Normal gastroscopy to the duodenum. INPROCEDUR...      1\n",
       "4  There is a nodule in the GOJ which is stalked....      1"
      ]
     },
     "execution_count": 31,
     "metadata": {},
     "output_type": "execute_result"
    }
   ],
   "source": [
    "fake.head()"
   ]
  },
  {
   "cell_type": "code",
   "execution_count": 35,
   "id": "77bb21e0",
   "metadata": {
    "ExecuteTime": {
     "end_time": "2023-03-10T14:09:47.692780Z",
     "start_time": "2023-03-10T14:09:47.683415Z"
    }
   },
   "outputs": [
    {
     "data": {
      "text/plain": [
       "'There is a nodule in the third part of the duodenum which is stalked. NA FOLLOW UP: The patient should be advised to avoid consuming too much sugar, as this can increase the risk of bacterial overgrowth in the stomach and increase the risk'"
      ]
     },
     "execution_count": 35,
     "metadata": {},
     "output_type": "execute_result"
    }
   ],
   "source": [
    "fake['findings'].loc[2]"
   ]
  },
  {
   "cell_type": "markdown",
   "id": "dc763c2e",
   "metadata": {},
   "source": [
    "---\n",
    "### Including reversed findings to the dataset <a id=\"Reversed_findings\"> </a>\n",
    "---"
   ]
  },
  {
   "cell_type": "code",
   "execution_count": 6,
   "id": "a29064e6",
   "metadata": {
    "ExecuteTime": {
     "end_time": "2023-03-10T13:22:18.382063Z",
     "start_time": "2023-03-10T13:22:18.374391Z"
    }
   },
   "outputs": [],
   "source": [
    "fake_real = pd.concat([fake, real])"
   ]
  },
  {
   "cell_type": "code",
   "execution_count": 7,
   "id": "591e104b",
   "metadata": {
    "ExecuteTime": {
     "end_time": "2023-03-10T13:22:19.000330Z",
     "start_time": "2023-03-10T13:22:18.984124Z"
    }
   },
   "outputs": [
    {
     "data": {
      "text/html": [
       "<div>\n",
       "<style scoped>\n",
       "    .dataframe tbody tr th:only-of-type {\n",
       "        vertical-align: middle;\n",
       "    }\n",
       "\n",
       "    .dataframe tbody tr th {\n",
       "        vertical-align: top;\n",
       "    }\n",
       "\n",
       "    .dataframe thead th {\n",
       "        text-align: right;\n",
       "    }\n",
       "</style>\n",
       "<table border=\"1\" class=\"dataframe\">\n",
       "  <thead>\n",
       "    <tr style=\"text-align: right;\">\n",
       "      <th></th>\n",
       "      <th>findings</th>\n",
       "      <th>label</th>\n",
       "    </tr>\n",
       "  </thead>\n",
       "  <tbody>\n",
       "    <tr>\n",
       "      <th>0</th>\n",
       "      <td>Normal gastroscopy to the duodenum. INPROCEDUR...</td>\n",
       "      <td>1</td>\n",
       "    </tr>\n",
       "    <tr>\n",
       "      <th>1</th>\n",
       "      <td>There is a nodule in the GOJ which is stalked....</td>\n",
       "      <td>1</td>\n",
       "    </tr>\n",
       "    <tr>\n",
       "      <th>2</th>\n",
       "      <td>There is a nodule in the third part of the duo...</td>\n",
       "      <td>1</td>\n",
       "    </tr>\n",
       "    <tr>\n",
       "      <th>3</th>\n",
       "      <td>Normal gastroscopy to the duodenum. INPROCEDUR...</td>\n",
       "      <td>1</td>\n",
       "    </tr>\n",
       "    <tr>\n",
       "      <th>4</th>\n",
       "      <td>There is a nodule in the GOJ which is stalked....</td>\n",
       "      <td>1</td>\n",
       "    </tr>\n",
       "    <tr>\n",
       "      <th>...</th>\n",
       "      <td>...</td>\n",
       "      <td>...</td>\n",
       "    </tr>\n",
       "    <tr>\n",
       "      <th>95</th>\n",
       "      <td>There is an ulcer in the oesophagus at 34 cm w...</td>\n",
       "      <td>0</td>\n",
       "    </tr>\n",
       "    <tr>\n",
       "      <th>96</th>\n",
       "      <td>The patient has a 5mm nodule in the duodenal b...</td>\n",
       "      <td>0</td>\n",
       "    </tr>\n",
       "    <tr>\n",
       "      <th>97</th>\n",
       "      <td>The patient has Barrett's oesophagus. Gastric ...</td>\n",
       "      <td>0</td>\n",
       "    </tr>\n",
       "    <tr>\n",
       "      <th>98</th>\n",
       "      <td>Normal gastroscopy to the duodenum.</td>\n",
       "      <td>0</td>\n",
       "    </tr>\n",
       "    <tr>\n",
       "      <th>99</th>\n",
       "      <td>Columnar lined oesophagus is present. No loss ...</td>\n",
       "      <td>0</td>\n",
       "    </tr>\n",
       "  </tbody>\n",
       "</table>\n",
       "<p>100 rows × 2 columns</p>\n",
       "</div>"
      ],
      "text/plain": [
       "                                             findings  label\n",
       "0   Normal gastroscopy to the duodenum. INPROCEDUR...      1\n",
       "1   There is a nodule in the GOJ which is stalked....      1\n",
       "2   There is a nodule in the third part of the duo...      1\n",
       "3   Normal gastroscopy to the duodenum. INPROCEDUR...      1\n",
       "4   There is a nodule in the GOJ which is stalked....      1\n",
       "..                                                ...    ...\n",
       "95  There is an ulcer in the oesophagus at 34 cm w...      0\n",
       "96  The patient has a 5mm nodule in the duodenal b...      0\n",
       "97  The patient has Barrett's oesophagus. Gastric ...      0\n",
       "98               Normal gastroscopy to the duodenum.       0\n",
       "99  Columnar lined oesophagus is present. No loss ...      0\n",
       "\n",
       "[100 rows x 2 columns]"
      ]
     },
     "execution_count": 7,
     "metadata": {},
     "output_type": "execute_result"
    }
   ],
   "source": [
    "fake_real.reset_index(drop=True, inplace=True)\n",
    "fake_real"
   ]
  },
  {
   "cell_type": "code",
   "execution_count": 8,
   "id": "ca55595b",
   "metadata": {
    "ExecuteTime": {
     "end_time": "2023-03-10T13:22:19.542353Z",
     "start_time": "2023-03-10T13:22:19.536865Z"
    }
   },
   "outputs": [],
   "source": [
    "# sentences.tail(3)"
   ]
  },
  {
   "cell_type": "markdown",
   "id": "e7aa9a75",
   "metadata": {},
   "source": [
    "---\n",
    "### Creating a dictionary with train, test, validation datasets <a id=\"train_test_validation\"> </a>\n",
    "---"
   ]
  },
  {
   "cell_type": "code",
   "execution_count": 9,
   "id": "e3b6b50d",
   "metadata": {
    "ExecuteTime": {
     "end_time": "2023-03-10T13:22:20.938719Z",
     "start_time": "2023-03-10T13:22:20.911185Z"
    }
   },
   "outputs": [],
   "source": [
    "Dict_datasets = train_test_validation(fake_real)"
   ]
  },
  {
   "cell_type": "code",
   "execution_count": 10,
   "id": "cb80a340",
   "metadata": {
    "ExecuteTime": {
     "end_time": "2023-03-10T13:22:21.648789Z",
     "start_time": "2023-03-10T13:22:21.641756Z"
    }
   },
   "outputs": [
    {
     "data": {
      "text/plain": [
       "DatasetDict({\n",
       "    train: Dataset({\n",
       "        features: ['findings', 'label'],\n",
       "        num_rows: 49\n",
       "    })\n",
       "    test: Dataset({\n",
       "        features: ['findings', 'label'],\n",
       "        num_rows: 30\n",
       "    })\n",
       "    validation: Dataset({\n",
       "        features: ['findings', 'label'],\n",
       "        num_rows: 21\n",
       "    })\n",
       "})"
      ]
     },
     "execution_count": 10,
     "metadata": {},
     "output_type": "execute_result"
    }
   ],
   "source": [
    "Dict_datasets"
   ]
  },
  {
   "cell_type": "markdown",
   "id": "36208475",
   "metadata": {},
   "source": [
    "---\n",
    "### Load tokenizer and model <a id=\"tokenizer_model\"> </a>\n",
    "---\n",
    "\n",
    "- BioBERT is a pre-trained language model that is designed for biomedical natural language processing (NLP) tasks. It is based on the Google's BERT (Bidirectional Encoder Representations from Transformers) architecture.\n",
    "\n",
    "- BioBERT is pre-trained on a large corpus of biomedical text data, which includes abstracts and full-text articles from PubMed Central and other biomedical databases. \n",
    "\n",
    "---"
   ]
  },
  {
   "cell_type": "code",
   "execution_count": 11,
   "id": "9e22cbbb",
   "metadata": {
    "ExecuteTime": {
     "end_time": "2023-03-10T13:22:25.869747Z",
     "start_time": "2023-03-10T13:22:25.420346Z"
    }
   },
   "outputs": [],
   "source": [
    "tokenizer = AutoTokenizer.from_pretrained(\"dmis-lab/biobert-v1.1\")"
   ]
  },
  {
   "cell_type": "code",
   "execution_count": 12,
   "id": "99541fe2",
   "metadata": {
    "ExecuteTime": {
     "end_time": "2023-03-10T13:22:27.949212Z",
     "start_time": "2023-03-10T13:22:26.240480Z"
    }
   },
   "outputs": [],
   "source": [
    "model = AutoModel.from_pretrained(\"dmis-lab/biobert-v1.1\", num_labels=2)"
   ]
  },
  {
   "cell_type": "markdown",
   "id": "b6b99c4f",
   "metadata": {},
   "source": [
    "---\n",
    "### Tokenize the datasets <a id=\"tokenize\"> </a>\n",
    "---"
   ]
  },
  {
   "cell_type": "code",
   "execution_count": 13,
   "id": "534b946d",
   "metadata": {
    "ExecuteTime": {
     "end_time": "2023-03-10T13:22:28.448639Z",
     "start_time": "2023-03-10T13:22:28.352266Z"
    }
   },
   "outputs": [
    {
     "data": {
      "application/vnd.jupyter.widget-view+json": {
       "model_id": "",
       "version_major": 2,
       "version_minor": 0
      },
      "text/plain": [
       "Map:   0%|          | 0/49 [00:00<?, ? examples/s]"
      ]
     },
     "metadata": {},
     "output_type": "display_data"
    },
    {
     "data": {
      "application/vnd.jupyter.widget-view+json": {
       "model_id": "",
       "version_major": 2,
       "version_minor": 0
      },
      "text/plain": [
       "Map:   0%|          | 0/30 [00:00<?, ? examples/s]"
      ]
     },
     "metadata": {},
     "output_type": "display_data"
    },
    {
     "data": {
      "application/vnd.jupyter.widget-view+json": {
       "model_id": "",
       "version_major": 2,
       "version_minor": 0
      },
      "text/plain": [
       "Map:   0%|          | 0/21 [00:00<?, ? examples/s]"
      ]
     },
     "metadata": {},
     "output_type": "display_data"
    }
   ],
   "source": [
    "#--------------------------------------------------------------------\n",
    "# define function to tokenize the datasets\n",
    "#--------------------------------------------------------------------\n",
    "def tokenize(data):\n",
    "    return tokenizer(data[\"findings\"], padding=True, truncation=True,max_length=10) \n",
    "#--------------------------------------------------------------------\n",
    "# tokenize datasets\n",
    "#--------------------------------------------------------------------\n",
    "Dict_datasets_encoded = Dict_datasets.map(tokenize, batched=True, batch_size=None)"
   ]
  },
  {
   "cell_type": "markdown",
   "id": "52711cda",
   "metadata": {},
   "source": [
    "---\n",
    "### Formating to torch <a id=\"Formating\"> </a>\n",
    "---"
   ]
  },
  {
   "cell_type": "code",
   "execution_count": 14,
   "id": "cc9603df",
   "metadata": {
    "ExecuteTime": {
     "end_time": "2023-03-10T13:22:28.858363Z",
     "start_time": "2023-03-10T13:22:28.852272Z"
    }
   },
   "outputs": [],
   "source": [
    "Dict_datasets_encoded.set_format(\"torch\", columns=[\"input_ids\", \"attention_mask\", \"label\"])"
   ]
  },
  {
   "cell_type": "markdown",
   "id": "8a5e34ae",
   "metadata": {},
   "source": [
    "---\n",
    "### Extracting hidden states <a id=\"Extracting_hidden_states\"> </a>\n",
    "---\n",
    "\n",
    "How will extract the hidden states associated with each finding."
   ]
  },
  {
   "cell_type": "code",
   "execution_count": 16,
   "id": "9bbc89c1",
   "metadata": {
    "ExecuteTime": {
     "end_time": "2023-03-10T13:22:41.772753Z",
     "start_time": "2023-03-10T13:22:36.999914Z"
    }
   },
   "outputs": [
    {
     "data": {
      "application/vnd.jupyter.widget-view+json": {
       "model_id": "",
       "version_major": 2,
       "version_minor": 0
      },
      "text/plain": [
       "Map:   0%|          | 0/49 [00:00<?, ? examples/s]"
      ]
     },
     "metadata": {},
     "output_type": "display_data"
    },
    {
     "data": {
      "application/vnd.jupyter.widget-view+json": {
       "model_id": "",
       "version_major": 2,
       "version_minor": 0
      },
      "text/plain": [
       "Map:   0%|          | 0/30 [00:00<?, ? examples/s]"
      ]
     },
     "metadata": {},
     "output_type": "display_data"
    },
    {
     "data": {
      "application/vnd.jupyter.widget-view+json": {
       "model_id": "",
       "version_major": 2,
       "version_minor": 0
      },
      "text/plain": [
       "Map:   0%|          | 0/21 [00:00<?, ? examples/s]"
      ]
     },
     "metadata": {},
     "output_type": "display_data"
    }
   ],
   "source": [
    "device = torch.device(\"cuda\" if torch.cuda.is_available() else \"cpu\")\n",
    "\n",
    "def extract_hidden_states(batch):\n",
    "    # Place model inputs on the GPU\n",
    "    inputs = {k:v.to(device) for k,v in batch.items() \n",
    "              if k in tokenizer.model_input_names}\n",
    "    # Extract last hidden states\n",
    "    with torch.no_grad():\n",
    "        last_hidden_state = model(**inputs).last_hidden_state\n",
    "    # Return vector for [CLS] token\n",
    "    return {\"hidden_state\": last_hidden_state[:,0].cpu().numpy()}\n",
    "dataset_hidden = Dict_datasets_encoded.map(extract_hidden_states, batched=True)"
   ]
  },
  {
   "cell_type": "markdown",
   "id": "e27c8b47",
   "metadata": {},
   "source": [
    "---\n",
    "### Creating a feature matrix <a id=\"feature_matrix\"> </a>\n",
    "---\n",
    "\n",
    "We will use the hidden states as input features and the labels as targets."
   ]
  },
  {
   "cell_type": "code",
   "execution_count": 17,
   "id": "19fa68ac",
   "metadata": {
    "ExecuteTime": {
     "end_time": "2023-03-10T13:22:42.352315Z",
     "start_time": "2023-03-10T13:22:42.340474Z"
    }
   },
   "outputs": [
    {
     "data": {
      "text/plain": [
       "((49, 768), (21, 768), (30, 768))"
      ]
     },
     "execution_count": 17,
     "metadata": {},
     "output_type": "execute_result"
    }
   ],
   "source": [
    "X_train = np.array(dataset_hidden[\"train\"][\"hidden_state\"])\n",
    "X_valid = np.array(dataset_hidden[\"validation\"][\"hidden_state\"])\n",
    "X_test = np.array(dataset_hidden[\"test\"][\"hidden_state\"])\n",
    "y_train = np.array(dataset_hidden[\"train\"][\"label\"])\n",
    "y_valid = np.array(dataset_hidden[\"validation\"][\"label\"])\n",
    "y_test = np.array(dataset_hidden[\"test\"][\"label\"])\n",
    "X_train.shape, X_valid.shape, X_test.shape"
   ]
  },
  {
   "cell_type": "code",
   "execution_count": 18,
   "id": "dd779d1b",
   "metadata": {
    "ExecuteTime": {
     "end_time": "2023-03-10T13:22:43.791394Z",
     "start_time": "2023-03-10T13:22:43.785976Z"
    }
   },
   "outputs": [],
   "source": [
    "feature_matrix_list = [X_train,X_valid,X_test,y_train,y_valid,y_test]"
   ]
  },
  {
   "cell_type": "code",
   "execution_count": 19,
   "id": "eef10a90",
   "metadata": {
    "ExecuteTime": {
     "end_time": "2023-03-10T13:22:44.399367Z",
     "start_time": "2023-03-10T13:22:44.392340Z"
    }
   },
   "outputs": [],
   "source": [
    "np.save('feature_matrix_list.npy', np.array(feature_matrix_list, dtype=object), allow_pickle=True)"
   ]
  },
  {
   "cell_type": "code",
   "execution_count": 20,
   "id": "1a8409f3",
   "metadata": {
    "ExecuteTime": {
     "end_time": "2023-03-10T13:22:46.782817Z",
     "start_time": "2023-03-10T13:22:46.773913Z"
    }
   },
   "outputs": [],
   "source": [
    "feature_matrix_list_loaded = np.load('feature_matrix_list.npy', allow_pickle=True)\n",
    "[X_train,X_valid,X_test,y_train,y_valid,y_test]=feature_matrix_list_loaded"
   ]
  },
  {
   "cell_type": "markdown",
   "id": "d89fe66d",
   "metadata": {},
   "source": [
    "---\n",
    "### Visualizing the training set <a id=\"Visualizing_training\"> </a>\n",
    "---"
   ]
  },
  {
   "cell_type": "code",
   "execution_count": 21,
   "id": "6b35e069",
   "metadata": {
    "ExecuteTime": {
     "end_time": "2023-03-10T13:22:54.291891Z",
     "start_time": "2023-03-10T13:22:47.851589Z"
    }
   },
   "outputs": [
    {
     "data": {
      "text/html": [
       "<div>\n",
       "<style scoped>\n",
       "    .dataframe tbody tr th:only-of-type {\n",
       "        vertical-align: middle;\n",
       "    }\n",
       "\n",
       "    .dataframe tbody tr th {\n",
       "        vertical-align: top;\n",
       "    }\n",
       "\n",
       "    .dataframe thead th {\n",
       "        text-align: right;\n",
       "    }\n",
       "</style>\n",
       "<table border=\"1\" class=\"dataframe\">\n",
       "  <thead>\n",
       "    <tr style=\"text-align: right;\">\n",
       "      <th></th>\n",
       "      <th>X</th>\n",
       "      <th>Y</th>\n",
       "      <th>label</th>\n",
       "    </tr>\n",
       "  </thead>\n",
       "  <tbody>\n",
       "    <tr>\n",
       "      <th>0</th>\n",
       "      <td>10.258536</td>\n",
       "      <td>-16.205360</td>\n",
       "      <td>1</td>\n",
       "    </tr>\n",
       "    <tr>\n",
       "      <th>1</th>\n",
       "      <td>2.406899</td>\n",
       "      <td>-8.374237</td>\n",
       "      <td>0</td>\n",
       "    </tr>\n",
       "    <tr>\n",
       "      <th>2</th>\n",
       "      <td>10.904969</td>\n",
       "      <td>-15.194105</td>\n",
       "      <td>0</td>\n",
       "    </tr>\n",
       "    <tr>\n",
       "      <th>3</th>\n",
       "      <td>-4.869950</td>\n",
       "      <td>18.558334</td>\n",
       "      <td>0</td>\n",
       "    </tr>\n",
       "    <tr>\n",
       "      <th>4</th>\n",
       "      <td>2.356169</td>\n",
       "      <td>-8.728344</td>\n",
       "      <td>1</td>\n",
       "    </tr>\n",
       "  </tbody>\n",
       "</table>\n",
       "</div>"
      ],
      "text/plain": [
       "           X          Y  label\n",
       "0  10.258536 -16.205360      1\n",
       "1   2.406899  -8.374237      0\n",
       "2  10.904969 -15.194105      0\n",
       "3  -4.869950  18.558334      0\n",
       "4   2.356169  -8.728344      1"
      ]
     },
     "execution_count": 21,
     "metadata": {},
     "output_type": "execute_result"
    }
   ],
   "source": [
    "# Scale features to [0,1] range\n",
    "X_scaled = MinMaxScaler().fit_transform(X_train)\n",
    "# Initialize and fit UMAP\n",
    "mapper = UMAP(n_components=2, metric=\"cosine\").fit(X_scaled)\n",
    "# Create a DataFrame of 2D embeddings\n",
    "df_emb = pd.DataFrame(mapper.embedding_, columns=[\"X\", \"Y\"])\n",
    "df_emb[\"label\"] = y_train\n",
    "df_emb.head()"
   ]
  },
  {
   "cell_type": "code",
   "execution_count": 29,
   "id": "6d47165a",
   "metadata": {
    "ExecuteTime": {
     "end_time": "2023-03-10T13:24:41.808167Z",
     "start_time": "2023-03-10T13:24:41.691114Z"
    }
   },
   "outputs": [
    {
     "data": {
      "image/png": "[encoded data removed]",
      "text/plain": [
       "<Figure size 500x300 with 2 Axes>"
      ]
     },
     "metadata": {},
     "output_type": "display_data"
    }
   ],
   "source": [
    "fig, axes = plt.subplots(1, 2, figsize=(5,3))\n",
    "axes = axes.flatten()\n",
    "cmaps = [\"Blues\", \"Oranges\"]\n",
    "labels = ['Generated findings','Original findings']\n",
    "\n",
    "for i, (label, cmap) in enumerate(zip(labels, cmaps)):\n",
    "    df_emb_sub = df_emb.query(f\"label == {i}\")\n",
    "    axes[i].hexbin(df_emb_sub[\"X\"], df_emb_sub[\"Y\"], cmap=cmap,\n",
    "                   gridsize=20, linewidths=(0,))\n",
    "    axes[i].set_title(label)\n",
    "    axes[i].set_xticks([]), axes[i].set_yticks([])\n",
    "\n",
    "plt.tight_layout()\n",
    "plt.show()"
   ]
  },
  {
   "cell_type": "markdown",
   "id": "334e96b8",
   "metadata": {},
   "source": [
    "---\n",
    "### Training a classifier <a id=\"Training_classifier\"> </a>\n",
    "---"
   ]
  },
  {
   "cell_type": "code",
   "execution_count": 23,
   "id": "2613eded",
   "metadata": {
    "ExecuteTime": {
     "end_time": "2023-03-10T13:23:03.293980Z",
     "start_time": "2023-03-10T13:23:03.251444Z"
    }
   },
   "outputs": [
    {
     "data": {
      "text/plain": [
       "0.8095238095238095"
      ]
     },
     "execution_count": 23,
     "metadata": {},
     "output_type": "execute_result"
    }
   ],
   "source": [
    "lr_clf = LogisticRegression(max_iter=10)\n",
    "lr_clf.fit(X_train, y_train)\n",
    "lr_clf.score(X_valid, y_valid)"
   ]
  },
  {
   "cell_type": "code",
   "execution_count": 24,
   "id": "64ee165d",
   "metadata": {
    "ExecuteTime": {
     "end_time": "2023-03-10T13:23:05.476306Z",
     "start_time": "2023-03-10T13:23:05.334269Z"
    }
   },
   "outputs": [
    {
     "data": {
      "image/png": "[encoded data removed]",
      "text/plain": [
       "<Figure size 300x300 with 1 Axes>"
      ]
     },
     "metadata": {},
     "output_type": "display_data"
    }
   ],
   "source": [
    "y_preds = lr_clf.predict(X_test)\n",
    "\n",
    "def plot_confusion_matrix(y_preds, y_true, labels):\n",
    "    cm = confusion_matrix(y_true, y_preds, normalize=\"true\")\n",
    "    fig, ax = plt.subplots(figsize=(3, 3))\n",
    "    disp = ConfusionMatrixDisplay(confusion_matrix=cm, display_labels=labels)\n",
    "    disp.plot(cmap=\"Blues\", values_format=\".2f\", ax=ax, colorbar=False)\n",
    "    plt.title(\"Normalized confusion matrix\")\n",
    "    plt.show()\n",
    "\n",
    "plot_confusion_matrix(y_preds, y_test, [1,0])"
   ]
  }
 ],
 "metadata": {
  "kernelspec": {
   "display_name": "Python 3 (ipykernel)",
   "language": "python",
   "name": "python3"
  },
  "language_info": {
   "codemirror_mode": {
    "name": "ipython",
    "version": 3
   },
   "file_extension": ".py",
   "mimetype": "text/x-python",
   "name": "python",
   "nbconvert_exporter": "python",
   "pygments_lexer": "ipython3",
   "version": "3.10.6"
  },
  "toc": {
   "base_numbering": 1,
   "nav_menu": {},
   "number_sections": true,
   "sideBar": true,
   "skip_h1_title": false,
   "title_cell": "Table of Contents",
   "title_sidebar": "Contents",
   "toc_cell": false,
   "toc_position": {},
   "toc_section_display": true,
   "toc_window_display": false
  },
  "varInspector": {
   "cols": {
    "lenName": 16,
    "lenType": 16,
    "lenVar": 40
   },
   "kernels_config": {
    "python": {
     "delete_cmd_postfix": "",
     "delete_cmd_prefix": "del ",
     "library": "var_list.py",
     "varRefreshCmd": "print(var_dic_list())"
    },
    "r": {
     "delete_cmd_postfix": ") ",
     "delete_cmd_prefix": "rm(",
     "library": "var_list.r",
     "varRefreshCmd": "cat(var_dic_list()) "
    }
   },
   "types_to_exclude": [
    "module",
    "function",
    "builtin_function_or_method",
    "instance",
    "_Feature"
   ],
   "window_display": false
  }
 },
 "nbformat": 4,
 "nbformat_minor": 5
}
