{
 "cells": [
  {
   "cell_type": "markdown",
   "id": "924aa25a",
   "metadata": {},
   "source": [
    "<hr style=\"border:2px solid gray\">\n",
    "\n",
    "# Preprocessing\n",
    "\n",
    "<hr style=\"border:2px solid gray\">\n",
    "\n",
    "## Content\n",
    "\n",
    "<hr style=\"border:1px solid gray\">\n",
    "<hr style=\"border:1px solid gray\">\n",
    "\n",
    "- **[Libraries to use](#Libraries)**\n",
    "\n",
    "- **[Loading the dataset](#Loading)**\n",
    "\n",
    "- **[Cleaning the dataset](#Cleaning)**\n",
    "\n",
    "- **[Extracting required features](#Extracting)**\n",
    "\n",
    "- **[Data exploration](#Exploration)**\n",
    "\n",
    "\n",
    "<hr style=\"border:2px solid gray\">"
   ]
  },
  {
   "cell_type": "markdown",
   "id": "f533f90c",
   "metadata": {},
   "source": [
    "---\n",
    "<a name=\"Libraries\"></a>\n",
    "### Libraries to use \n",
    "---"
   ]
  },
  {
   "cell_type": "code",
   "execution_count": 3,
   "id": "cd327ba7",
   "metadata": {
    "ExecuteTime": {
     "end_time": "2023-03-13T15:55:52.132573Z",
     "start_time": "2023-03-13T15:55:41.224273Z"
    }
   },
   "outputs": [],
   "source": [
    "#----------------------------------------------------------\n",
    "# Regular modules\n",
    "#----------------------------------------------------------\n",
    "import numpy as np\n",
    "import re\n",
    "from sklearn.preprocessing import MinMaxScaler\n",
    "from sklearn.model_selection import train_test_split\n",
    "#----------------------------------------------------------\n",
    "# Visualization\n",
    "#----------------------------------------------------------\n",
    "import matplotlib.pyplot as plt\n",
    "import pandas as pd\n",
    "import seaborn as sns\n",
    "#----------------------------------------------------------\n",
    "# Classifiers\n",
    "#----------------------------------------------------------\n",
    "from sklearn.dummy import DummyClassifier\n",
    "from sklearn.linear_model import LogisticRegression\n",
    "#----------------------------------------------------------\n",
    "# For metrics\n",
    "#----------------------------------------------------------\n",
    "from sklearn.metrics import confusion_matrix\n",
    "from sklearn.metrics import ConfusionMatrixDisplay\n",
    "from sklearn.metrics import accuracy_score\n",
    "from sklearn.metrics import precision_score\n",
    "from sklearn.metrics import recall_score\n",
    "from sklearn.metrics import f1_score\n",
    "#----------------------------------------------------------\n",
    "# To avoid warnings\n",
    "#----------------------------------------------------------\n",
    "import os\n",
    "import warnings \n",
    "warnings.filterwarnings('ignore')\n",
    "os.environ['TF_CPP_MIN_LOG_LEVEL'] = '3'\n",
    "#----------------------------------------------------------\n",
    "# Not regular modules\n",
    "#----------------------------------------------------------\n",
    "import datasets # to create a dictionary of datasets.\n",
    "import torch #The torch module provides support for multi-dimensional arrays called tensors.\n",
    "from umap import UMAP #Uniform Manifold Approximation and Projection\n",
    "# is a machine learning technique for dimensionality reduction, which is commonly\n",
    "# used for visualizing high-dimensional data in two or three dimensions.\n",
    "#----------------------------------------------------------\n",
    "# Transformers\n",
    "#----------------------------------------------------------\n",
    "from transformers import AutoTokenizer # to tokenize dataset of text.\n",
    "from transformers import AutoModel # to export last hidden layer from the outputs of the model.\n",
    "from transformers import AutoModelForSequenceClassification # to export logists from the outputs of the model.\n",
    "#----------------------------------------------------------"
   ]
  },
  {
   "cell_type": "markdown",
   "id": "31e43550",
   "metadata": {},
   "source": [
    "---\n",
    "### Loading datasets <a id=\"Loading\"> </a>\n",
    "---"
   ]
  },
  {
   "cell_type": "code",
   "execution_count": 4,
   "id": "b394b168",
   "metadata": {
    "ExecuteTime": {
     "end_time": "2023-03-13T15:55:52.800924Z",
     "start_time": "2023-03-13T15:55:52.404077Z"
    }
   },
   "outputs": [],
   "source": [
    "real = pd.read_csv(\"../data/UpperGI.csv\")"
   ]
  },
  {
   "cell_type": "code",
   "execution_count": 5,
   "id": "a37bab7e",
   "metadata": {
    "ExecuteTime": {
     "end_time": "2023-03-13T15:55:53.125895Z",
     "start_time": "2023-03-13T15:55:53.113054Z"
    }
   },
   "outputs": [
    {
     "data": {
      "text/html": [
       "<div>\n",
       "<style scoped>\n",
       "    .dataframe tbody tr th:only-of-type {\n",
       "        vertical-align: middle;\n",
       "    }\n",
       "\n",
       "    .dataframe tbody tr th {\n",
       "        vertical-align: top;\n",
       "    }\n",
       "\n",
       "    .dataframe thead th {\n",
       "        text-align: right;\n",
       "    }\n",
       "</style>\n",
       "<table border=\"1\" class=\"dataframe\">\n",
       "  <thead>\n",
       "    <tr style=\"text-align: right;\">\n",
       "      <th></th>\n",
       "      <th>Unnamed: 0</th>\n",
       "      <th>out</th>\n",
       "      <th>NA</th>\n",
       "    </tr>\n",
       "  </thead>\n",
       "  <tbody>\n",
       "    <tr>\n",
       "      <th>0</th>\n",
       "      <td>out1</td>\n",
       "      <td>Hospital Number: R1265623 , Hospital: Random N...</td>\n",
       "      <td>\\nNA</td>\n",
       "    </tr>\n",
       "    <tr>\n",
       "      <th>1</th>\n",
       "      <td>out2</td>\n",
       "      <td>Hospital Number: K2515095 , Hospital: Random N...</td>\n",
       "      <td>Nature of specimen:x9 stomach biopsy specimens...</td>\n",
       "    </tr>\n",
       "    <tr>\n",
       "      <th>2</th>\n",
       "      <td>out3</td>\n",
       "      <td>Hospital Number: L7746099 , Hospital: Random N...</td>\n",
       "      <td>\\ncharacter(0)</td>\n",
       "    </tr>\n",
       "    <tr>\n",
       "      <th>3</th>\n",
       "      <td>out4</td>\n",
       "      <td>Hospital Number: J4131371 , Hospital: Random N...</td>\n",
       "      <td></td>\n",
       "    </tr>\n",
       "    <tr>\n",
       "      <th>4</th>\n",
       "      <td>out5</td>\n",
       "      <td>Hospital Number: S4637507 , Hospital: Random N...</td>\n",
       "      <td>Nature of specimen:x6 fundus biopsy specimens ...</td>\n",
       "    </tr>\n",
       "  </tbody>\n",
       "</table>\n",
       "</div>"
      ],
      "text/plain": [
       "  Unnamed: 0                                                out  \\\n",
       "0       out1  Hospital Number: R1265623 , Hospital: Random N...   \n",
       "1       out2  Hospital Number: K2515095 , Hospital: Random N...   \n",
       "2       out3  Hospital Number: L7746099 , Hospital: Random N...   \n",
       "3       out4  Hospital Number: J4131371 , Hospital: Random N...   \n",
       "4       out5  Hospital Number: S4637507 , Hospital: Random N...   \n",
       "\n",
       "                                                  NA  \n",
       "0                                               \\nNA  \n",
       "1  Nature of specimen:x9 stomach biopsy specimens...  \n",
       "2                                     \\ncharacter(0)  \n",
       "3                                                     \n",
       "4  Nature of specimen:x6 fundus biopsy specimens ...  "
      ]
     },
     "execution_count": 5,
     "metadata": {},
     "output_type": "execute_result"
    }
   ],
   "source": [
    "real.head()"
   ]
  },
  {
   "cell_type": "markdown",
   "id": "a74a061c",
   "metadata": {},
   "source": [
    "<a id=\"Cleaning\"> </a>\n",
    "\n",
    "---\n",
    "### Cleaning the dataset \n",
    "---"
   ]
  },
  {
   "cell_type": "markdown",
   "id": "a07d2dc8",
   "metadata": {},
   "source": [
    "---\n",
    "#### Function \n",
    "---"
   ]
  },
  {
   "cell_type": "code",
   "execution_count": 6,
   "id": "b686ee27",
   "metadata": {
    "ExecuteTime": {
     "end_time": "2023-03-13T15:55:53.565225Z",
     "start_time": "2023-03-13T15:55:53.540972Z"
    }
   },
   "outputs": [],
   "source": [
    "def Cleaning(df):\n",
    "    \"\"\"\n",
    "    -----------------------------------------------\n",
    "    Description: Cleaning the loaded dataset and separed the relevant features.\n",
    "    -----------------------------------------------    \n",
    "        - Input: DataFrame with medical reports (Unnamed: 0, out, NA).\n",
    "        - Output: DataFrame with separated features from the original out feature.\n",
    "    -----------------------------------------------    \n",
    "    \"\"\"\n",
    "    #--------------------------------------------------------------------\n",
    "    # List of features for regex_list\n",
    "    #--------------------------------------------------------------------\n",
    "    hospital_numb = r\"\\.*Hospital Number.*\"\n",
    "    hospital = r\"\\.*Hospital:.*\"\n",
    "    general_practitioner = r\"\\.*General Practitioner:.*\"\n",
    "    DOB = r\"\\.*DOB:.*\"\n",
    "    Endoscopist = r\"\\.*Endoscopist:.*\"\n",
    "    Endoscopist_2 = r\"\\.*2nd Endoscopist:.*\"\n",
    "    Instrument = r\"\\.*Instrument.*\"\n",
    "    Extent = r\"\\.*Extent of Exam:.*\"\n",
    "    Procedure = r\"\\.*Procedure Performed:.*\"\n",
    "    #--------------------------------------------------------------------\n",
    "    list_features_regex = [hospital_numb,\\\n",
    "                           hospital,\\\n",
    "                           general_practitioner,\\\n",
    "                          DOB,\\\n",
    "                          Endoscopist,\\\n",
    "                          Endoscopist_2,\\\n",
    "                          Instrument,\\\n",
    "                          Extent,\\\n",
    "                          Procedure]\n",
    "    #--------------------------------------------------------------------\n",
    "    def regex_list(string,feature):\n",
    "        \"\"\"\n",
    "        -----------------------------------------------\n",
    "        Inputs:\n",
    "            - string: All text included in the feature out for each row (str).\n",
    "            - feature: feature to extract (str).\n",
    "        Output:\n",
    "            - retrn_string: returned string with the information of each feature.\n",
    "            Example: for feature=hospital_numb retrn_string\n",
    "        -----------------------------------------------\n",
    "        \"\"\"\n",
    "        hospital_reg =  feature#r\"\\.*Hospital Number.*\"\n",
    "        line = re.findall(hospital_reg, string)[0]\n",
    "        retrn_string= line.replace(',',':').split(\":\")[1]\n",
    "        if retrn_string[-1:] == \"\\r\":\n",
    "            return retrn_string[:-1]\n",
    "        else:\n",
    "            return retrn_string\n",
    "    #--------------------------------------------------------------------    \n",
    "    df[\"Hospital Number\"] = df['out'].apply(regex_list, args=(hospital_numb,))\n",
    "    df[\"Hospital\"] = df['out'].apply(regex_list, args=(hospital,))\n",
    "    df[\"General Practitioner\"] = df['out'].apply(regex_list, args=(general_practitioner,))\n",
    "    df[\"DOB\"] = df['out'].apply(regex_list, args=(DOB,))\n",
    "    df[\"Endoscopist\"] = df['out'].apply(regex_list, args=(Endoscopist,))\n",
    "    df[\"2nd Endoscopist\"] = df['out'].apply(regex_list, args=(Endoscopist_2,))\n",
    "    df[\"Instrument\"] = df['out'].apply(regex_list, args=(Instrument,))\n",
    "    df[\"Extent of Exam\"] = df['out'].apply(regex_list, args=(Extent,))\n",
    "    df[\"Procedure Performed\"] = df['out'].apply(regex_list, args=(Procedure,))\n",
    "    #--------------------------------------------------------------------\n",
    "    # Date of procedure\n",
    "    #--------------------------------------------------------------------\n",
    "    Date_procedure = r\"\\.*Date of procedure:.*\"\n",
    "    #--------------------------------------------------------------------   \n",
    "    def regex_procedure_date(string):\n",
    "        hospital_reg = r\"\\.*Date of procedure:.*\"\n",
    "        line =  re.findall(hospital_reg, string)[0]\n",
    "        retrn_string =  line.split(\":\")[1][:-11]\n",
    "        if retrn_string[-1:] == \"\\r\":\n",
    "            return retrn_string[:-1]\n",
    "        else:\n",
    "            return retrn_string\n",
    "    #--------------------------------------------------------------------\n",
    "    df[\"Date of procedure\"] = df['out'].apply(regex_procedure_date)    \n",
    "    #--------------------------------------------------------------------\n",
    "    # Medication\n",
    "    #--------------------------------------------------------------------\n",
    "    dmcg = r\"\\d*.\\dmcg\"\n",
    "    #--------------------------------------------------------------------       \n",
    "    def regex_medication(string):\n",
    "        hospital_reg = r\"\\d*.\\dmcg\"\n",
    "        retrn_string= re.findall(hospital_reg, string)[0]\n",
    "        if retrn_string[-1:] == \"\\r\":\n",
    "            return float(retrn_string[:-4])\n",
    "        else:\n",
    "            return float(retrn_string[:-3])  \n",
    "    #--------------------------------------------------------------------    \n",
    "    df[\"Medication\"] = df['out'].apply(regex_medication)    \n",
    "    #--------------------------------------------------------------------\n",
    "    # Midazolam\n",
    "    #--------------------------------------------------------------------\n",
    "    Midazolam = r\"\\.*Midazolam.*\"\n",
    "    #--------------------------------------------------------------------     \n",
    "    def regex_midazolam(string):\n",
    "        hospital_reg = r\"\\.*Midazolam.*\"\n",
    "        line = re.findall(hospital_reg, string)[0]\n",
    "        retrn_string =  line.split()[1]\n",
    "        if retrn_string[-1:] == \"\\r\":\n",
    "            return int(retrn_string[:-3])\n",
    "        else:\n",
    "            return int(retrn_string[:-2])    \n",
    "    #--------------------------------------------------------------------    \n",
    "    df[\"Midazolam\"] = df['out'].apply(regex_midazolam)      \n",
    "    #--------------------------------------------------------------------\n",
    "    # Indications for procedure\n",
    "    #--------------------------------------------------------------------       \n",
    "    def regex_indications(string):\n",
    "        hospital_reg = r\"\\.*INDICATIONS FOR PROCEDURE:.*\"\n",
    "        line = re.findall(hospital_reg, string)[0]\n",
    "        retrn_string =  line.replace(',',':').split(\":\")[1]\n",
    "        if retrn_string[-1:] == \"\\r\":\n",
    "            retrn_string= retrn_string[:-1]\n",
    "        if retrn_string[-8:] == \"FINDINGS\":\n",
    "            return retrn_string[:-8]\n",
    "        else:\n",
    "            return retrn_string \n",
    "    #--------------------------------------------------------------------    \n",
    "    df[\"Indications\"] = df['out'].apply(regex_indications)        \n",
    "    #--------------------------------------------------------------------\n",
    "    # Findings\n",
    "    #-------------------------------------------------------------------- \n",
    "    def regex_findings(string):\n",
    "        hospital_reg = r\"\\.*FINDINGS:.*\"\n",
    "        line = re.findall(hospital_reg, string)[0][10:]\n",
    "        return line\n",
    "    #--------------------------------------------------------------------    \n",
    "    df[\"Findings\"] = df['out'].apply(regex_findings)  \n",
    "    #--------------------------------------------------------------------\n",
    "    return df "
   ]
  },
  {
   "cell_type": "markdown",
   "id": "132cb0c5",
   "metadata": {},
   "source": [
    "---\n",
    "#### Result \n",
    "---"
   ]
  },
  {
   "cell_type": "code",
   "execution_count": 8,
   "id": "cb886bc4",
   "metadata": {
    "ExecuteTime": {
     "end_time": "2023-03-13T15:56:11.240844Z",
     "start_time": "2023-03-13T15:56:06.292598Z"
    }
   },
   "outputs": [
    {
     "data": {
      "text/html": [
       "<div>\n",
       "<style scoped>\n",
       "    .dataframe tbody tr th:only-of-type {\n",
       "        vertical-align: middle;\n",
       "    }\n",
       "\n",
       "    .dataframe tbody tr th {\n",
       "        vertical-align: top;\n",
       "    }\n",
       "\n",
       "    .dataframe thead th {\n",
       "        text-align: right;\n",
       "    }\n",
       "</style>\n",
       "<table border=\"1\" class=\"dataframe\">\n",
       "  <thead>\n",
       "    <tr style=\"text-align: right;\">\n",
       "      <th></th>\n",
       "      <th>Unnamed: 0</th>\n",
       "      <th>out</th>\n",
       "      <th>NA</th>\n",
       "      <th>Hospital Number</th>\n",
       "      <th>Hospital</th>\n",
       "      <th>General Practitioner</th>\n",
       "      <th>DOB</th>\n",
       "      <th>Endoscopist</th>\n",
       "      <th>2nd Endoscopist</th>\n",
       "      <th>Instrument</th>\n",
       "      <th>Extent of Exam</th>\n",
       "      <th>Procedure Performed</th>\n",
       "      <th>Date of procedure</th>\n",
       "      <th>Medication</th>\n",
       "      <th>Midazolam</th>\n",
       "      <th>Indications</th>\n",
       "      <th>Findings</th>\n",
       "    </tr>\n",
       "  </thead>\n",
       "  <tbody>\n",
       "    <tr>\n",
       "      <th>0</th>\n",
       "      <td>out1</td>\n",
       "      <td>Hospital Number: R1265623 , Hospital: Random N...</td>\n",
       "      <td>\\nNA</td>\n",
       "      <td>R1265623</td>\n",
       "      <td>Random NHS Foundation Trust</td>\n",
       "      <td>Dr. Taylor</td>\n",
       "      <td>1960-06-23</td>\n",
       "      <td>Dr. el-Hasen</td>\n",
       "      <td>Dr. Phenna</td>\n",
       "      <td>FG2</td>\n",
       "      <td>D1</td>\n",
       "      <td>Gastroscopy (OGD)</td>\n",
       "      <td>2014-11-13</td>\n",
       "      <td>75.0</td>\n",
       "      <td>6</td>\n",
       "      <td>Ongoing reflux symptoms.</td>\n",
       "      <td>Columnar lined oesophagus is present. The segm...</td>\n",
       "    </tr>\n",
       "    <tr>\n",
       "      <th>1</th>\n",
       "      <td>out2</td>\n",
       "      <td>Hospital Number: K2515095 , Hospital: Random N...</td>\n",
       "      <td>Nature of specimen:x9 stomach biopsy specimens...</td>\n",
       "      <td>K2515095</td>\n",
       "      <td>Random NHS Foundation Trust</td>\n",
       "      <td>Dr. Cheek</td>\n",
       "      <td>1981-01-24</td>\n",
       "      <td>Dr. el-Hasen</td>\n",
       "      <td>Dr. Sherwood</td>\n",
       "      <td>FG4</td>\n",
       "      <td>Oesophagus</td>\n",
       "      <td>Gastroscopy (OGD)</td>\n",
       "      <td>2002-05-01</td>\n",
       "      <td>25.0</td>\n",
       "      <td>2</td>\n",
       "      <td>Endoscopic ultrasound findings</td>\n",
       "      <td>There is an ulcer in the stomach which is supe...</td>\n",
       "    </tr>\n",
       "    <tr>\n",
       "      <th>2</th>\n",
       "      <td>out3</td>\n",
       "      <td>Hospital Number: L7746099 , Hospital: Random N...</td>\n",
       "      <td>\\ncharacter(0)</td>\n",
       "      <td>L7746099</td>\n",
       "      <td>Random NHS Foundation Trust</td>\n",
       "      <td>Dr. al-Zamani</td>\n",
       "      <td>1912-06-02</td>\n",
       "      <td>Dr. Hall</td>\n",
       "      <td>Dr. Barrett</td>\n",
       "      <td>FG7</td>\n",
       "      <td>D1</td>\n",
       "      <td>Gastroscopy (OGD)</td>\n",
       "      <td>2011-09-20</td>\n",
       "      <td>25.0</td>\n",
       "      <td>3</td>\n",
       "      <td>Nausea and/or Vomiting Haematemesis or Melaen...</td>\n",
       "      <td>LA Grade  D oesophagitis. The oesopahgitis is ...</td>\n",
       "    </tr>\n",
       "  </tbody>\n",
       "</table>\n",
       "</div>"
      ],
      "text/plain": [
       "  Unnamed: 0                                                out  \\\n",
       "0       out1  Hospital Number: R1265623 , Hospital: Random N...   \n",
       "1       out2  Hospital Number: K2515095 , Hospital: Random N...   \n",
       "2       out3  Hospital Number: L7746099 , Hospital: Random N...   \n",
       "\n",
       "                                                  NA Hospital Number  \\\n",
       "0                                               \\nNA       R1265623    \n",
       "1  Nature of specimen:x9 stomach biopsy specimens...       K2515095    \n",
       "2                                     \\ncharacter(0)       L7746099    \n",
       "\n",
       "                        Hospital General Practitioner            DOB  \\\n",
       "0   Random NHS Foundation Trust            Dr. Taylor    1960-06-23    \n",
       "1   Random NHS Foundation Trust             Dr. Cheek    1981-01-24    \n",
       "2   Random NHS Foundation Trust         Dr. al-Zamani    1912-06-02    \n",
       "\n",
       "     Endoscopist 2nd Endoscopist Instrument  Extent of Exam  \\\n",
       "0   Dr. el-Hasen      Dr. Phenna      FG2              D1     \n",
       "1   Dr. el-Hasen    Dr. Sherwood      FG4      Oesophagus     \n",
       "2       Dr. Hall     Dr. Barrett      FG7              D1     \n",
       "\n",
       "    Procedure Performed Date of procedure  Medication  Midazolam  \\\n",
       "0   Gastroscopy (OGD)          2014-11-13        75.0          6   \n",
       "1   Gastroscopy (OGD)          2002-05-01        25.0          2   \n",
       "2   Gastroscopy (OGD)          2011-09-20        25.0          3   \n",
       "\n",
       "                                         Indications  \\\n",
       "0                          Ongoing reflux symptoms.    \n",
       "1                     Endoscopic ultrasound findings   \n",
       "2   Nausea and/or Vomiting Haematemesis or Melaen...   \n",
       "\n",
       "                                            Findings  \n",
       "0  Columnar lined oesophagus is present. The segm...  \n",
       "1  There is an ulcer in the stomach which is supe...  \n",
       "2  LA Grade  D oesophagitis. The oesopahgitis is ...  "
      ]
     },
     "execution_count": 8,
     "metadata": {},
     "output_type": "execute_result"
    }
   ],
   "source": [
    "df_cleaned = Cleaning(real)\n",
    "df_cleaned.head(3)"
   ]
  },
  {
   "cell_type": "markdown",
   "id": "97b93aa0",
   "metadata": {},
   "source": [
    "<a id=\"Extracting\"> </a>\n",
    "\n",
    "---\n",
    "### Extracting required features\n",
    "---"
   ]
  },
  {
   "cell_type": "markdown",
   "id": "42ec368e",
   "metadata": {},
   "source": [
    "---\n",
    "#### Function\n",
    "---"
   ]
  },
  {
   "cell_type": "code",
   "execution_count": 11,
   "id": "f3d7d1f2",
   "metadata": {
    "ExecuteTime": {
     "end_time": "2023-03-13T15:57:47.978232Z",
     "start_time": "2023-03-13T15:57:47.971066Z"
    }
   },
   "outputs": [],
   "source": [
    "def Extracting(df):\n",
    "    \"\"\"\n",
    "    -----------------------------------------------\n",
    "    Description: Extracting relevan features from df.\n",
    "    -----------------------------------------------\n",
    "     Input: df: DataFrame resulted from Cleaning.\n",
    "     Output: df_extracted: DataFrame with \"extent_of_exam\",\"indications\" and \"findings\".\n",
    "    \"\"\"\n",
    "    #--------------------------------------------------------------------\n",
    "    df_extracted = df[[\"General Practitioner\",\"Endoscopist\",\"Instrument\",\"Extent of Exam\",\"Indications\",\"Findings\"]]\n",
    "    #--------------------------------------------------------------------    \n",
    "    return df_extracted "
   ]
  },
  {
   "cell_type": "markdown",
   "id": "1cd8eb7b",
   "metadata": {},
   "source": [
    "#### Result"
   ]
  },
  {
   "cell_type": "code",
   "execution_count": 12,
   "id": "3892fc31",
   "metadata": {
    "ExecuteTime": {
     "end_time": "2023-03-13T15:57:48.824165Z",
     "start_time": "2023-03-13T15:57:48.806301Z"
    }
   },
   "outputs": [
    {
     "data": {
      "text/html": [
       "<div>\n",
       "<style scoped>\n",
       "    .dataframe tbody tr th:only-of-type {\n",
       "        vertical-align: middle;\n",
       "    }\n",
       "\n",
       "    .dataframe tbody tr th {\n",
       "        vertical-align: top;\n",
       "    }\n",
       "\n",
       "    .dataframe thead th {\n",
       "        text-align: right;\n",
       "    }\n",
       "</style>\n",
       "<table border=\"1\" class=\"dataframe\">\n",
       "  <thead>\n",
       "    <tr style=\"text-align: right;\">\n",
       "      <th></th>\n",
       "      <th>General Practitioner</th>\n",
       "      <th>Endoscopist</th>\n",
       "      <th>Instrument</th>\n",
       "      <th>Extent of Exam</th>\n",
       "      <th>Indications</th>\n",
       "      <th>Findings</th>\n",
       "    </tr>\n",
       "  </thead>\n",
       "  <tbody>\n",
       "    <tr>\n",
       "      <th>0</th>\n",
       "      <td>Dr. Taylor</td>\n",
       "      <td>Dr. el-Hasen</td>\n",
       "      <td>FG2</td>\n",
       "      <td>D1</td>\n",
       "      <td>Ongoing reflux symptoms.</td>\n",
       "      <td>Columnar lined oesophagus is present. The segm...</td>\n",
       "    </tr>\n",
       "    <tr>\n",
       "      <th>1</th>\n",
       "      <td>Dr. Cheek</td>\n",
       "      <td>Dr. el-Hasen</td>\n",
       "      <td>FG4</td>\n",
       "      <td>Oesophagus</td>\n",
       "      <td>Endoscopic ultrasound findings</td>\n",
       "      <td>There is an ulcer in the stomach which is supe...</td>\n",
       "    </tr>\n",
       "    <tr>\n",
       "      <th>2</th>\n",
       "      <td>Dr. al-Zamani</td>\n",
       "      <td>Dr. Hall</td>\n",
       "      <td>FG7</td>\n",
       "      <td>D1</td>\n",
       "      <td>Nausea and/or Vomiting Haematemesis or Melaen...</td>\n",
       "      <td>LA Grade  D oesophagitis. The oesopahgitis is ...</td>\n",
       "    </tr>\n",
       "  </tbody>\n",
       "</table>\n",
       "</div>"
      ],
      "text/plain": [
       "  General Practitioner    Endoscopist Instrument  Extent of Exam  \\\n",
       "0           Dr. Taylor   Dr. el-Hasen      FG2              D1     \n",
       "1            Dr. Cheek   Dr. el-Hasen      FG4      Oesophagus     \n",
       "2        Dr. al-Zamani       Dr. Hall      FG7              D1     \n",
       "\n",
       "                                         Indications  \\\n",
       "0                          Ongoing reflux symptoms.    \n",
       "1                     Endoscopic ultrasound findings   \n",
       "2   Nausea and/or Vomiting Haematemesis or Melaen...   \n",
       "\n",
       "                                            Findings  \n",
       "0  Columnar lined oesophagus is present. The segm...  \n",
       "1  There is an ulcer in the stomach which is supe...  \n",
       "2  LA Grade  D oesophagitis. The oesopahgitis is ...  "
      ]
     },
     "execution_count": 12,
     "metadata": {},
     "output_type": "execute_result"
    }
   ],
   "source": [
    "df_extracted = Extracting(df_cleaned)\n",
    "df_extracted.head(3)"
   ]
  },
  {
   "cell_type": "code",
   "execution_count": 14,
   "id": "e2d82c46",
   "metadata": {
    "ExecuteTime": {
     "end_time": "2023-03-13T15:58:33.262814Z",
     "start_time": "2023-03-13T15:58:33.254382Z"
    }
   },
   "outputs": [
    {
     "data": {
      "text/plain": [
       "\"Normal gastroscopy to the duodenum.  FOLLOW UP: A blood test may be ordered to assess the patient's iron levels, as polyps can cause bleeding in the stomach and intestines. RECOMMENDATION: The patient should be advised to avoid acidic foods and drinks, which can irritate the lining of the stomach and increase the risk of developing more polyps.\""
      ]
     },
     "execution_count": 14,
     "metadata": {},
     "output_type": "execute_result"
    }
   ],
   "source": [
    "df_extracted.Findings.iloc[12]"
   ]
  },
  {
   "cell_type": "markdown",
   "id": "394c9b49",
   "metadata": {},
   "source": [
    "<a id=\"Exploration\"> </a>\n",
    "\n",
    "### Data exploration"
   ]
  },
  {
   "cell_type": "markdown",
   "id": "f039341e",
   "metadata": {},
   "source": [
    "---\n",
    "#### Functions\n",
    "---"
   ]
  },
  {
   "cell_type": "code",
   "execution_count": null,
   "id": "cfe7e809",
   "metadata": {},
   "outputs": [],
   "source": []
  },
  {
   "cell_type": "markdown",
   "id": "5d4081a7",
   "metadata": {},
   "source": [
    "---\n",
    "#### Results\n",
    "---"
   ]
  },
  {
   "cell_type": "code",
   "execution_count": null,
   "id": "c3eeb6f5",
   "metadata": {},
   "outputs": [],
   "source": []
  }
 ],
 "metadata": {
  "kernelspec": {
   "display_name": "Python 3 (ipykernel)",
   "language": "python",
   "name": "python3"
  },
  "language_info": {
   "codemirror_mode": {
    "name": "ipython",
    "version": 3
   },
   "file_extension": ".py",
   "mimetype": "text/x-python",
   "name": "python",
   "nbconvert_exporter": "python",
   "pygments_lexer": "ipython3",
   "version": "3.10.6"
  },
  "toc": {
   "base_numbering": 1,
   "nav_menu": {},
   "number_sections": true,
   "sideBar": true,
   "skip_h1_title": false,
   "title_cell": "Table of Contents",
   "title_sidebar": "Contents",
   "toc_cell": false,
   "toc_position": {},
   "toc_section_display": true,
   "toc_window_display": false
  },
  "varInspector": {
   "cols": {
    "lenName": 16,
    "lenType": 16,
    "lenVar": 40
   },
   "kernels_config": {
    "python": {
     "delete_cmd_postfix": "",
     "delete_cmd_prefix": "del ",
     "library": "var_list.py",
     "varRefreshCmd": "print(var_dic_list())"
    },
    "r": {
     "delete_cmd_postfix": ") ",
     "delete_cmd_prefix": "rm(",
     "library": "var_list.r",
     "varRefreshCmd": "cat(var_dic_list()) "
    }
   },
   "types_to_exclude": [
    "module",
    "function",
    "builtin_function_or_method",
    "instance",
    "_Feature"
   ],
   "window_display": false
  }
 },
 "nbformat": 4,
 "nbformat_minor": 5
}
