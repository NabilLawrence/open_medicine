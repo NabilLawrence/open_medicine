{
 "cells": [
  {
   "cell_type": "markdown",
   "id": "b301c572",
   "metadata": {
    "ExecuteTime": {
     "end_time": "2023-03-09T09:49:41.700186Z",
     "start_time": "2023-03-09T09:49:41.693219Z"
    }
   },
   "source": [
    "---\n",
    "## ODF Classifier with BioBERT  \n",
    "---\n",
    "### Content\n",
    "---\n",
    "\n",
    "- **[Libraries to use](#Libraries_to_use)**\n",
    "\n",
    "- **[Loading the dataset](#Loading_dataset)**\n",
    "\n",
    "- **[Cleaning the dataset and extracting required features](#Cleaning_extracting)**\n",
    "\n",
    "- **[Including reversed findings to the dataset](#Reversed_findings)**\n",
    "\n",
    "- **[Creating a dictionary with train, test, validation datasets](#train_test_validation)**\n",
    "\n",
    "- **[Load tokenizer and model](#tokenizer_model)**\n",
    "\n",
    "- **[Tokenize the datasets](#tokenize)**\n",
    "\n",
    "- **[Formating to torch](#Formating)**\n",
    "\n",
    "- **[Extracting hidden states](#Extracting_hidden_states)**\n",
    "\n",
    "- **[Creating a feature matrix](#feature_matrix)**\n",
    "\n",
    "- **[Visualizing the training set](#Visualizing_training)**\n",
    "\n",
    "- **[Training a classifier](#Training_classifier)**\n",
    "\n",
    " ---"
   ]
  },
  {
   "cell_type": "markdown",
   "id": "bae2c097",
   "metadata": {},
   "source": [
    "---\n",
    "### Libraries to use <a id=\"Libraries_to_use\"> </a>\n",
    "---"
   ]
  },
  {
   "cell_type": "code",
   "execution_count": 1,
   "id": "dfb1b9db",
   "metadata": {
    "ExecuteTime": {
     "end_time": "2023-03-12T10:08:44.977780Z",
     "start_time": "2023-03-12T10:08:36.797321Z"
    }
   },
   "outputs": [],
   "source": [
    "#------------------------------------------------------\n",
    "# Regular modules\n",
    "#------------------------------------------------------\n",
    "import numpy as np\n",
    "import matplotlib.pyplot as plt\n",
    "import pandas as pd\n",
    "import seaborn as sns\n",
    "import ast\n",
    "import re\n",
    "from sklearn.preprocessing import MinMaxScaler\n",
    "from sklearn.model_selection import train_test_split\n",
    "from sklearn.dummy import DummyClassifier\n",
    "from sklearn.linear_model import LogisticRegression\n",
    "from sklearn.metrics import ConfusionMatrixDisplay, confusion_matrix\n",
    "#------------------------------------------------------\n",
    "# To avoid warnings\n",
    "#------------------------------------------------------\n",
    "import os\n",
    "import warnings \n",
    "warnings.filterwarnings('ignore')\n",
    "os.environ['TF_CPP_MIN_LOG_LEVEL'] = '3'\n",
    "#------------------------------------------------------\n",
    "# Not regular modules\n",
    "#------------------------------------------------------\n",
    "import datasets\n",
    "import torch\n",
    "from umap import UMAP\n",
    "from transformers import AutoTokenizer, AutoModel\n",
    "#------------------------------------------------------\n",
    "# Created modules\n",
    "#------------------------------------------------------\n",
    "from Classifier import data_cleaning  \n",
    "from Classifier import including_reversing \n",
    "from Classifier import train_test_validation  "
   ]
  },
  {
   "cell_type": "markdown",
   "id": "9dbcacc5",
   "metadata": {},
   "source": [
    "---\n",
    "### Loading the dataset <a id=\"Loading_dataset\"> </a>\n",
    "---"
   ]
  },
  {
   "cell_type": "code",
   "execution_count": 31,
   "id": "0a1d7aa1",
   "metadata": {
    "ExecuteTime": {
     "end_time": "2023-03-12T10:14:37.058731Z",
     "start_time": "2023-03-12T10:14:31.937504Z"
    }
   },
   "outputs": [],
   "source": [
    "real = pd.read_csv(\"../data/UpperGI.csv\")\n",
    "real  =real.rename(columns={\"out\":\"text\"})\n",
    "real = data_cleaning(real)\n",
    "real = real[['findings']]\n",
    "real['label'] = 0\n",
    "real=real.iloc[0:1000]"
   ]
  },
  {
   "cell_type": "code",
   "execution_count": 32,
   "id": "aaa8492c",
   "metadata": {
    "ExecuteTime": {
     "end_time": "2023-03-12T10:14:37.297853Z",
     "start_time": "2023-03-12T10:14:37.286845Z"
    }
   },
   "outputs": [
    {
     "data": {
      "text/html": [
       "<div>\n",
       "<style scoped>\n",
       "    .dataframe tbody tr th:only-of-type {\n",
       "        vertical-align: middle;\n",
       "    }\n",
       "\n",
       "    .dataframe tbody tr th {\n",
       "        vertical-align: top;\n",
       "    }\n",
       "\n",
       "    .dataframe thead th {\n",
       "        text-align: right;\n",
       "    }\n",
       "</style>\n",
       "<table border=\"1\" class=\"dataframe\">\n",
       "  <thead>\n",
       "    <tr style=\"text-align: right;\">\n",
       "      <th></th>\n",
       "      <th>findings</th>\n",
       "      <th>label</th>\n",
       "    </tr>\n",
       "  </thead>\n",
       "  <tbody>\n",
       "    <tr>\n",
       "      <th>0</th>\n",
       "      <td>Columnar lined oesophagus is present. The segm...</td>\n",
       "      <td>0</td>\n",
       "    </tr>\n",
       "    <tr>\n",
       "      <th>1</th>\n",
       "      <td>There is an ulcer in the stomach which is supe...</td>\n",
       "      <td>0</td>\n",
       "    </tr>\n",
       "    <tr>\n",
       "      <th>2</th>\n",
       "      <td>LA Grade  D oesophagitis. The oesopahgitis is ...</td>\n",
       "      <td>0</td>\n",
       "    </tr>\n",
       "    <tr>\n",
       "      <th>3</th>\n",
       "      <td>There is a polyp in the body which is sessile ...</td>\n",
       "      <td>0</td>\n",
       "    </tr>\n",
       "    <tr>\n",
       "      <th>4</th>\n",
       "      <td>There is a stricture in the fundus which is Oe...</td>\n",
       "      <td>0</td>\n",
       "    </tr>\n",
       "    <tr>\n",
       "      <th>...</th>\n",
       "      <td>...</td>\n",
       "      <td>...</td>\n",
       "    </tr>\n",
       "    <tr>\n",
       "      <th>995</th>\n",
       "      <td>There is inflammation in the body which is ero...</td>\n",
       "      <td>0</td>\n",
       "    </tr>\n",
       "    <tr>\n",
       "      <th>996</th>\n",
       "      <td>The patient has a stricture in the fundus whic...</td>\n",
       "      <td>0</td>\n",
       "    </tr>\n",
       "    <tr>\n",
       "      <th>997</th>\n",
       "      <td>The patient has a polyp in the stomach which i...</td>\n",
       "      <td>0</td>\n",
       "    </tr>\n",
       "    <tr>\n",
       "      <th>998</th>\n",
       "      <td>Several white exudates were seen. A whitish ex...</td>\n",
       "      <td>0</td>\n",
       "    </tr>\n",
       "    <tr>\n",
       "      <th>999</th>\n",
       "      <td>The distal oesophagus shows signs of an eosino...</td>\n",
       "      <td>0</td>\n",
       "    </tr>\n",
       "  </tbody>\n",
       "</table>\n",
       "<p>1000 rows × 2 columns</p>\n",
       "</div>"
      ],
      "text/plain": [
       "                                              findings  label\n",
       "0    Columnar lined oesophagus is present. The segm...      0\n",
       "1    There is an ulcer in the stomach which is supe...      0\n",
       "2    LA Grade  D oesophagitis. The oesopahgitis is ...      0\n",
       "3    There is a polyp in the body which is sessile ...      0\n",
       "4    There is a stricture in the fundus which is Oe...      0\n",
       "..                                                 ...    ...\n",
       "995  There is inflammation in the body which is ero...      0\n",
       "996  The patient has a stricture in the fundus whic...      0\n",
       "997  The patient has a polyp in the stomach which i...      0\n",
       "998  Several white exudates were seen. A whitish ex...      0\n",
       "999  The distal oesophagus shows signs of an eosino...      0\n",
       "\n",
       "[1000 rows x 2 columns]"
      ]
     },
     "execution_count": 32,
     "metadata": {},
     "output_type": "execute_result"
    }
   ],
   "source": [
    "real#.head()"
   ]
  },
  {
   "cell_type": "code",
   "execution_count": 33,
   "id": "d45941ff",
   "metadata": {
    "ExecuteTime": {
     "end_time": "2023-03-12T10:14:38.149697Z",
     "start_time": "2023-03-12T10:14:38.143006Z"
    }
   },
   "outputs": [],
   "source": [
    "def cleaning_generated_data(fake):\n",
    "    fake=fake.rename(columns={\"generated_findings\":\"findings\"})\n",
    "    def regex_findings(string):\n",
    "        line=ast.literal_eval(string)\n",
    "        output =line[0]['generated_text']\n",
    "        hospital_reg = r\"\\.*FINDINGS:.*\"\n",
    "        output = re.findall(hospital_reg, output)[0][10:]\n",
    "        return output\n",
    "    fake[\"findings\"] = fake['findings'].apply(regex_findings)\n",
    "    fake['label'] = 1\n",
    "    return fake"
   ]
  },
  {
   "cell_type": "code",
   "execution_count": 34,
   "id": "1e1d3372",
   "metadata": {
    "ExecuteTime": {
     "end_time": "2023-03-12T10:14:38.533282Z",
     "start_time": "2023-03-12T10:14:38.496771Z"
    }
   },
   "outputs": [],
   "source": [
    "fake_1 = pd.read_csv(\"../data/findings1000.csv\")\n",
    "fake_1 = cleaning_generated_data(fake_1)\n",
    "fake_1 = fake_1[['findings']]\n",
    "fake_1['label'] = 1\n",
    "\n"
   ]
  },
  {
   "cell_type": "code",
   "execution_count": 36,
   "id": "93d5931c",
   "metadata": {
    "ExecuteTime": {
     "end_time": "2023-03-12T10:14:46.590125Z",
     "start_time": "2023-03-12T10:14:46.575068Z"
    }
   },
   "outputs": [
    {
     "data": {
      "text/html": [
       "<div>\n",
       "<style scoped>\n",
       "    .dataframe tbody tr th:only-of-type {\n",
       "        vertical-align: middle;\n",
       "    }\n",
       "\n",
       "    .dataframe tbody tr th {\n",
       "        vertical-align: top;\n",
       "    }\n",
       "\n",
       "    .dataframe thead th {\n",
       "        text-align: right;\n",
       "    }\n",
       "</style>\n",
       "<table border=\"1\" class=\"dataframe\">\n",
       "  <thead>\n",
       "    <tr style=\"text-align: right;\">\n",
       "      <th></th>\n",
       "      <th>findings</th>\n",
       "      <th>label</th>\n",
       "    </tr>\n",
       "  </thead>\n",
       "  <tbody>\n",
       "    <tr>\n",
       "      <th>0</th>\n",
       "      <td>The patient has a 6mm nodule in the duodenal ...</td>\n",
       "      <td>1</td>\n",
       "    </tr>\n",
       "    <tr>\n",
       "      <th>1</th>\n",
       "      <td>The patient has inflammation in the oesophagu...</td>\n",
       "      <td>1</td>\n",
       "    </tr>\n",
       "    <tr>\n",
       "      <th>2</th>\n",
       "      <td>There is a nodule in the GOJ which is stalked...</td>\n",
       "      <td>1</td>\n",
       "    </tr>\n",
       "    <tr>\n",
       "      <th>3</th>\n",
       "      <td>Normal gastroscopy to the duodenum..</td>\n",
       "      <td>1</td>\n",
       "    </tr>\n",
       "    <tr>\n",
       "      <th>4</th>\n",
       "      <td>There is inflammation in the oesophagus at 27...</td>\n",
       "      <td>1</td>\n",
       "    </tr>\n",
       "    <tr>\n",
       "      <th>...</th>\n",
       "      <td>...</td>\n",
       "      <td>...</td>\n",
       "    </tr>\n",
       "    <tr>\n",
       "      <th>995</th>\n",
       "      <td>The patient has a stricture in the second par...</td>\n",
       "      <td>1</td>\n",
       "    </tr>\n",
       "    <tr>\n",
       "      <th>996</th>\n",
       "      <td>Normal gastroscopy to the duodenum. FOLLOW</td>\n",
       "      <td>1</td>\n",
       "    </tr>\n",
       "    <tr>\n",
       "      <th>997</th>\n",
       "      <td>The patient has a polyp in the stomach which ...</td>\n",
       "      <td>1</td>\n",
       "    </tr>\n",
       "    <tr>\n",
       "      <th>998</th>\n",
       "      <td>Inflammatory changes seen in the oesophagus. ...</td>\n",
       "      <td>1</td>\n",
       "    </tr>\n",
       "    <tr>\n",
       "      <th>999</th>\n",
       "      <td>There is an ulcer in the stomach which is fib...</td>\n",
       "      <td>1</td>\n",
       "    </tr>\n",
       "  </tbody>\n",
       "</table>\n",
       "<p>1000 rows × 2 columns</p>\n",
       "</div>"
      ],
      "text/plain": [
       "                                              findings  label\n",
       "0     The patient has a 6mm nodule in the duodenal ...      1\n",
       "1     The patient has inflammation in the oesophagu...      1\n",
       "2     There is a nodule in the GOJ which is stalked...      1\n",
       "3                 Normal gastroscopy to the duodenum..      1\n",
       "4     There is inflammation in the oesophagus at 27...      1\n",
       "..                                                 ...    ...\n",
       "995   The patient has a stricture in the second par...      1\n",
       "996         Normal gastroscopy to the duodenum. FOLLOW      1\n",
       "997   The patient has a polyp in the stomach which ...      1\n",
       "998   Inflammatory changes seen in the oesophagus. ...      1\n",
       "999   There is an ulcer in the stomach which is fib...      1\n",
       "\n",
       "[1000 rows x 2 columns]"
      ]
     },
     "execution_count": 36,
     "metadata": {},
     "output_type": "execute_result"
    }
   ],
   "source": [
    "fake_1[0:1000]"
   ]
  },
  {
   "cell_type": "code",
   "execution_count": 37,
   "id": "2a413900",
   "metadata": {
    "ExecuteTime": {
     "end_time": "2023-03-12T10:14:47.436981Z",
     "start_time": "2023-03-12T10:14:47.429058Z"
    }
   },
   "outputs": [
    {
     "data": {
      "text/plain": [
       "' There is a nodule in the stomach which is stalked. A nodular lesion is observed in the gastric fundus'"
      ]
     },
     "execution_count": 37,
     "metadata": {},
     "output_type": "execute_result"
    }
   ],
   "source": [
    "fake_1['findings'].loc[12]"
   ]
  },
  {
   "cell_type": "markdown",
   "id": "dc763c2e",
   "metadata": {},
   "source": [
    "---\n",
    "### Including reversed findings to the dataset <a id=\"Reversed_findings\"> </a>\n",
    "---"
   ]
  },
  {
   "cell_type": "code",
   "execution_count": 40,
   "id": "58659262",
   "metadata": {
    "ExecuteTime": {
     "end_time": "2023-03-12T10:15:01.908338Z",
     "start_time": "2023-03-12T10:15:01.899891Z"
    }
   },
   "outputs": [],
   "source": [
    "fake_real = pd.concat([fake_1[:1000], real])"
   ]
  },
  {
   "cell_type": "code",
   "execution_count": 41,
   "id": "591e104b",
   "metadata": {
    "ExecuteTime": {
     "end_time": "2023-03-12T10:15:02.372584Z",
     "start_time": "2023-03-12T10:15:02.357818Z"
    }
   },
   "outputs": [
    {
     "data": {
      "text/html": [
       "<div>\n",
       "<style scoped>\n",
       "    .dataframe tbody tr th:only-of-type {\n",
       "        vertical-align: middle;\n",
       "    }\n",
       "\n",
       "    .dataframe tbody tr th {\n",
       "        vertical-align: top;\n",
       "    }\n",
       "\n",
       "    .dataframe thead th {\n",
       "        text-align: right;\n",
       "    }\n",
       "</style>\n",
       "<table border=\"1\" class=\"dataframe\">\n",
       "  <thead>\n",
       "    <tr style=\"text-align: right;\">\n",
       "      <th></th>\n",
       "      <th>findings</th>\n",
       "      <th>label</th>\n",
       "    </tr>\n",
       "  </thead>\n",
       "  <tbody>\n",
       "    <tr>\n",
       "      <th>0</th>\n",
       "      <td>The patient has a 6mm nodule in the duodenal ...</td>\n",
       "      <td>1</td>\n",
       "    </tr>\n",
       "    <tr>\n",
       "      <th>1</th>\n",
       "      <td>The patient has inflammation in the oesophagu...</td>\n",
       "      <td>1</td>\n",
       "    </tr>\n",
       "    <tr>\n",
       "      <th>2</th>\n",
       "      <td>There is a nodule in the GOJ which is stalked...</td>\n",
       "      <td>1</td>\n",
       "    </tr>\n",
       "    <tr>\n",
       "      <th>3</th>\n",
       "      <td>Normal gastroscopy to the duodenum..</td>\n",
       "      <td>1</td>\n",
       "    </tr>\n",
       "    <tr>\n",
       "      <th>4</th>\n",
       "      <td>There is inflammation in the oesophagus at 27...</td>\n",
       "      <td>1</td>\n",
       "    </tr>\n",
       "    <tr>\n",
       "      <th>...</th>\n",
       "      <td>...</td>\n",
       "      <td>...</td>\n",
       "    </tr>\n",
       "    <tr>\n",
       "      <th>1995</th>\n",
       "      <td>There is inflammation in the body which is ero...</td>\n",
       "      <td>0</td>\n",
       "    </tr>\n",
       "    <tr>\n",
       "      <th>1996</th>\n",
       "      <td>The patient has a stricture in the fundus whic...</td>\n",
       "      <td>0</td>\n",
       "    </tr>\n",
       "    <tr>\n",
       "      <th>1997</th>\n",
       "      <td>The patient has a polyp in the stomach which i...</td>\n",
       "      <td>0</td>\n",
       "    </tr>\n",
       "    <tr>\n",
       "      <th>1998</th>\n",
       "      <td>Several white exudates were seen. A whitish ex...</td>\n",
       "      <td>0</td>\n",
       "    </tr>\n",
       "    <tr>\n",
       "      <th>1999</th>\n",
       "      <td>The distal oesophagus shows signs of an eosino...</td>\n",
       "      <td>0</td>\n",
       "    </tr>\n",
       "  </tbody>\n",
       "</table>\n",
       "<p>2000 rows × 2 columns</p>\n",
       "</div>"
      ],
      "text/plain": [
       "                                               findings  label\n",
       "0      The patient has a 6mm nodule in the duodenal ...      1\n",
       "1      The patient has inflammation in the oesophagu...      1\n",
       "2      There is a nodule in the GOJ which is stalked...      1\n",
       "3                  Normal gastroscopy to the duodenum..      1\n",
       "4      There is inflammation in the oesophagus at 27...      1\n",
       "...                                                 ...    ...\n",
       "1995  There is inflammation in the body which is ero...      0\n",
       "1996  The patient has a stricture in the fundus whic...      0\n",
       "1997  The patient has a polyp in the stomach which i...      0\n",
       "1998  Several white exudates were seen. A whitish ex...      0\n",
       "1999  The distal oesophagus shows signs of an eosino...      0\n",
       "\n",
       "[2000 rows x 2 columns]"
      ]
     },
     "execution_count": 41,
     "metadata": {},
     "output_type": "execute_result"
    }
   ],
   "source": [
    "fake_real.reset_index(drop=True, inplace=True)\n",
    "fake_real"
   ]
  },
  {
   "cell_type": "code",
   "execution_count": 42,
   "id": "ca55595b",
   "metadata": {
    "ExecuteTime": {
     "end_time": "2023-03-12T10:15:03.640882Z",
     "start_time": "2023-03-12T10:15:03.636677Z"
    }
   },
   "outputs": [],
   "source": [
    "# sentences.tail(3)"
   ]
  },
  {
   "cell_type": "markdown",
   "id": "e7aa9a75",
   "metadata": {},
   "source": [
    "---\n",
    "### Creating a dictionary with train, test, validation datasets <a id=\"train_test_validation\"> </a>\n",
    "---"
   ]
  },
  {
   "cell_type": "code",
   "execution_count": 43,
   "id": "e3b6b50d",
   "metadata": {
    "ExecuteTime": {
     "end_time": "2023-03-12T10:15:04.874679Z",
     "start_time": "2023-03-12T10:15:04.830083Z"
    }
   },
   "outputs": [],
   "source": [
    "Dict_datasets = train_test_validation(fake_real)"
   ]
  },
  {
   "cell_type": "code",
   "execution_count": 44,
   "id": "cb80a340",
   "metadata": {
    "ExecuteTime": {
     "end_time": "2023-03-12T10:15:05.431656Z",
     "start_time": "2023-03-12T10:15:05.424509Z"
    }
   },
   "outputs": [
    {
     "data": {
      "text/plain": [
       "DatasetDict({\n",
       "    train: Dataset({\n",
       "        features: ['findings', 'label'],\n",
       "        num_rows: 980\n",
       "    })\n",
       "    test: Dataset({\n",
       "        features: ['findings', 'label'],\n",
       "        num_rows: 600\n",
       "    })\n",
       "    validation: Dataset({\n",
       "        features: ['findings', 'label'],\n",
       "        num_rows: 420\n",
       "    })\n",
       "})"
      ]
     },
     "execution_count": 44,
     "metadata": {},
     "output_type": "execute_result"
    }
   ],
   "source": [
    "Dict_datasets"
   ]
  },
  {
   "cell_type": "markdown",
   "id": "36208475",
   "metadata": {},
   "source": [
    "---\n",
    "### Load tokenizer and model <a id=\"tokenizer_model\"> </a>\n",
    "---\n",
    "\n",
    "- BioBERT is a pre-trained language model that is designed for biomedical natural language processing (NLP) tasks. It is based on the Google's BERT (Bidirectional Encoder Representations from Transformers) architecture.\n",
    "\n",
    "- BioBERT is pre-trained on a large corpus of biomedical text data, which includes abstracts and full-text articles from PubMed Central and other biomedical databases. \n",
    "\n",
    "---"
   ]
  },
  {
   "cell_type": "code",
   "execution_count": 45,
   "id": "9e22cbbb",
   "metadata": {
    "ExecuteTime": {
     "end_time": "2023-03-12T10:15:06.822667Z",
     "start_time": "2023-03-12T10:15:06.273127Z"
    }
   },
   "outputs": [],
   "source": [
    "tokenizer = AutoTokenizer.from_pretrained(\"dmis-lab/biobert-v1.1\")"
   ]
  },
  {
   "cell_type": "code",
   "execution_count": 46,
   "id": "99541fe2",
   "metadata": {
    "ExecuteTime": {
     "end_time": "2023-03-12T10:15:08.664655Z",
     "start_time": "2023-03-12T10:15:07.057354Z"
    }
   },
   "outputs": [],
   "source": [
    "model = AutoModel.from_pretrained(\"dmis-lab/biobert-v1.1\", num_labels=2)"
   ]
  },
  {
   "cell_type": "markdown",
   "id": "b6b99c4f",
   "metadata": {},
   "source": [
    "---\n",
    "### Tokenize the datasets <a id=\"tokenize\"> </a>\n",
    "---"
   ]
  },
  {
   "cell_type": "code",
   "execution_count": 47,
   "id": "534b946d",
   "metadata": {
    "ExecuteTime": {
     "end_time": "2023-03-12T10:15:10.965646Z",
     "start_time": "2023-03-12T10:15:10.749139Z"
    }
   },
   "outputs": [
    {
     "data": {
      "application/vnd.jupyter.widget-view+json": {
       "model_id": "",
       "version_major": 2,
       "version_minor": 0
      },
      "text/plain": [
       "Map:   0%|          | 0/980 [00:00<?, ? examples/s]"
      ]
     },
     "metadata": {},
     "output_type": "display_data"
    },
    {
     "data": {
      "application/vnd.jupyter.widget-view+json": {
       "model_id": "",
       "version_major": 2,
       "version_minor": 0
      },
      "text/plain": [
       "Map:   0%|          | 0/600 [00:00<?, ? examples/s]"
      ]
     },
     "metadata": {},
     "output_type": "display_data"
    },
    {
     "data": {
      "application/vnd.jupyter.widget-view+json": {
       "model_id": "",
       "version_major": 2,
       "version_minor": 0
      },
      "text/plain": [
       "Map:   0%|          | 0/420 [00:00<?, ? examples/s]"
      ]
     },
     "metadata": {},
     "output_type": "display_data"
    }
   ],
   "source": [
    "#--------------------------------------------------------------------\n",
    "# define function to tokenize the datasets\n",
    "#--------------------------------------------------------------------\n",
    "def tokenize(data):\n",
    "    return tokenizer(data[\"findings\"], padding=True, truncation=True,max_length=10) \n",
    "#--------------------------------------------------------------------\n",
    "# tokenize datasets\n",
    "#--------------------------------------------------------------------\n",
    "Dict_datasets_encoded = Dict_datasets.map(tokenize, batched=True, batch_size=None)"
   ]
  },
  {
   "cell_type": "markdown",
   "id": "52711cda",
   "metadata": {},
   "source": [
    "---\n",
    "### Formating to torch <a id=\"Formating\"> </a>\n",
    "---"
   ]
  },
  {
   "cell_type": "code",
   "execution_count": 48,
   "id": "cc9603df",
   "metadata": {
    "ExecuteTime": {
     "end_time": "2023-03-12T10:15:11.287940Z",
     "start_time": "2023-03-12T10:15:11.279867Z"
    }
   },
   "outputs": [],
   "source": [
    "Dict_datasets_encoded.set_format(\"torch\", columns=[\"input_ids\", \"attention_mask\", \"label\"])"
   ]
  },
  {
   "cell_type": "markdown",
   "id": "8a5e34ae",
   "metadata": {},
   "source": [
    "---\n",
    "### Extracting hidden states <a id=\"Extracting_hidden_states\"> </a>\n",
    "---\n",
    "\n",
    "How will extract the hidden states associated with each finding."
   ]
  },
  {
   "cell_type": "code",
   "execution_count": 49,
   "id": "9bbc89c1",
   "metadata": {
    "ExecuteTime": {
     "end_time": "2023-03-12T10:15:35.579404Z",
     "start_time": "2023-03-12T10:15:11.784041Z"
    }
   },
   "outputs": [
    {
     "data": {
      "application/vnd.jupyter.widget-view+json": {
       "model_id": "",
       "version_major": 2,
       "version_minor": 0
      },
      "text/plain": [
       "Map:   0%|          | 0/980 [00:00<?, ? examples/s]"
      ]
     },
     "metadata": {},
     "output_type": "display_data"
    },
    {
     "data": {
      "application/vnd.jupyter.widget-view+json": {
       "model_id": "",
       "version_major": 2,
       "version_minor": 0
      },
      "text/plain": [
       "Map:   0%|          | 0/600 [00:00<?, ? examples/s]"
      ]
     },
     "metadata": {},
     "output_type": "display_data"
    },
    {
     "data": {
      "application/vnd.jupyter.widget-view+json": {
       "model_id": "",
       "version_major": 2,
       "version_minor": 0
      },
      "text/plain": [
       "Map:   0%|          | 0/420 [00:00<?, ? examples/s]"
      ]
     },
     "metadata": {},
     "output_type": "display_data"
    }
   ],
   "source": [
    "device = torch.device(\"cuda\" if torch.cuda.is_available() else \"cpu\")\n",
    "\n",
    "def extract_hidden_states(batch):\n",
    "    # Place model inputs on the GPU\n",
    "    inputs = {k:v.to(device) for k,v in batch.items() \n",
    "              if k in tokenizer.model_input_names}\n",
    "    # Extract last hidden states\n",
    "    with torch.no_grad():\n",
    "        last_hidden_state = model(**inputs).last_hidden_state\n",
    "    # Return vector for [CLS] token\n",
    "    return {\"hidden_state\": last_hidden_state[:,0].cpu().numpy()}\n",
    "dataset_hidden = Dict_datasets_encoded.map(extract_hidden_states, batched=True)"
   ]
  },
  {
   "cell_type": "markdown",
   "id": "e27c8b47",
   "metadata": {},
   "source": [
    "---\n",
    "### Creating a feature matrix <a id=\"feature_matrix\"> </a>\n",
    "---\n",
    "\n",
    "We will use the hidden states as input features and the labels as targets."
   ]
  },
  {
   "cell_type": "code",
   "execution_count": 50,
   "id": "19fa68ac",
   "metadata": {
    "ExecuteTime": {
     "end_time": "2023-03-12T10:15:35.784215Z",
     "start_time": "2023-03-12T10:15:35.766232Z"
    }
   },
   "outputs": [
    {
     "data": {
      "text/plain": [
       "((980, 768), (420, 768), (600, 768))"
      ]
     },
     "execution_count": 50,
     "metadata": {},
     "output_type": "execute_result"
    }
   ],
   "source": [
    "X_train = np.array(dataset_hidden[\"train\"][\"hidden_state\"])\n",
    "X_valid = np.array(dataset_hidden[\"validation\"][\"hidden_state\"])\n",
    "X_test = np.array(dataset_hidden[\"test\"][\"hidden_state\"])\n",
    "y_train = np.array(dataset_hidden[\"train\"][\"label\"])\n",
    "y_valid = np.array(dataset_hidden[\"validation\"][\"label\"])\n",
    "y_test = np.array(dataset_hidden[\"test\"][\"label\"])\n",
    "X_train.shape, X_valid.shape, X_test.shape"
   ]
  },
  {
   "cell_type": "code",
   "execution_count": 51,
   "id": "dd779d1b",
   "metadata": {
    "ExecuteTime": {
     "end_time": "2023-03-12T10:16:07.657606Z",
     "start_time": "2023-03-12T10:16:07.652808Z"
    }
   },
   "outputs": [],
   "source": [
    "#feature_matrix_list = [X_train,X_valid,X_test,y_train,y_valid,y_test]"
   ]
  },
  {
   "cell_type": "code",
   "execution_count": 52,
   "id": "eef10a90",
   "metadata": {
    "ExecuteTime": {
     "end_time": "2023-03-12T10:16:07.902021Z",
     "start_time": "2023-03-12T10:16:07.898122Z"
    }
   },
   "outputs": [],
   "source": [
    "#np.save('feature_matrix_list.npy', np.array(feature_matrix_list, dtype=object), allow_pickle=True)"
   ]
  },
  {
   "cell_type": "code",
   "execution_count": 53,
   "id": "1a8409f3",
   "metadata": {
    "ExecuteTime": {
     "end_time": "2023-03-12T10:16:08.155762Z",
     "start_time": "2023-03-12T10:16:08.151275Z"
    }
   },
   "outputs": [],
   "source": [
    "#feature_matrix_list_loaded = np.load('feature_matrix_list.npy', allow_pickle=True)\n",
    "#[X_train,X_valid,X_test,y_train,y_valid,y_test]=feature_matrix_list_loaded"
   ]
  },
  {
   "cell_type": "markdown",
   "id": "d89fe66d",
   "metadata": {},
   "source": [
    "---\n",
    "### Visualizing the training set <a id=\"Visualizing_training\"> </a>\n",
    "---"
   ]
  },
  {
   "cell_type": "code",
   "execution_count": 54,
   "id": "6b35e069",
   "metadata": {
    "ExecuteTime": {
     "end_time": "2023-03-12T10:16:12.870193Z",
     "start_time": "2023-03-12T10:16:08.535254Z"
    }
   },
   "outputs": [
    {
     "data": {
      "text/html": [
       "<div>\n",
       "<style scoped>\n",
       "    .dataframe tbody tr th:only-of-type {\n",
       "        vertical-align: middle;\n",
       "    }\n",
       "\n",
       "    .dataframe tbody tr th {\n",
       "        vertical-align: top;\n",
       "    }\n",
       "\n",
       "    .dataframe thead th {\n",
       "        text-align: right;\n",
       "    }\n",
       "</style>\n",
       "<table border=\"1\" class=\"dataframe\">\n",
       "  <thead>\n",
       "    <tr style=\"text-align: right;\">\n",
       "      <th></th>\n",
       "      <th>X</th>\n",
       "      <th>Y</th>\n",
       "      <th>label</th>\n",
       "    </tr>\n",
       "  </thead>\n",
       "  <tbody>\n",
       "    <tr>\n",
       "      <th>0</th>\n",
       "      <td>10.427748</td>\n",
       "      <td>-1.850638</td>\n",
       "      <td>0</td>\n",
       "    </tr>\n",
       "    <tr>\n",
       "      <th>1</th>\n",
       "      <td>-18.721735</td>\n",
       "      <td>19.381409</td>\n",
       "      <td>0</td>\n",
       "    </tr>\n",
       "    <tr>\n",
       "      <th>2</th>\n",
       "      <td>-13.347418</td>\n",
       "      <td>-13.642392</td>\n",
       "      <td>1</td>\n",
       "    </tr>\n",
       "    <tr>\n",
       "      <th>3</th>\n",
       "      <td>27.238203</td>\n",
       "      <td>8.491126</td>\n",
       "      <td>1</td>\n",
       "    </tr>\n",
       "    <tr>\n",
       "      <th>4</th>\n",
       "      <td>0.479164</td>\n",
       "      <td>7.727686</td>\n",
       "      <td>1</td>\n",
       "    </tr>\n",
       "  </tbody>\n",
       "</table>\n",
       "</div>"
      ],
      "text/plain": [
       "           X          Y  label\n",
       "0  10.427748  -1.850638      0\n",
       "1 -18.721735  19.381409      0\n",
       "2 -13.347418 -13.642392      1\n",
       "3  27.238203   8.491126      1\n",
       "4   0.479164   7.727686      1"
      ]
     },
     "execution_count": 54,
     "metadata": {},
     "output_type": "execute_result"
    }
   ],
   "source": [
    "# Scale features to [0,1] range\n",
    "X_scaled = MinMaxScaler().fit_transform(X_train)\n",
    "# Initialize and fit UMAP\n",
    "mapper = UMAP(n_components=2, metric=\"cosine\").fit(X_scaled)\n",
    "# Create a DataFrame of 2D embeddings\n",
    "df_emb = pd.DataFrame(mapper.embedding_, columns=[\"X\", \"Y\"])\n",
    "df_emb[\"label\"] = y_train\n",
    "df_emb.head()"
   ]
  },
  {
   "cell_type": "code",
   "execution_count": 55,
   "id": "6d47165a",
   "metadata": {
    "ExecuteTime": {
     "end_time": "2023-03-12T10:16:13.204973Z",
     "start_time": "2023-03-12T10:16:13.079808Z"
    }
   },
   "outputs": [
    {
     "data": {
      "image/png": "[encoded data removed]",
      "text/plain": [
       "<Figure size 500x300 with 2 Axes>"
      ]
     },
     "metadata": {},
     "output_type": "display_data"
    }
   ],
   "source": [
    "fig, axes = plt.subplots(1, 2, figsize=(5,3))\n",
    "axes = axes.flatten()\n",
    "cmaps = [\"Blues\", \"Oranges\"]\n",
    "labels = ['Generated findings','Original findings']\n",
    "\n",
    "for i, (label, cmap) in enumerate(zip(labels, cmaps)):\n",
    "    df_emb_sub = df_emb.query(f\"label == {i}\")\n",
    "    axes[i].hexbin(df_emb_sub[\"X\"], df_emb_sub[\"Y\"], cmap=cmap,\n",
    "                   gridsize=20, linewidths=(0,))\n",
    "    axes[i].set_title(label)\n",
    "    axes[i].set_xticks([]), axes[i].set_yticks([])\n",
    "\n",
    "plt.tight_layout()\n",
    "plt.show()"
   ]
  },
  {
   "cell_type": "markdown",
   "id": "334e96b8",
   "metadata": {},
   "source": [
    "---\n",
    "### Training a classifier <a id=\"Training_classifier\"> </a>\n",
    "---"
   ]
  },
  {
   "cell_type": "code",
   "execution_count": 56,
   "id": "2613eded",
   "metadata": {
    "ExecuteTime": {
     "end_time": "2023-03-12T10:16:37.450830Z",
     "start_time": "2023-03-12T10:16:37.330874Z"
    }
   },
   "outputs": [
    {
     "data": {
      "text/plain": [
       "0.6238095238095238"
      ]
     },
     "execution_count": 56,
     "metadata": {},
     "output_type": "execute_result"
    }
   ],
   "source": [
    "lr_clf = LogisticRegression(max_iter=100)\n",
    "lr_clf.fit(X_train, y_train)\n",
    "lr_clf.score(X_valid, y_valid)"
   ]
  },
  {
   "cell_type": "code",
   "execution_count": 86,
   "id": "311ac173",
   "metadata": {
    "ExecuteTime": {
     "end_time": "2023-03-12T10:41:11.597100Z",
     "start_time": "2023-03-12T10:41:11.589619Z"
    }
   },
   "outputs": [
    {
     "data": {
      "text/plain": [
       "array([1])"
      ]
     },
     "execution_count": 86,
     "metadata": {},
     "output_type": "execute_result"
    }
   ],
   "source": [
    "y_preds = lr_clf.predict(X_test[0:1,:])\n",
    "y_preds"
   ]
  },
  {
   "cell_type": "code",
   "execution_count": 85,
   "id": "5a397a79",
   "metadata": {
    "ExecuteTime": {
     "end_time": "2023-03-12T10:41:04.841619Z",
     "start_time": "2023-03-12T10:41:04.834852Z"
    }
   },
   "outputs": [
    {
     "data": {
      "text/plain": [
       "1"
      ]
     },
     "execution_count": 85,
     "metadata": {},
     "output_type": "execute_result"
    }
   ],
   "source": [
    "y_test[0]"
   ]
  },
  {
   "cell_type": "code",
   "execution_count": 57,
   "id": "64ee165d",
   "metadata": {
    "ExecuteTime": {
     "end_time": "2023-03-12T10:16:37.895132Z",
     "start_time": "2023-03-12T10:16:37.763649Z"
    }
   },
   "outputs": [
    {
     "data": {
      "image/png": "[encoded data removed]",
      "text/plain": [
       "<Figure size 300x300 with 1 Axes>"
      ]
     },
     "metadata": {},
     "output_type": "display_data"
    }
   ],
   "source": [
    "y_preds = lr_clf.predict(X_test)\n",
    "\n",
    "def plot_confusion_matrix(y_preds, y_true, labels):\n",
    "    cm = confusion_matrix(y_true, y_preds, normalize=\"true\")\n",
    "    fig, ax = plt.subplots(figsize=(3, 3))\n",
    "    disp = ConfusionMatrixDisplay(confusion_matrix=cm, display_labels=labels)\n",
    "    disp.plot(cmap=\"Blues\", values_format=\".2f\", ax=ax, colorbar=False)\n",
    "    plt.title(\"Normalized confusion matrix\")\n",
    "    plt.show()\n",
    "\n",
    "plot_confusion_matrix(y_test,y_preds, [1,0])"
   ]
  },
  {
   "cell_type": "code",
   "execution_count": 58,
   "id": "a7d26bab",
   "metadata": {
    "ExecuteTime": {
     "end_time": "2023-03-12T10:16:38.379458Z",
     "start_time": "2023-03-12T10:16:38.370310Z"
    }
   },
   "outputs": [
    {
     "data": {
      "text/plain": [
       "0.6216666666666667"
      ]
     },
     "execution_count": 58,
     "metadata": {},
     "output_type": "execute_result"
    }
   ],
   "source": [
    "from sklearn.metrics import accuracy_score\n",
    "\n",
    "accuracy_score(y_test, y_preds)"
   ]
  },
  {
   "cell_type": "markdown",
   "id": "0bb3d0b7",
   "metadata": {},
   "source": [
    "### Classification of a single text"
   ]
  },
  {
   "cell_type": "code",
   "execution_count": 59,
   "id": "343d7f88",
   "metadata": {
    "ExecuteTime": {
     "end_time": "2023-03-12T10:16:39.352942Z",
     "start_time": "2023-03-12T10:16:39.347725Z"
    }
   },
   "outputs": [],
   "source": [
    "labels = ['\"Real\" medical report','Fake medical report']"
   ]
  },
  {
   "cell_type": "code",
   "execution_count": 143,
   "id": "ad1d9fa0",
   "metadata": {
    "ExecuteTime": {
     "end_time": "2023-03-12T11:35:23.736945Z",
     "start_time": "2023-03-12T11:35:23.729435Z"
    }
   },
   "outputs": [
    {
     "data": {
      "text/plain": [
       "' Normal gastroscopy to the duodenum. character (0)'"
      ]
     },
     "execution_count": 143,
     "metadata": {},
     "output_type": "execute_result"
    }
   ],
   "source": [
    "fake_1['findings'].iloc[item]"
   ]
  },
  {
   "cell_type": "code",
   "execution_count": 142,
   "id": "a87c4be9",
   "metadata": {
    "ExecuteTime": {
     "end_time": "2023-03-12T11:35:20.809965Z",
     "start_time": "2023-03-12T11:35:20.573889Z"
    }
   },
   "outputs": [
    {
     "name": "stdout",
     "output_type": "stream",
     "text": [
      "#----------------------------------------------------------------------------------------\n",
      "# Text\n",
      "#----------------------------------------------------------------------------------------\n",
      " Normal gastroscopy to the duodenum. character (0)\n",
      "#----------------------------------------------------------------------------------------\n",
      "# Label\n",
      "#----------------------------------------------------------------------------------------\n",
      "Fake medical report\n",
      "#----------------------------------------------------------------------------------------\n"
     ]
    },
    {
     "data": {
      "image/png": "[encoded data removed]",
      "text/plain": [
       "<Figure size 600x200 with 1 Axes>"
      ]
     },
     "metadata": {},
     "output_type": "display_data"
    },
    {
     "data": {
      "text/plain": [
       "array([0])"
      ]
     },
     "execution_count": 142,
     "metadata": {},
     "output_type": "execute_result"
    }
   ],
   "source": [
    "item=500\n",
    "print('#----------------------------------------------------------------------------------------')\n",
    "print('# Text')\n",
    "print('#----------------------------------------------------------------------------------------')\n",
    "custom_label = fake_1['label'].iloc[item]\n",
    "custom_sentence=fake_1['findings'].iloc[item]\n",
    "print(custom_sentence)\n",
    "print('#----------------------------------------------------------------------------------------')\n",
    "print('# Label')\n",
    "print('#----------------------------------------------------------------------------------------')\n",
    "print(labels[custom_label])\n",
    "print('#----------------------------------------------------------------------------------------')\n",
    "#-----------------------------------------------------\n",
    "#-----------------------------------------------------\n",
    "inputs = tokenizer(custom_sentence, return_tensors=\"pt\")\n",
    "#-----------------------------------------------------\n",
    "inputs = {k:v.to(device) for k,v in inputs.items()}\n",
    "with torch.no_grad():\n",
    "        outputs = model(**inputs)\n",
    "#outputs.last_hidden_state.shape\n",
    "#-----------------------------------------------------\n",
    "preds_prob = lr_clf.predict_proba(np.array(outputs.last_hidden_state[:,0].cpu().numpy()))\n",
    "preds = lr_clf.predict(np.array(outputs.last_hidden_state[:,0].cpu().numpy()))\n",
    "#-----------------------------------------------------\n",
    "#preds_df = pd.DataFrame(preds[0])\n",
    "#-----------------------------------------------------\n",
    "plt.figure(figsize=(6,2))\n",
    "plt.bar(labels, 100 * preds_prob[0], color='red')\n",
    "plt.title(f'\"{custom_sentence[:110]}...\"')\n",
    "plt.ylabel(\"Class probability (%)\")\n",
    "plt.show()\n",
    "preds"
   ]
  },
  {
   "cell_type": "code",
   "execution_count": 131,
   "id": "9b42ddd0",
   "metadata": {
    "ExecuteTime": {
     "end_time": "2023-03-12T11:31:15.507173Z",
     "start_time": "2023-03-12T11:31:15.499440Z"
    }
   },
   "outputs": [
    {
     "data": {
      "text/plain": [
       "array([0])"
      ]
     },
     "execution_count": 131,
     "metadata": {},
     "output_type": "execute_result"
    }
   ],
   "source": [
    "preds"
   ]
  },
  {
   "cell_type": "code",
   "execution_count": 132,
   "id": "3c8a6e67",
   "metadata": {
    "ExecuteTime": {
     "end_time": "2023-03-12T11:31:16.109377Z",
     "start_time": "2023-03-12T11:31:16.103646Z"
    }
   },
   "outputs": [
    {
     "data": {
      "text/plain": [
       "array([[0.69998029, 0.30001971]])"
      ]
     },
     "execution_count": 132,
     "metadata": {},
     "output_type": "execute_result"
    }
   ],
   "source": [
    "preds_prob"
   ]
  }
 ],
 "metadata": {
  "kernelspec": {
   "display_name": "Python 3 (ipykernel)",
   "language": "python",
   "name": "python3"
  },
  "language_info": {
   "codemirror_mode": {
    "name": "ipython",
    "version": 3
   },
   "file_extension": ".py",
   "mimetype": "text/x-python",
   "name": "python",
   "nbconvert_exporter": "python",
   "pygments_lexer": "ipython3",
   "version": "3.10.6"
  },
  "toc": {
   "base_numbering": 1,
   "nav_menu": {},
   "number_sections": true,
   "sideBar": true,
   "skip_h1_title": false,
   "title_cell": "Table of Contents",
   "title_sidebar": "Contents",
   "toc_cell": false,
   "toc_position": {},
   "toc_section_display": true,
   "toc_window_display": false
  },
  "varInspector": {
   "cols": {
    "lenName": 16,
    "lenType": 16,
    "lenVar": 40
   },
   "kernels_config": {
    "python": {
     "delete_cmd_postfix": "",
     "delete_cmd_prefix": "del ",
     "library": "var_list.py",
     "varRefreshCmd": "print(var_dic_list())"
    },
    "r": {
     "delete_cmd_postfix": ") ",
     "delete_cmd_prefix": "rm(",
     "library": "var_list.r",
     "varRefreshCmd": "cat(var_dic_list()) "
    }
   },
   "types_to_exclude": [
    "module",
    "function",
    "builtin_function_or_method",
    "instance",
    "_Feature"
   ],
   "window_display": false
  }
 },
 "nbformat": 4,
 "nbformat_minor": 5
}
