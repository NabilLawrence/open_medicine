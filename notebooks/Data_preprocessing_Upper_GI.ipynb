{
 "cells": [
  {
   "attachments": {},
   "cell_type": "markdown",
   "id": "3f4f6ddc",
   "metadata": {},
   "source": [
    "---\n",
    "## Data preprocessing upper GI\n",
    "---\n",
    "### Content\n",
    "---\n",
    "- **[Libraries to use](#Libraries_to_use)**\n",
    "\n",
    "- **[Loading the dataset](#Loading_dataset)**\n",
    "\n",
    "- **[Data extraction and cleaning](#Data_extraction_cleaning)**\n",
    " \n",
    " ---"
   ]
  },
  {
   "cell_type": "markdown",
   "id": "c6cdfdd7",
   "metadata": {},
   "source": [
    "### Libraries to use <a id=\"Libraries_to_use\"> </a>"
   ]
  },
  {
   "cell_type": "code",
   "execution_count": 1,
   "id": "d6d9bf0a",
   "metadata": {},
   "outputs": [],
   "source": [
    "import numpy as np\n",
    "import pandas as pd\n",
    "import re\n",
    "import matplotlib.pyplot as plt\n",
    "from sklearn.svm import SVC\n",
    "from sklearn.preprocessing import StandardScaler\n",
    "from sklearn.preprocessing import MinMaxScaler\n",
    "from sklearn.datasets import make_classification\n",
    "from sklearn.model_selection import train_test_split\n",
    "from sklearn.pipeline import Pipeline\n",
    "from sklearn.pipeline import make_pipeline\n",
    "from sklearn.preprocessing import OneHotEncoder\n",
    "from sklearn.impute import SimpleImputer, KNNImputer"
   ]
  },
  {
   "cell_type": "markdown",
   "id": "2515c35a",
   "metadata": {},
   "source": [
    "### Loading the dataset <a id=\"Loading_dataset\"> </a>"
   ]
  },
  {
   "cell_type": "code",
   "execution_count": 2,
   "id": "de79ab3e",
   "metadata": {},
   "outputs": [],
   "source": [

    "df = pd.read_csv(\"../data/UpperGI.csv\")\n"

   ]
  },
  {
   "cell_type": "code",
   "execution_count": 3,
   "id": "227603bb",
   "metadata": {},
   "outputs": [
    {
     "data": {
      "text/html": [
       "<div>\n",
       "<style scoped>\n",
       "    .dataframe tbody tr th:only-of-type {\n",
       "        vertical-align: middle;\n",
       "    }\n",
       "\n",
       "    .dataframe tbody tr th {\n",
       "        vertical-align: top;\n",
       "    }\n",
       "\n",
       "    .dataframe thead th {\n",
       "        text-align: right;\n",
       "    }\n",
       "</style>\n",
       "<table border=\"1\" class=\"dataframe\">\n",
       "  <thead>\n",
       "    <tr style=\"text-align: right;\">\n",
       "      <th></th>\n",
       "      <th>Unnamed: 0</th>\n",
       "      <th>out</th>\n",
       "      <th>NA</th>\n",
       "    </tr>\n",
       "  </thead>\n",
       "  <tbody>\n",
       "    <tr>\n",
       "      <th>0</th>\n",
       "      <td>out1</td>\n",
       "      <td>Hospital Number: R1265623 , Hospital: Random N...</td>\n",
       "      <td>\\nNA</td>\n",
       "    </tr>\n",
       "    <tr>\n",
       "      <th>1</th>\n",
       "      <td>out2</td>\n",
       "      <td>Hospital Number: K2515095 , Hospital: Random N...</td>\n",
       "      <td>Nature of specimen:x9 stomach biopsy specimens...</td>\n",
       "    </tr>\n",
       "    <tr>\n",
       "      <th>2</th>\n",
       "      <td>out3</td>\n",
       "      <td>Hospital Number: L7746099 , Hospital: Random N...</td>\n",
       "      <td>\\ncharacter(0)</td>\n",
       "    </tr>\n",
       "    <tr>\n",
       "      <th>3</th>\n",
       "      <td>out4</td>\n",
       "      <td>Hospital Number: J4131371 , Hospital: Random N...</td>\n",
       "      <td></td>\n",
       "    </tr>\n",
       "    <tr>\n",
       "      <th>4</th>\n",
       "      <td>out5</td>\n",
       "      <td>Hospital Number: S4637507 , Hospital: Random N...</td>\n",
       "      <td>Nature of specimen:x6 fundus biopsy specimens ...</td>\n",
       "    </tr>\n",
       "  </tbody>\n",
       "</table>\n",
       "</div>"
      ],
      "text/plain": [
       "  Unnamed: 0                                                out  \\\n",
       "0       out1  Hospital Number: R1265623 , Hospital: Random N...   \n",
       "1       out2  Hospital Number: K2515095 , Hospital: Random N...   \n",
       "2       out3  Hospital Number: L7746099 , Hospital: Random N...   \n",
       "3       out4  Hospital Number: J4131371 , Hospital: Random N...   \n",
       "4       out5  Hospital Number: S4637507 , Hospital: Random N...   \n",
       "\n",
       "                                                  NA  \n",
       "0                                               \\nNA  \n",
       "1  Nature of specimen:x9 stomach biopsy specimens...  \n",
       "2                                     \\ncharacter(0)  \n",
       "3                                                     \n",
       "4  Nature of specimen:x6 fundus biopsy specimens ...  "
      ]
     },
     "execution_count": 3,
     "metadata": {},
     "output_type": "execute_result"
    }
   ],
   "source": [
    "df.head()"
   ]
  },
  {
   "cell_type": "code",
   "execution_count": 4,
   "id": "aad69230",
   "metadata": {},
   "outputs": [
    {
     "data": {
      "text/plain": [
       "'Hospital Number: R1265623 , Hospital: Random NHS Foundation Trust , DOB:  1960-06-23 , General Practitioner: Dr. Taylor, Amanda  , Date of procedure:  2014-11-13Endoscopist: Dr. el-Hasen, Marjaana  , 2nd Endoscopist: Dr. Phenna, Kali  , Medications: Fentanyl  75mcg  , Midazolam  6mg  , Instrument:  FG2  , Extent of Exam:  D1  , Procedure Performed: Gastroscopy (OGD)  , INDICATIONS FOR PROCEDURE: Ongoing reflux symptoms. FINDINGS: Columnar lined oesophagus is present. The segment looks flat. Some areas of vascular abnormalities are seen. No abnormal pit pattern is seen. NA'"
      ]
     },
     "execution_count": 4,
     "metadata": {},
     "output_type": "execute_result"
    }
   ],
   "source": [

    "df = df.rename(columns={\"out\": \"text\"})\n",
    "df.text[0]\n"

    "df.text[0]"
   ]
  },
  {
   "cell_type": "markdown",
   "id": "f548a4f0",
   "metadata": {},
   "source": [
    "### Data extraction and cleaning <a id=\"Data_extraction_cleaning\"> </a>"
   ]
  },
  {
   "cell_type": "code",
   "execution_count": 5,
   "id": "d2930b8e",
   "metadata": {},
   "outputs": [],
   "source": [
    "def regex_hosp(string):\n",
    "    hospital_reg = r\"\\.*Hospital:.*\"\n",
    "    line = re.findall(hospital_reg, string)[0]\n",
    "    return  line.replace(',',':').split(\":\")[1]\n",
    "    \n",
    "df[\"foundation_trust\"] = df['text'].apply(regex_hosp)"
   ]
  },
  {
   "cell_type": "code",
   "execution_count": 6,
   "id": "67f199aa",
   "metadata": {},
   "outputs": [],
   "source": [
    "def regex_hosp_num(string):\n",
    "    hospital_reg = r\"\\.*Hospital Number.*\"\n",
    "    line= re.findall(hospital_reg, string)[0]\n",
    "    return  line.replace(',',':').split(\":\")[1]\n",
    "df[\"hospital_num\"] = df['text'].apply(regex_hosp_num)"
   ]
  },
  {
   "cell_type": "code",
   "execution_count": 7,
   "id": "13b9e88a",
   "metadata": {},
   "outputs": [],
   "source": [
    "def regex_GP(string):\n",
    "    hospital_reg = r\"\\.*General Practitioner:.*\"\n",
    "    line = re.findall(hospital_reg, string)[0]\n",
    "    retrn_string= line.replace(',',':').split(\":\")[1]\n",
    "    if retrn_string[-1:] == \"\\r\":\n",
    "        return retrn_string[:-1]\n",
    "    else:\n",
    "        return retrn_string\n",
    "df[\"gp\"] = df['text'].apply(regex_GP)"
   ]
  },
  {
   "cell_type": "code",
   "execution_count": 8,
   "id": "8816009c",
   "metadata": {},
   "outputs": [],
   "source": [
    "def regex_DOB(string):\n",
    "    hospital_reg = r\"\\.*DOB:.*\"\n",
    "    line =  re.findall(hospital_reg, string)[0]\n",
    "    retrn_string= line.replace(',',':').split(\":\")[1]\n",
    "    if retrn_string[-1:] == \"\\r\":\n",
    "        return retrn_string[:-1]\n",
    "    else:\n",
    "        return retrn_string\n",
    "df[\"DOB\"] = df['text'].apply(regex_DOB)"
   ]
  },
  {
   "cell_type": "code",
   "execution_count": 9,
   "id": "4805c491",
   "metadata": {},
   "outputs": [],
   "source": [
    "def regex_procedure_date(string):\n",
    "    hospital_reg = r\"\\.*Date of procedure:.*\"\n",
    "    line =  re.findall(hospital_reg, string)[0]\n",
    "    retrn_string =  line.split(\":\")[1][:-11]\n",
    "    if retrn_string[-1:] == \"\\r\":\n",
    "        return retrn_string[:-1]\n",
    "    else:\n",
    "        return retrn_string\n",
    "df[\"procedure_date\"] = df['text'].apply(regex_procedure_date)"
   ]
  },
  {
   "cell_type": "code",
   "execution_count": 10,
   "id": "54c5de2b",
   "metadata": {},
   "outputs": [
    {
     "data": {
      "text/html": [
       "<div>\n",
       "<style scoped>\n",
       "    .dataframe tbody tr th:only-of-type {\n",
       "        vertical-align: middle;\n",
       "    }\n",
       "\n",
       "    .dataframe tbody tr th {\n",
       "        vertical-align: top;\n",
       "    }\n",
       "\n",
       "    .dataframe thead th {\n",
       "        text-align: right;\n",
       "    }\n",
       "</style>\n",
       "<table border=\"1\" class=\"dataframe\">\n",
       "  <thead>\n",
       "    <tr style=\"text-align: right;\">\n",
       "      <th></th>\n",
       "      <th>Unnamed: 0</th>\n",
       "      <th>text</th>\n",
       "      <th>NA</th>\n",
       "      <th>foundation_trust</th>\n",
       "      <th>hospital_num</th>\n",
       "      <th>gp</th>\n",
       "      <th>DOB</th>\n",
       "      <th>procedure_date</th>\n",
       "    </tr>\n",
       "  </thead>\n",
       "  <tbody>\n",
       "    <tr>\n",
       "      <th>0</th>\n",
       "      <td>out1</td>\n",
       "      <td>Hospital Number: R1265623 , Hospital: Random N...</td>\n",
       "      <td>\\nNA</td>\n",
       "      <td>Random NHS Foundation Trust</td>\n",
       "      <td>R1265623</td>\n",
       "      <td>Dr. Taylor</td>\n",
       "      <td>1960-06-23</td>\n",
       "      <td>2014-11-13</td>\n",
       "    </tr>\n",
       "    <tr>\n",
       "      <th>1</th>\n",
       "      <td>out2</td>\n",
       "      <td>Hospital Number: K2515095 , Hospital: Random N...</td>\n",
       "      <td>Nature of specimen:x9 stomach biopsy specimens...</td>\n",
       "      <td>Random NHS Foundation Trust</td>\n",
       "      <td>K2515095</td>\n",
       "      <td>Dr. Cheek</td>\n",
       "      <td>1981-01-24</td>\n",
       "      <td>2002-05-01</td>\n",
       "    </tr>\n",
       "    <tr>\n",
       "      <th>2</th>\n",
       "      <td>out3</td>\n",
       "      <td>Hospital Number: L7746099 , Hospital: Random N...</td>\n",
       "      <td>\\ncharacter(0)</td>\n",
       "      <td>Random NHS Foundation Trust</td>\n",
       "      <td>L7746099</td>\n",
       "      <td>Dr. al-Zamani</td>\n",
       "      <td>1912-06-02</td>\n",
       "      <td>2011-09-20</td>\n",
       "    </tr>\n",
       "    <tr>\n",
       "      <th>3</th>\n",
       "      <td>out4</td>\n",
       "      <td>Hospital Number: J4131371 , Hospital: Random N...</td>\n",
       "      <td></td>\n",
       "      <td>Random NHS Foundation Trust</td>\n",
       "      <td>J4131371</td>\n",
       "      <td>Dr. el-Hussein</td>\n",
       "      <td>1901-09-04</td>\n",
       "      <td>2016-04-24</td>\n",
       "    </tr>\n",
       "    <tr>\n",
       "      <th>4</th>\n",
       "      <td>out5</td>\n",
       "      <td>Hospital Number: S4637507 , Hospital: Random N...</td>\n",
       "      <td>Nature of specimen:x6 fundus biopsy specimens ...</td>\n",
       "      <td>Random NHS Foundation Trust</td>\n",
       "      <td>S4637507</td>\n",
       "      <td>Dr. Hendricks</td>\n",
       "      <td>1942-08-08</td>\n",
       "      <td>2002-03-01</td>\n",
       "    </tr>\n",
       "  </tbody>\n",
       "</table>\n",
       "</div>"
      ],
      "text/plain": [
       "  Unnamed: 0                                               text  \\\n",
       "0       out1  Hospital Number: R1265623 , Hospital: Random N...   \n",
       "1       out2  Hospital Number: K2515095 , Hospital: Random N...   \n",
       "2       out3  Hospital Number: L7746099 , Hospital: Random N...   \n",
       "3       out4  Hospital Number: J4131371 , Hospital: Random N...   \n",
       "4       out5  Hospital Number: S4637507 , Hospital: Random N...   \n",
       "\n",
       "                                                  NA  \\\n",
       "0                                               \\nNA   \n",
       "1  Nature of specimen:x9 stomach biopsy specimens...   \n",
       "2                                     \\ncharacter(0)   \n",
       "3                                                      \n",
       "4  Nature of specimen:x6 fundus biopsy specimens ...   \n",
       "\n",
       "                foundation_trust hospital_num               gp            DOB  \\\n",
       "0   Random NHS Foundation Trust     R1265623        Dr. Taylor    1960-06-23    \n",
       "1   Random NHS Foundation Trust     K2515095         Dr. Cheek    1981-01-24    \n",
       "2   Random NHS Foundation Trust     L7746099     Dr. al-Zamani    1912-06-02    \n",
       "3   Random NHS Foundation Trust     J4131371    Dr. el-Hussein    1901-09-04    \n",
       "4   Random NHS Foundation Trust     S4637507     Dr. Hendricks    1942-08-08    \n",
       "\n",
       "  procedure_date  \n",
       "0     2014-11-13  \n",
       "1     2002-05-01  \n",
       "2     2011-09-20  \n",
       "3     2016-04-24  \n",
       "4     2002-03-01  "
      ]
     },
     "execution_count": 10,
     "metadata": {},
     "output_type": "execute_result"
    }
   ],
   "source": [
    "df.head()"
   ]
  },
  {
   "cell_type": "code",
   "execution_count": 11,
   "id": "b621ba18",
   "metadata": {},
   "outputs": [],
   "source": [
    "def regex_endoscopist(string):\n",
    "    hospital_reg = r\"\\.*Endoscopist:.*\"\n",
    "    line = re.findall(hospital_reg, string)[0]\n",
    "    retrn_string =  line.replace(',',':').split(\":\")[1]\n",
    "    if retrn_string[-1:] == \"\\r\":\n",
    "        return retrn_string[:-1]\n",
    "    else:\n",
    "        return retrn_string\n",
    "df[\"endoscopist\"] = df['text'].apply(regex_endoscopist)"
   ]
  },
  {
   "cell_type": "code",
   "execution_count": 12,
   "id": "9f33700e",
   "metadata": {},
   "outputs": [],
   "source": [
    "def regex_2nd_endoscopist(string):\n",
    "    hospital_reg = r\"\\.*2nd Endoscopist:.*\"\n",
    "    line= re.findall(hospital_reg, string)[0]\n",
    "    retrn_string =  line.replace(',',':').split(\":\")[1]\n",
    "    if retrn_string[-1:] == \"\\r\":\n",
    "        return retrn_string\n",
    "    else:\n",
    "        return retrn_string\n",
    "df[\"second_endoscopist\"] = df['text'].apply(regex_2nd_endoscopist)"
   ]
  },
  {
   "cell_type": "code",
   "execution_count": 13,
   "id": "64aea187",
   "metadata": {},
   "outputs": [],
   "source": [
    "def regex_medication(string):\n",
    "    hospital_reg = r\"\\d*.\\dmcg\"\n",
    "    retrn_string= re.findall(hospital_reg, string)[0]\n",
    "    if retrn_string[-1:] == \"\\r\":\n",
    "        return float(retrn_string[:-4])\n",
    "    else:\n",
    "        return float(retrn_string[:-3])\n",
    "df[\"medications_fentynl\"] = df['text'].apply(regex_medication)"
   ]
  },
  {
   "cell_type": "code",
   "execution_count": 14,
   "id": "3f2b5ebc",
   "metadata": {},
   "outputs": [],
   "source": [
    "def regex_midazolam(string):\n",
    "    hospital_reg = r\"\\.*Midazolam.*\"\n",
    "    line = re.findall(hospital_reg, string)[0]\n",
    "    retrn_string =  line.split()[1]\n",
    "    if retrn_string[-1:] == \"\\r\":\n",
    "        return int(retrn_string[:-3])\n",
    "    else:\n",
    "        return int(retrn_string[:-2])\n",
    "df[\"midazolam\"] = df['text'].apply(regex_midazolam)"
   ]
  },
  {
   "cell_type": "code",
   "execution_count": 15,
   "id": "9144a9df",
   "metadata": {},
   "outputs": [],
   "source": [
    "def regex_instrument(string):\n",
    "    hospital_reg = r\"\\.*Instrument.*\"\n",
    "    line = re.findall(hospital_reg, string)[0]\n",
    "    retrn_string =  line.replace(',',':').split(\":\")[1]\n",
    "    if retrn_string[-1:] == \"\\r\":\n",
    "        return retrn_string[:-1]\n",
    "    else:\n",
    "        return retrn_string\n",
    "df[\"instrument\"] = df['text'].apply(regex_instrument)"
   ]
  },
  {
   "cell_type": "code",
   "execution_count": 16,
   "id": "6f80fb98",
   "metadata": {},
   "outputs": [],
   "source": [
    "def regex_extent(string):\n",
    "    hospital_reg = r\"\\.*Extent of Exam:.*\"\n",
    "    line = re.findall(hospital_reg, string)[0]\n",
    "    retrn_string =  line.replace(',',':').split(\":\")[1]\n",
    "    if retrn_string[-1:] == \"\\r\":\n",
    "        return retrn_string[:-1]\n",
    "    else:\n",
    "        return retrn_string\n",
    "df[\"extent_of_exam\"] = df['text'].apply(regex_extent)"
   ]
  },
  {
   "cell_type": "code",
   "execution_count": 17,
   "id": "5ecf5b28",
   "metadata": {},
   "outputs": [],
   "source": [
    "def regex_indications(string):\n",
    "    hospital_reg = r\"\\.*INDICATIONS FOR PROCEDURE:.*\"\n",
    "    line = re.findall(hospital_reg, string)[0]\n",
    "    retrn_string =  line.replace(',',':').split(\":\")[1]\n",
    "    if retrn_string[-1:] == \"\\r\":\n",
    "        retrn_string= retrn_string[:-1]\n",
    "    if retrn_string[-8:] == \"FINDINGS\":\n",
    "        return retrn_string[:-8]\n",
    "    else:\n",
    "        return retrn_string\n",
    "    \n",
    "df[\"indications\"] = df['text'].apply(regex_indications)"
   ]
  },
  {
   "cell_type": "code",
   "execution_count": 18,
   "id": "f775cafd",
   "metadata": {},
   "outputs": [
    {
     "data": {
      "text/html": [
       "<div>\n",
       "<style scoped>\n",
       "    .dataframe tbody tr th:only-of-type {\n",
       "        vertical-align: middle;\n",
       "    }\n",
       "\n",
       "    .dataframe tbody tr th {\n",
       "        vertical-align: top;\n",
       "    }\n",
       "\n",
       "    .dataframe thead th {\n",
       "        text-align: right;\n",
       "    }\n",
       "</style>\n",
       "<table border=\"1\" class=\"dataframe\">\n",
       "  <thead>\n",
       "    <tr style=\"text-align: right;\">\n",
       "      <th></th>\n",
       "      <th>Unnamed: 0</th>\n",
       "      <th>text</th>\n",
       "      <th>NA</th>\n",
       "      <th>foundation_trust</th>\n",
       "      <th>hospital_num</th>\n",
       "      <th>gp</th>\n",
       "      <th>DOB</th>\n",
       "      <th>procedure_date</th>\n",
       "      <th>endoscopist</th>\n",
       "      <th>second_endoscopist</th>\n",
       "      <th>medications_fentynl</th>\n",
       "      <th>midazolam</th>\n",
       "      <th>instrument</th>\n",
       "      <th>extent_of_exam</th>\n",
       "      <th>indications</th>\n",
       "    </tr>\n",
       "  </thead>\n",
       "  <tbody>\n",
       "    <tr>\n",
       "      <th>0</th>\n",
       "      <td>out1</td>\n",
       "      <td>Hospital Number: R1265623 , Hospital: Random N...</td>\n",
       "      <td>\\nNA</td>\n",
       "      <td>Random NHS Foundation Trust</td>\n",
       "      <td>R1265623</td>\n",
       "      <td>Dr. Taylor</td>\n",
       "      <td>1960-06-23</td>\n",
       "      <td>2014-11-13</td>\n",
       "      <td>Dr. el-Hasen</td>\n",
       "      <td>Dr. Phenna</td>\n",
       "      <td>75.0</td>\n",
       "      <td>6</td>\n",
       "      <td>FG2</td>\n",
       "      <td>D1</td>\n",
       "      <td>Ongoing reflux symptoms.</td>\n",
       "    </tr>\n",
       "    <tr>\n",
       "      <th>1</th>\n",
       "      <td>out2</td>\n",
       "      <td>Hospital Number: K2515095 , Hospital: Random N...</td>\n",
       "      <td>Nature of specimen:x9 stomach biopsy specimens...</td>\n",
       "      <td>Random NHS Foundation Trust</td>\n",
       "      <td>K2515095</td>\n",
       "      <td>Dr. Cheek</td>\n",
       "      <td>1981-01-24</td>\n",
       "      <td>2002-05-01</td>\n",
       "      <td>Dr. el-Hasen</td>\n",
       "      <td>Dr. Sherwood</td>\n",
       "      <td>25.0</td>\n",
       "      <td>2</td>\n",
       "      <td>FG4</td>\n",
       "      <td>Oesophagus</td>\n",
       "      <td>Endoscopic ultrasound findings</td>\n",
       "    </tr>\n",
       "    <tr>\n",
       "      <th>2</th>\n",
       "      <td>out3</td>\n",
       "      <td>Hospital Number: L7746099 , Hospital: Random N...</td>\n",
       "      <td>\\ncharacter(0)</td>\n",
       "      <td>Random NHS Foundation Trust</td>\n",
       "      <td>L7746099</td>\n",
       "      <td>Dr. al-Zamani</td>\n",
       "      <td>1912-06-02</td>\n",
       "      <td>2011-09-20</td>\n",
       "      <td>Dr. Hall</td>\n",
       "      <td>Dr. Barrett</td>\n",
       "      <td>25.0</td>\n",
       "      <td>3</td>\n",
       "      <td>FG7</td>\n",
       "      <td>D1</td>\n",
       "      <td>Nausea and/or Vomiting Haematemesis or Melaen...</td>\n",
       "    </tr>\n",
       "    <tr>\n",
       "      <th>3</th>\n",
       "      <td>out4</td>\n",
       "      <td>Hospital Number: J4131371 , Hospital: Random N...</td>\n",
       "      <td></td>\n",
       "      <td>Random NHS Foundation Trust</td>\n",
       "      <td>J4131371</td>\n",
       "      <td>Dr. el-Hussein</td>\n",
       "      <td>1901-09-04</td>\n",
       "      <td>2016-04-24</td>\n",
       "      <td>Dr. Lee</td>\n",
       "      <td>Dr. Phenna</td>\n",
       "      <td>150.0</td>\n",
       "      <td>4</td>\n",
       "      <td>FG7</td>\n",
       "      <td>D2</td>\n",
       "      <td>IDA</td>\n",
       "    </tr>\n",
       "    <tr>\n",
       "      <th>4</th>\n",
       "      <td>out5</td>\n",
       "      <td>Hospital Number: S4637507 , Hospital: Random N...</td>\n",
       "      <td>Nature of specimen:x6 fundus biopsy specimens ...</td>\n",
       "      <td>Random NHS Foundation Trust</td>\n",
       "      <td>S4637507</td>\n",
       "      <td>Dr. Hendricks</td>\n",
       "      <td>1942-08-08</td>\n",
       "      <td>2002-03-01</td>\n",
       "      <td>Dr. Lee</td>\n",
       "      <td>Dr. Favors</td>\n",
       "      <td>125.0</td>\n",
       "      <td>5</td>\n",
       "      <td>FG3</td>\n",
       "      <td>Pylorus</td>\n",
       "      <td>Dysphagia/Odynophagia .</td>\n",
       "    </tr>\n",
       "  </tbody>\n",
       "</table>\n",
       "</div>"
      ],
      "text/plain": [
       "  Unnamed: 0                                               text  \\\n",
       "0       out1  Hospital Number: R1265623 , Hospital: Random N...   \n",
       "1       out2  Hospital Number: K2515095 , Hospital: Random N...   \n",
       "2       out3  Hospital Number: L7746099 , Hospital: Random N...   \n",
       "3       out4  Hospital Number: J4131371 , Hospital: Random N...   \n",
       "4       out5  Hospital Number: S4637507 , Hospital: Random N...   \n",
       "\n",
       "                                                  NA  \\\n",
       "0                                               \\nNA   \n",
       "1  Nature of specimen:x9 stomach biopsy specimens...   \n",
       "2                                     \\ncharacter(0)   \n",
       "3                                                      \n",
       "4  Nature of specimen:x6 fundus biopsy specimens ...   \n",
       "\n",
       "                foundation_trust hospital_num               gp            DOB  \\\n",
       "0   Random NHS Foundation Trust     R1265623        Dr. Taylor    1960-06-23    \n",
       "1   Random NHS Foundation Trust     K2515095         Dr. Cheek    1981-01-24    \n",
       "2   Random NHS Foundation Trust     L7746099     Dr. al-Zamani    1912-06-02    \n",
       "3   Random NHS Foundation Trust     J4131371    Dr. el-Hussein    1901-09-04    \n",
       "4   Random NHS Foundation Trust     S4637507     Dr. Hendricks    1942-08-08    \n",
       "\n",
       "  procedure_date    endoscopist second_endoscopist  medications_fentynl  \\\n",
       "0     2014-11-13   Dr. el-Hasen         Dr. Phenna                 75.0   \n",
       "1     2002-05-01   Dr. el-Hasen       Dr. Sherwood                 25.0   \n",
       "2     2011-09-20       Dr. Hall        Dr. Barrett                 25.0   \n",
       "3     2016-04-24        Dr. Lee         Dr. Phenna                150.0   \n",
       "4     2002-03-01        Dr. Lee         Dr. Favors                125.0   \n",
       "\n",
       "   midazolam instrument  extent_of_exam  \\\n",
       "0          6      FG2              D1     \n",
       "1          2      FG4      Oesophagus     \n",
       "2          3      FG7              D1     \n",
       "3          4      FG7              D2     \n",
       "4          5      FG3         Pylorus     \n",
       "\n",
       "                                         indications  \n",
       "0                          Ongoing reflux symptoms.   \n",
       "1                     Endoscopic ultrasound findings  \n",
       "2   Nausea and/or Vomiting Haematemesis or Melaen...  \n",
       "3                                               IDA   \n",
       "4                           Dysphagia/Odynophagia .   "
      ]
     },
     "execution_count": 18,
     "metadata": {},
     "output_type": "execute_result"
    }
   ],
   "source": [
    "df.head()"
   ]
  },
  {
   "cell_type": "code",
   "execution_count": 19,
   "id": "df4ab1c2",
   "metadata": {},
   "outputs": [],
   "source": [
    "def regex_procedure(string):\n",
    "    hospital_reg = r\"\\.*Procedure Performed:.*\"\n",
    "    line = re.findall(hospital_reg, string)[0]\n",
    "    retrn_string =  line.replace(',',':').split(\":\")[1]\n",
    "    if retrn_string[-1:] == \"\\r\":\n",
    "        return retrn_string[:-1]\n",
    "    else:\n",
    "        return retrn_string\n",
    "    print(retrn_string)\n",
    "    \n",
    "df[\"procedure_performed\"] = df['text'].apply(regex_procedure)"
   ]
  },
  {
   "cell_type": "code",
   "execution_count": null,
   "id": "fa5da54f",
   "metadata": {},
   "outputs": [],
   "source": []
  },
  {
   "cell_type": "code",
   "execution_count": 20,
   "id": "2566ee45",
   "metadata": {},
   "outputs": [
    {
     "data": {
      "text/plain": [
       "' Gastroscopy (OGD)  '"
      ]
     },
     "execution_count": 20,
     "metadata": {},
     "output_type": "execute_result"
    }
   ],
   "source": [
    "regex_procedure(df.text[3])"
   ]
  },
  {
   "cell_type": "code",
   "execution_count": 21,
   "id": "16615701",
   "metadata": {},
   "outputs": [],
   "source": [
    "df[\"procedure_performed\"] = df['text'].apply(regex_procedure)"
   ]
  },
  {
   "cell_type": "code",
   "execution_count": 22,
   "id": "facc00ad",
   "metadata": {},
   "outputs": [],
   "source": [
    "def regex_findings(string):\n",
    "    hospital_reg = r\"\\.*FINDINGS:.*\"\n",
    "    line = re.findall(hospital_reg, string)[0][10:]\n",
    "    return line\n",
    "df[\"findings\"] = df['text'].apply(regex_findings)"
   ]
  },
  {
   "cell_type": "code",
   "execution_count": 23,
   "id": "13d10cc1",
   "metadata": {},
   "outputs": [
    {
     "data": {
      "text/plain": [
       "'Columnar lined oesophagus is present. The segment looks flat. Some areas of vascular abnormalities are seen. No abnormal pit pattern is seen. NA'"
      ]
     },
     "execution_count": 23,
     "metadata": {},
     "output_type": "execute_result"
    }
   ],
   "source": [
    "df.findings[0]"
   ]
  },
  {
   "cell_type": "code",
   "execution_count": 24,
   "id": "de675645",
   "metadata": {},
   "outputs": [
    {
     "data": {
      "text/plain": [
       "(50000, 17)"
      ]
     },
     "execution_count": 24,
     "metadata": {},
     "output_type": "execute_result"
    }
   ],
   "source": [
    "df.shape"
   ]
  },
  {
   "cell_type": "code",
   "execution_count": 25,
   "id": "27a94627",
   "metadata": {},
   "outputs": [
    {
     "data": {
      "text/html": [
       "<div>\n",
       "<style scoped>\n",
       "    .dataframe tbody tr th:only-of-type {\n",
       "        vertical-align: middle;\n",
       "    }\n",
       "\n",
       "    .dataframe tbody tr th {\n",
       "        vertical-align: top;\n",
       "    }\n",
       "\n",
       "    .dataframe thead th {\n",
       "        text-align: right;\n",
       "    }\n",
       "</style>\n",
       "<table border=\"1\" class=\"dataframe\">\n",
       "  <thead>\n",
       "    <tr style=\"text-align: right;\">\n",
       "      <th></th>\n",
       "      <th>Unnamed: 0</th>\n",
       "      <th>text</th>\n",
       "      <th>NA</th>\n",
       "      <th>foundation_trust</th>\n",
       "      <th>hospital_num</th>\n",
       "      <th>gp</th>\n",
       "      <th>DOB</th>\n",
       "      <th>procedure_date</th>\n",
       "      <th>endoscopist</th>\n",
       "      <th>second_endoscopist</th>\n",
       "      <th>medications_fentynl</th>\n",
       "      <th>midazolam</th>\n",
       "      <th>instrument</th>\n",
       "      <th>extent_of_exam</th>\n",
       "      <th>indications</th>\n",
       "      <th>procedure_performed</th>\n",
       "      <th>findings</th>\n",
       "    </tr>\n",
       "  </thead>\n",
       "  <tbody>\n",
       "    <tr>\n",
       "      <th>0</th>\n",
       "      <td>out1</td>\n",
       "      <td>Hospital Number: R1265623 , Hospital: Random N...</td>\n",
       "      <td>\\nNA</td>\n",
       "      <td>Random NHS Foundation Trust</td>\n",
       "      <td>R1265623</td>\n",
       "      <td>Dr. Taylor</td>\n",
       "      <td>1960-06-23</td>\n",
       "      <td>2014-11-13</td>\n",
       "      <td>Dr. el-Hasen</td>\n",
       "      <td>Dr. Phenna</td>\n",
       "      <td>75.0</td>\n",
       "      <td>6</td>\n",
       "      <td>FG2</td>\n",
       "      <td>D1</td>\n",
       "      <td>Ongoing reflux symptoms.</td>\n",
       "      <td>Gastroscopy (OGD)</td>\n",
       "      <td>Columnar lined oesophagus is present. The segm...</td>\n",
       "    </tr>\n",
       "    <tr>\n",
       "      <th>1</th>\n",
       "      <td>out2</td>\n",
       "      <td>Hospital Number: K2515095 , Hospital: Random N...</td>\n",
       "      <td>Nature of specimen:x9 stomach biopsy specimens...</td>\n",
       "      <td>Random NHS Foundation Trust</td>\n",
       "      <td>K2515095</td>\n",
       "      <td>Dr. Cheek</td>\n",
       "      <td>1981-01-24</td>\n",
       "      <td>2002-05-01</td>\n",
       "      <td>Dr. el-Hasen</td>\n",
       "      <td>Dr. Sherwood</td>\n",
       "      <td>25.0</td>\n",
       "      <td>2</td>\n",
       "      <td>FG4</td>\n",
       "      <td>Oesophagus</td>\n",
       "      <td>Endoscopic ultrasound findings</td>\n",
       "      <td>Gastroscopy (OGD)</td>\n",
       "      <td>There is an ulcer in the stomach which is supe...</td>\n",
       "    </tr>\n",
       "    <tr>\n",
       "      <th>2</th>\n",
       "      <td>out3</td>\n",
       "      <td>Hospital Number: L7746099 , Hospital: Random N...</td>\n",
       "      <td>\\ncharacter(0)</td>\n",
       "      <td>Random NHS Foundation Trust</td>\n",
       "      <td>L7746099</td>\n",
       "      <td>Dr. al-Zamani</td>\n",
       "      <td>1912-06-02</td>\n",
       "      <td>2011-09-20</td>\n",
       "      <td>Dr. Hall</td>\n",
       "      <td>Dr. Barrett</td>\n",
       "      <td>25.0</td>\n",
       "      <td>3</td>\n",
       "      <td>FG7</td>\n",
       "      <td>D1</td>\n",
       "      <td>Nausea and/or Vomiting Haematemesis or Melaen...</td>\n",
       "      <td>Gastroscopy (OGD)</td>\n",
       "      <td>LA Grade  D oesophagitis. The oesopahgitis is ...</td>\n",
       "    </tr>\n",
       "    <tr>\n",
       "      <th>3</th>\n",
       "      <td>out4</td>\n",
       "      <td>Hospital Number: J4131371 , Hospital: Random N...</td>\n",
       "      <td></td>\n",
       "      <td>Random NHS Foundation Trust</td>\n",
       "      <td>J4131371</td>\n",
       "      <td>Dr. el-Hussein</td>\n",
       "      <td>1901-09-04</td>\n",
       "      <td>2016-04-24</td>\n",
       "      <td>Dr. Lee</td>\n",
       "      <td>Dr. Phenna</td>\n",
       "      <td>150.0</td>\n",
       "      <td>4</td>\n",
       "      <td>FG7</td>\n",
       "      <td>D2</td>\n",
       "      <td>IDA</td>\n",
       "      <td>Gastroscopy (OGD)</td>\n",
       "      <td>There is a polyp in the body which is sessile ...</td>\n",
       "    </tr>\n",
       "    <tr>\n",
       "      <th>4</th>\n",
       "      <td>out5</td>\n",
       "      <td>Hospital Number: S4637507 , Hospital: Random N...</td>\n",
       "      <td>Nature of specimen:x6 fundus biopsy specimens ...</td>\n",
       "      <td>Random NHS Foundation Trust</td>\n",
       "      <td>S4637507</td>\n",
       "      <td>Dr. Hendricks</td>\n",
       "      <td>1942-08-08</td>\n",
       "      <td>2002-03-01</td>\n",
       "      <td>Dr. Lee</td>\n",
       "      <td>Dr. Favors</td>\n",
       "      <td>125.0</td>\n",
       "      <td>5</td>\n",
       "      <td>FG3</td>\n",
       "      <td>Pylorus</td>\n",
       "      <td>Dysphagia/Odynophagia .</td>\n",
       "      <td>Gastroscopy (OGD)</td>\n",
       "      <td>There is a stricture in the fundus which is Oe...</td>\n",
       "    </tr>\n",
       "  </tbody>\n",
       "</table>\n",
       "</div>"
      ],
      "text/plain": [
       "  Unnamed: 0                                               text  \\\n",
       "0       out1  Hospital Number: R1265623 , Hospital: Random N...   \n",
       "1       out2  Hospital Number: K2515095 , Hospital: Random N...   \n",
       "2       out3  Hospital Number: L7746099 , Hospital: Random N...   \n",
       "3       out4  Hospital Number: J4131371 , Hospital: Random N...   \n",
       "4       out5  Hospital Number: S4637507 , Hospital: Random N...   \n",
       "\n",
       "                                                  NA  \\\n",
       "0                                               \\nNA   \n",
       "1  Nature of specimen:x9 stomach biopsy specimens...   \n",
       "2                                     \\ncharacter(0)   \n",
       "3                                                      \n",
       "4  Nature of specimen:x6 fundus biopsy specimens ...   \n",
       "\n",
       "                foundation_trust hospital_num               gp            DOB  \\\n",
       "0   Random NHS Foundation Trust     R1265623        Dr. Taylor    1960-06-23    \n",
       "1   Random NHS Foundation Trust     K2515095         Dr. Cheek    1981-01-24    \n",
       "2   Random NHS Foundation Trust     L7746099     Dr. al-Zamani    1912-06-02    \n",
       "3   Random NHS Foundation Trust     J4131371    Dr. el-Hussein    1901-09-04    \n",
       "4   Random NHS Foundation Trust     S4637507     Dr. Hendricks    1942-08-08    \n",
       "\n",
       "  procedure_date    endoscopist second_endoscopist  medications_fentynl  \\\n",
       "0     2014-11-13   Dr. el-Hasen         Dr. Phenna                 75.0   \n",
       "1     2002-05-01   Dr. el-Hasen       Dr. Sherwood                 25.0   \n",
       "2     2011-09-20       Dr. Hall        Dr. Barrett                 25.0   \n",
       "3     2016-04-24        Dr. Lee         Dr. Phenna                150.0   \n",
       "4     2002-03-01        Dr. Lee         Dr. Favors                125.0   \n",
       "\n",
       "   midazolam instrument  extent_of_exam  \\\n",
       "0          6      FG2              D1     \n",
       "1          2      FG4      Oesophagus     \n",
       "2          3      FG7              D1     \n",
       "3          4      FG7              D2     \n",
       "4          5      FG3         Pylorus     \n",
       "\n",
       "                                         indications   procedure_performed  \\\n",
       "0                          Ongoing reflux symptoms.    Gastroscopy (OGD)     \n",
       "1                     Endoscopic ultrasound findings   Gastroscopy (OGD)     \n",
       "2   Nausea and/or Vomiting Haematemesis or Melaen...   Gastroscopy (OGD)     \n",
       "3                                               IDA    Gastroscopy (OGD)     \n",
       "4                           Dysphagia/Odynophagia .    Gastroscopy (OGD)     \n",
       "\n",
       "                                            findings  \n",
       "0  Columnar lined oesophagus is present. The segm...  \n",
       "1  There is an ulcer in the stomach which is supe...  \n",
       "2  LA Grade  D oesophagitis. The oesopahgitis is ...  \n",
       "3  There is a polyp in the body which is sessile ...  \n",
       "4  There is a stricture in the fundus which is Oe...  "
      ]
     },
     "execution_count": 25,
     "metadata": {},
     "output_type": "execute_result"
    }
   ],
   "source": [
    "df.head()"
   ]
  },
  {
   "cell_type": "code",
   "execution_count": 26,
   "id": "e819d38b",
   "metadata": {},
   "outputs": [
    {
     "data": {
      "text/plain": [
       "'Hospital Number: R1265623 , Hospital: Random NHS Foundation Trust , DOB:  1960-06-23 , General Practitioner: Dr. Taylor, Amanda  , Date of procedure:  2014-11-13Endoscopist: Dr. el-Hasen, Marjaana  , 2nd Endoscopist: Dr. Phenna, Kali  , Medications: Fentanyl  75mcg  , Midazolam  6mg  , Instrument:  FG2  , Extent of Exam:  D1  , Procedure Performed: Gastroscopy (OGD)  , INDICATIONS FOR PROCEDURE: Ongoing reflux symptoms. FINDINGS: Columnar lined oesophagus is present. The segment looks flat. Some areas of vascular abnormalities are seen. No abnormal pit pattern is seen. NA'"
      ]
     },
     "execution_count": 26,
     "metadata": {},
     "output_type": "execute_result"
    }
   ],
   "source": [
    "df.text[0]"
   ]
  },
  {
   "cell_type": "code",
   "execution_count": 27,
   "id": "fdbe2fe5",
   "metadata": {},
   "outputs": [],
   "source": [
    "## having a look at value counts ##"
   ]
  },
  {
   "cell_type": "code",
   "execution_count": 28,
   "id": "bca308d3",
   "metadata": {},
   "outputs": [
    {
     "data": {
      "text/plain": [
       "150.0    7238\n",
       "125.0    7204\n",
       "75.0     7197\n",
       "50.0     7141\n",
       "12.5     7090\n",
       "100.0    7071\n",
       "25.0     7059\n",
       "Name: medications_fentynl, dtype: int64"
      ]
     },
     "execution_count": 28,
     "metadata": {},
     "output_type": "execute_result"
    }
   ],
   "source": [
    "df.medications_fentynl.value_counts()"
   ]
  },
  {
   "cell_type": "code",
   "execution_count": 29,
   "id": "de332ca5",
   "metadata": {},
   "outputs": [
    {
     "data": {
      "text/plain": [
       "1    7274\n",
       "4    7251\n",
       "7    7192\n",
       "5    7186\n",
       "2    7091\n",
       "3    7074\n",
       "6    6932\n",
       "Name: midazolam, dtype: int64"
      ]
     },
     "execution_count": 29,
     "metadata": {},
     "output_type": "execute_result"
    }
   ],
   "source": [
    "df.midazolam.value_counts()"
   ]
  },
  {
   "cell_type": "code",
   "execution_count": 30,
   "id": "e1d87d0e",
   "metadata": {},
   "outputs": [
    {
     "data": {
      "text/plain": [
       "  Failed intubation      7238\n",
       "  Oesophagus             7234\n",
       "  Stomach body           7215\n",
       "  GOJ                    7198\n",
       "  Pylorus                7084\n",
       "  D1                     7030\n",
       "  D2                     7001\n",
       "Name: extent_of_exam, dtype: int64"
      ]
     },
     "execution_count": 30,
     "metadata": {},
     "output_type": "execute_result"
    }
   ],
   "source": [
    "df.extent_of_exam.value_counts()"
   ]
  },
  {
   "cell_type": "code",
   "execution_count": 31,
   "id": "b1f38bf3",
   "metadata": {},
   "outputs": [
    {
     "data": {
      "text/plain": [
       " Gastroscopy (OGD)      50000\n",
       "Name: procedure_performed, dtype: int64"
      ]
     },
     "execution_count": 31,
     "metadata": {},
     "output_type": "execute_result"
    }
   ],
   "source": [
    "df.procedure_performed.value_counts()"
   ]
  },
  {
   "cell_type": "code",
   "execution_count": 32,
   "id": "9b872520",
   "metadata": {},
   "outputs": [
    {
     "data": {
      "text/plain": [
       " Abdominal Pain                                                               595\n",
       " Previous gastric ulcer. repeat scope after 8 weeks.                          359\n",
       " Dyspepsia large hiatus hernia                                                350\n",
       " dypepsia                                                                     347\n",
       " Chemorad for scc middle third of oeosphagus - post treatment assessement     346\n",
       "                                                                             ... \n",
       " Advanced  pancreatic CA.  Now worsening jaundice                             277\n",
       " Epigastric pain. Previously on asprin for Cerebral infarction                274\n",
       " Abdominal Pain Nausea and/or Vomiting Other- diarrhoea                       269\n",
       " Follow-up oesophagitis healing                                               262\n",
       " Other- Biopsies from duodenal stricture                                      256\n",
       "Name: indications, Length: 161, dtype: int64"
      ]
     },
     "execution_count": 32,
     "metadata": {},
     "output_type": "execute_result"
    }
   ],
   "source": [
    "df.indications.value_counts()"
   ]
  },
  {
   "cell_type": "code",
   "execution_count": 33,
   "id": "9d076e04",
   "metadata": {},
   "outputs": [
    {
     "data": {
      "text/plain": [
       " Dr. Nguyen      9987\n",
       " Dr. el-Hasen    5103\n",
       " Dr. Hall        5036\n",
       " Dr. Delgado     5024\n",
       " Dr. Stewart     5021\n",
       " Dr. Burns       5008\n",
       " Dr. Edwards     4990\n",
       " Dr. Ortiz       4988\n",
       " Dr. Lee         4843\n",
       "Name: endoscopist, dtype: int64"
      ]
     },
     "execution_count": 33,
     "metadata": {},
     "output_type": "execute_result"
    }
   ],
   "source": [
    "df.endoscopist.value_counts()"
   ]
  },
  {
   "cell_type": "code",
   "execution_count": null,
   "id": "ea4a5ad2",
   "metadata": {},
   "outputs": [],
   "source": []
  },
  {
   "cell_type": "code",
   "execution_count": null,
   "id": "95de6f2b",
   "metadata": {},
   "outputs": [],
   "source": []
  },
  {
   "cell_type": "code",
   "execution_count": 34,
   "id": "adcae9d6",
   "metadata": {},
   "outputs": [
    {
     "data": {
      "text/plain": [
       "(50000,)"
      ]
     },
     "execution_count": 34,
     "metadata": {},
     "output_type": "execute_result"
    }
   ],
   "source": [
    "df.findings.shape"
   ]
  },
  {
   "cell_type": "code",
   "execution_count": 35,
   "id": "0acc06ac",
   "metadata": {},
   "outputs": [],
   "source": [
    "#df.findings.value_counts().sort_values(ascending=False)"
   ]
  },
  {
   "cell_type": "code",
   "execution_count": 36,
   "id": "1657dc13",
   "metadata": {},
   "outputs": [],
   "source": [
    "df_doc_drugs = df.groupby(df.endoscopist).mean()"
   ]
  },
  {
   "cell_type": "code",
   "execution_count": 37,
   "id": "c8bfc4bd",
   "metadata": {},
   "outputs": [
    {
     "data": {
      "text/html": [
       "<div>\n",
       "<style scoped>\n",
       "    .dataframe tbody tr th:only-of-type {\n",
       "        vertical-align: middle;\n",
       "    }\n",
       "\n",
       "    .dataframe tbody tr th {\n",
       "        vertical-align: top;\n",
       "    }\n",
       "\n",
       "    .dataframe thead th {\n",
       "        text-align: right;\n",
       "    }\n",
       "</style>\n",
       "<table border=\"1\" class=\"dataframe\">\n",
       "  <thead>\n",
       "    <tr style=\"text-align: right;\">\n",
       "      <th></th>\n",
       "      <th>medications_fentynl</th>\n",
       "      <th>midazolam</th>\n",
       "    </tr>\n",
       "    <tr>\n",
       "      <th>endoscopist</th>\n",
       "      <th></th>\n",
       "      <th></th>\n",
       "    </tr>\n",
       "  </thead>\n",
       "  <tbody>\n",
       "    <tr>\n",
       "      <th>Dr. Burns</th>\n",
       "      <td>76.405252</td>\n",
       "      <td>3.975439</td>\n",
       "    </tr>\n",
       "    <tr>\n",
       "      <th>Dr. Delgado</th>\n",
       "      <td>77.363654</td>\n",
       "      <td>3.994427</td>\n",
       "    </tr>\n",
       "    <tr>\n",
       "      <th>Dr. Edwards</th>\n",
       "      <td>77.036573</td>\n",
       "      <td>3.999800</td>\n",
       "    </tr>\n",
       "    <tr>\n",
       "      <th>Dr. Hall</th>\n",
       "      <td>77.298451</td>\n",
       "      <td>4.017871</td>\n",
       "    </tr>\n",
       "    <tr>\n",
       "      <th>Dr. Lee</th>\n",
       "      <td>76.855771</td>\n",
       "      <td>3.988643</td>\n",
       "    </tr>\n",
       "  </tbody>\n",
       "</table>\n",
       "</div>"
      ],
      "text/plain": [
       "              medications_fentynl  midazolam\n",
       "endoscopist                                 \n",
       " Dr. Burns              76.405252   3.975439\n",
       " Dr. Delgado            77.363654   3.994427\n",
       " Dr. Edwards            77.036573   3.999800\n",
       " Dr. Hall               77.298451   4.017871\n",
       " Dr. Lee                76.855771   3.988643"
      ]
     },
     "execution_count": 37,
     "metadata": {},
     "output_type": "execute_result"
    }
   ],
   "source": [
    "df_doc_drugs.head()"
   ]
  },
  {
   "cell_type": "code",
   "execution_count": 38,
   "id": "be602938",
   "metadata": {},
   "outputs": [],
   "source": [
    "df_indications = df.groupby(df.indications).mean()"
   ]
  },
  {
   "cell_type": "code",
   "execution_count": 39,
   "id": "84264224",
   "metadata": {},
   "outputs": [
    {
     "data": {
      "text/plain": [
       "(161, 2)"
      ]
     },
     "execution_count": 39,
     "metadata": {},
     "output_type": "execute_result"
    }
   ],
   "source": [
    "df_indications.shape"
   ]
  },
  {
   "cell_type": "code",
   "execution_count": 40,
   "id": "970464f7",
   "metadata": {},
   "outputs": [
    {
     "data": {
      "text/html": [
       "<div>\n",
       "<style scoped>\n",
       "    .dataframe tbody tr th:only-of-type {\n",
       "        vertical-align: middle;\n",
       "    }\n",
       "\n",
       "    .dataframe tbody tr th {\n",
       "        vertical-align: top;\n",
       "    }\n",
       "\n",
       "    .dataframe thead th {\n",
       "        text-align: right;\n",
       "    }\n",
       "</style>\n",
       "<table border=\"1\" class=\"dataframe\">\n",
       "  <thead>\n",
       "    <tr style=\"text-align: right;\">\n",
       "      <th></th>\n",
       "      <th>medications_fentynl</th>\n",
       "      <th>midazolam</th>\n",
       "    </tr>\n",
       "    <tr>\n",
       "      <th>indications</th>\n",
       "      <th></th>\n",
       "      <th></th>\n",
       "    </tr>\n",
       "  </thead>\n",
       "  <tbody>\n",
       "    <tr>\n",
       "      <th>Abdominal Pain</th>\n",
       "      <td>79.222689</td>\n",
       "      <td>3.963025</td>\n",
       "    </tr>\n",
       "    <tr>\n",
       "      <th>Abdominal Pain .</th>\n",
       "      <td>77.777778</td>\n",
       "      <td>3.996528</td>\n",
       "    </tr>\n",
       "    <tr>\n",
       "      <th>Abdominal Pain Anaemia/Low Iron or Vitamins</th>\n",
       "      <td>79.804560</td>\n",
       "      <td>3.925081</td>\n",
       "    </tr>\n",
       "    <tr>\n",
       "      <th>Abdominal Pain Bloating</th>\n",
       "      <td>73.560855</td>\n",
       "      <td>4.000000</td>\n",
       "    </tr>\n",
       "    <tr>\n",
       "      <th>Abdominal Pain Dyspepsia</th>\n",
       "      <td>78.295820</td>\n",
       "      <td>4.205788</td>\n",
       "    </tr>\n",
       "    <tr>\n",
       "      <th>Abdominal Pain Dysphagia/Odynophagia</th>\n",
       "      <td>75.842199</td>\n",
       "      <td>4.000000</td>\n",
       "    </tr>\n",
       "    <tr>\n",
       "      <th>Abdominal Pain Melaena/Blood PR</th>\n",
       "      <td>75.869205</td>\n",
       "      <td>4.029801</td>\n",
       "    </tr>\n",
       "    <tr>\n",
       "      <th>Abdominal Pain Nausea and/or Vomiting</th>\n",
       "      <td>75.472509</td>\n",
       "      <td>3.972509</td>\n",
       "    </tr>\n",
       "    <tr>\n",
       "      <th>Abdominal Pain Nausea and/or Vomiting Other- diarrhoea</th>\n",
       "      <td>77.927509</td>\n",
       "      <td>3.884758</td>\n",
       "    </tr>\n",
       "    <tr>\n",
       "      <th>Abdominal Pain Nausea and/or Vomiting Reflux-like Symptoms/Atypical Chest Pain Weight Loss</th>\n",
       "      <td>76.572086</td>\n",
       "      <td>3.941718</td>\n",
       "    </tr>\n",
       "    <tr>\n",
       "      <th>Abdominal Pain Reflux-like Symptoms/Atypical Chest Pain</th>\n",
       "      <td>75.376254</td>\n",
       "      <td>4.160535</td>\n",
       "    </tr>\n",
       "    <tr>\n",
       "      <th>Abdominal Pain Small Bowel Biopsy Positive coeliac serology</th>\n",
       "      <td>82.367550</td>\n",
       "      <td>3.910596</td>\n",
       "    </tr>\n",
       "    <tr>\n",
       "      <th>Abdominal Pain Weight Loss</th>\n",
       "      <td>75.340136</td>\n",
       "      <td>4.088435</td>\n",
       "    </tr>\n",
       "    <tr>\n",
       "      <th>Abdominal Pain Weight Loss Mother has gastric cancer</th>\n",
       "      <td>78.301056</td>\n",
       "      <td>3.880282</td>\n",
       "    </tr>\n",
       "    <tr>\n",
       "      <th>Abdominal Pain previous ogd attempt food residue</th>\n",
       "      <td>78.990228</td>\n",
       "      <td>3.967427</td>\n",
       "    </tr>\n",
       "  </tbody>\n",
       "</table>\n",
       "</div>"
      ],
      "text/plain": [
       "                                                    medications_fentynl  \\\n",
       "indications                                                               \n",
       " Abdominal Pain                                               79.222689   \n",
       " Abdominal Pain .                                             77.777778   \n",
       " Abdominal Pain Anaemia/Low Iron or Vitamins                  79.804560   \n",
       " Abdominal Pain Bloating                                      73.560855   \n",
       " Abdominal Pain Dyspepsia                                     78.295820   \n",
       " Abdominal Pain Dysphagia/Odynophagia                         75.842199   \n",
       " Abdominal Pain Melaena/Blood PR                              75.869205   \n",
       " Abdominal Pain Nausea and/or Vomiting                        75.472509   \n",
       " Abdominal Pain Nausea and/or Vomiting Other- d...            77.927509   \n",
       " Abdominal Pain Nausea and/or Vomiting Reflux-l...            76.572086   \n",
       " Abdominal Pain Reflux-like Symptoms/Atypical C...            75.376254   \n",
       " Abdominal Pain Small Bowel Biopsy Positive coe...            82.367550   \n",
       " Abdominal Pain Weight Loss                                   75.340136   \n",
       " Abdominal Pain Weight Loss Mother has gastric ...            78.301056   \n",
       " Abdominal Pain previous ogd attempt food residue             78.990228   \n",
       "\n",
       "                                                    midazolam  \n",
       "indications                                                    \n",
       " Abdominal Pain                                      3.963025  \n",
       " Abdominal Pain .                                    3.996528  \n",
       " Abdominal Pain Anaemia/Low Iron or Vitamins         3.925081  \n",
       " Abdominal Pain Bloating                             4.000000  \n",
       " Abdominal Pain Dyspepsia                            4.205788  \n",
       " Abdominal Pain Dysphagia/Odynophagia                4.000000  \n",
       " Abdominal Pain Melaena/Blood PR                     4.029801  \n",
       " Abdominal Pain Nausea and/or Vomiting               3.972509  \n",
       " Abdominal Pain Nausea and/or Vomiting Other- d...   3.884758  \n",
       " Abdominal Pain Nausea and/or Vomiting Reflux-l...   3.941718  \n",
       " Abdominal Pain Reflux-like Symptoms/Atypical C...   4.160535  \n",
       " Abdominal Pain Small Bowel Biopsy Positive coe...   3.910596  \n",
       " Abdominal Pain Weight Loss                          4.088435  \n",
       " Abdominal Pain Weight Loss Mother has gastric ...   3.880282  \n",
       " Abdominal Pain previous ogd attempt food residue    3.967427  "
      ]
     },
     "execution_count": 40,
     "metadata": {},
     "output_type": "execute_result"
    }
   ],
   "source": [
    "df_indications.head(15)"
   ]
  },
  {
   "cell_type": "code",
   "execution_count": 41,
   "id": "42c29d3b",
   "metadata": {},
   "outputs": [],
   "source": [
    "df_extent_exam = df.groupby(df.extent_of_exam).mean()"
   ]
  },
  {
   "cell_type": "code",
   "execution_count": 42,
   "id": "7526b805",
   "metadata": {},
   "outputs": [
    {
     "data": {
      "text/html": [
       "<div>\n",
       "<style scoped>\n",
       "    .dataframe tbody tr th:only-of-type {\n",
       "        vertical-align: middle;\n",
       "    }\n",
       "\n",
       "    .dataframe tbody tr th {\n",
       "        vertical-align: top;\n",
       "    }\n",
       "\n",
       "    .dataframe thead th {\n",
       "        text-align: right;\n",
       "    }\n",
       "</style>\n",
       "<table border=\"1\" class=\"dataframe\">\n",
       "  <thead>\n",
       "    <tr style=\"text-align: right;\">\n",
       "      <th></th>\n",
       "      <th>medications_fentynl</th>\n",
       "      <th>midazolam</th>\n",
       "    </tr>\n",
       "    <tr>\n",
       "      <th>extent_of_exam</th>\n",
       "      <th></th>\n",
       "      <th></th>\n",
       "    </tr>\n",
       "  </thead>\n",
       "  <tbody>\n",
       "    <tr>\n",
       "      <th>D1</th>\n",
       "      <td>77.912518</td>\n",
       "      <td>3.975533</td>\n",
       "    </tr>\n",
       "    <tr>\n",
       "      <th>D2</th>\n",
       "      <td>76.637266</td>\n",
       "      <td>3.992715</td>\n",
       "    </tr>\n",
       "    <tr>\n",
       "      <th>Failed intubation</th>\n",
       "      <td>77.445427</td>\n",
       "      <td>4.012987</td>\n",
       "    </tr>\n",
       "    <tr>\n",
       "      <th>GOJ</th>\n",
       "      <td>77.360031</td>\n",
       "      <td>3.975688</td>\n",
       "    </tr>\n",
       "    <tr>\n",
       "      <th>Oesophagus</th>\n",
       "      <td>75.903719</td>\n",
       "      <td>4.025159</td>\n",
       "    </tr>\n",
       "  </tbody>\n",
       "</table>\n",
       "</div>"
      ],
      "text/plain": [
       "                       medications_fentynl  midazolam\n",
       "extent_of_exam                                       \n",
       "  D1                             77.912518   3.975533\n",
       "  D2                             76.637266   3.992715\n",
       "  Failed intubation              77.445427   4.012987\n",
       "  GOJ                            77.360031   3.975688\n",
       "  Oesophagus                     75.903719   4.025159"
      ]
     },
     "execution_count": 42,
     "metadata": {},
     "output_type": "execute_result"
    }
   ],
   "source": [
    "df_extent_exam.head()"
   ]
  },
  {
   "cell_type": "code",
   "execution_count": 43,
   "id": "0ca21a23",
   "metadata": {},
   "outputs": [
    {
     "data": {
      "text/plain": [
       "'Normal gastroscopy to the duodenum. '"
      ]
     },
     "execution_count": 43,
     "metadata": {},
     "output_type": "execute_result"
    }
   ],
   "source": [
    "df.findings[800]"
   ]
  },
  {
   "cell_type": "code",
   "execution_count": null,
   "id": "ded06065",
   "metadata": {},
   "outputs": [],
   "source": []
  }
 ],
 "metadata": {
  "kernelspec": {
   "display_name": "Python 3 (ipykernel)",
   "language": "python",
   "name": "python3"
  },
  "language_info": {
   "codemirror_mode": {
    "name": "ipython",
    "version": 3
   },
   "file_extension": ".py",
   "mimetype": "text/x-python",
   "name": "python",
   "nbconvert_exporter": "python",
   "pygments_lexer": "ipython3",
   "version": "3.10.6"
  },
  "toc": {
   "base_numbering": 1,
   "nav_menu": {},
   "number_sections": true,
   "sideBar": true,
   "skip_h1_title": false,
   "title_cell": "Table of Contents",
   "title_sidebar": "Contents",
   "toc_cell": false,
   "toc_position": {},
   "toc_section_display": true,
   "toc_window_display": false
  },
  "varInspector": {
   "cols": {
    "lenName": 16,
    "lenType": 16,
    "lenVar": 40
   },
   "kernels_config": {
    "python": {
     "delete_cmd_postfix": "",
     "delete_cmd_prefix": "del ",
     "library": "var_list.py",
     "varRefreshCmd": "print(var_dic_list())"
    },
    "r": {
     "delete_cmd_postfix": ") ",
     "delete_cmd_prefix": "rm(",
     "library": "var_list.r",
     "varRefreshCmd": "cat(var_dic_list()) "
    }
   },
   "types_to_exclude": [
    "module",
    "function",
    "builtin_function_or_method",
    "instance",
    "_Feature"
   ],
   "window_display": false
  }
 },
 "nbformat": 4,
 "nbformat_minor": 5
}
