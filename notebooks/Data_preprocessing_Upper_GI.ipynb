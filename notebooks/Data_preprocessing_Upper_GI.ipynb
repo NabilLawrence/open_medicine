{
 "cells": [
  {
   "cell_type": "markdown",
   "id": "e4338ccb",
   "metadata": {},
   "source": [
    "---\n",
    "## Data preprocessing upper GI\n",
    "---\n",
    "### Content\n",
    "---\n",
    "- **[Libraries to use](#Libraries_to_use)**\n",
    "\n",
    "- **[Loading the dataset](#Loading_dataset)**\n",
    "\n",
    "- **[Data extraction and cleaning](#Data_extraction_cleaning)**\n",
    " ---"
   ]
  },
  {
   "cell_type": "markdown",
   "id": "b94a1587",
   "metadata": {},
   "source": [
    "### Libraries to use <a id=\"Libraries_to_use\"> </a>"
   ]
  },
  {
   "cell_type": "code",
   "execution_count": 1,
   "id": "d6d9bf0a",
   "metadata": {},
   "outputs": [],
   "source": [
    "import numpy as np\n",
    "import pandas as pd\n",
    "import re\n",
    "import matplotlib.pyplot as plt\n",
    "from sklearn.svm import SVC\n",
    "from sklearn.preprocessing import StandardScaler\n",
    "from sklearn.preprocessing import MinMaxScaler\n",
    "from sklearn.datasets import make_classification\n",
    "from sklearn.model_selection import train_test_split\n",
    "from sklearn.pipeline import Pipeline\n",
    "from sklearn.pipeline import make_pipeline\n",
    "from sklearn.preprocessing import OneHotEncoder\n",
    "from sklearn.impute import SimpleImputer, KNNImputer"
   ]
  },
  {
   "cell_type": "markdown",
   "id": "f9f4b617",
   "metadata": {},
   "source": [
    "### Loading the dataset <a id=\"Loading_dataset\"> </a>"
   ]
  },
  {
   "cell_type": "code",
   "execution_count": 2,
   "id": "de79ab3e",
   "metadata": {},
   "outputs": [],
   "source": [
    "df = pd.read_csv(\"../data/OGD_FakeSet.csv\")"
   ]
  },
  {
   "cell_type": "code",
   "execution_count": 3,
   "id": "227603bb",
   "metadata": {},
   "outputs": [
    {
     "data": {
      "text/html": [
       "<div>\n",
       "<style scoped>\n",
       "    .dataframe tbody tr th:only-of-type {\n",
       "        vertical-align: middle;\n",
       "    }\n",
       "\n",
       "    .dataframe tbody tr th {\n",
       "        vertical-align: top;\n",
       "    }\n",
       "\n",
       "    .dataframe thead th {\n",
       "        text-align: right;\n",
       "    }\n",
       "</style>\n",
       "<table border=\"1\" class=\"dataframe\">\n",
       "  <thead>\n",
       "    <tr style=\"text-align: right;\">\n",
       "      <th></th>\n",
       "      <th>text</th>\n",
       "    </tr>\n",
       "  </thead>\n",
       "  <tbody>\n",
       "    <tr>\n",
       "      <th>0</th>\n",
       "      <td>Hospital Number: O8583042 , Hospital: Random N...</td>\n",
       "    </tr>\n",
       "    <tr>\n",
       "      <th>1</th>\n",
       "      <td>Hospital Number: H2587908 , Hospital: Random N...</td>\n",
       "    </tr>\n",
       "    <tr>\n",
       "      <th>2</th>\n",
       "      <td>Hospital Number: P9907275 , Hospital: Random N...</td>\n",
       "    </tr>\n",
       "    <tr>\n",
       "      <th>3</th>\n",
       "      <td>Hospital Number: D9990587 , Hospital: Random N...</td>\n",
       "    </tr>\n",
       "    <tr>\n",
       "      <th>4</th>\n",
       "      <td>Hospital Number: K9010769 , Hospital: Random N...</td>\n",
       "    </tr>\n",
       "  </tbody>\n",
       "</table>\n",
       "</div>"
      ],
      "text/plain": [
       "                                                text\n",
       "0  Hospital Number: O8583042 , Hospital: Random N...\n",
       "1  Hospital Number: H2587908 , Hospital: Random N...\n",
       "2  Hospital Number: P9907275 , Hospital: Random N...\n",
       "3  Hospital Number: D9990587 , Hospital: Random N...\n",
       "4  Hospital Number: K9010769 , Hospital: Random N..."
      ]
     },
     "execution_count": 3,
     "metadata": {},
     "output_type": "execute_result"
    }
   ],
   "source": [
    "df.head()"
   ]
  },
  {
   "cell_type": "code",
   "execution_count": 4,
   "id": "aad69230",
   "metadata": {},
   "outputs": [
    {
     "data": {
      "text/plain": [
       "\"Hospital Number: O8583042 , Hospital: Random NHS Foundation Trust , DOB:  1903-05-10 , General Practitioner: Dr. Lutter, Carrie Nkaus Xwb  , Date of procedure:  2004-11-14Endoscopist: Dr. al-Rashid, Muzna  , 2nd Endoscopist: Dr. Labeaux, Destiny  , Medications: Fentanyl  25mcg  , Midazolam  6mg  , Instrument:  FG2  , Extent of Exam:  D1  , Procedure Performed: Gastroscopy (OGD)  , INDICATIONS FOR PROCEDURE: Biopsies for H pylori FINDINGS: The patient has Barrett's oesophagus. It is a long segment. No loss of aceto-whitening  was also seen. Short segment only. There is a polyp in the third part of the duodenum which is stalked with an abnormal pit pattern. The mucosa surrounding the nodules is inflamed and edematous, with a granular appearance.The polyp was marked with a tattoo to aid in future surveillance endoscopy.. NA RECOMMENDATION: The patient should be informed of the diagnosis and the importance of adhering to the recommended treatment plan.  The patient may be prescribed medication to reduce the risk of developing more polyps. FOLLOW UP: The patient may be prescribed medication to manage any symptoms associated with the nodule, such as pain or discomfort.  The patient should be advised to avoid consuming too much sugar, as this can increase the risk of bacterial overgrowth in the stomach and increase the risk of polyp growth.\""
      ]
     },
     "execution_count": 4,
     "metadata": {},
     "output_type": "execute_result"
    }
   ],
   "source": [
    "df.text[0]"
   ]
  },
  {
   "cell_type": "markdown",
   "id": "f8e7db3b",
   "metadata": {},
   "source": [
    "### Data extraction and cleaning <a id=\"Data_extraction_cleaning\"> </a>"
   ]
  },
  {
   "cell_type": "code",
   "execution_count": 5,
   "id": "d2930b8e",
   "metadata": {},
   "outputs": [],
   "source": [
    "def regex_hosp(string):\n",
    "    hospital_reg = r\"\\.*Hospital:.*\"\n",
    "    line = re.findall(hospital_reg, string)[0]\n",
    "    return  line.replace(',',':').split(\":\")[1]\n",
    "    \n",
    "df[\"foundation_trust\"] = df['text'].apply(regex_hosp)"
   ]
  },
  {
   "cell_type": "code",
   "execution_count": 6,
   "id": "67f199aa",
   "metadata": {},
   "outputs": [],
   "source": [
    "def regex_hosp_num(string):\n",
    "    hospital_reg = r\"\\.*Hospital Number.*\"\n",
    "    line= re.findall(hospital_reg, string)[0]\n",
    "    return  line.replace(',',':').split(\":\")[1]\n",
    "df[\"hospital_num\"] = df['text'].apply(regex_hosp_num)"
   ]
  },
  {
   "cell_type": "code",
   "execution_count": 7,
   "id": "13b9e88a",
   "metadata": {},
   "outputs": [],
   "source": [
    "def regex_GP(string):\n",
    "    hospital_reg = r\"\\.*General Practitioner:.*\"\n",
    "    line = re.findall(hospital_reg, string)[0]\n",
    "    retrn_string= line.replace(',',':').split(\":\")[1]\n",
    "    if retrn_string[-1:] == \"\\r\":\n",
    "        return retrn_string[:-1]\n",
    "    else:\n",
    "        return retrn_string\n",
    "df[\"gp\"] = df['text'].apply(regex_GP)"
   ]
  },
  {
   "cell_type": "code",
   "execution_count": 8,
   "id": "8816009c",
   "metadata": {},
   "outputs": [],
   "source": [
    "def regex_DOB(string):\n",
    "    hospital_reg = r\"\\.*DOB:.*\"\n",
    "    line =  re.findall(hospital_reg, string)[0]\n",
    "    retrn_string= line.replace(',',':').split(\":\")[1]\n",
    "    if retrn_string[-1:] == \"\\r\":\n",
    "        return retrn_string[:-1]\n",
    "    else:\n",
    "        return retrn_string\n",
    "df[\"DOB\"] = df['text'].apply(regex_DOB)"
   ]
  },
  {
   "cell_type": "code",
   "execution_count": 9,
   "id": "4805c491",
   "metadata": {},
   "outputs": [],
   "source": [
    "def regex_procedure_date(string):\n",
    "    hospital_reg = r\"\\.*Date of procedure:.*\"\n",
    "    line =  re.findall(hospital_reg, string)[0]\n",
    "    retrn_string =  line.split(\":\")[1][:-11]\n",
    "    if retrn_string[-1:] == \"\\r\":\n",
    "        return retrn_string[:-1]\n",
    "    else:\n",
    "        return retrn_string\n",
    "df[\"procedure_date\"] = df['text'].apply(regex_procedure_date)"
   ]
  },
  {
   "cell_type": "code",
   "execution_count": 10,
   "id": "54c5de2b",
   "metadata": {},
   "outputs": [
    {
     "data": {
      "text/html": [
       "<div>\n",
       "<style scoped>\n",
       "    .dataframe tbody tr th:only-of-type {\n",
       "        vertical-align: middle;\n",
       "    }\n",
       "\n",
       "    .dataframe tbody tr th {\n",
       "        vertical-align: top;\n",
       "    }\n",
       "\n",
       "    .dataframe thead th {\n",
       "        text-align: right;\n",
       "    }\n",
       "</style>\n",
       "<table border=\"1\" class=\"dataframe\">\n",
       "  <thead>\n",
       "    <tr style=\"text-align: right;\">\n",
       "      <th></th>\n",
       "      <th>text</th>\n",
       "      <th>foundation_trust</th>\n",
       "      <th>hospital_num</th>\n",
       "      <th>gp</th>\n",
       "      <th>DOB</th>\n",
       "      <th>procedure_date</th>\n",
       "    </tr>\n",
       "  </thead>\n",
       "  <tbody>\n",
       "    <tr>\n",
       "      <th>0</th>\n",
       "      <td>Hospital Number: O8583042 , Hospital: Random N...</td>\n",
       "      <td>Random NHS Foundation Trust</td>\n",
       "      <td>O8583042</td>\n",
       "      <td>Dr. Lutter</td>\n",
       "      <td>1903-05-10</td>\n",
       "      <td>2004-11-14</td>\n",
       "    </tr>\n",
       "    <tr>\n",
       "      <th>1</th>\n",
       "      <td>Hospital Number: H2587908 , Hospital: Random N...</td>\n",
       "      <td>Random NHS Foundation Trust</td>\n",
       "      <td>H2587908</td>\n",
       "      <td>Dr. Akhmedov</td>\n",
       "      <td>1933-11-14</td>\n",
       "      <td>2015-09-02</td>\n",
       "    </tr>\n",
       "    <tr>\n",
       "      <th>2</th>\n",
       "      <td>Hospital Number: P9907275 , Hospital: Random N...</td>\n",
       "      <td>Random NHS Foundation Trust</td>\n",
       "      <td>P9907275</td>\n",
       "      <td>Dr. al-Tabet</td>\n",
       "      <td>1967-03-08</td>\n",
       "      <td>2002-01-13</td>\n",
       "    </tr>\n",
       "    <tr>\n",
       "      <th>3</th>\n",
       "      <td>Hospital Number: D9990587 , Hospital: Random N...</td>\n",
       "      <td>Random NHS Foundation Trust</td>\n",
       "      <td>D9990587</td>\n",
       "      <td>Dr. Garcia</td>\n",
       "      <td>1973-11-22</td>\n",
       "      <td>2007-04-20</td>\n",
       "    </tr>\n",
       "    <tr>\n",
       "      <th>4</th>\n",
       "      <td>Hospital Number: K9010769 , Hospital: Random N...</td>\n",
       "      <td>Random NHS Foundation Trust</td>\n",
       "      <td>K9010769</td>\n",
       "      <td>Dr. el-Kaiser</td>\n",
       "      <td>1968-04-13</td>\n",
       "      <td>2016-01-12</td>\n",
       "    </tr>\n",
       "  </tbody>\n",
       "</table>\n",
       "</div>"
      ],
      "text/plain": [
       "                                                text  \\\n",
       "0  Hospital Number: O8583042 , Hospital: Random N...   \n",
       "1  Hospital Number: H2587908 , Hospital: Random N...   \n",
       "2  Hospital Number: P9907275 , Hospital: Random N...   \n",
       "3  Hospital Number: D9990587 , Hospital: Random N...   \n",
       "4  Hospital Number: K9010769 , Hospital: Random N...   \n",
       "\n",
       "                foundation_trust hospital_num              gp            DOB  \\\n",
       "0   Random NHS Foundation Trust     O8583042       Dr. Lutter    1903-05-10    \n",
       "1   Random NHS Foundation Trust     H2587908     Dr. Akhmedov    1933-11-14    \n",
       "2   Random NHS Foundation Trust     P9907275     Dr. al-Tabet    1967-03-08    \n",
       "3   Random NHS Foundation Trust     D9990587       Dr. Garcia    1973-11-22    \n",
       "4   Random NHS Foundation Trust     K9010769    Dr. el-Kaiser    1968-04-13    \n",
       "\n",
       "  procedure_date  \n",
       "0     2004-11-14  \n",
       "1     2015-09-02  \n",
       "2     2002-01-13  \n",
       "3     2007-04-20  \n",
       "4     2016-01-12  "
      ]
     },
     "execution_count": 10,
     "metadata": {},
     "output_type": "execute_result"
    }
   ],
   "source": [
    "df.head()"
   ]
  },
  {
   "cell_type": "code",
   "execution_count": 11,
   "id": "b621ba18",
   "metadata": {},
   "outputs": [],
   "source": [
    "def regex_endoscopist(string):\n",
    "    hospital_reg = r\"\\.*Endoscopist:.*\"\n",
    "    line = re.findall(hospital_reg, string)[0]\n",
    "    retrn_string =  line.replace(',',':').split(\":\")[1]\n",
    "    if retrn_string[-1:] == \"\\r\":\n",
    "        return retrn_string[:-1]\n",
    "    else:\n",
    "        return retrn_string\n",
    "df[\"endoscopist\"] = df['text'].apply(regex_endoscopist)"
   ]
  },
  {
   "cell_type": "code",
   "execution_count": 12,
   "id": "9f33700e",
   "metadata": {},
   "outputs": [],
   "source": [
    "def regex_2nd_endoscopist(string):\n",
    "    hospital_reg = r\"\\.*2nd Endoscopist:.*\"\n",
    "    line= re.findall(hospital_reg, string)[0]\n",
    "    retrn_string =  line.replace(',',':').split(\":\")[1]\n",
    "    if retrn_string[-1:] == \"\\r\":\n",
    "        return retrn_string\n",
    "    else:\n",
    "        return retrn_string\n",
    "df[\"second_endoscopist\"] = df['text'].apply(regex_2nd_endoscopist)"
   ]
  },
  {
   "cell_type": "code",
   "execution_count": 13,
   "id": "64aea187",
   "metadata": {},
   "outputs": [],
   "source": [
    "def regex_medication(string):\n",
    "    hospital_reg = r\"\\d*.\\dmcg\"\n",
    "    retrn_string= re.findall(hospital_reg, string)[0]\n",
    "    if retrn_string[-1:] == \"\\r\":\n",
    "        return float(retrn_string[:-4])\n",
    "    else:\n",
    "        return float(retrn_string[:-3])\n",
    "df[\"medications_fentynl\"] = df['text'].apply(regex_medication)"
   ]
  },
  {
   "cell_type": "code",
   "execution_count": 14,
   "id": "3f2b5ebc",
   "metadata": {},
   "outputs": [],
   "source": [
    "def regex_midazolam(string):\n",
    "    hospital_reg = r\"\\.*Midazolam.*\"\n",
    "    line = re.findall(hospital_reg, string)[0]\n",
    "    retrn_string =  line.split()[1]\n",
    "    if retrn_string[-1:] == \"\\r\":\n",
    "        return int(retrn_string[:-3])\n",
    "    else:\n",
    "        return int(retrn_string[:-2])\n",
    "df[\"midazolam\"] = df['text'].apply(regex_midazolam)"
   ]
  },
  {
   "cell_type": "code",
   "execution_count": 15,
   "id": "9144a9df",
   "metadata": {},
   "outputs": [],
   "source": [
    "def regex_instrument(string):\n",
    "    hospital_reg = r\"\\.*Instrument.*\"\n",
    "    line = re.findall(hospital_reg, string)[0]\n",
    "    retrn_string =  line.replace(',',':').split(\":\")[1]\n",
    "    if retrn_string[-1:] == \"\\r\":\n",
    "        return retrn_string[:-1]\n",
    "    else:\n",
    "        return retrn_string\n",
    "df[\"instrument\"] = df['text'].apply(regex_instrument)"
   ]
  },
  {
   "cell_type": "code",
   "execution_count": 16,
   "id": "6f80fb98",
   "metadata": {},
   "outputs": [],
   "source": [
    "def regex_extent(string):\n",
    "    hospital_reg = r\"\\.*Extent of Exam:.*\"\n",
    "    line = re.findall(hospital_reg, string)[0]\n",
    "    retrn_string =  line.replace(',',':').split(\":\")[1]\n",
    "    if retrn_string[-1:] == \"\\r\":\n",
    "        return retrn_string[:-1]\n",
    "    else:\n",
    "        return retrn_string\n",
    "df[\"extent_of_exam\"] = df['text'].apply(regex_extent)"
   ]
  },
  {
   "cell_type": "code",
   "execution_count": 17,
   "id": "5ecf5b28",
   "metadata": {},
   "outputs": [],
   "source": [
    "def regex_indications(string):\n",
    "    hospital_reg = r\"\\.*INDICATIONS FOR PROCEDURE:.*\"\n",
    "    line = re.findall(hospital_reg, string)[0]\n",
    "    retrn_string =  line.replace(',',':').split(\":\")[1]\n",
    "    if retrn_string[-1:] == \"\\r\":\n",
    "        retrn_string= retrn_string[:-1]\n",
    "    if retrn_string[-8:] == \"FINDINGS\":\n",
    "        return retrn_string[:-8]\n",
    "    else:\n",
    "        return retrn_string\n",
    "    \n",
    "df[\"indications\"] = df['text'].apply(regex_indications)"
   ]
  },
  {
   "cell_type": "code",
   "execution_count": 18,
   "id": "f775cafd",
   "metadata": {},
   "outputs": [
    {
     "data": {
      "text/html": [
       "<div>\n",
       "<style scoped>\n",
       "    .dataframe tbody tr th:only-of-type {\n",
       "        vertical-align: middle;\n",
       "    }\n",
       "\n",
       "    .dataframe tbody tr th {\n",
       "        vertical-align: top;\n",
       "    }\n",
       "\n",
       "    .dataframe thead th {\n",
       "        text-align: right;\n",
       "    }\n",
       "</style>\n",
       "<table border=\"1\" class=\"dataframe\">\n",
       "  <thead>\n",
       "    <tr style=\"text-align: right;\">\n",
       "      <th></th>\n",
       "      <th>text</th>\n",
       "      <th>foundation_trust</th>\n",
       "      <th>hospital_num</th>\n",
       "      <th>gp</th>\n",
       "      <th>DOB</th>\n",
       "      <th>procedure_date</th>\n",
       "      <th>endoscopist</th>\n",
       "      <th>second_endoscopist</th>\n",
       "      <th>medications_fentynl</th>\n",
       "      <th>midazolam</th>\n",
       "      <th>instrument</th>\n",
       "      <th>extent_of_exam</th>\n",
       "      <th>indications</th>\n",
       "    </tr>\n",
       "  </thead>\n",
       "  <tbody>\n",
       "    <tr>\n",
       "      <th>0</th>\n",
       "      <td>Hospital Number: O8583042 , Hospital: Random N...</td>\n",
       "      <td>Random NHS Foundation Trust</td>\n",
       "      <td>O8583042</td>\n",
       "      <td>Dr. Lutter</td>\n",
       "      <td>1903-05-10</td>\n",
       "      <td>2004-11-14</td>\n",
       "      <td>Dr. al-Rashid</td>\n",
       "      <td>Dr. Labeaux</td>\n",
       "      <td>25.0</td>\n",
       "      <td>6</td>\n",
       "      <td>FG2</td>\n",
       "      <td>D1</td>\n",
       "      <td>Biopsies for H pylori</td>\n",
       "    </tr>\n",
       "    <tr>\n",
       "      <th>1</th>\n",
       "      <td>Hospital Number: H2587908 , Hospital: Random N...</td>\n",
       "      <td>Random NHS Foundation Trust</td>\n",
       "      <td>H2587908</td>\n",
       "      <td>Dr. Akhmedov</td>\n",
       "      <td>1933-11-14</td>\n",
       "      <td>2015-09-02</td>\n",
       "      <td>Dr. Garnier</td>\n",
       "      <td>Dr. Carter</td>\n",
       "      <td>25.0</td>\n",
       "      <td>1</td>\n",
       "      <td>FG5</td>\n",
       "      <td>D1</td>\n",
       "      <td>Known coeliac ch diarrhoea.Myelofibrosis on r...</td>\n",
       "    </tr>\n",
       "    <tr>\n",
       "      <th>2</th>\n",
       "      <td>Hospital Number: P9907275 , Hospital: Random N...</td>\n",
       "      <td>Random NHS Foundation Trust</td>\n",
       "      <td>P9907275</td>\n",
       "      <td>Dr. al-Tabet</td>\n",
       "      <td>1967-03-08</td>\n",
       "      <td>2002-01-13</td>\n",
       "      <td>Dr. Stearns</td>\n",
       "      <td>Dr. Geist</td>\n",
       "      <td>50.0</td>\n",
       "      <td>1</td>\n",
       "      <td>FG3</td>\n",
       "      <td>Failed intubation</td>\n",
       "      <td>Known coeliac disease vomitting</td>\n",
       "    </tr>\n",
       "    <tr>\n",
       "      <th>3</th>\n",
       "      <td>Hospital Number: D9990587 , Hospital: Random N...</td>\n",
       "      <td>Random NHS Foundation Trust</td>\n",
       "      <td>D9990587</td>\n",
       "      <td>Dr. Garcia</td>\n",
       "      <td>1973-11-22</td>\n",
       "      <td>2007-04-20</td>\n",
       "      <td>Dr. Ali</td>\n",
       "      <td>Dr. Carter</td>\n",
       "      <td>150.0</td>\n",
       "      <td>5</td>\n",
       "      <td>FG4</td>\n",
       "      <td>Pylorus</td>\n",
       "      <td>Reflux-like Symptoms/Atypical Chest Pain</td>\n",
       "    </tr>\n",
       "    <tr>\n",
       "      <th>4</th>\n",
       "      <td>Hospital Number: K9010769 , Hospital: Random N...</td>\n",
       "      <td>Random NHS Foundation Trust</td>\n",
       "      <td>K9010769</td>\n",
       "      <td>Dr. el-Kaiser</td>\n",
       "      <td>1968-04-13</td>\n",
       "      <td>2016-01-12</td>\n",
       "      <td>Dr. Presta</td>\n",
       "      <td>Dr. Labeaux</td>\n",
       "      <td>125.0</td>\n",
       "      <td>7</td>\n",
       "      <td>FG3</td>\n",
       "      <td>Pylorus</td>\n",
       "      <td>Dysphagia/Odynophagia   post oesophagectomy</td>\n",
       "    </tr>\n",
       "  </tbody>\n",
       "</table>\n",
       "</div>"
      ],
      "text/plain": [
       "                                                text  \\\n",
       "0  Hospital Number: O8583042 , Hospital: Random N...   \n",
       "1  Hospital Number: H2587908 , Hospital: Random N...   \n",
       "2  Hospital Number: P9907275 , Hospital: Random N...   \n",
       "3  Hospital Number: D9990587 , Hospital: Random N...   \n",
       "4  Hospital Number: K9010769 , Hospital: Random N...   \n",
       "\n",
       "                foundation_trust hospital_num              gp            DOB  \\\n",
       "0   Random NHS Foundation Trust     O8583042       Dr. Lutter    1903-05-10    \n",
       "1   Random NHS Foundation Trust     H2587908     Dr. Akhmedov    1933-11-14    \n",
       "2   Random NHS Foundation Trust     P9907275     Dr. al-Tabet    1967-03-08    \n",
       "3   Random NHS Foundation Trust     D9990587       Dr. Garcia    1973-11-22    \n",
       "4   Random NHS Foundation Trust     K9010769    Dr. el-Kaiser    1968-04-13    \n",
       "\n",
       "  procedure_date     endoscopist second_endoscopist  medications_fentynl  \\\n",
       "0     2004-11-14   Dr. al-Rashid        Dr. Labeaux                 25.0   \n",
       "1     2015-09-02     Dr. Garnier         Dr. Carter                 25.0   \n",
       "2     2002-01-13     Dr. Stearns          Dr. Geist                 50.0   \n",
       "3     2007-04-20         Dr. Ali         Dr. Carter                150.0   \n",
       "4     2016-01-12      Dr. Presta        Dr. Labeaux                125.0   \n",
       "\n",
       "   midazolam instrument         extent_of_exam  \\\n",
       "0          6      FG2                     D1     \n",
       "1          1      FG5                     D1     \n",
       "2          1      FG3      Failed intubation     \n",
       "3          5      FG4                Pylorus     \n",
       "4          7      FG3                Pylorus     \n",
       "\n",
       "                                         indications  \n",
       "0                             Biopsies for H pylori   \n",
       "1   Known coeliac ch diarrhoea.Myelofibrosis on r...  \n",
       "2                   Known coeliac disease vomitting   \n",
       "3          Reflux-like Symptoms/Atypical Chest Pain   \n",
       "4       Dysphagia/Odynophagia   post oesophagectomy   "
      ]
     },
     "execution_count": 18,
     "metadata": {},
     "output_type": "execute_result"
    }
   ],
   "source": [
    "df.head()"
   ]
  },
  {
   "cell_type": "code",
   "execution_count": 19,
   "id": "df4ab1c2",
   "metadata": {},
   "outputs": [],
   "source": [
    "def regex_procedure(string):\n",
    "    hospital_reg = r\"\\.*Procedure Performed:.*\"\n",
    "    line = re.findall(hospital_reg, string)[0]\n",
    "    retrn_string =  line.replace(',',':').split(\":\")[1]\n",
    "    if retrn_string[-1:] == \"\\r\":\n",
    "        return retrn_string[:-1]\n",
    "    else:\n",
    "        return retrn_string\n",
    "    print(retrn_string)\n",
    "    \n",
    "df[\"procedure_performed\"] = df['text'].apply(regex_procedure)"
   ]
  },
  {
   "cell_type": "code",
   "execution_count": null,
   "id": "fa5da54f",
   "metadata": {},
   "outputs": [],
   "source": []
  },
  {
   "cell_type": "code",
   "execution_count": 20,
   "id": "2566ee45",
   "metadata": {},
   "outputs": [
    {
     "data": {
      "text/plain": [
       "' Gastroscopy (OGD)  '"
      ]
     },
     "execution_count": 20,
     "metadata": {},
     "output_type": "execute_result"
    }
   ],
   "source": [
    "regex_procedure(df.text[3])"
   ]
  },
  {
   "cell_type": "code",
   "execution_count": 21,
   "id": "16615701",
   "metadata": {},
   "outputs": [],
   "source": [
    "df[\"procedure_performed\"] = df['text'].apply(regex_procedure)"
   ]
  },
  {
   "cell_type": "code",
   "execution_count": 22,
   "id": "facc00ad",
   "metadata": {},
   "outputs": [],
   "source": [
    "def regex_findings(string):\n",
    "    hospital_reg = r\"\\.*FINDINGS:.*\"\n",
    "    line = re.findall(hospital_reg, string)[0][10:]\n",
    "    return line\n",
    "df[\"findings\"] = df['text'].apply(regex_findings)"
   ]
  },
  {
   "cell_type": "code",
   "execution_count": 44,
   "id": "13d10cc1",
   "metadata": {},
   "outputs": [
    {
     "data": {
      "text/plain": [
       "\"The patient has Barrett's oesophagus. It is a long segment. No loss of aceto-whitening  was also seen. Short segment only. There is a polyp in the third part of the duodenum which is stalked with an abnormal pit pattern. The mucosa surrounding the nodules is inflamed and edematous, with a granular appearance.The polyp was marked with a tattoo to aid in future surveillance endoscopy.. NA RECOMMENDATION: The patient should be informed of the diagnosis and the importance of adhering to the recommended treatment plan.  The patient may be prescribed medication to reduce the risk of developing more polyps. FOLLOW UP: The patient may be prescribed medication to manage any symptoms associated with the nodule, such as pain or discomfort.  The patient should be advised to avoid consuming too much sugar, as this can increase the risk of bacterial overgrowth in the stomach and increase the risk of polyp growth.\""
      ]
     },
     "execution_count": 44,
     "metadata": {},
     "output_type": "execute_result"
    }
   ],
   "source": [
    "df.findings[0]"
   ]
  },
  {
   "cell_type": "code",
   "execution_count": 24,
   "id": "de675645",
   "metadata": {},
   "outputs": [
    {
     "data": {
      "text/plain": [
       "(1000, 15)"
      ]
     },
     "execution_count": 24,
     "metadata": {},
     "output_type": "execute_result"
    }
   ],
   "source": [
    "df.shape"
   ]
  },
  {
   "cell_type": "code",
   "execution_count": 25,
   "id": "27a94627",
   "metadata": {},
   "outputs": [
    {
     "data": {
      "text/html": [
       "<div>\n",
       "<style scoped>\n",
       "    .dataframe tbody tr th:only-of-type {\n",
       "        vertical-align: middle;\n",
       "    }\n",
       "\n",
       "    .dataframe tbody tr th {\n",
       "        vertical-align: top;\n",
       "    }\n",
       "\n",
       "    .dataframe thead th {\n",
       "        text-align: right;\n",
       "    }\n",
       "</style>\n",
       "<table border=\"1\" class=\"dataframe\">\n",
       "  <thead>\n",
       "    <tr style=\"text-align: right;\">\n",
       "      <th></th>\n",
       "      <th>text</th>\n",
       "      <th>foundation_trust</th>\n",
       "      <th>hospital_num</th>\n",
       "      <th>gp</th>\n",
       "      <th>DOB</th>\n",
       "      <th>procedure_date</th>\n",
       "      <th>endoscopist</th>\n",
       "      <th>second_endoscopist</th>\n",
       "      <th>medications_fentynl</th>\n",
       "      <th>midazolam</th>\n",
       "      <th>instrument</th>\n",
       "      <th>extent_of_exam</th>\n",
       "      <th>indications</th>\n",
       "      <th>procedure_performed</th>\n",
       "      <th>findings</th>\n",
       "    </tr>\n",
       "  </thead>\n",
       "  <tbody>\n",
       "    <tr>\n",
       "      <th>0</th>\n",
       "      <td>Hospital Number: O8583042 , Hospital: Random N...</td>\n",
       "      <td>Random NHS Foundation Trust</td>\n",
       "      <td>O8583042</td>\n",
       "      <td>Dr. Lutter</td>\n",
       "      <td>1903-05-10</td>\n",
       "      <td>2004-11-14</td>\n",
       "      <td>Dr. al-Rashid</td>\n",
       "      <td>Dr. Labeaux</td>\n",
       "      <td>25.0</td>\n",
       "      <td>6</td>\n",
       "      <td>FG2</td>\n",
       "      <td>D1</td>\n",
       "      <td>Biopsies for H pylori</td>\n",
       "      <td>Gastroscopy (OGD)</td>\n",
       "      <td>The patient has Barrett's oesophagus. It is a ...</td>\n",
       "    </tr>\n",
       "    <tr>\n",
       "      <th>1</th>\n",
       "      <td>Hospital Number: H2587908 , Hospital: Random N...</td>\n",
       "      <td>Random NHS Foundation Trust</td>\n",
       "      <td>H2587908</td>\n",
       "      <td>Dr. Akhmedov</td>\n",
       "      <td>1933-11-14</td>\n",
       "      <td>2015-09-02</td>\n",
       "      <td>Dr. Garnier</td>\n",
       "      <td>Dr. Carter</td>\n",
       "      <td>25.0</td>\n",
       "      <td>1</td>\n",
       "      <td>FG5</td>\n",
       "      <td>D1</td>\n",
       "      <td>Known coeliac ch diarrhoea.Myelofibrosis on r...</td>\n",
       "      <td>Gastroscopy (OGD)</td>\n",
       "      <td>There is a polyp in the antrum which is sessil...</td>\n",
       "    </tr>\n",
       "    <tr>\n",
       "      <th>2</th>\n",
       "      <td>Hospital Number: P9907275 , Hospital: Random N...</td>\n",
       "      <td>Random NHS Foundation Trust</td>\n",
       "      <td>P9907275</td>\n",
       "      <td>Dr. al-Tabet</td>\n",
       "      <td>1967-03-08</td>\n",
       "      <td>2002-01-13</td>\n",
       "      <td>Dr. Stearns</td>\n",
       "      <td>Dr. Geist</td>\n",
       "      <td>50.0</td>\n",
       "      <td>1</td>\n",
       "      <td>FG3</td>\n",
       "      <td>Failed intubation</td>\n",
       "      <td>Known coeliac disease vomitting</td>\n",
       "      <td>Gastroscopy (OGD)</td>\n",
       "      <td>The patient has inflammation in the second par...</td>\n",
       "    </tr>\n",
       "    <tr>\n",
       "      <th>3</th>\n",
       "      <td>Hospital Number: D9990587 , Hospital: Random N...</td>\n",
       "      <td>Random NHS Foundation Trust</td>\n",
       "      <td>D9990587</td>\n",
       "      <td>Dr. Garcia</td>\n",
       "      <td>1973-11-22</td>\n",
       "      <td>2007-04-20</td>\n",
       "      <td>Dr. Ali</td>\n",
       "      <td>Dr. Carter</td>\n",
       "      <td>150.0</td>\n",
       "      <td>5</td>\n",
       "      <td>FG4</td>\n",
       "      <td>Pylorus</td>\n",
       "      <td>Reflux-like Symptoms/Atypical Chest Pain</td>\n",
       "      <td>Gastroscopy (OGD)</td>\n",
       "      <td>Normal gastroscopy to the duodenum.</td>\n",
       "    </tr>\n",
       "    <tr>\n",
       "      <th>4</th>\n",
       "      <td>Hospital Number: K9010769 , Hospital: Random N...</td>\n",
       "      <td>Random NHS Foundation Trust</td>\n",
       "      <td>K9010769</td>\n",
       "      <td>Dr. el-Kaiser</td>\n",
       "      <td>1968-04-13</td>\n",
       "      <td>2016-01-12</td>\n",
       "      <td>Dr. Presta</td>\n",
       "      <td>Dr. Labeaux</td>\n",
       "      <td>125.0</td>\n",
       "      <td>7</td>\n",
       "      <td>FG3</td>\n",
       "      <td>Pylorus</td>\n",
       "      <td>Dysphagia/Odynophagia   post oesophagectomy</td>\n",
       "      <td>Gastroscopy (OGD)</td>\n",
       "      <td>There is an ulcer in the second part of the du...</td>\n",
       "    </tr>\n",
       "  </tbody>\n",
       "</table>\n",
       "</div>"
      ],
      "text/plain": [
       "                                                text  \\\n",
       "0  Hospital Number: O8583042 , Hospital: Random N...   \n",
       "1  Hospital Number: H2587908 , Hospital: Random N...   \n",
       "2  Hospital Number: P9907275 , Hospital: Random N...   \n",
       "3  Hospital Number: D9990587 , Hospital: Random N...   \n",
       "4  Hospital Number: K9010769 , Hospital: Random N...   \n",
       "\n",
       "                foundation_trust hospital_num              gp            DOB  \\\n",
       "0   Random NHS Foundation Trust     O8583042       Dr. Lutter    1903-05-10    \n",
       "1   Random NHS Foundation Trust     H2587908     Dr. Akhmedov    1933-11-14    \n",
       "2   Random NHS Foundation Trust     P9907275     Dr. al-Tabet    1967-03-08    \n",
       "3   Random NHS Foundation Trust     D9990587       Dr. Garcia    1973-11-22    \n",
       "4   Random NHS Foundation Trust     K9010769    Dr. el-Kaiser    1968-04-13    \n",
       "\n",
       "  procedure_date     endoscopist second_endoscopist  medications_fentynl  \\\n",
       "0     2004-11-14   Dr. al-Rashid        Dr. Labeaux                 25.0   \n",
       "1     2015-09-02     Dr. Garnier         Dr. Carter                 25.0   \n",
       "2     2002-01-13     Dr. Stearns          Dr. Geist                 50.0   \n",
       "3     2007-04-20         Dr. Ali         Dr. Carter                150.0   \n",
       "4     2016-01-12      Dr. Presta        Dr. Labeaux                125.0   \n",
       "\n",
       "   midazolam instrument         extent_of_exam  \\\n",
       "0          6      FG2                     D1     \n",
       "1          1      FG5                     D1     \n",
       "2          1      FG3      Failed intubation     \n",
       "3          5      FG4                Pylorus     \n",
       "4          7      FG3                Pylorus     \n",
       "\n",
       "                                         indications   procedure_performed  \\\n",
       "0                             Biopsies for H pylori    Gastroscopy (OGD)     \n",
       "1   Known coeliac ch diarrhoea.Myelofibrosis on r...   Gastroscopy (OGD)     \n",
       "2                   Known coeliac disease vomitting    Gastroscopy (OGD)     \n",
       "3          Reflux-like Symptoms/Atypical Chest Pain    Gastroscopy (OGD)     \n",
       "4       Dysphagia/Odynophagia   post oesophagectomy    Gastroscopy (OGD)     \n",
       "\n",
       "                                            findings  \n",
       "0  The patient has Barrett's oesophagus. It is a ...  \n",
       "1  There is a polyp in the antrum which is sessil...  \n",
       "2  The patient has inflammation in the second par...  \n",
       "3               Normal gastroscopy to the duodenum.   \n",
       "4  There is an ulcer in the second part of the du...  "
      ]
     },
     "execution_count": 25,
     "metadata": {},
     "output_type": "execute_result"
    }
   ],
   "source": [
    "df.head()"
   ]
  },
  {
   "cell_type": "code",
   "execution_count": 26,
   "id": "e819d38b",
   "metadata": {},
   "outputs": [
    {
     "data": {
      "text/plain": [
       "\"Hospital Number: O8583042 , Hospital: Random NHS Foundation Trust , DOB:  1903-05-10 , General Practitioner: Dr. Lutter, Carrie Nkaus Xwb  , Date of procedure:  2004-11-14Endoscopist: Dr. al-Rashid, Muzna  , 2nd Endoscopist: Dr. Labeaux, Destiny  , Medications: Fentanyl  25mcg  , Midazolam  6mg  , Instrument:  FG2  , Extent of Exam:  D1  , Procedure Performed: Gastroscopy (OGD)  , INDICATIONS FOR PROCEDURE: Biopsies for H pylori FINDINGS: The patient has Barrett's oesophagus. It is a long segment. No loss of aceto-whitening  was also seen. Short segment only. There is a polyp in the third part of the duodenum which is stalked with an abnormal pit pattern. The mucosa surrounding the nodules is inflamed and edematous, with a granular appearance.The polyp was marked with a tattoo to aid in future surveillance endoscopy.. NA RECOMMENDATION: The patient should be informed of the diagnosis and the importance of adhering to the recommended treatment plan.  The patient may be prescribed medication to reduce the risk of developing more polyps. FOLLOW UP: The patient may be prescribed medication to manage any symptoms associated with the nodule, such as pain or discomfort.  The patient should be advised to avoid consuming too much sugar, as this can increase the risk of bacterial overgrowth in the stomach and increase the risk of polyp growth.\""
      ]
     },
     "execution_count": 26,
     "metadata": {},
     "output_type": "execute_result"
    }
   ],
   "source": [
    "df.text[0]"
   ]
  },
  {
   "cell_type": "code",
   "execution_count": 27,
   "id": "fdbe2fe5",
   "metadata": {},
   "outputs": [],
   "source": [
    "## having a look at value counts ##"
   ]
  },
  {
   "cell_type": "code",
   "execution_count": 28,
   "id": "bca308d3",
   "metadata": {},
   "outputs": [
    {
     "data": {
      "text/plain": [
       "75.0     172\n",
       "50.0     151\n",
       "25.0     139\n",
       "100.0    139\n",
       "125.0    135\n",
       "12.5     134\n",
       "150.0    130\n",
       "Name: medications_fentynl, dtype: int64"
      ]
     },
     "execution_count": 28,
     "metadata": {},
     "output_type": "execute_result"
    }
   ],
   "source": [
    "df.medications_fentynl.value_counts()"
   ]
  },
  {
   "cell_type": "code",
   "execution_count": 29,
   "id": "de332ca5",
   "metadata": {},
   "outputs": [
    {
     "data": {
      "text/plain": [
       "6    167\n",
       "2    162\n",
       "4    148\n",
       "1    139\n",
       "3    135\n",
       "7    132\n",
       "5    117\n",
       "Name: midazolam, dtype: int64"
      ]
     },
     "execution_count": 29,
     "metadata": {},
     "output_type": "execute_result"
    }
   ],
   "source": [
    "df.midazolam.value_counts()"
   ]
  },
  {
   "cell_type": "code",
   "execution_count": 30,
   "id": "e1d87d0e",
   "metadata": {},
   "outputs": [
    {
     "data": {
      "text/plain": [
       "  Pylorus                162\n",
       "  Stomach body           151\n",
       "  Oesophagus             148\n",
       "  D1                     142\n",
       "  GOJ                    137\n",
       "  Failed intubation      133\n",
       "  D2                     127\n",
       "Name: extent_of_exam, dtype: int64"
      ]
     },
     "execution_count": 30,
     "metadata": {},
     "output_type": "execute_result"
    }
   ],
   "source": [
    "df.extent_of_exam.value_counts()"
   ]
  },
  {
   "cell_type": "code",
   "execution_count": 31,
   "id": "b1f38bf3",
   "metadata": {},
   "outputs": [
    {
     "data": {
      "text/plain": [
       " Gastroscopy (OGD)      1000\n",
       "Name: procedure_performed, dtype: int64"
      ]
     },
     "execution_count": 31,
     "metadata": {},
     "output_type": "execute_result"
    }
   ],
   "source": [
    "df.procedure_performed.value_counts()"
   ]
  },
  {
   "cell_type": "code",
   "execution_count": 32,
   "id": "9b872520",
   "metadata": {},
   "outputs": [
    {
     "data": {
      "text/plain": [
       " Abdominal Pain x1 hematemesis Crohns colitis                         15\n",
       " Dysphagia/Odynophagia post LTA                                       13\n",
       " Dysphagia oesophageal stricture post chemorad for scc oesophagus     13\n",
       " Other - chronic cough ?GORD                                          12\n",
       " Ongoing reflux symptoms.                                             12\n",
       "                                                                      ..\n",
       " Dysphagia/Odynophagia post transhiatal oesophagectomy                 2\n",
       " Abdominal Pain Weight Loss                                            2\n",
       " On going epigastric pain                                              2\n",
       " Dyspepsia Other- Bloating                                             1\n",
       " Post CRT stricture                                                    1\n",
       "Name: indications, Length: 159, dtype: int64"
      ]
     },
     "execution_count": 32,
     "metadata": {},
     "output_type": "execute_result"
    }
   ],
   "source": [
    "df.indications.value_counts()"
   ]
  },
  {
   "cell_type": "code",
   "execution_count": 33,
   "id": "9d076e04",
   "metadata": {},
   "outputs": [
    {
     "data": {
      "text/plain": [
       " Dr. Song         118\n",
       " Dr. Stearns      113\n",
       " Dr. al-Rashid    104\n",
       " Dr. al-Mannan    100\n",
       " Dr. Fears         99\n",
       " Dr. Currier       96\n",
       " Dr. Ali           95\n",
       " Dr. el-Haque      95\n",
       " Dr. Presta        93\n",
       " Dr. Garnier       87\n",
       "Name: endoscopist, dtype: int64"
      ]
     },
     "execution_count": 33,
     "metadata": {},
     "output_type": "execute_result"
    }
   ],
   "source": [
    "df.endoscopist.value_counts()"
   ]
  },
  {
   "cell_type": "code",
   "execution_count": null,
   "id": "ea4a5ad2",
   "metadata": {},
   "outputs": [],
   "source": []
  },
  {
   "cell_type": "code",
   "execution_count": null,
   "id": "95de6f2b",
   "metadata": {},
   "outputs": [],
   "source": []
  },
  {
   "cell_type": "code",
   "execution_count": 34,
   "id": "adcae9d6",
   "metadata": {},
   "outputs": [
    {
     "data": {
      "text/plain": [
       "(1000,)"
      ]
     },
     "execution_count": 34,
     "metadata": {},
     "output_type": "execute_result"
    }
   ],
   "source": [
    "df.findings.shape"
   ]
  },
  {
   "cell_type": "code",
   "execution_count": 35,
   "id": "0acc06ac",
   "metadata": {},
   "outputs": [],
   "source": [
    "#df.findings.value_counts().sort_values(ascending=False)"
   ]
  },
  {
   "cell_type": "code",
   "execution_count": 36,
   "id": "1657dc13",
   "metadata": {},
   "outputs": [],
   "source": [
    "df_doc_drugs = df.groupby(df.endoscopist).mean()"
   ]
  },
  {
   "cell_type": "code",
   "execution_count": 37,
   "id": "c8bfc4bd",
   "metadata": {},
   "outputs": [
    {
     "data": {
      "text/html": [
       "<div>\n",
       "<style scoped>\n",
       "    .dataframe tbody tr th:only-of-type {\n",
       "        vertical-align: middle;\n",
       "    }\n",
       "\n",
       "    .dataframe tbody tr th {\n",
       "        vertical-align: top;\n",
       "    }\n",
       "\n",
       "    .dataframe thead th {\n",
       "        text-align: right;\n",
       "    }\n",
       "</style>\n",
       "<table border=\"1\" class=\"dataframe\">\n",
       "  <thead>\n",
       "    <tr style=\"text-align: right;\">\n",
       "      <th></th>\n",
       "      <th>medications_fentynl</th>\n",
       "      <th>midazolam</th>\n",
       "    </tr>\n",
       "    <tr>\n",
       "      <th>endoscopist</th>\n",
       "      <th></th>\n",
       "      <th></th>\n",
       "    </tr>\n",
       "  </thead>\n",
       "  <tbody>\n",
       "    <tr>\n",
       "      <th>Dr. Ali</th>\n",
       "      <td>81.447368</td>\n",
       "      <td>4.305263</td>\n",
       "    </tr>\n",
       "    <tr>\n",
       "      <th>Dr. Currier</th>\n",
       "      <td>76.171875</td>\n",
       "      <td>3.468750</td>\n",
       "    </tr>\n",
       "    <tr>\n",
       "      <th>Dr. Fears</th>\n",
       "      <td>72.474747</td>\n",
       "      <td>4.282828</td>\n",
       "    </tr>\n",
       "    <tr>\n",
       "      <th>Dr. Garnier</th>\n",
       "      <td>75.862069</td>\n",
       "      <td>4.241379</td>\n",
       "    </tr>\n",
       "    <tr>\n",
       "      <th>Dr. Presta</th>\n",
       "      <td>74.059140</td>\n",
       "      <td>3.913978</td>\n",
       "    </tr>\n",
       "  </tbody>\n",
       "</table>\n",
       "</div>"
      ],
      "text/plain": [
       "              medications_fentynl  midazolam\n",
       "endoscopist                                 \n",
       " Dr. Ali                81.447368   4.305263\n",
       " Dr. Currier            76.171875   3.468750\n",
       " Dr. Fears              72.474747   4.282828\n",
       " Dr. Garnier            75.862069   4.241379\n",
       " Dr. Presta             74.059140   3.913978"
      ]
     },
     "execution_count": 37,
     "metadata": {},
     "output_type": "execute_result"
    }
   ],
   "source": [
    "df_doc_drugs.head()"
   ]
  },
  {
   "cell_type": "code",
   "execution_count": 38,
   "id": "be602938",
   "metadata": {},
   "outputs": [],
   "source": [
    "df_indications = df.groupby(df.indications).mean()"
   ]
  },
  {
   "cell_type": "code",
   "execution_count": 39,
   "id": "970464f7",
   "metadata": {},
   "outputs": [
    {
     "data": {
      "text/html": [
       "<div>\n",
       "<style scoped>\n",
       "    .dataframe tbody tr th:only-of-type {\n",
       "        vertical-align: middle;\n",
       "    }\n",
       "\n",
       "    .dataframe tbody tr th {\n",
       "        vertical-align: top;\n",
       "    }\n",
       "\n",
       "    .dataframe thead th {\n",
       "        text-align: right;\n",
       "    }\n",
       "</style>\n",
       "<table border=\"1\" class=\"dataframe\">\n",
       "  <thead>\n",
       "    <tr style=\"text-align: right;\">\n",
       "      <th></th>\n",
       "      <th>medications_fentynl</th>\n",
       "      <th>midazolam</th>\n",
       "    </tr>\n",
       "    <tr>\n",
       "      <th>indications</th>\n",
       "      <th></th>\n",
       "      <th></th>\n",
       "    </tr>\n",
       "  </thead>\n",
       "  <tbody>\n",
       "    <tr>\n",
       "      <th>Abdominal Pain</th>\n",
       "      <td>76.562500</td>\n",
       "      <td>3.250000</td>\n",
       "    </tr>\n",
       "    <tr>\n",
       "      <th>Abdominal Pain .</th>\n",
       "      <td>81.250000</td>\n",
       "      <td>3.500000</td>\n",
       "    </tr>\n",
       "    <tr>\n",
       "      <th>Abdominal Pain Anaemia/Low Iron or Vitamins</th>\n",
       "      <td>64.583333</td>\n",
       "      <td>4.166667</td>\n",
       "    </tr>\n",
       "    <tr>\n",
       "      <th>Abdominal Pain Bloating</th>\n",
       "      <td>125.000000</td>\n",
       "      <td>5.333333</td>\n",
       "    </tr>\n",
       "    <tr>\n",
       "      <th>Abdominal Pain Dyspepsia</th>\n",
       "      <td>86.111111</td>\n",
       "      <td>4.222222</td>\n",
       "    </tr>\n",
       "  </tbody>\n",
       "</table>\n",
       "</div>"
      ],
      "text/plain": [
       "                                               medications_fentynl  midazolam\n",
       "indications                                                                  \n",
       " Abdominal Pain                                          76.562500   3.250000\n",
       " Abdominal Pain .                                        81.250000   3.500000\n",
       " Abdominal Pain Anaemia/Low Iron or Vitamins             64.583333   4.166667\n",
       " Abdominal Pain Bloating                                125.000000   5.333333\n",
       " Abdominal Pain Dyspepsia                                86.111111   4.222222"
      ]
     },
     "execution_count": 39,
     "metadata": {},
     "output_type": "execute_result"
    }
   ],
   "source": [
    "df_indications.head()"
   ]
  },
  {
   "cell_type": "code",
   "execution_count": 40,
   "id": "42c29d3b",
   "metadata": {},
   "outputs": [],
   "source": [
    "df_extent_exam = df.groupby(df.extent_of_exam).mean()"
   ]
  },
  {
   "cell_type": "code",
   "execution_count": 41,
   "id": "7526b805",
   "metadata": {},
   "outputs": [
    {
     "data": {
      "text/html": [
       "<div>\n",
       "<style scoped>\n",
       "    .dataframe tbody tr th:only-of-type {\n",
       "        vertical-align: middle;\n",
       "    }\n",
       "\n",
       "    .dataframe tbody tr th {\n",
       "        vertical-align: top;\n",
       "    }\n",
       "\n",
       "    .dataframe thead th {\n",
       "        text-align: right;\n",
       "    }\n",
       "</style>\n",
       "<table border=\"1\" class=\"dataframe\">\n",
       "  <thead>\n",
       "    <tr style=\"text-align: right;\">\n",
       "      <th></th>\n",
       "      <th>medications_fentynl</th>\n",
       "      <th>midazolam</th>\n",
       "    </tr>\n",
       "    <tr>\n",
       "      <th>extent_of_exam</th>\n",
       "      <th></th>\n",
       "      <th></th>\n",
       "    </tr>\n",
       "  </thead>\n",
       "  <tbody>\n",
       "    <tr>\n",
       "      <th>D1</th>\n",
       "      <td>77.904930</td>\n",
       "      <td>4.091549</td>\n",
       "    </tr>\n",
       "    <tr>\n",
       "      <th>D2</th>\n",
       "      <td>79.330709</td>\n",
       "      <td>4.165354</td>\n",
       "    </tr>\n",
       "    <tr>\n",
       "      <th>Failed intubation</th>\n",
       "      <td>76.597744</td>\n",
       "      <td>3.902256</td>\n",
       "    </tr>\n",
       "    <tr>\n",
       "      <th>GOJ</th>\n",
       "      <td>70.437956</td>\n",
       "      <td>3.817518</td>\n",
       "    </tr>\n",
       "    <tr>\n",
       "      <th>Oesophagus</th>\n",
       "      <td>75.168919</td>\n",
       "      <td>3.979730</td>\n",
       "    </tr>\n",
       "  </tbody>\n",
       "</table>\n",
       "</div>"
      ],
      "text/plain": [
       "                       medications_fentynl  midazolam\n",
       "extent_of_exam                                       \n",
       "  D1                             77.904930   4.091549\n",
       "  D2                             79.330709   4.165354\n",
       "  Failed intubation              76.597744   3.902256\n",
       "  GOJ                            70.437956   3.817518\n",
       "  Oesophagus                     75.168919   3.979730"
      ]
     },
     "execution_count": 41,
     "metadata": {},
     "output_type": "execute_result"
    }
   ],
   "source": [
    "df_extent_exam.head()"
   ]
  },
  {
   "cell_type": "code",
   "execution_count": 42,
   "id": "0ca21a23",
   "metadata": {},
   "outputs": [
    {
     "data": {
      "text/plain": [
       "'Normal gastroscopy to the duodenum.     The patient should be encouraged to maintain a healthy weight to reduce the risk of developing more polyps.'"
      ]
     },
     "execution_count": 42,
     "metadata": {},
     "output_type": "execute_result"
    }
   ],
   "source": [
    "df.findings[800]"
   ]
  },
  {
   "cell_type": "code",
   "execution_count": null,
   "id": "ded06065",
   "metadata": {},
   "outputs": [],
   "source": []
  }
 ],
 "metadata": {
  "kernelspec": {
   "display_name": "Python 3 (ipykernel)",
   "language": "python",
   "name": "python3"
  },
  "language_info": {
   "codemirror_mode": {
    "name": "ipython",
    "version": 3
   },
   "file_extension": ".py",
   "mimetype": "text/x-python",
   "name": "python",
   "nbconvert_exporter": "python",
   "pygments_lexer": "ipython3",
   "version": "3.10.6"
  },
  "toc": {
   "base_numbering": 1,
   "nav_menu": {},
   "number_sections": true,
   "sideBar": true,
   "skip_h1_title": false,
   "title_cell": "Table of Contents",
   "title_sidebar": "Contents",
   "toc_cell": false,
   "toc_position": {},
   "toc_section_display": true,
   "toc_window_display": false
  },
  "varInspector": {
   "cols": {
    "lenName": 16,
    "lenType": 16,
    "lenVar": 40
   },
   "kernels_config": {
    "python": {
     "delete_cmd_postfix": "",
     "delete_cmd_prefix": "del ",
     "library": "var_list.py",
     "varRefreshCmd": "print(var_dic_list())"
    },
    "r": {
     "delete_cmd_postfix": ") ",
     "delete_cmd_prefix": "rm(",
     "library": "var_list.r",
     "varRefreshCmd": "cat(var_dic_list()) "
    }
   },
   "types_to_exclude": [
    "module",
    "function",
    "builtin_function_or_method",
    "instance",
    "_Feature"
   ],
   "window_display": false
  }
 },
 "nbformat": 4,
 "nbformat_minor": 5
}
