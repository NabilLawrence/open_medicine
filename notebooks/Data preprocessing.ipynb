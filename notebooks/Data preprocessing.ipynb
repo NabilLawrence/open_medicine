{
 "cells": [
  {
   "cell_type": "code",
   "execution_count": 1,
   "id": "d6d9bf0a",
   "metadata": {},
   "outputs": [],
   "source": [
    "import numpy as np\n",
    "import pandas as pd\n",
    "import re\n",
    "\n",
    "import matplotlib.pyplot as plt\n",
    "\n",
    "from sklearn.svm import SVC\n",
    "from sklearn.preprocessing import StandardScaler\n",
    "from sklearn.preprocessing import MinMaxScaler\n",
    "from sklearn.datasets import make_classification\n",
    "from sklearn.model_selection import train_test_split\n",
    "from sklearn.pipeline import Pipeline\n",
    "from sklearn.pipeline import make_pipeline\n",
    "from sklearn.preprocessing import OneHotEncoder\n",
    "from sklearn.impute import SimpleImputer, KNNImputer"
   ]
  },
  {
   "cell_type": "code",
   "execution_count": 2,
   "id": "de79ab3e",
   "metadata": {},
   "outputs": [],
   "source": [
    "df = pd.read_csv(\"ColonInColumns.csv\")"
   ]
  },
  {
   "cell_type": "code",
   "execution_count": 3,
   "id": "227603bb",
   "metadata": {},
   "outputs": [
    {
     "data": {
      "text/plain": [
       "0       Hospital: Random NHS Foundation Trust\\nHospita...\n",
       "1       Hospital: Random NHS Foundation Trust\\nHospita...\n",
       "2       Hospital: Random NHS Foundation Trust\\r\\nHospi...\n",
       "3       Hospital: Random NHS Foundation Trust\\r\\nHospi...\n",
       "4       Hospital: Random NHS Foundation Trust\\r\\nHospi...\n",
       "                              ...                        \n",
       "2100    Hospital: Random NHS Foundation Trust\\r\\nHospi...\n",
       "2101    Hospital: Random NHS Foundation Trust\\r\\nHospi...\n",
       "2102    Hospital: Random NHS Foundation Trust\\r\\nHospi...\n",
       "2103    Hospital: Random NHS Foundation Trust\\r\\nHospi...\n",
       "2104    Hospital: Random NHS Foundation Trust\\r\\nHospi...\n",
       "Name: text, Length: 2105, dtype: object"
      ]
     },
     "execution_count": 3,
     "metadata": {},
     "output_type": "execute_result"
    }
   ],
   "source": [
    "df.text"
   ]
  },
  {
   "cell_type": "code",
   "execution_count": 4,
   "id": "aad69230",
   "metadata": {},
   "outputs": [
    {
     "data": {
      "text/plain": [
       "'Hospital: Random NHS Foundation Trust\\nHospital Number: H2890235\\nPatient Name:  al-Bilal, Widdad\\nGeneral Practitioner: Dr. Mondragon, Amber\\nDate of procedure:  2002-11-03\\nEndoscopist: Dr. Monroe, Danjai\\nSecond endoscopist: Dr. Hernandez, Valerie\\nMedications: Fentanyl  12.5mcg\\nMidazolam  5mg\\nInstrument:  FC7\\nExtent of Exam:  Descending Colon\\nIndications: IBD Surveillance\\nProcedure Performed: Colonoscopy\\nFindings:  He reports taking a week of ibuprofen for a tooth infection stopping them last tuesday.,SIGMOID : Moderate diverticulsosis.,Tortuous sigmoid colon.,Biopsies taken from TI adn R&L colon.,Otherwise normal.,There were 2 subepithelial lipomas in the caecum and ascending colon .,1 aphthous ulcer only, not CD type, in ileum.,Multiple hyperplastic appearing polyps at rectosigmoid largest 6mm - one representative polyp taken.,Normal colonic mucosa to the caecum.\\n'"
      ]
     },
     "execution_count": 4,
     "metadata": {},
     "output_type": "execute_result"
    }
   ],
   "source": [
    "\n",
    "df.text[0]\n"
   ]
  },
  {
   "cell_type": "code",
   "execution_count": 5,
   "id": "d2930b8e",
   "metadata": {},
   "outputs": [],
   "source": [
    "def regex_hosp(string):\n",
    "    hospital_reg = r\"\\.*Hospital:.*\"\n",
    "    return re.findall(hospital_reg, string)[0]\n",
    "df[\"foundation_trust\"] = df['text'].apply(regex_hosp)"
   ]
  },
  {
   "cell_type": "code",
   "execution_count": 6,
   "id": "67f199aa",
   "metadata": {},
   "outputs": [],
   "source": [
    "def regex_hosp_num(string):\n",
    "    hospital_reg = r\"\\.*Hospital Number.*\"\n",
    "    return re.findall(hospital_reg, string)[0]\n",
    "df[\"hospital_num\"] = df['text'].apply(regex_hosp_num)"
   ]
  },
  {
   "cell_type": "code",
   "execution_count": 7,
   "id": "47266dcf",
   "metadata": {},
   "outputs": [],
   "source": [
    "def regex_patient_name(string):\n",
    "    hospital_reg = r\"\\.*Patient Name:.*\"\n",
    "    line = re.findall(hospital_reg, string)[0]\n",
    "    line_string =  line.split(\":\")[1]\n",
    "    retrn_string = line_string.strip()\n",
    "    if retrn_string[-1:] == \"\\r\":\n",
    "        return retrn_string[:-1]\n",
    "    else:\n",
    "        return retrn_string\n",
    "df[\"patient_name\"] = df['text'].apply(regex_patient_name)"
   ]
  },
  {
   "cell_type": "code",
   "execution_count": 8,
   "id": "13b9e88a",
   "metadata": {},
   "outputs": [],
   "source": [
    "def regex_GP(string):\n",
    "    hospital_reg = r\"\\.*General Practitioner:.*\"\n",
    "    retrn_string = re.findall(hospital_reg, string)[0]\n",
    "    if retrn_string[-1:] == \"\\r\":\n",
    "        return retrn_string[:-1]\n",
    "    else:\n",
    "        return retrn_string\n",
    "df[\"gp\"] = df['text'].apply(regex_GP)"
   ]
  },
  {
   "cell_type": "code",
   "execution_count": 9,
   "id": "4805c491",
   "metadata": {},
   "outputs": [],
   "source": [
    "def regex_procedure_date(string):\n",
    "    hospital_reg = r\"\\.*Date of procedure:.*\"\n",
    "    line =  re.findall(hospital_reg, string)[0]\n",
    "    retrn_string =  line.split(\":\")[1]\n",
    "    if retrn_string[-1:] == \"\\r\":\n",
    "        return retrn_string[:-1]\n",
    "    else:\n",
    "        return retrn_string\n",
    "df[\"procedure_date\"] = df['text'].apply(regex_procedure_date)"
   ]
  },
  {
   "cell_type": "code",
   "execution_count": 10,
   "id": "b621ba18",
   "metadata": {},
   "outputs": [],
   "source": [
    "def regex_endoscopist(string):\n",
    "    hospital_reg = r\"\\.*Endoscopist:.*\"\n",
    "    retrn_string = re.findall(hospital_reg, string)[0]\n",
    "    if retrn_string[-1:] == \"\\r\":\n",
    "        return retrn_string[:-1]\n",
    "    else:\n",
    "        return retrn_string\n",
    "df[\"endoscopist\"] = df['text'].apply(regex_endoscopist)"
   ]
  },
  {
   "cell_type": "code",
   "execution_count": 11,
   "id": "9f33700e",
   "metadata": {},
   "outputs": [],
   "source": [
    "def regex_2nd_endoscopist(string):\n",
    "    hospital_reg = r\"\\.*Second endoscopist:.*\"\n",
    "    retrn_string= re.findall(hospital_reg, string)[0]\n",
    "    if retrn_string[-1:] == \"\\r\":\n",
    "        return retrn_string\n",
    "    else:\n",
    "        return retrn_string\n",
    "df[\"second_endoscopist\"] = df['text'].apply(regex_2nd_endoscopist)"
   ]
  },
  {
   "cell_type": "code",
   "execution_count": 12,
   "id": "64aea187",
   "metadata": {},
   "outputs": [],
   "source": [
    "def regex_medication(string):\n",
    "    hospital_reg = r\"\\d*.\\dmcg\"\n",
    "    retrn_string= re.findall(hospital_reg, string)[0]\n",
    "    if retrn_string[-1:] == \"\\r\":\n",
    "        return float(retrn_string[:-4])\n",
    "    else:\n",
    "        return float(retrn_string[:-3])\n",
    "df[\"medications_fentynl\"] = df['text'].apply(regex_medication)"
   ]
  },
  {
   "cell_type": "code",
   "execution_count": 13,
   "id": "3f2b5ebc",
   "metadata": {},
   "outputs": [],
   "source": [
    "def regex_midazolam(string):\n",
    "    hospital_reg = r\"\\.*Midazolam.*\"\n",
    "    line = re.findall(hospital_reg, string)[0]\n",
    "    retrn_string =  line.split()[1]\n",
    "    if retrn_string[-1:] == \"\\r\":\n",
    "        return int(retrn_string[:-3])\n",
    "    else:\n",
    "        return int(retrn_string[:-2])\n",
    "df[\"midazolam\"] = df['text'].apply(regex_midazolam)"
   ]
  },
  {
   "cell_type": "code",
   "execution_count": 14,
   "id": "9144a9df",
   "metadata": {},
   "outputs": [],
   "source": [
    "def regex_instrument(string):\n",
    "    hospital_reg = r\"\\.*Instrument.*\"\n",
    "    line = re.findall(hospital_reg, string)[0]\n",
    "    retrn_string = line.split(\":\")[1]\n",
    "    if retrn_string[-1:] == \"\\r\":\n",
    "        return retrn_string[:-1]\n",
    "    else:\n",
    "        return retrn_string\n",
    "df[\"instrument\"] = df['text'].apply(regex_instrument)"
   ]
  },
  {
   "cell_type": "code",
   "execution_count": 15,
   "id": "6f80fb98",
   "metadata": {},
   "outputs": [],
   "source": [
    "def regex_extent(string):\n",
    "    hospital_reg = r\"\\.*Extent of Exam:.*\"\n",
    "    line = re.findall(hospital_reg, string)[0]\n",
    "    retrn_string = line.split(\":\")[1]\n",
    "    if retrn_string[-1:] == \"\\r\":\n",
    "        return retrn_string[:-1]\n",
    "    else:\n",
    "        return retrn_string\n",
    "df[\"extent_of_exam\"] = df['text'].apply(regex_extent)"
   ]
  },
  {
   "cell_type": "code",
   "execution_count": 16,
   "id": "5ecf5b28",
   "metadata": {},
   "outputs": [],
   "source": [
    "def regex_indications(string):\n",
    "    hospital_reg = r\"\\.*Indications:.*\"\n",
    "    line = re.findall(hospital_reg, string)[0]\n",
    "    retrn_string= line.split(\":\")[1]\n",
    "    if retrn_string[-1:] == \"\\r\":\n",
    "        return retrn_string[:-1]\n",
    "    else:\n",
    "        return retrn_string\n",
    "df[\"indications\"] = df['text'].apply(regex_indications)"
   ]
  },
  {
   "cell_type": "code",
   "execution_count": 17,
   "id": "df4ab1c2",
   "metadata": {},
   "outputs": [],
   "source": [
    "def regex_procedure(string):\n",
    "    hospital_reg = r\"\\.*Procedure Performed:.*\"\n",
    "    line = re.findall(hospital_reg, string)[0]\n",
    "    retrn_string = line.split(\":\")[1]\n",
    "#     return retrn_string[-1:]\n",
    "    if retrn_string[-1:] == \"\\r\":\n",
    "        return retrn_string[:-1]\n",
    "    else:\n",
    "        return retrn_string\n",
    "     \n"
   ]
  },
  {
   "cell_type": "code",
   "execution_count": 18,
   "id": "2566ee45",
   "metadata": {},
   "outputs": [
    {
     "data": {
      "text/plain": [
       "' Colonoscopy'"
      ]
     },
     "execution_count": 18,
     "metadata": {},
     "output_type": "execute_result"
    }
   ],
   "source": [
    "regex_procedure(df.text[3])"
   ]
  },
  {
   "cell_type": "code",
   "execution_count": 19,
   "id": "16615701",
   "metadata": {},
   "outputs": [],
   "source": [
    "df[\"procedure_performed\"] = df['text'].apply(regex_procedure)"
   ]
  },
  {
   "cell_type": "code",
   "execution_count": 20,
   "id": "facc00ad",
   "metadata": {},
   "outputs": [],
   "source": [
    "def regex_findings(string):\n",
    "    hospital_reg = r\"\\.*Findings:.*\"\n",
    "    line = re.findall(hospital_reg, string)[0][10:]\n",
    "    return line\n",
    "df[\"findings\"] = df['text'].apply(regex_findings)"
   ]
  },
  {
   "cell_type": "code",
   "execution_count": null,
   "id": "13d10cc1",
   "metadata": {},
   "outputs": [],
   "source": []
  },
  {
   "cell_type": "code",
   "execution_count": 21,
   "id": "9ba30b61",
   "metadata": {},
   "outputs": [
    {
     "data": {
      "text/plain": [
       "' Colonoscopy'"
      ]
     },
     "execution_count": 21,
     "metadata": {},
     "output_type": "execute_result"
    }
   ],
   "source": [
    "regex_procedure(df.text[3])"
   ]
  },
  {
   "cell_type": "code",
   "execution_count": 22,
   "id": "de675645",
   "metadata": {},
   "outputs": [
    {
     "data": {
      "text/plain": [
       "(2105, 16)"
      ]
     },
     "execution_count": 22,
     "metadata": {},
     "output_type": "execute_result"
    }
   ],
   "source": [
    "df.shape"
   ]
  },
  {
   "cell_type": "code",
   "execution_count": 23,
   "id": "27a94627",
   "metadata": {},
   "outputs": [
    {
     "data": {
      "text/html": [
       "<div>\n",
       "<style scoped>\n",
       "    .dataframe tbody tr th:only-of-type {\n",
       "        vertical-align: middle;\n",
       "    }\n",
       "\n",
       "    .dataframe tbody tr th {\n",
       "        vertical-align: top;\n",
       "    }\n",
       "\n",
       "    .dataframe thead th {\n",
       "        text-align: right;\n",
       "    }\n",
       "</style>\n",
       "<table border=\"1\" class=\"dataframe\">\n",
       "  <thead>\n",
       "    <tr style=\"text-align: right;\">\n",
       "      <th></th>\n",
       "      <th>Num</th>\n",
       "      <th>text</th>\n",
       "      <th>foundation_trust</th>\n",
       "      <th>hospital_num</th>\n",
       "      <th>patient_name</th>\n",
       "      <th>gp</th>\n",
       "      <th>procedure_date</th>\n",
       "      <th>endoscopist</th>\n",
       "      <th>second_endoscopist</th>\n",
       "      <th>medications_fentynl</th>\n",
       "      <th>midazolam</th>\n",
       "      <th>instrument</th>\n",
       "      <th>extent_of_exam</th>\n",
       "      <th>indications</th>\n",
       "      <th>procedure_performed</th>\n",
       "      <th>findings</th>\n",
       "    </tr>\n",
       "  </thead>\n",
       "  <tbody>\n",
       "    <tr>\n",
       "      <th>0</th>\n",
       "      <td>1</td>\n",
       "      <td>Hospital: Random NHS Foundation Trust\\nHospita...</td>\n",
       "      <td>Hospital: Random NHS Foundation Trust</td>\n",
       "      <td>Hospital Number: H2890235</td>\n",
       "      <td>al-Bilal, Widdad</td>\n",
       "      <td>General Practitioner: Dr. Mondragon, Amber</td>\n",
       "      <td>2002-11-03</td>\n",
       "      <td>Endoscopist: Dr. Monroe, Danjai</td>\n",
       "      <td>Second endoscopist: Dr. Hernandez, Valerie</td>\n",
       "      <td>12.5</td>\n",
       "      <td>5</td>\n",
       "      <td>FC7</td>\n",
       "      <td>Descending Colon</td>\n",
       "      <td>IBD Surveillance</td>\n",
       "      <td>Colonoscopy</td>\n",
       "      <td>He reports taking a week of ibuprofen for a t...</td>\n",
       "    </tr>\n",
       "    <tr>\n",
       "      <th>1</th>\n",
       "      <td>2</td>\n",
       "      <td>Hospital: Random NHS Foundation Trust\\nHospita...</td>\n",
       "      <td>Hospital: Random NHS Foundation Trust</td>\n",
       "      <td>Hospital Number: U3931964</td>\n",
       "      <td>Martin, Kimberlyn</td>\n",
       "      <td>General Practitioner: Dr. Hasenack, Kyilyn</td>\n",
       "      <td>2009-04-19</td>\n",
       "      <td>Endoscopist: Dr. Hasling, Emily</td>\n",
       "      <td>Second endoscopist: Dr. Guillory, Ashley</td>\n",
       "      <td>25.0</td>\n",
       "      <td>5</td>\n",
       "      <td>FC1</td>\n",
       "      <td>Descending Colon</td>\n",
       "      <td>Fe deficiency anaemia</td>\n",
       "      <td>Colonoscopy</td>\n",
       "      <td>Mild erythema in rectum only.,ASCENDING COLON...</td>\n",
       "    </tr>\n",
       "    <tr>\n",
       "      <th>2</th>\n",
       "      <td>3</td>\n",
       "      <td>Hospital: Random NHS Foundation Trust\\r\\nHospi...</td>\n",
       "      <td>Hospital: Random NHS Foundation Trust\\r</td>\n",
       "      <td>Hospital Number: L5789714\\r</td>\n",
       "      <td>Chaney, Alexis</td>\n",
       "      <td>General Practitioner: Dr. Schlekeway, Larissa</td>\n",
       "      <td>2009-12-22</td>\n",
       "      <td>Endoscopist: Dr. Phillips, Harlie</td>\n",
       "      <td>Second endoscopist: Dr. Fultz, Courtney\\r</td>\n",
       "      <td>50.0</td>\n",
       "      <td>3</td>\n",
       "      <td>FC3</td>\n",
       "      <td>Recum</td>\n",
       "      <td>Chronic abdominal pain</td>\n",
       "      <td>Colonoscopy</td>\n",
       "      <td>solid and liquid stool throughout limitingcol...</td>\n",
       "    </tr>\n",
       "    <tr>\n",
       "      <th>3</th>\n",
       "      <td>4</td>\n",
       "      <td>Hospital: Random NHS Foundation Trust\\r\\nHospi...</td>\n",
       "      <td>Hospital: Random NHS Foundation Trust\\r</td>\n",
       "      <td>Hospital Number: S4873283\\r</td>\n",
       "      <td>Gozeh, Alexandra</td>\n",
       "      <td>General Practitioner: Dr. Allen, Jasmine</td>\n",
       "      <td>2001-11-25</td>\n",
       "      <td>Endoscopist: Dr. al-Saade, Waajida</td>\n",
       "      <td>Second endoscopist: Dr. Fultz, Courtney\\r</td>\n",
       "      <td>50.0</td>\n",
       "      <td>3</td>\n",
       "      <td>FC3</td>\n",
       "      <td>Recum</td>\n",
       "      <td>Planned polypectomy</td>\n",
       "      <td>Colonoscopy</td>\n",
       "      <td>Difficult procedure due to looping and patien...</td>\n",
       "    </tr>\n",
       "    <tr>\n",
       "      <th>4</th>\n",
       "      <td>5</td>\n",
       "      <td>Hospital: Random NHS Foundation Trust\\r\\nHospi...</td>\n",
       "      <td>Hospital: Random NHS Foundation Trust\\r</td>\n",
       "      <td>Hospital Number: D6009686\\r</td>\n",
       "      <td>Leon, Nataya</td>\n",
       "      <td>General Practitioner: Dr. Cotie, Jasmine</td>\n",
       "      <td>2011-11-25</td>\n",
       "      <td>Endoscopist: Dr. Confer, Mouneek</td>\n",
       "      <td>Second endoscopist: Dr. Guillory, Ashley\\r</td>\n",
       "      <td>150.0</td>\n",
       "      <td>2</td>\n",
       "      <td>FC4</td>\n",
       "      <td>Descending Colon</td>\n",
       "      <td>Fe deficiency anaemia</td>\n",
       "      <td>Colonoscopy</td>\n",
       "      <td>Random biopsies taken.,Very limited views.,No...</td>\n",
       "    </tr>\n",
       "  </tbody>\n",
       "</table>\n",
       "</div>"
      ],
      "text/plain": [
       "   Num                                               text  \\\n",
       "0    1  Hospital: Random NHS Foundation Trust\\nHospita...   \n",
       "1    2  Hospital: Random NHS Foundation Trust\\nHospita...   \n",
       "2    3  Hospital: Random NHS Foundation Trust\\r\\nHospi...   \n",
       "3    4  Hospital: Random NHS Foundation Trust\\r\\nHospi...   \n",
       "4    5  Hospital: Random NHS Foundation Trust\\r\\nHospi...   \n",
       "\n",
       "                          foundation_trust                 hospital_num  \\\n",
       "0    Hospital: Random NHS Foundation Trust    Hospital Number: H2890235   \n",
       "1    Hospital: Random NHS Foundation Trust    Hospital Number: U3931964   \n",
       "2  Hospital: Random NHS Foundation Trust\\r  Hospital Number: L5789714\\r   \n",
       "3  Hospital: Random NHS Foundation Trust\\r  Hospital Number: S4873283\\r   \n",
       "4  Hospital: Random NHS Foundation Trust\\r  Hospital Number: D6009686\\r   \n",
       "\n",
       "        patient_name                                             gp  \\\n",
       "0   al-Bilal, Widdad     General Practitioner: Dr. Mondragon, Amber   \n",
       "1  Martin, Kimberlyn     General Practitioner: Dr. Hasenack, Kyilyn   \n",
       "2     Chaney, Alexis  General Practitioner: Dr. Schlekeway, Larissa   \n",
       "3   Gozeh, Alexandra       General Practitioner: Dr. Allen, Jasmine   \n",
       "4       Leon, Nataya       General Practitioner: Dr. Cotie, Jasmine   \n",
       "\n",
       "  procedure_date                         endoscopist  \\\n",
       "0     2002-11-03     Endoscopist: Dr. Monroe, Danjai   \n",
       "1     2009-04-19     Endoscopist: Dr. Hasling, Emily   \n",
       "2     2009-12-22   Endoscopist: Dr. Phillips, Harlie   \n",
       "3     2001-11-25  Endoscopist: Dr. al-Saade, Waajida   \n",
       "4     2011-11-25    Endoscopist: Dr. Confer, Mouneek   \n",
       "\n",
       "                           second_endoscopist  medications_fentynl  midazolam  \\\n",
       "0  Second endoscopist: Dr. Hernandez, Valerie                 12.5          5   \n",
       "1    Second endoscopist: Dr. Guillory, Ashley                 25.0          5   \n",
       "2   Second endoscopist: Dr. Fultz, Courtney\\r                 50.0          3   \n",
       "3   Second endoscopist: Dr. Fultz, Courtney\\r                 50.0          3   \n",
       "4  Second endoscopist: Dr. Guillory, Ashley\\r                150.0          2   \n",
       "\n",
       "  instrument      extent_of_exam              indications procedure_performed  \\\n",
       "0        FC7    Descending Colon         IBD Surveillance         Colonoscopy   \n",
       "1        FC1    Descending Colon    Fe deficiency anaemia         Colonoscopy   \n",
       "2        FC3               Recum   Chronic abdominal pain         Colonoscopy   \n",
       "3        FC3               Recum      Planned polypectomy         Colonoscopy   \n",
       "4        FC4    Descending Colon    Fe deficiency anaemia         Colonoscopy   \n",
       "\n",
       "                                            findings  \n",
       "0   He reports taking a week of ibuprofen for a t...  \n",
       "1   Mild erythema in rectum only.,ASCENDING COLON...  \n",
       "2   solid and liquid stool throughout limitingcol...  \n",
       "3   Difficult procedure due to looping and patien...  \n",
       "4   Random biopsies taken.,Very limited views.,No...  "
      ]
     },
     "execution_count": 23,
     "metadata": {},
     "output_type": "execute_result"
    }
   ],
   "source": [
    "df.head()"
   ]
  },
  {
   "cell_type": "code",
   "execution_count": 24,
   "id": "fdbe2fe5",
   "metadata": {},
   "outputs": [],
   "source": [
    "## having a look at value counts ##"
   ]
  },
  {
   "cell_type": "code",
   "execution_count": 25,
   "id": "bca308d3",
   "metadata": {},
   "outputs": [
    {
     "data": {
      "text/plain": [
       "125.0    344\n",
       "50.0     322\n",
       "100.0    311\n",
       "150.0    293\n",
       "75.0     285\n",
       "12.5     278\n",
       "25.0     272\n",
       "Name: medications_fentynl, dtype: int64"
      ]
     },
     "execution_count": 25,
     "metadata": {},
     "output_type": "execute_result"
    }
   ],
   "source": [
    "df.medications_fentynl.value_counts()"
   ]
  },
  {
   "cell_type": "code",
   "execution_count": 26,
   "id": "de332ca5",
   "metadata": {},
   "outputs": [
    {
     "data": {
      "text/plain": [
       "7    335\n",
       "1    315\n",
       "2    310\n",
       "4    298\n",
       "3    297\n",
       "5    282\n",
       "6    268\n",
       "Name: midazolam, dtype: int64"
      ]
     },
     "execution_count": 26,
     "metadata": {},
     "output_type": "execute_result"
    }
   ],
   "source": [
    "df.midazolam.value_counts()"
   ]
  },
  {
   "cell_type": "code",
   "execution_count": 27,
   "id": "e1d87d0e",
   "metadata": {},
   "outputs": [
    {
     "data": {
      "text/plain": [
       "  Recum                315\n",
       "  Sigmoid              313\n",
       "  Transverse Colon     311\n",
       "  Ascending Colon      296\n",
       "  Descending Colon     295\n",
       "  Caecum               294\n",
       "  Failed intubation    281\n",
       "Name: extent_of_exam, dtype: int64"
      ]
     },
     "execution_count": 27,
     "metadata": {},
     "output_type": "execute_result"
    }
   ],
   "source": [
    "df.extent_of_exam.value_counts()"
   ]
  },
  {
   "cell_type": "code",
   "execution_count": 28,
   "id": "b1f38bf3",
   "metadata": {},
   "outputs": [
    {
     "data": {
      "text/plain": [
       " Colonoscopy    2105\n",
       "Name: procedure_performed, dtype: int64"
      ]
     },
     "execution_count": 28,
     "metadata": {},
     "output_type": "execute_result"
    }
   ],
   "source": [
    "df.procedure_performed.value_counts()"
   ]
  },
  {
   "cell_type": "code",
   "execution_count": 29,
   "id": "9b872520",
   "metadata": {},
   "outputs": [
    {
     "data": {
      "text/plain": [
       " Family History CRC         217\n",
       " Fe deficiency anaemia      204\n",
       " Planned polypectomy        184\n",
       " Diarrrhoea                 183\n",
       " Chronic abdominal pain     182\n",
       " Therapeutic- Dilatation    170\n",
       " PR Bleeding                167\n",
       " Weight loss                163\n",
       " Other-                     163\n",
       " IBD Surveillance           158\n",
       " Nausea and/or Vomiting     158\n",
       " Abnormal Imaging           156\n",
       "Name: indications, dtype: int64"
      ]
     },
     "execution_count": 29,
     "metadata": {},
     "output_type": "execute_result"
    }
   ],
   "source": [
    "df.indications.value_counts()"
   ]
  },
  {
   "cell_type": "code",
   "execution_count": 30,
   "id": "9d076e04",
   "metadata": {},
   "outputs": [
    {
     "data": {
      "text/plain": [
       "Endoscopist: Dr. Phillips, Harlie          235\n",
       "Endoscopist: Dr. Monroe, Danjai            232\n",
       "Endoscopist: Dr. Hasling, Emily            220\n",
       "Endoscopist: Dr. Rahat, Janisa             218\n",
       "Endoscopist: Dr. al-Saade, Waajida         217\n",
       "Endoscopist: Dr. Confer, Mouneek           217\n",
       "Endoscopist: Dr. al-Huda, Ummu Kulthoom    204\n",
       "Endoscopist: Dr. Steinbach, Lindsey        191\n",
       "Endoscopist: Dr. Gebregzabheir, Kiara      190\n",
       "Endoscopist: Dr. Rubio, Jessica            181\n",
       "Name: endoscopist, dtype: int64"
      ]
     },
     "execution_count": 30,
     "metadata": {},
     "output_type": "execute_result"
    }
   ],
   "source": [
    "df.endoscopist.value_counts()"
   ]
  },
  {
   "cell_type": "code",
   "execution_count": 31,
   "id": "ea4a5ad2",
   "metadata": {},
   "outputs": [
    {
     "data": {
      "text/plain": [
       "Muniz, Domonique        3\n",
       "Tapia, Randi            3\n",
       "Patterson, Alyssa       2\n",
       "Gay, Jamya              2\n",
       "al-Daoud, Afeefa        2\n",
       "                       ..\n",
       "Valles Torres, Nubia    1\n",
       "Lee, Y Nhi              1\n",
       "Weiner, Brooklynn       1\n",
       "Horsman, Holly          1\n",
       "el-Noor, Mahdhoodha     1\n",
       "Name: patient_name, Length: 1999, dtype: int64"
      ]
     },
     "execution_count": 31,
     "metadata": {},
     "output_type": "execute_result"
    }
   ],
   "source": [
    "df.patient_name.value_counts()"
   ]
  },
  {
   "cell_type": "code",
   "execution_count": 32,
   "id": "95de6f2b",
   "metadata": {},
   "outputs": [
    {
     "data": {
      "text/html": [
       "<div>\n",
       "<style scoped>\n",
       "    .dataframe tbody tr th:only-of-type {\n",
       "        vertical-align: middle;\n",
       "    }\n",
       "\n",
       "    .dataframe tbody tr th {\n",
       "        vertical-align: top;\n",
       "    }\n",
       "\n",
       "    .dataframe thead th {\n",
       "        text-align: right;\n",
       "    }\n",
       "</style>\n",
       "<table border=\"1\" class=\"dataframe\">\n",
       "  <thead>\n",
       "    <tr style=\"text-align: right;\">\n",
       "      <th></th>\n",
       "      <th>Num</th>\n",
       "      <th>text</th>\n",
       "      <th>foundation_trust</th>\n",
       "      <th>hospital_num</th>\n",
       "      <th>patient_name</th>\n",
       "      <th>gp</th>\n",
       "      <th>procedure_date</th>\n",
       "      <th>endoscopist</th>\n",
       "      <th>second_endoscopist</th>\n",
       "      <th>medications_fentynl</th>\n",
       "      <th>midazolam</th>\n",
       "      <th>instrument</th>\n",
       "      <th>extent_of_exam</th>\n",
       "      <th>indications</th>\n",
       "      <th>procedure_performed</th>\n",
       "      <th>findings</th>\n",
       "    </tr>\n",
       "  </thead>\n",
       "  <tbody>\n",
       "    <tr>\n",
       "      <th>430</th>\n",
       "      <td>431</td>\n",
       "      <td>Hospital: Random NHS Foundation Trust\\r\\nHospi...</td>\n",
       "      <td>Hospital: Random NHS Foundation Trust\\r</td>\n",
       "      <td>Hospital Number: T1640766\\r</td>\n",
       "      <td>Muniz, Domonique</td>\n",
       "      <td>General Practitioner: Dr. al-Raad, Shameema</td>\n",
       "      <td>2015-05-02</td>\n",
       "      <td>Endoscopist: Dr. Gebregzabheir, Kiara</td>\n",
       "      <td>Second endoscopist: Dr. Orozco, Amber\\r</td>\n",
       "      <td>100.0</td>\n",
       "      <td>6</td>\n",
       "      <td>FC6</td>\n",
       "      <td>Sigmoid</td>\n",
       "      <td>Nausea and/or Vomiting</td>\n",
       "      <td>Colonoscopy</td>\n",
       "      <td>Procedure limited to the sigmoid due to poor ...</td>\n",
       "    </tr>\n",
       "    <tr>\n",
       "      <th>431</th>\n",
       "      <td>432</td>\n",
       "      <td>Hospital: Random NHS Foundation Trust\\r\\nHospi...</td>\n",
       "      <td>Hospital: Random NHS Foundation Trust\\r</td>\n",
       "      <td>Hospital Number: T1640766\\r</td>\n",
       "      <td>Muniz, Domonique</td>\n",
       "      <td>General Practitioner: Dr. al-Raad, Shameema</td>\n",
       "      <td>2015-05-02</td>\n",
       "      <td>Endoscopist: Dr. Gebregzabheir, Kiara</td>\n",
       "      <td>Second endoscopist: Dr. Orozco, Amber\\r</td>\n",
       "      <td>100.0</td>\n",
       "      <td>6</td>\n",
       "      <td>FC6</td>\n",
       "      <td>Sigmoid</td>\n",
       "      <td>Nausea and/or Vomiting</td>\n",
       "      <td>Colonoscopy</td>\n",
       "      <td>Procedure limited to the sigmoid due to poor ...</td>\n",
       "    </tr>\n",
       "    <tr>\n",
       "      <th>432</th>\n",
       "      <td>433</td>\n",
       "      <td>Hospital: Random NHS Foundation Trust\\r\\nHospi...</td>\n",
       "      <td>Hospital: Random NHS Foundation Trust\\r</td>\n",
       "      <td>Hospital Number: T1640766\\r</td>\n",
       "      <td>Muniz, Domonique</td>\n",
       "      <td>General Practitioner: Dr. al-Raad, Shameema</td>\n",
       "      <td>2015-05-02</td>\n",
       "      <td>Endoscopist: Dr. Gebregzabheir, Kiara</td>\n",
       "      <td>Second endoscopist: Dr. Orozco, Amber\\r</td>\n",
       "      <td>100.0</td>\n",
       "      <td>6</td>\n",
       "      <td>FC6</td>\n",
       "      <td>Sigmoid</td>\n",
       "      <td>Nausea and/or Vomiting</td>\n",
       "      <td>Colonoscopy</td>\n",
       "      <td>Procedure limited to the sigmoid due to poor ...</td>\n",
       "    </tr>\n",
       "  </tbody>\n",
       "</table>\n",
       "</div>"
      ],
      "text/plain": [
       "     Num                                               text  \\\n",
       "430  431  Hospital: Random NHS Foundation Trust\\r\\nHospi...   \n",
       "431  432  Hospital: Random NHS Foundation Trust\\r\\nHospi...   \n",
       "432  433  Hospital: Random NHS Foundation Trust\\r\\nHospi...   \n",
       "\n",
       "                            foundation_trust                 hospital_num  \\\n",
       "430  Hospital: Random NHS Foundation Trust\\r  Hospital Number: T1640766\\r   \n",
       "431  Hospital: Random NHS Foundation Trust\\r  Hospital Number: T1640766\\r   \n",
       "432  Hospital: Random NHS Foundation Trust\\r  Hospital Number: T1640766\\r   \n",
       "\n",
       "         patient_name                                           gp  \\\n",
       "430  Muniz, Domonique  General Practitioner: Dr. al-Raad, Shameema   \n",
       "431  Muniz, Domonique  General Practitioner: Dr. al-Raad, Shameema   \n",
       "432  Muniz, Domonique  General Practitioner: Dr. al-Raad, Shameema   \n",
       "\n",
       "    procedure_date                            endoscopist  \\\n",
       "430     2015-05-02  Endoscopist: Dr. Gebregzabheir, Kiara   \n",
       "431     2015-05-02  Endoscopist: Dr. Gebregzabheir, Kiara   \n",
       "432     2015-05-02  Endoscopist: Dr. Gebregzabheir, Kiara   \n",
       "\n",
       "                          second_endoscopist  medications_fentynl  midazolam  \\\n",
       "430  Second endoscopist: Dr. Orozco, Amber\\r                100.0          6   \n",
       "431  Second endoscopist: Dr. Orozco, Amber\\r                100.0          6   \n",
       "432  Second endoscopist: Dr. Orozco, Amber\\r                100.0          6   \n",
       "\n",
       "    instrument extent_of_exam              indications procedure_performed  \\\n",
       "430        FC6        Sigmoid   Nausea and/or Vomiting         Colonoscopy   \n",
       "431        FC6        Sigmoid   Nausea and/or Vomiting         Colonoscopy   \n",
       "432        FC6        Sigmoid   Nausea and/or Vomiting         Colonoscopy   \n",
       "\n",
       "                                              findings  \n",
       "430   Procedure limited to the sigmoid due to poor ...  \n",
       "431   Procedure limited to the sigmoid due to poor ...  \n",
       "432   Procedure limited to the sigmoid due to poor ...  "
      ]
     },
     "execution_count": 32,
     "metadata": {},
     "output_type": "execute_result"
    }
   ],
   "source": [
    "df.loc[df['patient_name'] == \"Muniz, Domonique\"]"
   ]
  },
  {
   "cell_type": "code",
   "execution_count": 33,
   "id": "adcae9d6",
   "metadata": {},
   "outputs": [
    {
     "data": {
      "text/plain": [
       "(2105,)"
      ]
     },
     "execution_count": 33,
     "metadata": {},
     "output_type": "execute_result"
    }
   ],
   "source": [
    "df.findings.shape"
   ]
  },
  {
   "cell_type": "code",
   "execution_count": 34,
   "id": "0acc06ac",
   "metadata": {},
   "outputs": [],
   "source": [
    "#df.findings.value_counts().sort_values(ascending=False)"
   ]
  },
  {
   "cell_type": "code",
   "execution_count": 35,
   "id": "1657dc13",
   "metadata": {},
   "outputs": [],
   "source": [
    "df_doc_drugs = df.groupby(df.endoscopist).mean()"
   ]
  },
  {
   "cell_type": "code",
   "execution_count": 36,
   "id": "c8bfc4bd",
   "metadata": {},
   "outputs": [
    {
     "data": {
      "text/html": [
       "<div>\n",
       "<style scoped>\n",
       "    .dataframe tbody tr th:only-of-type {\n",
       "        vertical-align: middle;\n",
       "    }\n",
       "\n",
       "    .dataframe tbody tr th {\n",
       "        vertical-align: top;\n",
       "    }\n",
       "\n",
       "    .dataframe thead th {\n",
       "        text-align: right;\n",
       "    }\n",
       "</style>\n",
       "<table border=\"1\" class=\"dataframe\">\n",
       "  <thead>\n",
       "    <tr style=\"text-align: right;\">\n",
       "      <th></th>\n",
       "      <th>Num</th>\n",
       "      <th>medications_fentynl</th>\n",
       "      <th>midazolam</th>\n",
       "    </tr>\n",
       "    <tr>\n",
       "      <th>endoscopist</th>\n",
       "      <th></th>\n",
       "      <th></th>\n",
       "      <th></th>\n",
       "    </tr>\n",
       "  </thead>\n",
       "  <tbody>\n",
       "    <tr>\n",
       "      <th>Endoscopist: Dr. Confer, Mouneek</th>\n",
       "      <td>1103.769585</td>\n",
       "      <td>81.278802</td>\n",
       "      <td>3.898618</td>\n",
       "    </tr>\n",
       "    <tr>\n",
       "      <th>Endoscopist: Dr. Gebregzabheir, Kiara</th>\n",
       "      <td>985.426316</td>\n",
       "      <td>71.907895</td>\n",
       "      <td>4.094737</td>\n",
       "    </tr>\n",
       "    <tr>\n",
       "      <th>Endoscopist: Dr. Hasling, Emily</th>\n",
       "      <td>1041.390909</td>\n",
       "      <td>72.102273</td>\n",
       "      <td>3.850000</td>\n",
       "    </tr>\n",
       "    <tr>\n",
       "      <th>Endoscopist: Dr. Monroe, Danjai</th>\n",
       "      <td>1071.573276</td>\n",
       "      <td>85.668103</td>\n",
       "      <td>4.150862</td>\n",
       "    </tr>\n",
       "    <tr>\n",
       "      <th>Endoscopist: Dr. Phillips, Harlie</th>\n",
       "      <td>1082.140426</td>\n",
       "      <td>76.436170</td>\n",
       "      <td>3.872340</td>\n",
       "    </tr>\n",
       "  </tbody>\n",
       "</table>\n",
       "</div>"
      ],
      "text/plain": [
       "                                               Num  medications_fentynl  \\\n",
       "endoscopist                                                               \n",
       "Endoscopist: Dr. Confer, Mouneek       1103.769585            81.278802   \n",
       "Endoscopist: Dr. Gebregzabheir, Kiara   985.426316            71.907895   \n",
       "Endoscopist: Dr. Hasling, Emily        1041.390909            72.102273   \n",
       "Endoscopist: Dr. Monroe, Danjai        1071.573276            85.668103   \n",
       "Endoscopist: Dr. Phillips, Harlie      1082.140426            76.436170   \n",
       "\n",
       "                                       midazolam  \n",
       "endoscopist                                       \n",
       "Endoscopist: Dr. Confer, Mouneek        3.898618  \n",
       "Endoscopist: Dr. Gebregzabheir, Kiara   4.094737  \n",
       "Endoscopist: Dr. Hasling, Emily         3.850000  \n",
       "Endoscopist: Dr. Monroe, Danjai         4.150862  \n",
       "Endoscopist: Dr. Phillips, Harlie       3.872340  "
      ]
     },
     "execution_count": 36,
     "metadata": {},
     "output_type": "execute_result"
    }
   ],
   "source": [
    "df_doc_drugs.head()"
   ]
  },
  {
   "cell_type": "code",
   "execution_count": 37,
   "id": "be602938",
   "metadata": {},
   "outputs": [],
   "source": [
    "df_indications = df.groupby(df.indications).mean()"
   ]
  },
  {
   "cell_type": "code",
   "execution_count": 38,
   "id": "970464f7",
   "metadata": {},
   "outputs": [
    {
     "data": {
      "text/html": [
       "<div>\n",
       "<style scoped>\n",
       "    .dataframe tbody tr th:only-of-type {\n",
       "        vertical-align: middle;\n",
       "    }\n",
       "\n",
       "    .dataframe tbody tr th {\n",
       "        vertical-align: top;\n",
       "    }\n",
       "\n",
       "    .dataframe thead th {\n",
       "        text-align: right;\n",
       "    }\n",
       "</style>\n",
       "<table border=\"1\" class=\"dataframe\">\n",
       "  <thead>\n",
       "    <tr style=\"text-align: right;\">\n",
       "      <th></th>\n",
       "      <th>Num</th>\n",
       "      <th>medications_fentynl</th>\n",
       "      <th>midazolam</th>\n",
       "    </tr>\n",
       "    <tr>\n",
       "      <th>indications</th>\n",
       "      <th></th>\n",
       "      <th></th>\n",
       "      <th></th>\n",
       "    </tr>\n",
       "  </thead>\n",
       "  <tbody>\n",
       "    <tr>\n",
       "      <th>Abnormal Imaging</th>\n",
       "      <td>1048.339744</td>\n",
       "      <td>73.477564</td>\n",
       "      <td>3.762821</td>\n",
       "    </tr>\n",
       "    <tr>\n",
       "      <th>Chronic abdominal pain</th>\n",
       "      <td>1154.049451</td>\n",
       "      <td>77.678571</td>\n",
       "      <td>3.895604</td>\n",
       "    </tr>\n",
       "    <tr>\n",
       "      <th>Diarrrhoea</th>\n",
       "      <td>1000.885246</td>\n",
       "      <td>75.341530</td>\n",
       "      <td>3.918033</td>\n",
       "    </tr>\n",
       "    <tr>\n",
       "      <th>Family History CRC</th>\n",
       "      <td>1027.714286</td>\n",
       "      <td>78.456221</td>\n",
       "      <td>4.055300</td>\n",
       "    </tr>\n",
       "    <tr>\n",
       "      <th>Fe deficiency anaemia</th>\n",
       "      <td>1090.166667</td>\n",
       "      <td>87.438725</td>\n",
       "      <td>4.093137</td>\n",
       "    </tr>\n",
       "  </tbody>\n",
       "</table>\n",
       "</div>"
      ],
      "text/plain": [
       "                                 Num  medications_fentynl  midazolam\n",
       "indications                                                         \n",
       " Abnormal Imaging        1048.339744            73.477564   3.762821\n",
       " Chronic abdominal pain  1154.049451            77.678571   3.895604\n",
       " Diarrrhoea              1000.885246            75.341530   3.918033\n",
       " Family History CRC      1027.714286            78.456221   4.055300\n",
       " Fe deficiency anaemia   1090.166667            87.438725   4.093137"
      ]
     },
     "execution_count": 38,
     "metadata": {},
     "output_type": "execute_result"
    }
   ],
   "source": [
    "df_indications.head()"
   ]
  },
  {
   "cell_type": "code",
   "execution_count": 39,
   "id": "42c29d3b",
   "metadata": {},
   "outputs": [],
   "source": [
    "df_extent_exam = df.groupby(df.extent_of_exam).mean()"
   ]
  },
  {
   "cell_type": "code",
   "execution_count": 40,
   "id": "7526b805",
   "metadata": {},
   "outputs": [
    {
     "data": {
      "text/html": [
       "<div>\n",
       "<style scoped>\n",
       "    .dataframe tbody tr th:only-of-type {\n",
       "        vertical-align: middle;\n",
       "    }\n",
       "\n",
       "    .dataframe tbody tr th {\n",
       "        vertical-align: top;\n",
       "    }\n",
       "\n",
       "    .dataframe thead th {\n",
       "        text-align: right;\n",
       "    }\n",
       "</style>\n",
       "<table border=\"1\" class=\"dataframe\">\n",
       "  <thead>\n",
       "    <tr style=\"text-align: right;\">\n",
       "      <th></th>\n",
       "      <th>Num</th>\n",
       "      <th>medications_fentynl</th>\n",
       "      <th>midazolam</th>\n",
       "    </tr>\n",
       "    <tr>\n",
       "      <th>extent_of_exam</th>\n",
       "      <th></th>\n",
       "      <th></th>\n",
       "      <th></th>\n",
       "    </tr>\n",
       "  </thead>\n",
       "  <tbody>\n",
       "    <tr>\n",
       "      <th>Ascending Colon</th>\n",
       "      <td>1046.483108</td>\n",
       "      <td>77.111486</td>\n",
       "      <td>4.125000</td>\n",
       "    </tr>\n",
       "    <tr>\n",
       "      <th>Caecum</th>\n",
       "      <td>1042.574830</td>\n",
       "      <td>82.397959</td>\n",
       "      <td>4.122449</td>\n",
       "    </tr>\n",
       "    <tr>\n",
       "      <th>Descending Colon</th>\n",
       "      <td>1042.888136</td>\n",
       "      <td>79.703390</td>\n",
       "      <td>4.077966</td>\n",
       "    </tr>\n",
       "    <tr>\n",
       "      <th>Failed intubation</th>\n",
       "      <td>993.088968</td>\n",
       "      <td>79.982206</td>\n",
       "      <td>3.836299</td>\n",
       "    </tr>\n",
       "    <tr>\n",
       "      <th>Recum</th>\n",
       "      <td>1043.082540</td>\n",
       "      <td>77.619048</td>\n",
       "      <td>4.057143</td>\n",
       "    </tr>\n",
       "  </tbody>\n",
       "</table>\n",
       "</div>"
      ],
      "text/plain": [
       "                             Num  medications_fentynl  midazolam\n",
       "extent_of_exam                                                  \n",
       "  Ascending Colon    1046.483108            77.111486   4.125000\n",
       "  Caecum             1042.574830            82.397959   4.122449\n",
       "  Descending Colon   1042.888136            79.703390   4.077966\n",
       "  Failed intubation   993.088968            79.982206   3.836299\n",
       "  Recum              1043.082540            77.619048   4.057143"
      ]
     },
     "execution_count": 40,
     "metadata": {},
     "output_type": "execute_result"
    }
   ],
   "source": [
    "df_extent_exam.head()"
   ]
  },
  {
   "cell_type": "code",
   "execution_count": 43,
   "id": "0ca21a23",
   "metadata": {},
   "outputs": [
    {
     "data": {
      "text/plain": [
       "' Single pseudopolyp with a necrotic looking head - removed with hot snare, some ooze from base, two resolution clips applied .,Clip applied with good effect due to ooze.,No gross abnormality seen but small polyps might have been missed.,Floppy and looping left colon which I suspect is contributing to his symptoms.,x2 angiodysplasia seen with small overlying clots.,ASCENDING COLON : and CAECUM: multiple ulcers involving the caecum and caecum/ascending junction, with cobblestoning and distortion of anatomy.,Diverticulosis in the sigmoid to the mid transverse colon - inverted diverticulum in sigmoid.,Left colon was looping and twisting.,Views upto distal sigmoid poor but no large lesions seen.,Mild and Patchy Inflammation- Proctitis.\\r'"
      ]
     },
     "execution_count": 43,
     "metadata": {},
     "output_type": "execute_result"
    }
   ],
   "source": [
    "df.findings[800]"
   ]
  },
  {
   "cell_type": "code",
   "execution_count": null,
   "id": "ded06065",
   "metadata": {},
   "outputs": [],
   "source": []
  }
 ],
 "metadata": {
  "kernelspec": {
   "display_name": "Python 3 (ipykernel)",
   "language": "python",
   "name": "python3"
  },
  "language_info": {
   "codemirror_mode": {
    "name": "ipython",
    "version": 3
   },
   "file_extension": ".py",
   "mimetype": "text/x-python",
   "name": "python",
   "nbconvert_exporter": "python",
   "pygments_lexer": "ipython3",
   "version": "3.8.13"
  },
  "toc": {
   "base_numbering": 1,
   "nav_menu": {},
   "number_sections": true,
   "sideBar": true,
   "skip_h1_title": false,
   "title_cell": "Table of Contents",
   "title_sidebar": "Contents",
   "toc_cell": false,
   "toc_position": {},
   "toc_section_display": true,
   "toc_window_display": false
  }
 },
 "nbformat": 4,
 "nbformat_minor": 5
}
